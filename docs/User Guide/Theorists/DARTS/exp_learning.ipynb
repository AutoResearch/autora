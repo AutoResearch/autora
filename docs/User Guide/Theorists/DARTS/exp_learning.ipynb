{
 "cells": [
  {
   "cell_type": "markdown",
   "source": [
    "# Differentiable Architecture Search\n",
    "\n",
    "## Tutorial: Recovering the exponential learning curve model\n",
    "\n",
    "In this tutorial, we'll learn how to use Differentiable Architecture Search (DARTS) as a theorist to recover the exponential learning curve model.\n",
    "\n",
    "### Installing AutoRA\n",
    "\n",
    "We begin with installing AutoRA via the pip package manager, and then import the relevant modules:"
   ],
   "metadata": {
    "collapsed": false
   }
  },
  {
   "cell_type": "code",
   "execution_count": 1,
   "outputs": [
    {
     "name": "stdout",
     "output_type": "stream",
     "text": [
      "Requirement already satisfied: autora in /Users/benwandrew/Library/Caches/pypoetry/virtualenvs/autora--WSX6yBF-py3.8/lib/python3.8/site-packages (0.0.0)\r\n",
      "Requirement already satisfied: graphviz<0.21.0,>=0.14.1 in /Users/benwandrew/Library/Caches/pypoetry/virtualenvs/autora--WSX6yBF-py3.8/lib/python3.8/site-packages (from autora) (0.20.1)\r\n",
      "Requirement already satisfied: scikit-learn<2.0.0,>=1.1.1 in /Users/benwandrew/Library/Caches/pypoetry/virtualenvs/autora--WSX6yBF-py3.8/lib/python3.8/site-packages (from autora) (1.2.2)\r\n",
      "Requirement already satisfied: seaborn<0.13.0,>=0.11.1 in /Users/benwandrew/Library/Caches/pypoetry/virtualenvs/autora--WSX6yBF-py3.8/lib/python3.8/site-packages (from autora) (0.12.2)\r\n",
      "Requirement already satisfied: pandas<3.0.0,>=1.4.2 in /Users/benwandrew/Library/Caches/pypoetry/virtualenvs/autora--WSX6yBF-py3.8/lib/python3.8/site-packages (from autora) (2.0.0)\r\n",
      "Requirement already satisfied: numpy>=1.22.1 in /Users/benwandrew/Library/Caches/pypoetry/virtualenvs/autora--WSX6yBF-py3.8/lib/python3.8/site-packages (from autora) (1.24.2)\r\n",
      "Requirement already satisfied: sympy<2.0.0,>=1.10.1 in /Users/benwandrew/Library/Caches/pypoetry/virtualenvs/autora--WSX6yBF-py3.8/lib/python3.8/site-packages (from autora) (1.11.1)\r\n",
      "Requirement already satisfied: scipy<2.0.0,>=1.9.3 in /Users/benwandrew/Library/Caches/pypoetry/virtualenvs/autora--WSX6yBF-py3.8/lib/python3.8/site-packages (from autora) (1.10.1)\r\n",
      "Requirement already satisfied: imageio<3.0.0,>=2.9.0 in /Users/benwandrew/Library/Caches/pypoetry/virtualenvs/autora--WSX6yBF-py3.8/lib/python3.8/site-packages (from autora) (2.27.0)\r\n",
      "Requirement already satisfied: torch==2.0.0 in /Users/benwandrew/Library/Caches/pypoetry/virtualenvs/autora--WSX6yBF-py3.8/lib/python3.8/site-packages (from autora) (2.0.0)\r\n",
      "Requirement already satisfied: matplotlib<4.0.0,>=3.2.1 in /Users/benwandrew/Library/Caches/pypoetry/virtualenvs/autora--WSX6yBF-py3.8/lib/python3.8/site-packages (from autora) (3.7.1)\r\n",
      "Requirement already satisfied: tqdm<5.0.0,>=4.64.0 in /Users/benwandrew/Library/Caches/pypoetry/virtualenvs/autora--WSX6yBF-py3.8/lib/python3.8/site-packages (from autora) (4.65.0)\r\n",
      "Requirement already satisfied: filelock in /Users/benwandrew/Library/Caches/pypoetry/virtualenvs/autora--WSX6yBF-py3.8/lib/python3.8/site-packages (from torch==2.0.0->autora) (3.10.7)\r\n",
      "Requirement already satisfied: networkx in /Users/benwandrew/Library/Caches/pypoetry/virtualenvs/autora--WSX6yBF-py3.8/lib/python3.8/site-packages (from torch==2.0.0->autora) (3.1)\r\n",
      "Requirement already satisfied: typing-extensions in /Users/benwandrew/Library/Caches/pypoetry/virtualenvs/autora--WSX6yBF-py3.8/lib/python3.8/site-packages (from torch==2.0.0->autora) (4.5.0)\r\n",
      "Requirement already satisfied: jinja2 in /Users/benwandrew/Library/Caches/pypoetry/virtualenvs/autora--WSX6yBF-py3.8/lib/python3.8/site-packages (from torch==2.0.0->autora) (3.1.2)\r\n",
      "Requirement already satisfied: pillow>=8.3.2 in /Users/benwandrew/Library/Caches/pypoetry/virtualenvs/autora--WSX6yBF-py3.8/lib/python3.8/site-packages (from imageio<3.0.0,>=2.9.0->autora) (9.5.0)\r\n",
      "Requirement already satisfied: contourpy>=1.0.1 in /Users/benwandrew/Library/Caches/pypoetry/virtualenvs/autora--WSX6yBF-py3.8/lib/python3.8/site-packages (from matplotlib<4.0.0,>=3.2.1->autora) (1.0.7)\r\n",
      "Requirement already satisfied: packaging>=20.0 in /Users/benwandrew/Library/Caches/pypoetry/virtualenvs/autora--WSX6yBF-py3.8/lib/python3.8/site-packages (from matplotlib<4.0.0,>=3.2.1->autora) (23.0)\r\n",
      "Requirement already satisfied: pyparsing>=2.3.1 in /Users/benwandrew/Library/Caches/pypoetry/virtualenvs/autora--WSX6yBF-py3.8/lib/python3.8/site-packages (from matplotlib<4.0.0,>=3.2.1->autora) (3.0.9)\r\n",
      "Requirement already satisfied: kiwisolver>=1.0.1 in /Users/benwandrew/Library/Caches/pypoetry/virtualenvs/autora--WSX6yBF-py3.8/lib/python3.8/site-packages (from matplotlib<4.0.0,>=3.2.1->autora) (1.4.4)\r\n",
      "Requirement already satisfied: fonttools>=4.22.0 in /Users/benwandrew/Library/Caches/pypoetry/virtualenvs/autora--WSX6yBF-py3.8/lib/python3.8/site-packages (from matplotlib<4.0.0,>=3.2.1->autora) (4.39.3)\r\n",
      "Requirement already satisfied: importlib-resources>=3.2.0 in /Users/benwandrew/Library/Caches/pypoetry/virtualenvs/autora--WSX6yBF-py3.8/lib/python3.8/site-packages (from matplotlib<4.0.0,>=3.2.1->autora) (5.12.0)\r\n",
      "Requirement already satisfied: cycler>=0.10 in /Users/benwandrew/Library/Caches/pypoetry/virtualenvs/autora--WSX6yBF-py3.8/lib/python3.8/site-packages (from matplotlib<4.0.0,>=3.2.1->autora) (0.11.0)\r\n",
      "Requirement already satisfied: python-dateutil>=2.7 in /Users/benwandrew/Library/Caches/pypoetry/virtualenvs/autora--WSX6yBF-py3.8/lib/python3.8/site-packages (from matplotlib<4.0.0,>=3.2.1->autora) (2.8.2)\r\n",
      "Requirement already satisfied: pytz>=2020.1 in /Users/benwandrew/Library/Caches/pypoetry/virtualenvs/autora--WSX6yBF-py3.8/lib/python3.8/site-packages (from pandas<3.0.0,>=1.4.2->autora) (2023.3)\r\n",
      "Requirement already satisfied: tzdata>=2022.1 in /Users/benwandrew/Library/Caches/pypoetry/virtualenvs/autora--WSX6yBF-py3.8/lib/python3.8/site-packages (from pandas<3.0.0,>=1.4.2->autora) (2023.3)\r\n",
      "Requirement already satisfied: threadpoolctl>=2.0.0 in /Users/benwandrew/Library/Caches/pypoetry/virtualenvs/autora--WSX6yBF-py3.8/lib/python3.8/site-packages (from scikit-learn<2.0.0,>=1.1.1->autora) (3.1.0)\r\n",
      "Requirement already satisfied: joblib>=1.1.1 in /Users/benwandrew/Library/Caches/pypoetry/virtualenvs/autora--WSX6yBF-py3.8/lib/python3.8/site-packages (from scikit-learn<2.0.0,>=1.1.1->autora) (1.2.0)\r\n",
      "Requirement already satisfied: mpmath>=0.19 in /Users/benwandrew/Library/Caches/pypoetry/virtualenvs/autora--WSX6yBF-py3.8/lib/python3.8/site-packages (from sympy<2.0.0,>=1.10.1->autora) (1.3.0)\r\n",
      "Requirement already satisfied: zipp>=3.1.0 in /Users/benwandrew/Library/Caches/pypoetry/virtualenvs/autora--WSX6yBF-py3.8/lib/python3.8/site-packages (from importlib-resources>=3.2.0->matplotlib<4.0.0,>=3.2.1->autora) (3.15.0)\r\n",
      "Requirement already satisfied: six>=1.5 in /Users/benwandrew/Library/Caches/pypoetry/virtualenvs/autora--WSX6yBF-py3.8/lib/python3.8/site-packages (from python-dateutil>=2.7->matplotlib<4.0.0,>=3.2.1->autora) (1.16.0)\r\n",
      "Requirement already satisfied: MarkupSafe>=2.0 in /Users/benwandrew/Library/Caches/pypoetry/virtualenvs/autora--WSX6yBF-py3.8/lib/python3.8/site-packages (from jinja2->torch==2.0.0->autora) (2.1.2)\r\n",
      "\r\n",
      "\u001B[1m[\u001B[0m\u001B[34;49mnotice\u001B[0m\u001B[1;39;49m]\u001B[0m\u001B[39;49m A new release of pip available: \u001B[0m\u001B[31;49m22.3.1\u001B[0m\u001B[39;49m -> \u001B[0m\u001B[32;49m23.1.2\u001B[0m\r\n",
      "\u001B[1m[\u001B[0m\u001B[34;49mnotice\u001B[0m\u001B[1;39;49m]\u001B[0m\u001B[39;49m To update, run: \u001B[0m\u001B[32;49mpip install --upgrade pip\u001B[0m\r\n"
     ]
    }
   ],
   "source": [
    "!pip install autora\n",
    "\n",
    "import numpy as np\n",
    "from autora.variable import DV, IV, ValueType, VariableCollection\n",
    "from autora.skl.darts import DARTSRegressor"
   ],
   "metadata": {
    "collapsed": false
   }
  },
  {
   "cell_type": "markdown",
   "source": [
    "### Generating Data\n",
    "\n",
    "Next, we generate a relevant data set. We'll start by setting the relevant meta-parameter, which is the level of noise to add to the ground-truth model."
   ],
   "metadata": {
    "collapsed": false
   }
  },
  {
   "cell_type": "code",
   "execution_count": 2,
   "outputs": [],
   "source": [
    "# general meta parameters\n",
    "added_noise = 0.01"
   ],
   "metadata": {
    "collapsed": false
   }
  },
  {
   "cell_type": "markdown",
   "source": [
    "Next, we set the specific parameters for the exponential learning curve model"
   ],
   "metadata": {
    "collapsed": false
   }
  },
  {
   "cell_type": "code",
   "execution_count": 3,
   "outputs": [],
   "source": [
    "# exponential learning curve parameters\n",
    "exp_learning_resolution = 100\n",
    "exp_learning_minimum_trial = 1\n",
    "exp_learning_maximum_trial = exp_learning_resolution\n",
    "exp_learning_minimum_initial_value = 0\n",
    "exp_learning_maximum_initial_value = 0.5\n",
    "exp_learning_lr = 0.03\n",
    "exp_learning_p_asymptotic = 1.0"
   ],
   "metadata": {
    "collapsed": false
   }
  },
  {
   "cell_type": "markdown",
   "source": [
    "We then set up the ground-truth model. To do so, we first define our metadata"
   ],
   "metadata": {
    "collapsed": false
   }
  },
  {
   "cell_type": "code",
   "execution_count": 4,
   "outputs": [],
   "source": [
    "def exp_learning_metadata():\n",
    "    p_initial = IV(\n",
    "        name=\"P_asymptotic\",\n",
    "        allowed_values=np.linspace(exp_learning_minimum_initial_value,\n",
    "                                   exp_learning_maximum_initial_value,\n",
    "                                   exp_learning_resolution),\n",
    "        value_range=(exp_learning_minimum_initial_value,\n",
    "                     exp_learning_maximum_initial_value),\n",
    "        units=\"performance\",\n",
    "        variable_label=\"Asymptotic Performance\",\n",
    "        type=ValueType.REAL\n",
    "    )\n",
    "\n",
    "    trial = IV(\n",
    "        name=\"trial\",\n",
    "        allowed_values=np.linspace(exp_learning_minimum_trial,\n",
    "                                   exp_learning_maximum_trial,\n",
    "                                   exp_learning_resolution),\n",
    "        value_range=(exp_learning_minimum_trial,\n",
    "                     exp_learning_maximum_trial),\n",
    "        units=\"trials\",\n",
    "        variable_label=\"Trials\",\n",
    "        type=ValueType.REAL\n",
    "    )\n",
    "\n",
    "    performance = DV(\n",
    "        name=\"performance\",\n",
    "        value_range=(0, exp_learning_p_asymptotic),\n",
    "        units=\"performance\",\n",
    "        variable_label=\"Performance\",\n",
    "        type=ValueType.REAL\n",
    "    )\n",
    "\n",
    "    metadata = VariableCollection(\n",
    "        independent_variables=[p_initial, trial],\n",
    "        dependent_variables=[performance],\n",
    "    )\n",
    "\n",
    "    return metadata"
   ],
   "metadata": {
    "collapsed": false
   }
  },
  {
   "cell_type": "markdown",
   "source": [
    "Then we define our synthetic experiment"
   ],
   "metadata": {
    "collapsed": false
   }
  },
  {
   "cell_type": "code",
   "execution_count": 5,
   "outputs": [],
   "source": [
    "def exp_learning_experiment(X: np.ndarray,\n",
    "                             p_asymptotic: float = exp_learning_p_asymptotic,\n",
    "                             lr: float = exp_learning_lr,\n",
    "                             std = added_noise):\n",
    "    Y = np.zeros((X.shape[0],1))\n",
    "\n",
    "    for idx, x in enumerate(X):\n",
    "        p_initial = x[0]\n",
    "        trial = x[1]\n",
    "        y = p_asymptotic - (p_asymptotic - p_initial) * np.exp(- lr * trial) + np.random.normal(0, std)\n",
    "        Y[idx] = y\n",
    "\n",
    "    return Y"
   ],
   "metadata": {
    "collapsed": false
   }
  },
  {
   "cell_type": "markdown",
   "source": [
    "Finally, we define how to generate synthetic data"
   ],
   "metadata": {
    "collapsed": false
   }
  },
  {
   "cell_type": "code",
   "execution_count": 6,
   "outputs": [],
   "source": [
    "def exp_learning_data(metadata):\n",
    "\n",
    "    p_initial_values = metadata.independent_variables[0].allowed_values\n",
    "    trial_values = metadata.independent_variables[1].allowed_values\n",
    "\n",
    "    X = np.array(np.meshgrid(p_initial_values, trial_values)).T.reshape(-1,2)\n",
    "    y = exp_learning_experiment(X, std=0)\n",
    "\n",
    "    return X, y"
   ],
   "metadata": {
    "collapsed": false
   }
  },
  {
   "cell_type": "markdown",
   "source": [
    "With these functions defined, we can now create a data set from a noisy ground-truth model"
   ],
   "metadata": {
    "collapsed": false
   }
  },
  {
   "cell_type": "code",
   "execution_count": 7,
   "outputs": [],
   "source": [
    "X, y = exp_learning_data(exp_learning_metadata())"
   ],
   "metadata": {
    "collapsed": false
   }
  },
  {
   "cell_type": "markdown",
   "source": [
    "Now let us define the search space, that is, the space of operations to consider when searching over the space of computation graphs."
   ],
   "metadata": {
    "collapsed": false
   }
  },
  {
   "cell_type": "code",
   "execution_count": 8,
   "outputs": [],
   "source": [
    "primitives = [\n",
    "    \"none\",\n",
    "    \"add\",\n",
    "    \"subtract\",\n",
    "    'mult',\n",
    "    \"logistic\",\n",
    "    'exp',\n",
    "    'relu',\n",
    "]"
   ],
   "metadata": {
    "collapsed": false
   }
  },
  {
   "cell_type": "markdown",
   "source": [
    "## Set up the DARTS Regressor\n",
    "\n",
    "We will use the DARTS Regressor to predict the outcomes. There are a number of parameters that determine how the architecture search is performed. The most important ones are listed below:\n",
    "\n",
    "- **num_graph_nodes**: The number of latent variables used to represent the model.\n",
    "- **arch_updates_per_epoch**: The number of architecture updates per training epoch. These updates affect the architecture weights $\\alpha$ indicating the relative contribution of each operation for a given computation step.\n",
    "- **arch_learning_rate_max**: The initial learning rate of the architecture weight optimizer.\n",
    "- **param_updates_per_epoch**: The number of parameter updates per epoch. Once the architecture updates are complete, the parameters associated with each operation are updated.\n",
    "- **param_momentum**: The momentum of the parameter optimizer.\n",
    "- **max_epochs**: The maximum number of epochs to run DARTS.\n",
    "- **output_type**: The type of output to produce. In our case, we treat the outcome as a real variable, i.e., \"real\".\n",
    "\n",
    "\n",
    "Let's set up the DARTS regressor with some default parameters.\n"
   ],
   "metadata": {
    "collapsed": false
   }
  },
  {
   "cell_type": "code",
   "execution_count": 9,
   "outputs": [],
   "source": [
    "darts_estimator = DARTSRegressor(\n",
    "    num_graph_nodes=1,\n",
    "    arch_updates_per_epoch=1,\n",
    "    arch_learning_rate_max=0.001,\n",
    "    param_updates_per_epoch=500,\n",
    "    param_momentum=0.9,\n",
    "    max_epochs=300,\n",
    "    output_type=\"real\",\n",
    "    primitives=primitives,\n",
    ")"
   ],
   "metadata": {
    "collapsed": false
   }
  },
  {
   "cell_type": "markdown",
   "source": [
    "Now we have everything to run differentiable architecture search and visualize the model resulting from the highest architecture weights. Note that the current model corresponds to the model with the highest architecture weights."
   ],
   "metadata": {
    "collapsed": false
   }
  },
  {
   "cell_type": "code",
   "execution_count": 10,
   "outputs": [
    {
     "data": {
      "text/plain": "  0%|          | 0/300 [00:00<?, ?it/s]",
      "application/vnd.jupyter.widget-view+json": {
       "version_major": 2,
       "version_minor": 0,
       "model_id": "b78cb565a2974696adec3d381eb7aa98"
      }
     },
     "metadata": {},
     "output_type": "display_data"
    },
    {
     "ename": "ValueError",
     "evalue": "NaN was found in the architecture weights after updating the weights. This can happen if the input data contains values that are too large. Consider scaling the input data.",
     "output_type": "error",
     "traceback": [
      "\u001B[0;31m---------------------------------------------------------------------------\u001B[0m",
      "\u001B[0;31mValueError\u001B[0m                                Traceback (most recent call last)",
      "Cell \u001B[0;32mIn[10], line 1\u001B[0m\n\u001B[0;32m----> 1\u001B[0m \u001B[43mdarts_estimator\u001B[49m\u001B[38;5;241;43m.\u001B[39;49m\u001B[43mfit\u001B[49m\u001B[43m(\u001B[49m\u001B[43mX\u001B[49m\u001B[43m,\u001B[49m\u001B[43m \u001B[49m\u001B[43my\u001B[49m\u001B[43m)\u001B[49m\n",
      "File \u001B[0;32m~/Developer/autora/autora/skl/darts.py:603\u001B[0m, in \u001B[0;36mDARTSRegressor.fit\u001B[0;34m(self, X, y)\u001B[0m\n\u001B[1;32m    597\u001B[0m     \u001B[38;5;28;01mraise\u001B[39;00m \u001B[38;5;167;01mNotImplementedError\u001B[39;00m(\n\u001B[1;32m    598\u001B[0m         \u001B[38;5;124m\"\u001B[39m\u001B[38;5;124mClassification not implemented for DARTSRegressor.\u001B[39m\u001B[38;5;124m\"\u001B[39m\n\u001B[1;32m    599\u001B[0m     )\n\u001B[1;32m    601\u001B[0m params \u001B[38;5;241m=\u001B[39m \u001B[38;5;28mself\u001B[39m\u001B[38;5;241m.\u001B[39mget_params()\n\u001B[0;32m--> 603\u001B[0m fit_results \u001B[38;5;241m=\u001B[39m \u001B[43m_general_darts\u001B[49m\u001B[43m(\u001B[49m\u001B[43mX\u001B[49m\u001B[38;5;241;43m=\u001B[39;49m\u001B[43mX\u001B[49m\u001B[43m,\u001B[49m\u001B[43m \u001B[49m\u001B[43my\u001B[49m\u001B[38;5;241;43m=\u001B[39;49m\u001B[43my\u001B[49m\u001B[43m,\u001B[49m\u001B[43m \u001B[49m\u001B[43mnetwork\u001B[49m\u001B[38;5;241;43m=\u001B[39;49m\u001B[38;5;28;43mself\u001B[39;49m\u001B[38;5;241;43m.\u001B[39;49m\u001B[43mnetwork_\u001B[49m\u001B[43m,\u001B[49m\u001B[43m \u001B[49m\u001B[38;5;241;43m*\u001B[39;49m\u001B[38;5;241;43m*\u001B[39;49m\u001B[43mparams\u001B[49m\u001B[43m)\u001B[49m\n\u001B[1;32m    604\u001B[0m \u001B[38;5;28mself\u001B[39m\u001B[38;5;241m.\u001B[39mX_ \u001B[38;5;241m=\u001B[39m X\n\u001B[1;32m    605\u001B[0m \u001B[38;5;28mself\u001B[39m\u001B[38;5;241m.\u001B[39my_ \u001B[38;5;241m=\u001B[39m y\n",
      "File \u001B[0;32m~/Developer/autora/autora/skl/darts.py:185\u001B[0m, in \u001B[0;36m_general_darts\u001B[0;34m(X, y, network, batch_size, num_graph_nodes, output_type, classifier_weight_decay, darts_type, init_weights_function, param_updates_per_epoch, param_updates_for_sampled_model, param_learning_rate_max, param_learning_rate_min, param_momentum, param_weight_decay, arch_learning_rate_max, arch_updates_per_epoch, arch_weight_decay, arch_weight_decay_df, arch_weight_decay_base, arch_momentum, fair_darts_loss_weight, max_epochs, grad_clip, primitives, train_classifier_coefficients, train_classifier_bias, execution_monitor, sampling_strategy)\u001B[0m\n\u001B[1;32m    176\u001B[0m     _logger\u001B[38;5;241m.\u001B[39mdebug(\n\u001B[1;32m    177\u001B[0m         \u001B[38;5;124mf\u001B[39m\u001B[38;5;124m\"\u001B[39m\u001B[38;5;124mRunning architecture update, \u001B[39m\u001B[38;5;124m\"\u001B[39m\n\u001B[1;32m    178\u001B[0m         \u001B[38;5;124mf\u001B[39m\u001B[38;5;124m\"\u001B[39m\u001B[38;5;124mepoch: \u001B[39m\u001B[38;5;132;01m{\u001B[39;00mepoch\u001B[38;5;132;01m}\u001B[39;00m\u001B[38;5;124m, architecture: \u001B[39m\u001B[38;5;132;01m{\u001B[39;00march_step\u001B[38;5;132;01m}\u001B[39;00m\u001B[38;5;124m\"\u001B[39m\n\u001B[1;32m    179\u001B[0m     )\n\u001B[1;32m    181\u001B[0m     X_batch, y_batch \u001B[38;5;241m=\u001B[39m _get_next_input_target(\n\u001B[1;32m    182\u001B[0m         data_iterator, criterion\u001B[38;5;241m=\u001B[39mcriterion\n\u001B[1;32m    183\u001B[0m     )\n\u001B[0;32m--> 185\u001B[0m     \u001B[43marchitect\u001B[49m\u001B[38;5;241;43m.\u001B[39;49m\u001B[43mstep\u001B[49m\u001B[43m(\u001B[49m\n\u001B[1;32m    186\u001B[0m \u001B[43m        \u001B[49m\u001B[43minput_valid\u001B[49m\u001B[38;5;241;43m=\u001B[39;49m\u001B[43mX_batch\u001B[49m\u001B[43m,\u001B[49m\n\u001B[1;32m    187\u001B[0m \u001B[43m        \u001B[49m\u001B[43mtarget_valid\u001B[49m\u001B[38;5;241;43m=\u001B[39;49m\u001B[43my_batch\u001B[49m\u001B[43m,\u001B[49m\n\u001B[1;32m    188\u001B[0m \u001B[43m        \u001B[49m\u001B[43mnetwork_optimizer\u001B[49m\u001B[38;5;241;43m=\u001B[39;49m\u001B[43marchitect\u001B[49m\u001B[38;5;241;43m.\u001B[39;49m\u001B[43moptimizer\u001B[49m\u001B[43m,\u001B[49m\n\u001B[1;32m    189\u001B[0m \u001B[43m        \u001B[49m\u001B[43munrolled\u001B[49m\u001B[38;5;241;43m=\u001B[39;49m\u001B[38;5;28;43;01mFalse\u001B[39;49;00m\u001B[43m,\u001B[49m\n\u001B[1;32m    190\u001B[0m \u001B[43m    \u001B[49m\u001B[43m)\u001B[49m\n\u001B[1;32m    192\u001B[0m \u001B[38;5;66;03m# Then run the param optimization\u001B[39;00m\n\u001B[1;32m    193\u001B[0m _optimize_coefficients(\n\u001B[1;32m    194\u001B[0m     network\u001B[38;5;241m=\u001B[39mnetwork,\n\u001B[1;32m    195\u001B[0m     criterion\u001B[38;5;241m=\u001B[39mcriterion,\n\u001B[0;32m   (...)\u001B[0m\n\u001B[1;32m    202\u001B[0m     param_weight_decay\u001B[38;5;241m=\u001B[39mparam_weight_decay,\n\u001B[1;32m    203\u001B[0m )\n",
      "File \u001B[0;32m~/Developer/autora/autora/theorist/darts/architect.py:195\u001B[0m, in \u001B[0;36mArchitect.step\u001B[0;34m(self, input_valid, target_valid, network_optimizer, unrolled, input_train, target_train, eta)\u001B[0m\n\u001B[1;32m    193\u001B[0m \u001B[38;5;28mself\u001B[39m\u001B[38;5;241m.\u001B[39moptimizer\u001B[38;5;241m.\u001B[39mstep()\n\u001B[1;32m    194\u001B[0m \u001B[38;5;28;01mif\u001B[39;00m torch\u001B[38;5;241m.\u001B[39many(torch\u001B[38;5;241m.\u001B[39misnan(\u001B[38;5;28mself\u001B[39m\u001B[38;5;241m.\u001B[39mmodel\u001B[38;5;241m.\u001B[39malphas_normal)):\n\u001B[0;32m--> 195\u001B[0m     \u001B[38;5;28;01mraise\u001B[39;00m \u001B[38;5;167;01mValueError\u001B[39;00m(\n\u001B[1;32m    196\u001B[0m         \u001B[38;5;124m\"\u001B[39m\u001B[38;5;124mNaN was found in the architecture weights after updating the \u001B[39m\u001B[38;5;124m\"\u001B[39m\n\u001B[1;32m    197\u001B[0m         \u001B[38;5;124m\"\u001B[39m\u001B[38;5;124mweights. This can happen if \u001B[39m\u001B[38;5;124m\"\u001B[39m\n\u001B[1;32m    198\u001B[0m         \u001B[38;5;124m\"\u001B[39m\u001B[38;5;124mthe input data contains values that are too large. Consider \u001B[39m\u001B[38;5;124m\"\u001B[39m\n\u001B[1;32m    199\u001B[0m         \u001B[38;5;124m\"\u001B[39m\u001B[38;5;124mscaling the input data.\u001B[39m\u001B[38;5;124m\"\u001B[39m\n\u001B[1;32m    200\u001B[0m     )\n",
      "\u001B[0;31mValueError\u001B[0m: NaN was found in the architecture weights after updating the weights. This can happen if the input data contains values that are too large. Consider scaling the input data."
     ]
    }
   ],
   "source": [
    "darts_estimator.fit(X, y)"
   ],
   "metadata": {
    "collapsed": false
   }
  },
  {
   "cell_type": "markdown",
   "source": [
    "Note, this error is important to be aware and unavoidable if your data has values that are too high. Fortunately, we can resolve the issue by rescaling our data. In our example, the relevant parameters to do so are the min and max trials"
   ],
   "metadata": {
    "collapsed": false
   }
  },
  {
   "cell_type": "code",
   "execution_count": 11,
   "outputs": [],
   "source": [
    "# exponential learning curve parameters\n",
    "exp_learning_minimum_trial = 0\n",
    "exp_learning_maximum_trial = 1"
   ],
   "metadata": {
    "collapsed": false
   }
  },
  {
   "cell_type": "markdown",
   "source": [
    "Now we can regenerate our synthetic data and try fitting DARTS again"
   ],
   "metadata": {
    "collapsed": false
   }
  },
  {
   "cell_type": "code",
   "execution_count": 12,
   "outputs": [
    {
     "data": {
      "text/plain": "  0%|          | 0/300 [00:00<?, ?it/s]",
      "application/vnd.jupyter.widget-view+json": {
       "version_major": 2,
       "version_minor": 0,
       "model_id": "3360177606274d42b7436189f9611fbd"
      }
     },
     "metadata": {},
     "output_type": "display_data"
    },
    {
     "data": {
      "text/plain": "DARTSRegressor(arch_learning_rate_max=0.001, max_epochs=300, num_graph_nodes=1,\n               param_updates_per_epoch=500,\n               primitives=['none', 'add', 'subtract', 'mult', 'logistic', 'exp',\n                           'relu'])",
      "text/html": "<style>#sk-container-id-1 {color: black;background-color: white;}#sk-container-id-1 pre{padding: 0;}#sk-container-id-1 div.sk-toggleable {background-color: white;}#sk-container-id-1 label.sk-toggleable__label {cursor: pointer;display: block;width: 100%;margin-bottom: 0;padding: 0.3em;box-sizing: border-box;text-align: center;}#sk-container-id-1 label.sk-toggleable__label-arrow:before {content: \"▸\";float: left;margin-right: 0.25em;color: #696969;}#sk-container-id-1 label.sk-toggleable__label-arrow:hover:before {color: black;}#sk-container-id-1 div.sk-estimator:hover label.sk-toggleable__label-arrow:before {color: black;}#sk-container-id-1 div.sk-toggleable__content {max-height: 0;max-width: 0;overflow: hidden;text-align: left;background-color: #f0f8ff;}#sk-container-id-1 div.sk-toggleable__content pre {margin: 0.2em;color: black;border-radius: 0.25em;background-color: #f0f8ff;}#sk-container-id-1 input.sk-toggleable__control:checked~div.sk-toggleable__content {max-height: 200px;max-width: 100%;overflow: auto;}#sk-container-id-1 input.sk-toggleable__control:checked~label.sk-toggleable__label-arrow:before {content: \"▾\";}#sk-container-id-1 div.sk-estimator input.sk-toggleable__control:checked~label.sk-toggleable__label {background-color: #d4ebff;}#sk-container-id-1 div.sk-label input.sk-toggleable__control:checked~label.sk-toggleable__label {background-color: #d4ebff;}#sk-container-id-1 input.sk-hidden--visually {border: 0;clip: rect(1px 1px 1px 1px);clip: rect(1px, 1px, 1px, 1px);height: 1px;margin: -1px;overflow: hidden;padding: 0;position: absolute;width: 1px;}#sk-container-id-1 div.sk-estimator {font-family: monospace;background-color: #f0f8ff;border: 1px dotted black;border-radius: 0.25em;box-sizing: border-box;margin-bottom: 0.5em;}#sk-container-id-1 div.sk-estimator:hover {background-color: #d4ebff;}#sk-container-id-1 div.sk-parallel-item::after {content: \"\";width: 100%;border-bottom: 1px solid gray;flex-grow: 1;}#sk-container-id-1 div.sk-label:hover label.sk-toggleable__label {background-color: #d4ebff;}#sk-container-id-1 div.sk-serial::before {content: \"\";position: absolute;border-left: 1px solid gray;box-sizing: border-box;top: 0;bottom: 0;left: 50%;z-index: 0;}#sk-container-id-1 div.sk-serial {display: flex;flex-direction: column;align-items: center;background-color: white;padding-right: 0.2em;padding-left: 0.2em;position: relative;}#sk-container-id-1 div.sk-item {position: relative;z-index: 1;}#sk-container-id-1 div.sk-parallel {display: flex;align-items: stretch;justify-content: center;background-color: white;position: relative;}#sk-container-id-1 div.sk-item::before, #sk-container-id-1 div.sk-parallel-item::before {content: \"\";position: absolute;border-left: 1px solid gray;box-sizing: border-box;top: 0;bottom: 0;left: 50%;z-index: -1;}#sk-container-id-1 div.sk-parallel-item {display: flex;flex-direction: column;z-index: 1;position: relative;background-color: white;}#sk-container-id-1 div.sk-parallel-item:first-child::after {align-self: flex-end;width: 50%;}#sk-container-id-1 div.sk-parallel-item:last-child::after {align-self: flex-start;width: 50%;}#sk-container-id-1 div.sk-parallel-item:only-child::after {width: 0;}#sk-container-id-1 div.sk-dashed-wrapped {border: 1px dashed gray;margin: 0 0.4em 0.5em 0.4em;box-sizing: border-box;padding-bottom: 0.4em;background-color: white;}#sk-container-id-1 div.sk-label label {font-family: monospace;font-weight: bold;display: inline-block;line-height: 1.2em;}#sk-container-id-1 div.sk-label-container {text-align: center;}#sk-container-id-1 div.sk-container {/* jupyter's `normalize.less` sets `[hidden] { display: none; }` but bootstrap.min.css set `[hidden] { display: none !important; }` so we also need the `!important` here to be able to override the default hidden behavior on the sphinx rendered scikit-learn.org. See: https://github.com/scikit-learn/scikit-learn/issues/21755 */display: inline-block !important;position: relative;}#sk-container-id-1 div.sk-text-repr-fallback {display: none;}</style><div id=\"sk-container-id-1\" class=\"sk-top-container\"><div class=\"sk-text-repr-fallback\"><pre>DARTSRegressor(arch_learning_rate_max=0.001, max_epochs=300, num_graph_nodes=1,\n               param_updates_per_epoch=500,\n               primitives=[&#x27;none&#x27;, &#x27;add&#x27;, &#x27;subtract&#x27;, &#x27;mult&#x27;, &#x27;logistic&#x27;, &#x27;exp&#x27;,\n                           &#x27;relu&#x27;])</pre><b>In a Jupyter environment, please rerun this cell to show the HTML representation or trust the notebook. <br />On GitHub, the HTML representation is unable to render, please try loading this page with nbviewer.org.</b></div><div class=\"sk-container\" hidden><div class=\"sk-item\"><div class=\"sk-estimator sk-toggleable\"><input class=\"sk-toggleable__control sk-hidden--visually\" id=\"sk-estimator-id-1\" type=\"checkbox\" checked><label for=\"sk-estimator-id-1\" class=\"sk-toggleable__label sk-toggleable__label-arrow\">DARTSRegressor</label><div class=\"sk-toggleable__content\"><pre>DARTSRegressor(arch_learning_rate_max=0.001, max_epochs=300, num_graph_nodes=1,\n               param_updates_per_epoch=500,\n               primitives=[&#x27;none&#x27;, &#x27;add&#x27;, &#x27;subtract&#x27;, &#x27;mult&#x27;, &#x27;logistic&#x27;, &#x27;exp&#x27;,\n                           &#x27;relu&#x27;])</pre></div></div></div></div></div>"
     },
     "execution_count": 12,
     "metadata": {},
     "output_type": "execute_result"
    }
   ],
   "source": [
    "X, y = exp_learning_data(exp_learning_metadata())\n",
    "\n",
    "darts_estimator.fit(X, y)"
   ],
   "metadata": {
    "collapsed": false
   }
  },
  {
   "cell_type": "markdown",
   "source": [
    "We can refine the fit by running the `fit` method again, after changing the parameters. This allows us to keep the same architecture but refit the parameters in the final sampled model, for example:"
   ],
   "metadata": {
    "collapsed": false
   }
  },
  {
   "cell_type": "code",
   "execution_count": 15,
   "outputs": [
    {
     "data": {
      "text/plain": "0it [00:00, ?it/s]",
      "application/vnd.jupyter.widget-view+json": {
       "version_major": 2,
       "version_minor": 0,
       "model_id": "1a25638a164648bbb7c618f4ad89727a"
      }
     },
     "metadata": {},
     "output_type": "display_data"
    },
    {
     "data": {
      "text/plain": "DARTSRegressor(arch_learning_rate_max=0.001, max_epochs=0, num_graph_nodes=1,\n               param_updates_for_sampled_model=1000,\n               param_updates_per_epoch=500,\n               primitives=['none', 'add', 'subtract', 'mult', 'logistic', 'exp',\n                           'relu'])",
      "text/html": "<style>#sk-container-id-2 {color: black;background-color: white;}#sk-container-id-2 pre{padding: 0;}#sk-container-id-2 div.sk-toggleable {background-color: white;}#sk-container-id-2 label.sk-toggleable__label {cursor: pointer;display: block;width: 100%;margin-bottom: 0;padding: 0.3em;box-sizing: border-box;text-align: center;}#sk-container-id-2 label.sk-toggleable__label-arrow:before {content: \"▸\";float: left;margin-right: 0.25em;color: #696969;}#sk-container-id-2 label.sk-toggleable__label-arrow:hover:before {color: black;}#sk-container-id-2 div.sk-estimator:hover label.sk-toggleable__label-arrow:before {color: black;}#sk-container-id-2 div.sk-toggleable__content {max-height: 0;max-width: 0;overflow: hidden;text-align: left;background-color: #f0f8ff;}#sk-container-id-2 div.sk-toggleable__content pre {margin: 0.2em;color: black;border-radius: 0.25em;background-color: #f0f8ff;}#sk-container-id-2 input.sk-toggleable__control:checked~div.sk-toggleable__content {max-height: 200px;max-width: 100%;overflow: auto;}#sk-container-id-2 input.sk-toggleable__control:checked~label.sk-toggleable__label-arrow:before {content: \"▾\";}#sk-container-id-2 div.sk-estimator input.sk-toggleable__control:checked~label.sk-toggleable__label {background-color: #d4ebff;}#sk-container-id-2 div.sk-label input.sk-toggleable__control:checked~label.sk-toggleable__label {background-color: #d4ebff;}#sk-container-id-2 input.sk-hidden--visually {border: 0;clip: rect(1px 1px 1px 1px);clip: rect(1px, 1px, 1px, 1px);height: 1px;margin: -1px;overflow: hidden;padding: 0;position: absolute;width: 1px;}#sk-container-id-2 div.sk-estimator {font-family: monospace;background-color: #f0f8ff;border: 1px dotted black;border-radius: 0.25em;box-sizing: border-box;margin-bottom: 0.5em;}#sk-container-id-2 div.sk-estimator:hover {background-color: #d4ebff;}#sk-container-id-2 div.sk-parallel-item::after {content: \"\";width: 100%;border-bottom: 1px solid gray;flex-grow: 1;}#sk-container-id-2 div.sk-label:hover label.sk-toggleable__label {background-color: #d4ebff;}#sk-container-id-2 div.sk-serial::before {content: \"\";position: absolute;border-left: 1px solid gray;box-sizing: border-box;top: 0;bottom: 0;left: 50%;z-index: 0;}#sk-container-id-2 div.sk-serial {display: flex;flex-direction: column;align-items: center;background-color: white;padding-right: 0.2em;padding-left: 0.2em;position: relative;}#sk-container-id-2 div.sk-item {position: relative;z-index: 1;}#sk-container-id-2 div.sk-parallel {display: flex;align-items: stretch;justify-content: center;background-color: white;position: relative;}#sk-container-id-2 div.sk-item::before, #sk-container-id-2 div.sk-parallel-item::before {content: \"\";position: absolute;border-left: 1px solid gray;box-sizing: border-box;top: 0;bottom: 0;left: 50%;z-index: -1;}#sk-container-id-2 div.sk-parallel-item {display: flex;flex-direction: column;z-index: 1;position: relative;background-color: white;}#sk-container-id-2 div.sk-parallel-item:first-child::after {align-self: flex-end;width: 50%;}#sk-container-id-2 div.sk-parallel-item:last-child::after {align-self: flex-start;width: 50%;}#sk-container-id-2 div.sk-parallel-item:only-child::after {width: 0;}#sk-container-id-2 div.sk-dashed-wrapped {border: 1px dashed gray;margin: 0 0.4em 0.5em 0.4em;box-sizing: border-box;padding-bottom: 0.4em;background-color: white;}#sk-container-id-2 div.sk-label label {font-family: monospace;font-weight: bold;display: inline-block;line-height: 1.2em;}#sk-container-id-2 div.sk-label-container {text-align: center;}#sk-container-id-2 div.sk-container {/* jupyter's `normalize.less` sets `[hidden] { display: none; }` but bootstrap.min.css set `[hidden] { display: none !important; }` so we also need the `!important` here to be able to override the default hidden behavior on the sphinx rendered scikit-learn.org. See: https://github.com/scikit-learn/scikit-learn/issues/21755 */display: inline-block !important;position: relative;}#sk-container-id-2 div.sk-text-repr-fallback {display: none;}</style><div id=\"sk-container-id-2\" class=\"sk-top-container\"><div class=\"sk-text-repr-fallback\"><pre>DARTSRegressor(arch_learning_rate_max=0.001, max_epochs=0, num_graph_nodes=1,\n               param_updates_for_sampled_model=1000,\n               param_updates_per_epoch=500,\n               primitives=[&#x27;none&#x27;, &#x27;add&#x27;, &#x27;subtract&#x27;, &#x27;mult&#x27;, &#x27;logistic&#x27;, &#x27;exp&#x27;,\n                           &#x27;relu&#x27;])</pre><b>In a Jupyter environment, please rerun this cell to show the HTML representation or trust the notebook. <br />On GitHub, the HTML representation is unable to render, please try loading this page with nbviewer.org.</b></div><div class=\"sk-container\" hidden><div class=\"sk-item\"><div class=\"sk-estimator sk-toggleable\"><input class=\"sk-toggleable__control sk-hidden--visually\" id=\"sk-estimator-id-2\" type=\"checkbox\" checked><label for=\"sk-estimator-id-2\" class=\"sk-toggleable__label sk-toggleable__label-arrow\">DARTSRegressor</label><div class=\"sk-toggleable__content\"><pre>DARTSRegressor(arch_learning_rate_max=0.001, max_epochs=0, num_graph_nodes=1,\n               param_updates_for_sampled_model=1000,\n               param_updates_per_epoch=500,\n               primitives=[&#x27;none&#x27;, &#x27;add&#x27;, &#x27;subtract&#x27;, &#x27;mult&#x27;, &#x27;logistic&#x27;, &#x27;exp&#x27;,\n                           &#x27;relu&#x27;])</pre></div></div></div></div></div>"
     },
     "execution_count": 15,
     "metadata": {},
     "output_type": "execute_result"
    }
   ],
   "source": [
    "darts_estimator.set_params(\n",
    "    max_epochs=0,  # no epochs of architecture fitting\n",
    "    param_updates_for_sampled_model=1000,  # 1000 steps of param optimiziation\n",
    ")\n",
    "darts_estimator.fit(X, y)"
   ],
   "metadata": {
    "collapsed": false
   }
  },
  {
   "cell_type": "markdown",
   "source": [
    "We can also change how the model is sampled from the architecture weight distribution:"
   ],
   "metadata": {
    "collapsed": false
   }
  },
  {
   "cell_type": "code",
   "execution_count": 16,
   "outputs": [
    {
     "data": {
      "text/plain": "0it [00:00, ?it/s]",
      "application/vnd.jupyter.widget-view+json": {
       "version_major": 2,
       "version_minor": 0,
       "model_id": "724e8aa63998454eb5fa8f1811046d31"
      }
     },
     "metadata": {},
     "output_type": "display_data"
    },
    {
     "data": {
      "text/plain": "DARTSRegressor(arch_learning_rate_max=0.001, max_epochs=0, num_graph_nodes=1,\n               param_updates_for_sampled_model=800, param_updates_per_epoch=500,\n               primitives=['none', 'add', 'subtract', 'mult', 'logistic', 'exp',\n                           'relu'],\n               sampling_strategy='sample')",
      "text/html": "<style>#sk-container-id-3 {color: black;background-color: white;}#sk-container-id-3 pre{padding: 0;}#sk-container-id-3 div.sk-toggleable {background-color: white;}#sk-container-id-3 label.sk-toggleable__label {cursor: pointer;display: block;width: 100%;margin-bottom: 0;padding: 0.3em;box-sizing: border-box;text-align: center;}#sk-container-id-3 label.sk-toggleable__label-arrow:before {content: \"▸\";float: left;margin-right: 0.25em;color: #696969;}#sk-container-id-3 label.sk-toggleable__label-arrow:hover:before {color: black;}#sk-container-id-3 div.sk-estimator:hover label.sk-toggleable__label-arrow:before {color: black;}#sk-container-id-3 div.sk-toggleable__content {max-height: 0;max-width: 0;overflow: hidden;text-align: left;background-color: #f0f8ff;}#sk-container-id-3 div.sk-toggleable__content pre {margin: 0.2em;color: black;border-radius: 0.25em;background-color: #f0f8ff;}#sk-container-id-3 input.sk-toggleable__control:checked~div.sk-toggleable__content {max-height: 200px;max-width: 100%;overflow: auto;}#sk-container-id-3 input.sk-toggleable__control:checked~label.sk-toggleable__label-arrow:before {content: \"▾\";}#sk-container-id-3 div.sk-estimator input.sk-toggleable__control:checked~label.sk-toggleable__label {background-color: #d4ebff;}#sk-container-id-3 div.sk-label input.sk-toggleable__control:checked~label.sk-toggleable__label {background-color: #d4ebff;}#sk-container-id-3 input.sk-hidden--visually {border: 0;clip: rect(1px 1px 1px 1px);clip: rect(1px, 1px, 1px, 1px);height: 1px;margin: -1px;overflow: hidden;padding: 0;position: absolute;width: 1px;}#sk-container-id-3 div.sk-estimator {font-family: monospace;background-color: #f0f8ff;border: 1px dotted black;border-radius: 0.25em;box-sizing: border-box;margin-bottom: 0.5em;}#sk-container-id-3 div.sk-estimator:hover {background-color: #d4ebff;}#sk-container-id-3 div.sk-parallel-item::after {content: \"\";width: 100%;border-bottom: 1px solid gray;flex-grow: 1;}#sk-container-id-3 div.sk-label:hover label.sk-toggleable__label {background-color: #d4ebff;}#sk-container-id-3 div.sk-serial::before {content: \"\";position: absolute;border-left: 1px solid gray;box-sizing: border-box;top: 0;bottom: 0;left: 50%;z-index: 0;}#sk-container-id-3 div.sk-serial {display: flex;flex-direction: column;align-items: center;background-color: white;padding-right: 0.2em;padding-left: 0.2em;position: relative;}#sk-container-id-3 div.sk-item {position: relative;z-index: 1;}#sk-container-id-3 div.sk-parallel {display: flex;align-items: stretch;justify-content: center;background-color: white;position: relative;}#sk-container-id-3 div.sk-item::before, #sk-container-id-3 div.sk-parallel-item::before {content: \"\";position: absolute;border-left: 1px solid gray;box-sizing: border-box;top: 0;bottom: 0;left: 50%;z-index: -1;}#sk-container-id-3 div.sk-parallel-item {display: flex;flex-direction: column;z-index: 1;position: relative;background-color: white;}#sk-container-id-3 div.sk-parallel-item:first-child::after {align-self: flex-end;width: 50%;}#sk-container-id-3 div.sk-parallel-item:last-child::after {align-self: flex-start;width: 50%;}#sk-container-id-3 div.sk-parallel-item:only-child::after {width: 0;}#sk-container-id-3 div.sk-dashed-wrapped {border: 1px dashed gray;margin: 0 0.4em 0.5em 0.4em;box-sizing: border-box;padding-bottom: 0.4em;background-color: white;}#sk-container-id-3 div.sk-label label {font-family: monospace;font-weight: bold;display: inline-block;line-height: 1.2em;}#sk-container-id-3 div.sk-label-container {text-align: center;}#sk-container-id-3 div.sk-container {/* jupyter's `normalize.less` sets `[hidden] { display: none; }` but bootstrap.min.css set `[hidden] { display: none !important; }` so we also need the `!important` here to be able to override the default hidden behavior on the sphinx rendered scikit-learn.org. See: https://github.com/scikit-learn/scikit-learn/issues/21755 */display: inline-block !important;position: relative;}#sk-container-id-3 div.sk-text-repr-fallback {display: none;}</style><div id=\"sk-container-id-3\" class=\"sk-top-container\"><div class=\"sk-text-repr-fallback\"><pre>DARTSRegressor(arch_learning_rate_max=0.001, max_epochs=0, num_graph_nodes=1,\n               param_updates_for_sampled_model=800, param_updates_per_epoch=500,\n               primitives=[&#x27;none&#x27;, &#x27;add&#x27;, &#x27;subtract&#x27;, &#x27;mult&#x27;, &#x27;logistic&#x27;, &#x27;exp&#x27;,\n                           &#x27;relu&#x27;],\n               sampling_strategy=&#x27;sample&#x27;)</pre><b>In a Jupyter environment, please rerun this cell to show the HTML representation or trust the notebook. <br />On GitHub, the HTML representation is unable to render, please try loading this page with nbviewer.org.</b></div><div class=\"sk-container\" hidden><div class=\"sk-item\"><div class=\"sk-estimator sk-toggleable\"><input class=\"sk-toggleable__control sk-hidden--visually\" id=\"sk-estimator-id-3\" type=\"checkbox\" checked><label for=\"sk-estimator-id-3\" class=\"sk-toggleable__label sk-toggleable__label-arrow\">DARTSRegressor</label><div class=\"sk-toggleable__content\"><pre>DARTSRegressor(arch_learning_rate_max=0.001, max_epochs=0, num_graph_nodes=1,\n               param_updates_for_sampled_model=800, param_updates_per_epoch=500,\n               primitives=[&#x27;none&#x27;, &#x27;add&#x27;, &#x27;subtract&#x27;, &#x27;mult&#x27;, &#x27;logistic&#x27;, &#x27;exp&#x27;,\n                           &#x27;relu&#x27;],\n               sampling_strategy=&#x27;sample&#x27;)</pre></div></div></div></div></div>"
     },
     "execution_count": 16,
     "metadata": {},
     "output_type": "execute_result"
    }
   ],
   "source": [
    "darts_estimator.set_params(\n",
    "    max_epochs=0,  # no epochs of architecture fitting\n",
    "    sampling_strategy=\"sample\",  # overriding default \"max\"\n",
    "    param_updates_for_sampled_model=800,\n",
    ")\n",
    "darts_estimator.fit(X, y)"
   ],
   "metadata": {
    "collapsed": false
   }
  },
  {
   "cell_type": "markdown",
   "source": [
    "To recover the initial model, we need to return the sampling strategy to the default `\"max\"`:"
   ],
   "metadata": {
    "collapsed": false
   }
  },
  {
   "cell_type": "code",
   "execution_count": 17,
   "outputs": [
    {
     "data": {
      "text/plain": "0it [00:00, ?it/s]",
      "application/vnd.jupyter.widget-view+json": {
       "version_major": 2,
       "version_minor": 0,
       "model_id": "f77af4a7522541398321cea50f543c90"
      }
     },
     "metadata": {},
     "output_type": "display_data"
    },
    {
     "data": {
      "text/plain": "DARTSRegressor(arch_learning_rate_max=0.001, max_epochs=0, num_graph_nodes=1,\n               param_updates_for_sampled_model=1000,\n               param_updates_per_epoch=500,\n               primitives=['none', 'add', 'subtract', 'mult', 'logistic', 'exp',\n                           'relu'])",
      "text/html": "<style>#sk-container-id-4 {color: black;background-color: white;}#sk-container-id-4 pre{padding: 0;}#sk-container-id-4 div.sk-toggleable {background-color: white;}#sk-container-id-4 label.sk-toggleable__label {cursor: pointer;display: block;width: 100%;margin-bottom: 0;padding: 0.3em;box-sizing: border-box;text-align: center;}#sk-container-id-4 label.sk-toggleable__label-arrow:before {content: \"▸\";float: left;margin-right: 0.25em;color: #696969;}#sk-container-id-4 label.sk-toggleable__label-arrow:hover:before {color: black;}#sk-container-id-4 div.sk-estimator:hover label.sk-toggleable__label-arrow:before {color: black;}#sk-container-id-4 div.sk-toggleable__content {max-height: 0;max-width: 0;overflow: hidden;text-align: left;background-color: #f0f8ff;}#sk-container-id-4 div.sk-toggleable__content pre {margin: 0.2em;color: black;border-radius: 0.25em;background-color: #f0f8ff;}#sk-container-id-4 input.sk-toggleable__control:checked~div.sk-toggleable__content {max-height: 200px;max-width: 100%;overflow: auto;}#sk-container-id-4 input.sk-toggleable__control:checked~label.sk-toggleable__label-arrow:before {content: \"▾\";}#sk-container-id-4 div.sk-estimator input.sk-toggleable__control:checked~label.sk-toggleable__label {background-color: #d4ebff;}#sk-container-id-4 div.sk-label input.sk-toggleable__control:checked~label.sk-toggleable__label {background-color: #d4ebff;}#sk-container-id-4 input.sk-hidden--visually {border: 0;clip: rect(1px 1px 1px 1px);clip: rect(1px, 1px, 1px, 1px);height: 1px;margin: -1px;overflow: hidden;padding: 0;position: absolute;width: 1px;}#sk-container-id-4 div.sk-estimator {font-family: monospace;background-color: #f0f8ff;border: 1px dotted black;border-radius: 0.25em;box-sizing: border-box;margin-bottom: 0.5em;}#sk-container-id-4 div.sk-estimator:hover {background-color: #d4ebff;}#sk-container-id-4 div.sk-parallel-item::after {content: \"\";width: 100%;border-bottom: 1px solid gray;flex-grow: 1;}#sk-container-id-4 div.sk-label:hover label.sk-toggleable__label {background-color: #d4ebff;}#sk-container-id-4 div.sk-serial::before {content: \"\";position: absolute;border-left: 1px solid gray;box-sizing: border-box;top: 0;bottom: 0;left: 50%;z-index: 0;}#sk-container-id-4 div.sk-serial {display: flex;flex-direction: column;align-items: center;background-color: white;padding-right: 0.2em;padding-left: 0.2em;position: relative;}#sk-container-id-4 div.sk-item {position: relative;z-index: 1;}#sk-container-id-4 div.sk-parallel {display: flex;align-items: stretch;justify-content: center;background-color: white;position: relative;}#sk-container-id-4 div.sk-item::before, #sk-container-id-4 div.sk-parallel-item::before {content: \"\";position: absolute;border-left: 1px solid gray;box-sizing: border-box;top: 0;bottom: 0;left: 50%;z-index: -1;}#sk-container-id-4 div.sk-parallel-item {display: flex;flex-direction: column;z-index: 1;position: relative;background-color: white;}#sk-container-id-4 div.sk-parallel-item:first-child::after {align-self: flex-end;width: 50%;}#sk-container-id-4 div.sk-parallel-item:last-child::after {align-self: flex-start;width: 50%;}#sk-container-id-4 div.sk-parallel-item:only-child::after {width: 0;}#sk-container-id-4 div.sk-dashed-wrapped {border: 1px dashed gray;margin: 0 0.4em 0.5em 0.4em;box-sizing: border-box;padding-bottom: 0.4em;background-color: white;}#sk-container-id-4 div.sk-label label {font-family: monospace;font-weight: bold;display: inline-block;line-height: 1.2em;}#sk-container-id-4 div.sk-label-container {text-align: center;}#sk-container-id-4 div.sk-container {/* jupyter's `normalize.less` sets `[hidden] { display: none; }` but bootstrap.min.css set `[hidden] { display: none !important; }` so we also need the `!important` here to be able to override the default hidden behavior on the sphinx rendered scikit-learn.org. See: https://github.com/scikit-learn/scikit-learn/issues/21755 */display: inline-block !important;position: relative;}#sk-container-id-4 div.sk-text-repr-fallback {display: none;}</style><div id=\"sk-container-id-4\" class=\"sk-top-container\"><div class=\"sk-text-repr-fallback\"><pre>DARTSRegressor(arch_learning_rate_max=0.001, max_epochs=0, num_graph_nodes=1,\n               param_updates_for_sampled_model=1000,\n               param_updates_per_epoch=500,\n               primitives=[&#x27;none&#x27;, &#x27;add&#x27;, &#x27;subtract&#x27;, &#x27;mult&#x27;, &#x27;logistic&#x27;, &#x27;exp&#x27;,\n                           &#x27;relu&#x27;])</pre><b>In a Jupyter environment, please rerun this cell to show the HTML representation or trust the notebook. <br />On GitHub, the HTML representation is unable to render, please try loading this page with nbviewer.org.</b></div><div class=\"sk-container\" hidden><div class=\"sk-item\"><div class=\"sk-estimator sk-toggleable\"><input class=\"sk-toggleable__control sk-hidden--visually\" id=\"sk-estimator-id-4\" type=\"checkbox\" checked><label for=\"sk-estimator-id-4\" class=\"sk-toggleable__label sk-toggleable__label-arrow\">DARTSRegressor</label><div class=\"sk-toggleable__content\"><pre>DARTSRegressor(arch_learning_rate_max=0.001, max_epochs=0, num_graph_nodes=1,\n               param_updates_for_sampled_model=1000,\n               param_updates_per_epoch=500,\n               primitives=[&#x27;none&#x27;, &#x27;add&#x27;, &#x27;subtract&#x27;, &#x27;mult&#x27;, &#x27;logistic&#x27;, &#x27;exp&#x27;,\n                           &#x27;relu&#x27;])</pre></div></div></div></div></div>"
     },
     "execution_count": 17,
     "metadata": {},
     "output_type": "execute_result"
    }
   ],
   "source": [
    "darts_estimator.set_params(\n",
    "    max_epochs=0,  # no epochs of architecture fitting\n",
    "    sampling_strategy=\"max\",\n",
    "    param_updates_for_sampled_model=1000,\n",
    ")\n",
    "darts_estimator.fit(X, y)"
   ],
   "metadata": {
    "collapsed": false
   }
  },
  {
   "cell_type": "markdown",
   "source": [
    "As long as the architecture has not been refitted in the meantime, the architecture should be identical to the initial result, as the `sampling_strategy=\"max\"` is deterministic. The coefficients of the architecture functions may, however, be different, as they have different starting values compared to when they were initially set."
   ],
   "metadata": {
    "collapsed": false
   }
  },
  {
   "cell_type": "markdown",
   "source": [
    "Now that we have both our ground-truth and the DARTS candidate models, we can plot them and compare results. We define how to create our plot"
   ],
   "metadata": {
    "collapsed": false
   }
  },
  {
   "cell_type": "code",
   "execution_count": 18,
   "outputs": [],
   "source": [
    "def plot_exp_learning(model = None):\n",
    "    plot_colors = ['#1f77b4', '#ff7f0e', '#2ca02c', '#d62728', '#9467bd', '#8c564b', '#e377c2', '#7f7f7f', '#bcbd22', '#17becf']\n",
    "\n",
    "    import matplotlib.pyplot as plt\n",
    "    metadata = exp_learning_metadata()\n",
    "\n",
    "    P_0_list = [0, 0.25, 0.5]\n",
    "    trial = metadata.independent_variables[1].allowed_values\n",
    "\n",
    "    for P_0_index, P_0 in enumerate(P_0_list):\n",
    "        X = np.zeros((len(trial), 2))\n",
    "        X[:, 0] = P_0\n",
    "        X[:, 1] = trial\n",
    "\n",
    "        y = exp_learning_experiment(X, std=0)\n",
    "        plt.plot(trial, y, label=f\"$P_0 = {P_0}$ (Original)\", color = plot_colors[P_0_index])\n",
    "        if model is not None:\n",
    "            y = model.predict(X)\n",
    "            plt.plot(trial, y, label=f\"$P_0 = {P_0}$ (Recovered)\", linestyle=\"--\", color = plot_colors[P_0_index])\n",
    "\n",
    "    x_limit = [0, metadata.independent_variables[1].value_range[1]]\n",
    "    y_limit = [0, 1]\n",
    "    x_label = \"Trial $t$\"\n",
    "    y_label = \"Performance $P_n$\"\n",
    "\n",
    "    plt.xlim(x_limit)\n",
    "    plt.ylim(y_limit)\n",
    "    plt.xlabel(x_label, fontsize=\"large\")\n",
    "    plt.ylabel(y_label, fontsize=\"large\")\n",
    "    plt.legend(loc=4, fontsize=\"medium\")\n",
    "    plt.title(\"Exponential Learning\", fontsize=\"x-large\")\n",
    "    plt.show()"
   ],
   "metadata": {
    "collapsed": false
   }
  },
  {
   "cell_type": "markdown",
   "source": [
    "And then we pass in our new DARTS candidate model to get our visual comparison"
   ],
   "metadata": {
    "collapsed": false
   }
  },
  {
   "cell_type": "code",
   "execution_count": 19,
   "outputs": [
    {
     "data": {
      "text/plain": "<Figure size 640x480 with 1 Axes>",
      "image/png": "[encoded data removed]"
     },
     "metadata": {},
     "output_type": "display_data"
    }
   ],
   "source": [
    "plot_exp_learning(darts_estimator)\n"
   ],
   "metadata": {
    "collapsed": false
   }
  },
  {
   "cell_type": "code",
   "execution_count": null,
   "outputs": [],
   "source": [],
   "metadata": {
    "collapsed": false
   }
  }
 ],
 "metadata": {
  "kernelspec": {
   "display_name": "Python 3",
   "language": "python",
   "name": "python3"
  },
  "language_info": {
   "codemirror_mode": {
    "name": "ipython",
    "version": 2
   },
   "file_extension": ".py",
   "mimetype": "text/x-python",
   "name": "python",
   "nbconvert_exporter": "python",
   "pygments_lexer": "ipython2",
   "version": "2.7.6"
  }
 },
 "nbformat": 4,
 "nbformat_minor": 0
}
