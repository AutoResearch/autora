{
 "cells": [
  {
   "attachments": {},
   "cell_type": "markdown",
   "metadata": {},
   "source": [
    "# Introduction"
   ]
  },
  {
   "attachments": {},
   "cell_type": "markdown",
   "metadata": {},
   "source": [
    "**[AutoRA](https://pypi.org/project/autora/)** (**Au**tomated **R**esearch **A**ssistant) is an open-source framework designed to automate various stages of empirical research, including model discovery, experimental design, and data collection.\n",
    "\n",
    "This notebook is the fourth of four notebooks within the basic tutorials of ``autora``. We suggest that you go through these notebooks in order as each builds upon the last. However, each notebook is self-contained and so there is no need to *run* the content of the last notebook for your current notebook. We will here provide a link to each notebook, but we will also provide a link at the end of each notebook to navigate you to the next notebook.\n",
    "\n",
    "[AutoRA Basic Tutorial I: Components](https://autoresearch.github.io/autora/tutorials/basic/Tutorial-I-Components/) <br>\n",
    "[AutoRA Basic Tutorial II: Loop Constructs](https://autoresearch.github.io/autora/tutorials/basic/Tutorial-II-Loop-Constructs/) <br>\n",
    "[AutoRA Basic Tutorial III: Workflow Logic](https://autoresearch.github.io/autora/tutorials/basic/Tutorial-III-Workflow-Logic/) <br>\n",
    "[AutoRA Basic Tutorial IV: Customization](https://autoresearch.github.io/autora/tutorials/basic/Tutorial-IV-Customization/) <br>\n",
    "\n",
    "These notebooks provide a comprehensive introduction to the capabilities of ``autora``. **It demonstrates the fundamental components of ``autora``, and how they can be combined to facilitate automated (closed-loop) empirical research through synthetic experiments.**\n",
    "\n",
    "**How to use this notebook** *You can progress through the notebook section by section or directly navigate to specific sections. If you choose the latter, it is recommended to execute all cells in the notebook initially, allowing you to easily rerun the cells in each section later without issues.*"
   ]
  },
  {
   "attachments": {},
   "cell_type": "markdown",
   "metadata": {},
   "source": [
    "## Tutorial Setup\n",
    "This tutorial is self-contained so that you do not need to run the previous notebook to begin. However, the four notebooks are continuous so that what we define in a previous notebook should still exist within this notebook. As such, we will here re-run relevant code from past tutorials. We will not again walk you through these, but if you need a reminder what they are then go see the descriptions in previous notebooks."
   ]
  },
  {
   "cell_type": "code",
   "execution_count": null,
   "metadata": {},
   "outputs": [],
   "source": [
    "#### Installation ####\n",
    "!pip install -q \"autora[experimentalist-falsification]\"\n",
    "!pip install -q \"autora[theorist-bms]\"\n",
    "\n",
    "#### Import modules ####\n",
    "import numpy as np\n",
    "import torch\n",
    "from autora.variable import DV, IV, ValueType, VariableCollection\n",
    "from autora.workflow import Controller\n",
    "from autora.experimentalist.sampler.falsification import falsification_sample\n",
    "from autora.experimentalist.pooler.random_pooler import random_pool\n",
    "from autora.theorist.bms import BMSRegressor\n",
    "\n",
    "#### Set seeds ####\n",
    "np.random.seed(42)\n",
    "torch.manual_seed(42)\n",
    "\n",
    "#### Define ground truth and experiment runner ####\n",
    "ground_truth = lambda x: np.sin(x)\n",
    "run_experiment = lambda x: ground_truth(x) + np.random.normal(0, 0.1, size=x.shape)\n",
    "\n",
    "#### Define condition pool ####\n",
    "condition_pool = np.linspace(0, 2 * np.pi, 100)\n",
    "condition_pool = condition_pool.reshape((len(condition_pool), 1))\n",
    "\n",
    "#### Define data ####\n",
    "initial_conditions = np.random.choice(np.linspace(0, 2 * np.pi, 100), size=10, replace=False).reshape(-1,1)\n",
    "initial_observations = run_experiment(initial_conditions).reshape(-1,1)\n",
    "\n",
    "#### Define metadata ####\n",
    "iv = IV(name=\"x\", value_range=(0, 2 * np.pi), allowed_values=np.linspace(0, 2 * np.pi, 100))\n",
    "dv = DV(name=\"y\", type=ValueType.REAL)\n",
    "metadata = VariableCollection(independent_variables=[iv],dependent_variables=[dv])\n",
    "\n",
    "#### Define theorists ####\n",
    "theorist_bms = BMSRegressor(epochs=100)\n",
    "\n",
    "#### Define monitor ####\n",
    "def monitor(state):\n",
    "    print(f\"MONITOR: Generated new {state.history[-1].kind}\")"
   ]
  },
  {
   "attachments": {},
   "cell_type": "markdown",
   "metadata": {},
   "source": [
    "# Customizing Automated Empirical Research Components\n",
    "\n",
    "``autora`` is a flexible framework in which users can integrate their own theorists, experimentalists, and experiment_runners in a automated empirical research workflow. This section illustrates the integration of custom theorists and experimentalists. For more information on how to contribute your own modules to the ``autora`` ecosystem, please refer to the [Contributor Documentation](https://autoresearch.github.io/autora/contribute/modules/).\n",
    "\n",
    "To illustrate the use of custom theorists and experimentalists, we consider a simple workflow introduced above:\n",
    "1. Generate 3 seed experimental conditions\n",
    "2. Iterate through the following steps\n",
    "   - Collect observations using ``run_experiment``\n",
    "   - Identify a model relating conditions to observations using ``theorist_bms``\n",
    "   - Identify 3 new experimental conditions using ``falsification_sample``"
   ]
  },
  {
   "cell_type": "code",
   "execution_count": null,
   "metadata": {},
   "outputs": [],
   "source": [
    "# generate initial pool of 3 experimental conditions\n",
    "seed_conditions = np.linspace(0,2*np.pi,3)\n",
    "\n",
    "params = {\n",
    "        \"experimentalist\":\n",
    "                {\"condition_pool\": condition_pool,\n",
    "                 \"model\": \"%models[-1]%\", # access last model generated by theorist\n",
    "                 \"reference_conditions\": \"%observations.ivs%\", # access all conditions probed so far\n",
    "                 \"reference_observations\": \"%observations.dvs%\", # access all observations collected so far\n",
    "                 \"metadata\": metadata,\n",
    "                 \"num_samples\": 3}\n",
    "    }\n",
    "\n",
    "# define controller\n",
    "controller = Controller(\n",
    "    monitor=monitor,\n",
    "    variables=metadata,\n",
    "    experimentalist=falsification_sample,\n",
    "    experiment_runner=run_experiment,\n",
    "    theorist=theorist_bms,\n",
    "    params=params,\n",
    ")\n",
    "\n",
    "# seed controller\n",
    "controller.seed(conditions=[seed_conditions])"
   ]
  },
  {
   "attachments": {},
   "cell_type": "markdown",
   "metadata": {},
   "source": [
    "## Custom Theorists\n",
    "\n",
    "What if we wanted to replace the ``theorist_bms`` with a custom theorist?\n",
    "\n",
    "We can implement our theorist as a class that inherits from  `sklearn.base.BaseEstimator`. The class must implement the following methods:\n",
    "\n",
    "- `fit(self, conditions, observations)`\n",
    "- `predict(self, conditions)`\n",
    "\n",
    "The following code block implements such a theorist that fits a polynomial of a specified degree."
   ]
  },
  {
   "cell_type": "code",
   "execution_count": null,
   "metadata": {},
   "outputs": [],
   "source": [
    "\"\"\"\n",
    "Example Theorist\n",
    "\"\"\"\n",
    "\n",
    "import numpy as np\n",
    "from sklearn.base import BaseEstimator\n",
    "\n",
    "\n",
    "class PolynomialRegressor(BaseEstimator):\n",
    "    \"\"\"\n",
    "    This theorist fits a polynomial function to the data.\n",
    "    \"\"\"\n",
    "\n",
    "    def __init__(self, degree: int = 3):\n",
    "        self.degree = degree\n",
    "\n",
    "    def fit(self, conditions, observations):\n",
    "\n",
    "        # polyfit expects a 1D array\n",
    "        if conditions.ndim > 1:\n",
    "            conditions = conditions.flatten()\n",
    "\n",
    "        if observations.ndim > 1:\n",
    "            observations = observations.flatten()\n",
    "\n",
    "        # fit polynomial\n",
    "        self.coeff = np.polyfit(conditions, observations, 2)\n",
    "        self.polynomial = np.poly1d(self.coeff)\n",
    "        pass\n",
    "\n",
    "    def predict(self, conditions):\n",
    "        return self.polynomial(conditions)"
   ]
  },
  {
   "attachments": {},
   "cell_type": "markdown",
   "metadata": {},
   "source": [
    "We can now assign the theorist to a new controller."
   ]
  },
  {
   "cell_type": "code",
   "execution_count": null,
   "metadata": {},
   "outputs": [],
   "source": [
    "theorist_poly = PolynomialRegressor(degree = 3)\n",
    "\n",
    "# define controller\n",
    "controller_with_polynomial_theorist = Controller(\n",
    "    monitor=monitor,\n",
    "    variables=metadata,\n",
    "    experimentalist=falsification_sample,\n",
    "    experiment_runner=run_experiment,\n",
    "    theorist=theorist_poly,\n",
    "    params=params,\n",
    ")\n",
    "\n",
    "# seed controller\n",
    "controller_with_polynomial_theorist.seed(conditions=[seed_conditions])"
   ]
  },
  {
   "attachments": {},
   "cell_type": "markdown",
   "metadata": {},
   "source": [
    "Let's run the controller with the new theorist for 3 research cycles, defined by the number of models generated."
   ]
  },
  {
   "cell_type": "code",
   "execution_count": null,
   "metadata": {},
   "outputs": [
    {
     "name": "stderr",
     "output_type": "stream",
     "text": [
      "WARNING:autora.utils.deprecation:Use `falsification_score_sample_from_predictions` instead. `falsification_score_sampler_from_predictions` is deprecated.\n"
     ]
    },
    {
     "name": "stdout",
     "output_type": "stream",
     "text": [
      "MONITOR: Generated new OBSERVATION\n",
      "Number of models: 0\n",
      "MONITOR: Generated new MODEL\n",
      "Number of models: 1\n"
     ]
    },
    {
     "name": "stderr",
     "output_type": "stream",
     "text": [
      "WARNING:autora.utils.deprecation:Use `falsification_score_sample_from_predictions` instead. `falsification_score_sampler_from_predictions` is deprecated.\n"
     ]
    },
    {
     "name": "stdout",
     "output_type": "stream",
     "text": [
      "MONITOR: Generated new CONDITION\n",
      "Number of models: 1\n",
      "MONITOR: Generated new OBSERVATION\n",
      "Number of models: 1\n",
      "MONITOR: Generated new MODEL\n",
      "Number of models: 2\n"
     ]
    },
    {
     "name": "stderr",
     "output_type": "stream",
     "text": [
      "WARNING:autora.utils.deprecation:Use `falsification_score_sample_from_predictions` instead. `falsification_score_sampler_from_predictions` is deprecated.\n"
     ]
    },
    {
     "name": "stdout",
     "output_type": "stream",
     "text": [
      "MONITOR: Generated new CONDITION\n",
      "Number of models: 2\n",
      "MONITOR: Generated new OBSERVATION\n",
      "Number of models: 2\n",
      "MONITOR: Generated new MODEL\n",
      "Number of models: 3\n",
      "MONITOR: Generated new CONDITION\n",
      "Number of models: 3\n",
      "MONITOR: Generated new OBSERVATION\n",
      "Number of models: 3\n",
      "MONITOR: Generated new MODEL\n"
     ]
    }
   ],
   "source": [
    "from itertools import takewhile\n",
    "\n",
    "continue_criterion = lambda controller: len(controller.state.models) < 4\n",
    "\n",
    "for step in takewhile(continue_criterion, controller_with_polynomial_theorist):\n",
    "    print(f\"Number of models: {len(step.state.models)}\")"
   ]
  },
  {
   "attachments": {},
   "cell_type": "markdown",
   "metadata": {},
   "source": [
    "We can plot the last model identified by our custom theorist against the ground truth."
   ]
  },
  {
   "cell_type": "code",
   "execution_count": null,
   "metadata": {},
   "outputs": [
    {
     "data": {
      "text/plain": [
       "<matplotlib.legend.Legend at 0x7fb9248cf220>"
      ]
     },
     "execution_count": null,
     "metadata": {},
     "output_type": "execute_result"
    },
    {
     "data": {
      "image/png": "[encoded data removed]",
      "text/plain": [
       "<Figure size 640x480 with 1 Axes>"
      ]
     },
     "metadata": {},
     "output_type": "display_data"
    }
   ],
   "source": [
    "last_polynomial_model = controller_with_polynomial_theorist.state.models[-1]\n",
    "\n",
    "predicted_observations_polynomial = last_polynomial_model.predict(condition_pool)\n",
    "\n",
    "# plot model predictions against ground-truth\n",
    "import matplotlib.pyplot as plt\n",
    "plt.plot(condition_pool, ground_truth(condition_pool), label='Ground Truth')\n",
    "plt.plot(condition_pool, predicted_observations_polynomial, label='Polynomial Fit')\n",
    "plt.xlabel('x')\n",
    "plt.ylabel('y')\n",
    "plt.title('Model Predictions')\n",
    "plt.legend()"
   ]
  },
  {
   "attachments": {},
   "cell_type": "markdown",
   "metadata": {},
   "source": [
    "## Custom Experimentalists\n",
    "\n",
    "We can also implement custom experimentalists. Experimentalists are generally implemented as functions that can be integrated into an\n",
    "[Experimentalist Pipeline](https://autoresearch.github.io/autora/core/docs/pipeline/Experimentalist%20Pipeline%20Examples/). For instance, an experimentalist sampler function expects a pool of experimental conditions–typically passed as a 2D numpy array named ``condition_pool``–and returns a modified set of experimental conditions.\n",
    "\n",
    "The following code block implements a basic experimentalist that considers two models, and identifies experimental conditions for which the two models differ most in their predictions. This is a special case of the [Model Disagreement Sampler](https://autoresearch.github.io/autora/user-guide/experimentalists/samplers/model-disagreement/)."
   ]
  },
  {
   "cell_type": "code",
   "execution_count": null,
   "metadata": {},
   "outputs": [],
   "source": [
    "def basic_model_disagreement_sample(condition_pool, model_a, model_b, num_samples = 1):\n",
    "\n",
    "    # get predictions from both models\n",
    "    prediction_a = model_a.predict(condition_pool)\n",
    "    prediction_b = model_b.predict(condition_pool)\n",
    "\n",
    "    # compute mean squared distance between predictions\n",
    "    disagreement = np.mean((prediction_a - prediction_b) ** 2, axis=1)\n",
    "\n",
    "    # sort the summed disagreements and select the top n\n",
    "    selected_conditions_idx = (-disagreement).argsort()[:num_samples]\n",
    "\n",
    "    return condition_pool[selected_conditions_idx]"
   ]
  },
  {
   "attachments": {},
   "cell_type": "markdown",
   "metadata": {},
   "source": [
    "We can illustrate our new experimentalist sampler by fitting two different theorists to an initial set of conditions and observations. Here, we consider the BMS theorist and our custom polynomial theorist from above. We then sample 3 experimental conditions using our new experimentalist ``basic_model_disagreement_sample``."
   ]
  },
  {
   "cell_type": "code",
   "execution_count": null,
   "metadata": {},
   "outputs": [
    {
     "name": "stderr",
     "output_type": "stream",
     "text": [
      "100%|██████████| 100/100 [00:07<00:00, 13.30it/s]\n"
     ]
    }
   ],
   "source": [
    "# fit two theorists\n",
    "theorist_bms.fit(initial_conditions, initial_observations)\n",
    "theorist_poly.fit(initial_conditions, initial_observations)\n",
    "\n",
    "# sample experimental conditions with our custom experimentalist sampler function\n",
    "selected_conditions = basic_model_disagreement_sample(condition_pool,\n",
    "                                                theorist_bms,\n",
    "                                                theorist_poly,\n",
    "                                                num_samples = 3)"
   ]
  },
  {
   "attachments": {},
   "cell_type": "markdown",
   "metadata": {},
   "source": [
    "After fitting both theorists, we can compare their predictions across the entire pool of experimental conditions. We will add the sampled experimental conditions to the plot."
   ]
  },
  {
   "cell_type": "code",
   "execution_count": null,
   "metadata": {},
   "outputs": [
    {
     "data": {
      "text/plain": [
       "<matplotlib.legend.Legend at 0x7fb9252287f0>"
      ]
     },
     "execution_count": null,
     "metadata": {},
     "output_type": "execute_result"
    },
    {
     "data": {
      "image/png": "[encoded data removed]",
      "text/plain": [
       "<Figure size 640x480 with 1 Axes>"
      ]
     },
     "metadata": {},
     "output_type": "display_data"
    }
   ],
   "source": [
    "# plot model predictions against ground-truth\n",
    "import matplotlib.pyplot as plt\n",
    "\n",
    "# obtain predictions for both theorists\n",
    "predicted_observations_bms = theorist_bms.predict(condition_pool)\n",
    "predicted_observations_poly = theorist_poly.predict(condition_pool)\n",
    "\n",
    "plt.plot(condition_pool, ground_truth(condition_pool), label='Ground Truth')\n",
    "plt.plot(condition_pool, predicted_observations_bms, label='Predictions of BMS Theorist')\n",
    "plt.plot(condition_pool, predicted_observations_poly, label='Predictions of Polynomial Theorist')\n",
    "\n",
    "y_min = -2.5\n",
    "y_max  = 1\n",
    "\n",
    "# plot conditions obtained by novelty sampler\n",
    "for idx, condition in enumerate(selected_conditions):\n",
    "    if idx == 0:\n",
    "        plt.plot([condition[0], condition[0]],\n",
    "                 [y_min, y_max],\n",
    "                 '--r', label='selected conditions')\n",
    "    else: # we want to omit the label for all other conditions\n",
    "        plt.plot()\n",
    "\n",
    "\n",
    "plt.xlabel('x')\n",
    "plt.ylabel('y')\n",
    "plt.title('Model Disagreement')\n",
    "plt.legend()"
   ]
  },
  {
   "attachments": {},
   "cell_type": "markdown",
   "metadata": {},
   "source": [
    "Finally, we can integrate our custom experimentalist and theorist into a closed-loop empirical research workflow, e.g., using basic loop constructs."
   ]
  },
  {
   "cell_type": "code",
   "execution_count": null,
   "metadata": {},
   "outputs": [
    {
     "name": "stderr",
     "output_type": "stream",
     "text": [
      "100%|██████████| 100/100 [00:08<00:00, 11.88it/s]\n"
     ]
    },
    {
     "name": "stdout",
     "output_type": "stream",
     "text": [
      "Loss of BMS theorist in cycle 0: 0.0\n",
      "Loss of polynomial theorist in cycle 0: 0.8717052095923039\n"
     ]
    },
    {
     "name": "stderr",
     "output_type": "stream",
     "text": [
      "100%|██████████| 100/100 [00:08<00:00, 12.49it/s]\n"
     ]
    },
    {
     "name": "stdout",
     "output_type": "stream",
     "text": [
      "Loss of BMS theorist in cycle 1: 0.0\n",
      "Loss of polynomial theorist in cycle 1: 3.619766689361933\n"
     ]
    },
    {
     "name": "stderr",
     "output_type": "stream",
     "text": [
      "100%|██████████| 100/100 [00:07<00:00, 12.97it/s]\n"
     ]
    },
    {
     "name": "stdout",
     "output_type": "stream",
     "text": [
      "Loss of BMS theorist in cycle 2: 0.0\n",
      "Loss of polynomial theorist in cycle 2: 0.5193832163876795\n"
     ]
    },
    {
     "name": "stderr",
     "output_type": "stream",
     "text": [
      "100%|██████████| 100/100 [00:07<00:00, 14.26it/s]\n"
     ]
    },
    {
     "name": "stdout",
     "output_type": "stream",
     "text": [
      "Loss of BMS theorist in cycle 3: 0.0\n",
      "Loss of polynomial theorist in cycle 3: 0.36300053098571583\n"
     ]
    },
    {
     "name": "stderr",
     "output_type": "stream",
     "text": [
      "100%|██████████| 100/100 [00:07<00:00, 13.45it/s]"
     ]
    },
    {
     "name": "stdout",
     "output_type": "stream",
     "text": [
      "Loss of BMS theorist in cycle 4: 0.4967273581732591\n",
      "Loss of polynomial theorist in cycle 4: 0.288261165753893\n"
     ]
    },
    {
     "name": "stderr",
     "output_type": "stream",
     "text": [
      "\n"
     ]
    }
   ],
   "source": [
    "num_cycles = 5 # number of empirical research cycles\n",
    "measurements_per_cycle = 3 # number of data points to collect for each cycle\n",
    "\n",
    "# generate an initial set experimental conditions\n",
    "conditions = random_pool(metadata.independent_variables[0].allowed_values,\n",
    "                                 n=measurements_per_cycle)\n",
    "# convert iterator into 2-dimensional numpy array\n",
    "conditions = np.array(list(conditions)).reshape(-1, 1)\n",
    "\n",
    "# collect initial set of observations\n",
    "observations = run_experiment(conditions)\n",
    "\n",
    "for cycle in range(num_cycles):\n",
    "\n",
    "  # use BMS theorist and custom polynomial theorist to fit the model to the data\n",
    "  theorist_bms.fit(conditions, observations)\n",
    "  theorist_poly.fit(conditions, observations)\n",
    "\n",
    "  # obtain new conditions from custrom experimentalist sampler\n",
    "  new_conditions = basic_model_disagreement_sample(condition_pool,\n",
    "                                                theorist_bms,\n",
    "                                                theorist_poly,\n",
    "                                                num_samples = 3)\n",
    "\n",
    "  # obtain new observations\n",
    "  new_observations = run_experiment(new_conditions)\n",
    "\n",
    "  # combine old and new conditions and observations\n",
    "  conditions = np.concatenate((conditions, new_conditions))\n",
    "  observations = np.concatenate((observations, new_observations))\n",
    "\n",
    "  # evaluate model of the theorist based on its ability to predict each observation from the ground truth, evaluated across the entire space of experimental conditions\n",
    "  loss_bms = np.mean(np.square(theorist_bms.predict(condition_pool) - ground_truth(condition_pool)))\n",
    "  loss_poly = np.mean(np.square(theorist_poly.predict(condition_pool) - ground_truth(condition_pool)))\n",
    "  print(\"Loss of BMS theorist in cycle {}: {}\".format(cycle, loss_bms))\n",
    "  print(\"Loss of polynomial theorist in cycle {}: {}\".format(cycle, loss_poly))"
   ]
  },
  {
   "attachments": {},
   "cell_type": "markdown",
   "metadata": {},
   "source": [
    "# Help\n",
    "We hope that this tutorial helped demonstrate the fundamental components of ``autora``, and how they can be combined to facilitate automated (closed-loop) empirical research through synthetic experiments. We encourage you to explore other [tutorials](https://autoresearch.github.io/autora/tutorials/) and check out the [documentation](https://autoresearch.github.io/).\n",
    "\n",
    "If you encounter any issues, bugs, or questions, please reach out to us through the [AutoRA Forum](https://github.com/orgs/AutoResearch/discussions). Feel free to report any bugs by [creating an issue in the AutoRA repository](https://github.com/AutoResearch/autora/issues).\n",
    "\n",
    "You may also post questions directly into the [User Q&A Section](https://github.com/orgs/AutoResearch/discussions/categories/using-autora).\n"
   ]
  }
 ],
 "metadata": {
  "colab": {
   "provenance": [],
   "toc_visible": true
  },
  "kernelspec": {
   "display_name": "Python 3",
   "name": "python3"
  },
  "language_info": {
   "name": "python"
  }
 },
 "nbformat": 4,
 "nbformat_minor": 0
}
