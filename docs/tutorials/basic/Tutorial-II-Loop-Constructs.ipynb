{
  "cells": [
    {
      "attachments": {},
      "cell_type": "markdown",
      "metadata": {
        "id": "_q7iLq3GUYMz"
      },
      "source": [
        "# Introduction\n",
        "## Basic Tutorial II: Loop Constructs"
      ]
    },
    {
      "attachments": {},
      "cell_type": "markdown",
      "metadata": {
        "id": "5mfUKtGTUYM1",
        "pycharm": {
          "name": "#%% md\n"
        }
      },
      "source": [
        "**[AutoRA](https://pypi.org/project/autora/)** (**Au**tomated **R**esearch **A**ssistant) is an open-source framework designed to automate various stages of empirical research, including model discovery, experimental design, and data collection.\n",
        "\n",
        "This notebook is the second of four notebooks within the basic tutorials of ``autora``. We suggest that you go through these notebooks in order as each builds upon the last. However, each notebook is self-contained and so there is no need to *run* the content of the last notebook for your current notebook. We will here provide a link to each notebook, but we will also provide a link at the end of each notebook to navigate you to the next notebook.\n",
        "\n",
        "[AutoRA Basic Tutorial I: Components](https://autoresearch.github.io/autora/tutorials/basic/Tutorial-I-Components/) <br>\n",
        "[AutoRA Basic Tutorial II: Loop Constructs](https://autoresearch.github.io/autora/tutorials/basic/Tutorial-II-Loop-Constructs/) <br>\n",
        "[AutoRA Basic Tutorial III: Workflow Logic](https://autoresearch.github.io/autora/tutorials/basic/Tutorial-III-Workflow-Logic/) <br>\n",
        "[AutoRA Basic Tutorial IV: Customization](https://autoresearch.github.io/autora/tutorials/basic/Tutorial-IV-Customization/) <br>\n",
        "\n",
        "These notebooks provide a comprehensive introduction to the capabilities of ``autora``. **It demonstrates the fundamental components of ``autora``, and how they can be combined to facilitate automated (closed-loop) empirical research through synthetic experiments.**\n",
        "\n",
        "**How to use this notebook** *You can progress through the notebook section by section or directly navigate to specific sections. If you choose the latter, it is recommended to execute all cells in the notebook initially, allowing you to easily rerun the cells in each section later without issues.*"
      ]
    },
    {
      "attachments": {},
      "cell_type": "markdown",
      "metadata": {
        "id": "7bD8W7cfhZ5n"
      },
      "source": [
        "## Tutorial Setup\n",
        "This tutorial is self-contained so that you do not need to run the previous notebook to begin. However, the four notebooks are continuous so that what we define in a previous notebook should still exist within this notebook. As such, we will here re-run relevant code from past tutorials. We will not again walk you through these, but if you need a reminder what they are then go see the descriptions in previous notebooks."
      ]
    },
    {
      "cell_type": "code",
      "execution_count": null,
      "metadata": {
        "id": "2S9mfSxVUYM3"
      },
      "outputs": [],
      "source": [
        "#### Installation ####\n",
        "!pip install -q \"autora[experimentalist-falsification]\"\n",
        "!pip install -q \"autora[experimentalist-sampler-model-disagreement]\"\n",
        "!pip install -q \"autora[theorist-bms]\"\n",
        "\n",
        "#### Import modules ####\n",
        "import numpy as np\n",
        "import torch\n",
        "from autora.variable import DV, IV, ValueType, VariableCollection\n",
        "from autora.experimentalist.pooler.random_pooler import random_pool\n",
        "from autora.experimentalist.sampler.falsification import falsification_sample\n",
        "from autora.experimentalist.sampler.model_disagreement import model_disagreement_sample\n",
        "from autora.theorist.bms import BMSRegressor\n",
        "from sklearn import linear_model\n",
        "\n",
        "#### Set seeds ####\n",
        "np.random.seed(42)\n",
        "torch.manual_seed(42)\n",
        "\n",
        "#### Define ground truth and experiment runner ####\n",
        "ground_truth = lambda x: np.sin(x)\n",
        "run_experiment = lambda x: ground_truth(x) + np.random.normal(0, 0.1, size=x.shape)\n",
        "\n",
        "#### Define condition pool ####\n",
        "condition_pool = np.linspace(0, 2 * np.pi, 100)\n",
        "condition_pool = condition_pool.reshape((len(condition_pool), 1))\n",
        "\n",
        "#### Define metadata ####\n",
        "iv = IV(name=\"x\", value_range=(0, 2 * np.pi), allowed_values=condition_pool)\n",
        "dv = DV(name=\"y\", type=ValueType.REAL)\n",
        "metadata = VariableCollection(independent_variables=[iv],dependent_variables=[dv])\n",
        "\n",
        "#### Define theorists ####\n",
        "theorist_lr = linear_model.LinearRegression()\n",
        "theorist_bms = BMSRegressor(epochs=100)"
      ]
    },
    {
      "attachments": {},
      "cell_type": "markdown",
      "metadata": {
        "id": "0ZISUerxUYNL"
      },
      "source": [
        "# Loop Constructs\n",
        "After defining all the components required for the empirical research process, we can create an automated workflow using basic loop constructs in Python.\n",
        "\n",
        "The following code block demonstrates how to build such a workflow using the components introduced in the preceding notebook, such as\n",
        "\n",
        "- ``metadata`` (object specifying variables of the experiment), <br>\n",
        "- ``run_experiment`` (function for collecting data), <br>\n",
        "- ``theorist_bms`` (scikit learn estimator for discoverying equations using the Bayesian Machine Scientist), <br>\n",
        "- ``random_pool`` (function for generating a random pool of experimental conditions), and <br>\n",
        "- ``falsification_sample`` (function for identifying novel experiment conditions using the falsification .sampler) <br>\n",
        "\n",
        "We begin with implementing the following workflow:\n",
        "1. Generate 3 seed experimental conditions using ``random_pool``\n",
        "2. Generate 3 seed observations using ``run_experiment``\n",
        "3. Loop through the following steps 5 times\n",
        "   - Identify a model relating conditions to observations using ``theorist_bms``\n",
        "   - Identify 3 new experimental conditions using ``falsification_sample``\n",
        "   - Collect 3 new observations using ``run_experiment``\n",
        "   - Add new conditions and observations to the dataset\n",
        "\n",
        "We will here begin using the naming convention ``cycle`` to refer to an entire AutoRA loop where the loop encounters all AutoRA components - experiment runner, theorist, experimentalist. Within the scientific method, a cycle would then be running a single iteration of the experiment. This requires the collection of data, the modelling of that data, and the conceptualization of the next iteration of this experiment. For example, if our research concerns how much information a person acquires from a photo (dependent variable) dependent on how bright the photo is (independent variable), we may first collect data with conditions of (let's say) 10%, 50%, and 90% brightness, then model our collected data to determine the relationship between brightness and photo perception, and finally determine which other brightness conditions may help us understand the true relationship. Probing other conditions - such as a brightness of 25% and of 75% would then be the next iteration of the experiment and thus, for us, the next cycle. The following code block will iterate through five of these cycles."
      ]
    },
    {
      "attachments": {},
      "cell_type": "markdown",
      "metadata": {
        "id": "kO_HTQMPm7LQ"
      },
      "source": [
        "## Example 1: Falsification Sampler"
      ]
    },
    {
      "cell_type": "code",
      "execution_count": null,
      "metadata": {
        "colab": {
          "base_uri": "https://localhost:8080/"
        },
        "id": "PiDfcDVNUYNL",
        "outputId": "278b7307-51f8-40c0-c1e3-025dffdf3c4f"
      },
      "outputs": [
        {
          "name": "stderr",
          "output_type": "stream",
          "text": [
            "100%|██████████| 100/100 [00:26<00:00,  3.84it/s]\n",
            "WARNING:autora.utils.deprecation:Use `falsification_score_sample_from_predictions` instead. `falsification_score_sampler_from_predictions` is deprecated.\n"
          ]
        },
        {
          "name": "stdout",
          "output_type": "stream",
          "text": [
            "Loss in cycle 0: 0.0\n",
            "Discovered Model: sin(X0)\n"
          ]
        },
        {
          "name": "stderr",
          "output_type": "stream",
          "text": [
            "100%|██████████| 100/100 [00:28<00:00,  3.56it/s]\n",
            "WARNING:autora.utils.deprecation:Use `falsification_score_sample_from_predictions` instead. `falsification_score_sampler_from_predictions` is deprecated.\n"
          ]
        },
        {
          "name": "stdout",
          "output_type": "stream",
          "text": [
            "Loss in cycle 1: 0.0\n",
            "Discovered Model: sin(X0)\n"
          ]
        },
        {
          "name": "stderr",
          "output_type": "stream",
          "text": [
            "100%|██████████| 100/100 [00:14<00:00,  7.10it/s]\n",
            "WARNING:autora.utils.deprecation:Use `falsification_score_sample_from_predictions` instead. `falsification_score_sampler_from_predictions` is deprecated.\n"
          ]
        },
        {
          "name": "stdout",
          "output_type": "stream",
          "text": [
            "Loss in cycle 2: 0.5526484578348648\n",
            "Discovered Model: _a0_\n"
          ]
        },
        {
          "name": "stderr",
          "output_type": "stream",
          "text": [
            "100%|██████████| 100/100 [00:17<00:00,  5.60it/s]\n",
            "WARNING:autora.utils.deprecation:Use `falsification_score_sample_from_predictions` instead. `falsification_score_sampler_from_predictions` is deprecated.\n"
          ]
        },
        {
          "name": "stdout",
          "output_type": "stream",
          "text": [
            "Loss in cycle 3: 0.0\n",
            "Discovered Model: sin(X0)\n"
          ]
        },
        {
          "name": "stderr",
          "output_type": "stream",
          "text": [
            "100%|██████████| 100/100 [00:16<00:00,  6.25it/s]\n",
            "WARNING:autora.utils.deprecation:Use `falsification_score_sample_from_predictions` instead. `falsification_score_sampler_from_predictions` is deprecated.\n"
          ]
        },
        {
          "name": "stdout",
          "output_type": "stream",
          "text": [
            "Loss in cycle 4: 0.0\n",
            "Discovered Model: sin(X0)\n"
          ]
        }
      ],
      "source": [
        "num_cycles = 5 # number of empirical research cycles\n",
        "measurements_per_cycle = 3 # number of data points to collect for each cycle\n",
        "\n",
        "# generate an initial set of experimental conditions\n",
        "conditions = random_pool(metadata.independent_variables[0].allowed_values,\n",
        "                                 n=measurements_per_cycle)\n",
        "\n",
        "# convert iterator into 2-dimensional numpy array\n",
        "conditions = np.array(list(conditions)).reshape(-1, 1)\n",
        "\n",
        "# collect initial set of observations\n",
        "observations = run_experiment(conditions)\n",
        "\n",
        "for cycle in range(num_cycles):\n",
        "\n",
        "  # use BMS theorist to fit the model to the data\n",
        "  theorist_bms.fit(conditions, observations)\n",
        "\n",
        "  # obtain new conditions\n",
        "  new_conditions = falsification_sample(\n",
        "          condition_pool=condition_pool,\n",
        "          model=theorist_bms,\n",
        "          reference_conditions=conditions,\n",
        "          reference_observations=observations,\n",
        "          metadata=metadata,\n",
        "          num_samples=measurements_per_cycle,\n",
        "      )\n",
        "\n",
        "  # obtain new observations\n",
        "  new_observations = run_experiment(new_conditions)\n",
        "\n",
        "  # combine old and new conditions and observations\n",
        "  conditions = np.concatenate((conditions, new_conditions))\n",
        "  observations = np.concatenate((observations, new_observations))\n",
        "\n",
        "  # evaluate model of the theorist based on its ability to predict each observation from the ground truth, evaluated across the entire space of experimental conditions\n",
        "  loss = np.mean(np.square(theorist_bms.predict(condition_pool) - ground_truth(condition_pool)))\n",
        "  print(\"Loss in cycle {}: {}\".format(cycle, loss))\n",
        "  print(\"Discovered Model: \" +  theorist_bms.repr())\n"
      ]
    },
    {
      "attachments": {},
      "cell_type": "markdown",
      "metadata": {
        "id": "B0lVQWuCUYNL"
      },
      "source": [
        "## Example 2: Model Disagreement Sampler\n",
        "We can easily replace components in the workflow above. For instance, we could replace  ``falsification_sample`` with the ``experimentalist_pipeline`` defined in Tutorial I.\n",
        "\n",
        "In the following code block, we add a linear regression theorist, to fit a linear model to the data. In addition, we replace ``falsification_sample`` with  ``model_disagreement_sample`` to sample experimental conditions that differentiate most between the linear model and the model discovered by the BMS theorist."
      ]
    },
    {
      "cell_type": "code",
      "execution_count": null,
      "metadata": {
        "colab": {
          "base_uri": "https://localhost:8080/"
        },
        "id": "NXd-ON5uUYNL",
        "outputId": "b5a7d8d7-f3e9-419c-9f52-618d713641bd"
      },
      "outputs": [
        {
          "name": "stderr",
          "output_type": "stream",
          "text": [
            "100%|██████████| 100/100 [00:40<00:00,  2.47it/s]\n"
          ]
        },
        {
          "name": "stdout",
          "output_type": "stream",
          "text": [
            "Loss in cycle 0: 0.0\n",
            "Discovered BMS Model: sin(X0)\n"
          ]
        },
        {
          "name": "stderr",
          "output_type": "stream",
          "text": [
            "100%|██████████| 100/100 [00:18<00:00,  5.53it/s]\n"
          ]
        },
        {
          "name": "stdout",
          "output_type": "stream",
          "text": [
            "Loss in cycle 1: 0.0\n",
            "Discovered BMS Model: sin(X0)\n"
          ]
        },
        {
          "name": "stderr",
          "output_type": "stream",
          "text": [
            "100%|██████████| 100/100 [00:19<00:00,  5.16it/s]\n"
          ]
        },
        {
          "name": "stdout",
          "output_type": "stream",
          "text": [
            "Loss in cycle 2: 0.0\n",
            "Discovered BMS Model: sin(X0)\n"
          ]
        },
        {
          "name": "stderr",
          "output_type": "stream",
          "text": [
            "100%|██████████| 100/100 [00:15<00:00,  6.37it/s]\n"
          ]
        },
        {
          "name": "stdout",
          "output_type": "stream",
          "text": [
            "Loss in cycle 3: 0.0\n",
            "Discovered BMS Model: sin(X0)\n"
          ]
        },
        {
          "name": "stderr",
          "output_type": "stream",
          "text": [
            "100%|██████████| 100/100 [00:24<00:00,  4.01it/s]\n"
          ]
        },
        {
          "name": "stdout",
          "output_type": "stream",
          "text": [
            "Loss in cycle 4: 0.0\n",
            "Discovered BMS Model: sin(X0)\n"
          ]
        }
      ],
      "source": [
        "num_cycles = 5 # number of empirical research cycles\n",
        "measurements_per_cycle = 3 # number of data points to collect for each cycle\n",
        "\n",
        "# generate an initial set of experimental conditions\n",
        "conditions = random_pool(metadata.independent_variables[0].allowed_values,\n",
        "                                 n=measurements_per_cycle)\n",
        "# convert iterator into 2-dimensional numpy array\n",
        "conditions = np.array(list(conditions)).reshape(-1, 1)\n",
        "\n",
        "# collect initial set of observations\n",
        "observations = run_experiment(conditions)\n",
        "\n",
        "for cycle in range(num_cycles):\n",
        "\n",
        "  # use BMS theorist to fit the model to the data\n",
        "  theorist_bms.fit(conditions, observations)\n",
        "  theorist_lr.fit(conditions, observations)\n",
        "\n",
        "  # obtain new conditions\n",
        "  new_conditions = model_disagreement_sample(\n",
        "          condition_pool,\n",
        "          models = [theorist_bms, theorist_lr],\n",
        "          num_samples = measurements_per_cycle\n",
        "      )\n",
        "\n",
        "  # obtain new observations\n",
        "  new_observations = run_experiment(new_conditions)\n",
        "\n",
        "  # combine old and new conditions and observations\n",
        "  conditions = np.concatenate((conditions, new_conditions))\n",
        "  observations = np.concatenate((observations, new_observations))\n",
        "\n",
        "  # evaluate model of the theorist based on its ability to predict each observation from the ground truth, evaluated across the entire space of experimental conditions\n",
        "  loss = np.mean(np.square(theorist_bms.predict(condition_pool) - ground_truth(condition_pool)))\n",
        "  print(\"Loss in cycle {}: {}\".format(cycle, loss))\n",
        "  print(\"Discovered BMS Model: \" +  theorist_bms.model_.__repr__())\n"
      ]
    },
    {
      "attachments": {},
      "cell_type": "markdown",
      "metadata": {
        "id": "NZgqanLagOv_"
      },
      "source": [
        "# Next Notebook\n",
        "While the basic loop construct is flexible, there are more convenient ways to specify a research cycle in ``autora``. The next notebook illustrates the use of these constructs.\n",
        "\n",
        "Follow this link for the next notebook tutorial:\n",
        "[AutoRA Basic Tutorial III: Workflow Logic](https://autoresearch.github.io/autora/tutorials/basic/Tutorial-III-Workflow-Logic/) <br>"
      ]
    }
  ],
  "metadata": {
    "colab": {
      "provenance": [],
      "toc_visible": true
    },
    "kernelspec": {
      "display_name": "Python 3",
      "name": "python3"
    },
    "language_info": {
      "name": "python"
    }
  },
  "nbformat": 4,
  "nbformat_minor": 0
}
