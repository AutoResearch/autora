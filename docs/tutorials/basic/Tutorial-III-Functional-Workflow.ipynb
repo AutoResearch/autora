{
 "cells": [
  {
   "attachments": {},
   "cell_type": "markdown",
   "metadata": {},
   "source": [
    "# Introduction\n",
    "## Basic Tutorial III: Functional Workflow"
   ]
  },
  {
   "attachments": {},
   "cell_type": "markdown",
   "metadata": {},
   "source": [
    "**[AutoRA](https://pypi.org/project/autora/)** (**Au**tomated **R**esearch **A**ssistant) is an open-source framework designed to automate various stages of empirical research, including model discovery, experimental design, and data collection.\n",
    "\n",
    "This notebook is the third of four notebooks within the basic tutorials of ``autora``. We suggest that you go through these notebooks in order as each builds upon the last. However, each notebook is self-contained and so there is no need to *run* the content of the last notebook for your current notebook. We will here provide a link to each notebook, but we will also provide a link at the end of each notebook to navigate you to the next notebook.\n",
    "\n",
    "[AutoRA Basic Tutorial I: Components](https://autoresearch.github.io/autora/tutorials/basic/Tutorial-I-Components/) <br>\n",
    "[AutoRA Basic Tutorial II: Loop Constructs](https://autoresearch.github.io/autora/tutorials/basic/Tutorial-II-Loop-Constructs/) <br>\n",
    "[AutoRA Basic Tutorial III: Functional Workflow](https://autoresearch.github.io/autora/tutorials/basic/Tutorial-III-Functional-Workflow/) <br>\n",
    "[AutoRA Basic Tutorial IV: Customization](https://autoresearch.github.io/autora/tutorials/basic/Tutorial-IV-Customization/) <br>\n",
    "\n",
    "These notebooks provide a comprehensive introduction to the capabilities of ``autora``. **It demonstrates the fundamental components of ``autora``, and how they can be combined to facilitate automated (closed-loop) empirical research through synthetic experiments.**\n",
    "\n",
    "**How to use this notebook** *You can progress through the notebook section by section or directly navigate to specific sections. If you choose the latter, it is recommended to execute all cells in the notebook initially, allowing you to easily rerun the cells in each section later without issues.*"
   ]
  },
  {
   "attachments": {},
   "cell_type": "markdown",
   "metadata": {},
   "source": [
    "## Tutorial Setup"
   ]
  },
  {
   "cell_type": "code",
   "execution_count": null,
   "metadata": {},
   "outputs": [
    {
     "name": "stderr",
     "output_type": "stream",
     "text": [
      "\n",
      "[notice] A new release of pip is available: 23.2 -> 23.2.1\n",
      "[notice] To update, run: python.exe -m pip install --upgrade pip\n"
     ]
    },
    {
     "data": {
      "text/plain": [
       "<torch._C.Generator at 0x1f3b98c81f0>"
      ]
     },
     "execution_count": null,
     "metadata": {},
     "output_type": "execute_result"
    }
   ],
   "source": [
    "#### Installation ####\n",
    "!pip install -q \"autora[theorist-bms]\"\n",
    "\n",
    "#### Import modules ####\n",
    "import numpy as np\n",
    "import pandas as pd\n",
    "import torch\n",
    "\n",
    "#### Set seeds ####\n",
    "np.random.seed(42)\n",
    "torch.manual_seed(42)"
   ]
  },
  {
   "cell_type": "markdown",
   "metadata": {},
   "source": [
    "## States\n",
    "\n",
    "Using the functions and objects in `autora.state`, we can build flexible pipelines and cycles which operate on state\n",
    "objects. State objects are containers with specialized functionality that will allow you to build processing pipelines containing experimentatlists, experiment runners, and theorists.\n",
    "\n",
    "In tutorial I, we had experimentalists define new conditions, experiment runners collect new observations, and theorists model the data. To do this, we used the output of one as the input of the other, such as: \n",
    "\n",
    "`conditions = experimentalist(...)` $\\rightarrow$ <br>\n",
    "`observations = experiment_runner(conditions,...)` $\\rightarrow$ <br>\n",
    "`model = theorist(conditions, observations)` <br>\n",
    "\n",
    "This chaining is embedded within the `State` functionality. To use a state, we must independently wrap our experimentalist, experiment_runner, and theorist into the same state, so that they become functions that:\n",
    "- operate on the `State`, and\n",
    "- return a modified object of the **same type** `State`."
   ]
  },
  {
   "cell_type": "markdown",
   "metadata": {},
   "source": [
    "### Defining The State\n",
    "\n",
    "We use the `StandardState` object bundled with `autora`: `StandardState`. Let's begin by initiating the state while only providing *variable information* (`variables`), *seed condition data* (`conditions`), and a *dataframe* (`pd.DataFrame(columns=[\"x\",\"y\"])`) that will hold our conditions (`x`) and observations (`y`)."
   ]
  },
  {
   "cell_type": "code",
   "execution_count": null,
   "metadata": {},
   "outputs": [],
   "source": [
    "from autora.variable import Variable, ValueType, VariableCollection\n",
    "from autora.experimentalist.random_ import random_pool\n",
    "from autora.state.bundled import StandardState\n",
    "\n",
    "#### Define variable data ####\n",
    "iv = Variable(name=\"x\", value_range=(0, 2 * np.pi), allowed_values=np.linspace(0, 2 * np.pi, 10))\n",
    "dv = Variable(name=\"y\", type=ValueType.REAL)\n",
    "variables = VariableCollection(independent_variables=[iv],dependent_variables=[dv])\n",
    "\n",
    "#### Define seed condition data ####\n",
    "conditions = random_pool(variables, num_samples=10)\n",
    "\n",
    "#### Initialize State ####\n",
    "s = StandardState(\n",
    "    variables = variables,\n",
    "    conditions=conditions,\n",
    "    experiment_data = pd.DataFrame(columns=[\"x\",\"y\"])\n",
    ")"
   ]
  },
  {
   "cell_type": "markdown",
   "metadata": {},
   "source": [
    "## Viewing the State\n",
    "\n",
    "Now, let's view the contents of the state we just initialized."
   ]
  },
  {
   "cell_type": "code",
   "execution_count": null,
   "metadata": {},
   "outputs": [
    {
     "name": "stdout",
     "output_type": "stream",
     "text": [
      "StandardState(variables=VariableCollection(independent_variables=[Variable(name='x', value_range=(0, 6.283185307179586), allowed_values=array([0.        , 0.6981317 , 1.3962634 , 2.0943951 , 2.7925268 ,\n",
      "       3.4906585 , 4.1887902 , 4.88692191, 5.58505361, 6.28318531]), units='', type=<ValueType.REAL: 'real'>, variable_label='', rescale=1, is_covariate=False)], dependent_variables=[Variable(name='y', value_range=None, allowed_values=None, units='', type=<ValueType.REAL: 'real'>, variable_label='', rescale=1, is_covariate=False)], covariates=[]), conditions=          x\n",
      "0  0.000000\n",
      "1  0.000000\n",
      "2  4.188790\n",
      "3  2.792527\n",
      "4  2.094395\n",
      "5  6.283185\n",
      "6  5.585054\n",
      "7  2.094395\n",
      "8  4.188790\n",
      "9  0.000000, experiment_data=Empty DataFrame\n",
      "Columns: [x, y]\n",
      "Index: [], models=[])\n"
     ]
    }
   ],
   "source": [
    "print(s)"
   ]
  },
  {
   "cell_type": "markdown",
   "metadata": {},
   "source": [
    "Within the state, we can view all of the content we provided it more directly if we choose."
   ]
  },
  {
   "cell_type": "code",
   "execution_count": null,
   "metadata": {},
   "outputs": [
    {
     "name": "stdout",
     "output_type": "stream",
     "text": [
      "\u001b[1mThe variables we provided:\u001b[0m\n",
      "VariableCollection(independent_variables=[Variable(name='x', value_range=(0, 6.283185307179586), allowed_values=array([0.        , 0.6981317 , 1.3962634 , 2.0943951 , 2.7925268 ,\n",
      "       3.4906585 , 4.1887902 , 4.88692191, 5.58505361, 6.28318531]), units='', type=<ValueType.REAL: 'real'>, variable_label='', rescale=1, is_covariate=False)], dependent_variables=[Variable(name='y', value_range=None, allowed_values=None, units='', type=<ValueType.REAL: 'real'>, variable_label='', rescale=1, is_covariate=False)], covariates=[])\n",
      "\u001b[1mThe conditions we provided:\u001b[0m\n",
      "          x\n",
      "0  0.000000\n",
      "1  0.000000\n",
      "2  4.188790\n",
      "3  2.792527\n",
      "4  2.094395\n",
      "5  6.283185\n",
      "6  5.585054\n",
      "7  2.094395\n",
      "8  4.188790\n",
      "9  0.000000\n",
      "\n",
      "\u001b[1mThe dataframe we provided:\u001b[0m\n",
      "Empty DataFrame\n",
      "Columns: [x, y]\n",
      "Index: []\n"
     ]
    }
   ],
   "source": [
    "print(\"\\033[1mThe variables we provided:\\033[0m\")\n",
    "print(s.variables)\n",
    "\n",
    "print(\"\\033[1mThe conditions we provided:\\033[0m\")\n",
    "print(s.conditions)\n",
    "\n",
    "print(\"\\n\\033[1mThe dataframe we provided:\\033[0m\")\n",
    "print(s.experiment_data)"
   ]
  },
  {
   "cell_type": "markdown",
   "metadata": {},
   "source": [
    "## AutoRA Components and the State\n",
    "\n",
    "Now that we have initialized the state, we need to start adding components of `AutoRA` to the state - namely, experiment runners, experimentalists, and theorists. \n",
    "\n",
    "These components are defined in the same way as past tutorials. All we need to do so that these can function within the state is to wrap them in specialized state functions. The wrappers are:\n",
    "- `on_state()` for experiment runners and experimentalists\n",
    "- `state_fn_from_estimator()` for theorists\n",
    "\n",
    "The first input for each wrapper should be your corresponding function (i.e., the experiment runner, experimentalist, and the theorist). The `on_state` wrapper takes a second input, `output`, to determine where in the state the component is acting on. For the experimentalist this will be `output=[\"conditions\"]`, and for the experiment runner this will be `output=[\"experiment_data\"]`.\n",
    "\n",
    "Once the components are wrapped, their functionality changes to act on the state, meaning that they now expect a state as the first input and will return a modified version of that state."
   ]
  },
  {
   "cell_type": "markdown",
   "metadata": {},
   "source": [
    "## Wrapping Components to Work with State"
   ]
  },
  {
   "cell_type": "markdown",
   "metadata": {},
   "source": [
    "### Experimentalist Defined and Wrapped with State\n",
    "\n",
    "We will use autora's `random_sample` sampler for our experimentalist. We import this and then wrap it so that it functions with the state."
   ]
  },
  {
   "cell_type": "code",
   "execution_count": null,
   "metadata": {},
   "outputs": [],
   "source": [
    "from autora.experimentalist.random_ import random_sample\n",
    "from autora.state.delta import on_state\n",
    "\n",
    "experimentalist = on_state(random_sample, output=[\"conditions\"])"
   ]
  },
  {
   "cell_type": "markdown",
   "metadata": {},
   "source": [
    "### Experiment Runner Defined and Wrapped with State\n",
    "We define the same experiment runner from the first two tutorials and then wrap it so that it functions with the state."
   ]
  },
  {
   "cell_type": "code",
   "execution_count": null,
   "metadata": {},
   "outputs": [],
   "source": [
    "def experiment_runner(conditions: pd.DataFrame):\n",
    "    x = conditions[\"x\"]\n",
    "    y = np.sin(x) + np.random.normal(0, 0.5, size=x.shape)\n",
    "    observations = conditions.assign(y = y)\n",
    "    print(observations)\n",
    "    return observations\n",
    "\n",
    "experiment_runner = on_state(experiment_runner, output=[\"experiment_data\"])"
   ]
  },
  {
   "cell_type": "markdown",
   "metadata": {},
   "source": [
    "### Theorist Defined and Wrapped with State\n",
    "\n",
    "We will use autora's BMSRegressor theorist. We import this and then wrap it so that if functions with the state."
   ]
  },
  {
   "cell_type": "code",
   "execution_count": null,
   "metadata": {},
   "outputs": [],
   "source": [
    "from autora.theorist.bms import BMSRegressor\n",
    "from autora.state.wrapper import state_fn_from_estimator\n",
    "\n",
    "theorist = state_fn_from_estimator(BMSRegressor(epochs=100))"
   ]
  },
  {
   "cell_type": "markdown",
   "metadata": {},
   "source": [
    "## Running Each Component Within the State"
   ]
  },
  {
   "cell_type": "markdown",
   "metadata": {},
   "source": [
    "### Run the Experimentalist\n",
    "\n",
    "Let's run the experimentalist within the state and see how the state changes."
   ]
  },
  {
   "cell_type": "code",
   "execution_count": null,
   "metadata": {},
   "outputs": [
    {
     "name": "stdout",
     "output_type": "stream",
     "text": [
      "\u001b[1mPrevious Conditions:\u001b[0m\n",
      "          x\n",
      "0  0.000000\n",
      "1  0.000000\n",
      "2  4.188790\n",
      "3  2.792527\n",
      "4  2.094395\n",
      "5  6.283185\n",
      "6  5.585054\n",
      "7  2.094395\n",
      "8  4.188790\n",
      "9  0.000000\n",
      "\n",
      "\u001b[1mUpdated Conditions:\u001b[0m\n",
      "          x\n",
      "8  4.188790\n",
      "1  0.000000\n",
      "5  6.283185\n",
      "0  0.000000\n",
      "7  2.094395\n"
     ]
    }
   ],
   "source": [
    "print('\\033[1mPrevious Conditions:\\033[0m')\n",
    "print(s.conditions)\n",
    "\n",
    "s = experimentalist(s, num_samples=5)\n",
    "\n",
    "print('\\n\\033[1mUpdated Conditions:\\033[0m')\n",
    "print(s.conditions)"
   ]
  },
  {
   "cell_type": "markdown",
   "metadata": {},
   "source": [
    "### Run the Experiment Runner\n",
    "\n",
    "Let's run the experiment runner and see how the state changes."
   ]
  },
  {
   "cell_type": "code",
   "execution_count": null,
   "metadata": {},
   "outputs": [
    {
     "name": "stdout",
     "output_type": "stream",
     "text": [
      "\u001b[1mPrevious Data:\u001b[0m\n",
      "Empty DataFrame\n",
      "Columns: [x, y]\n",
      "Index: []\n",
      "          x         y\n",
      "8  4.188790 -0.726505\n",
      "1  0.000000  0.505258\n",
      "5  6.283185 -0.290439\n",
      "0  0.000000 -0.262585\n",
      "7  2.094395  0.580335\n",
      "\n",
      "\u001b[1mUpdated Data:\u001b[0m\n",
      "          x         y\n",
      "0  4.188790 -0.726505\n",
      "1  0.000000  0.505258\n",
      "2  6.283185 -0.290439\n",
      "3  0.000000 -0.262585\n",
      "4  2.094395  0.580335\n"
     ]
    }
   ],
   "source": [
    "print(\"\\033[1mPrevious Data:\\033[0m\")\n",
    "print(s.experiment_data)\n",
    "\n",
    "s = experiment_runner(s) #TODO: Why does it print the experiment data automatically?\n",
    "\n",
    "print(\"\\n\\033[1mUpdated Data:\\033[0m\")\n",
    "print(s.experiment_data)"
   ]
  },
  {
   "cell_type": "markdown",
   "metadata": {},
   "source": [
    "### Run the Theorist\n",
    "\n",
    "Let's run the theorist and see how the state changes."
   ]
  },
  {
   "cell_type": "code",
   "execution_count": null,
   "metadata": {},
   "outputs": [
    {
     "name": "stderr",
     "output_type": "stream",
     "text": [
      "INFO:autora.theorist.bms.regressor:BMS fitting started\n"
     ]
    },
    {
     "name": "stdout",
     "output_type": "stream",
     "text": [
      "\u001b[1mPrevious Model:\u001b[0m\n",
      "None\n",
      "\n"
     ]
    },
    {
     "name": "stderr",
     "output_type": "stream",
     "text": [
      "100%|██████████| 100/100 [00:03<00:00, 26.73it/s]\n",
      "INFO:autora.theorist.bms.regressor:BMS fitting finished\n"
     ]
    },
    {
     "name": "stdout",
     "output_type": "stream",
     "text": [
      "\n",
      "\u001b[1mUpdated Model:\u001b[0m\n",
      "-0.04\n"
     ]
    }
   ],
   "source": [
    "print(\"\\033[1mPrevious Model:\\033[0m\")\n",
    "print(f\"{s.model}\\n\")\n",
    "\n",
    "s = theorist(s)\n",
    "\n",
    "print(\"\\n\\033[1mUpdated Model:\\033[0m\")\n",
    "print(s.model)"
   ]
  },
  {
   "cell_type": "markdown",
   "metadata": {},
   "source": [
    "## Component Chaining and Looping\n",
    "\n",
    "As such, we have our `AutoRA` components wrapped to work with the state. Remember, this means that they take the state as an input and returns the updated state as an output."
   ]
  },
  {
   "cell_type": "markdown",
   "metadata": {},
   "source": [
    "### Component Chaining\n",
    "\n",
    "As the components all act on the state, they can be chained in a nested fashion."
   ]
  },
  {
   "cell_type": "code",
   "execution_count": null,
   "metadata": {},
   "outputs": [
    {
     "name": "stderr",
     "output_type": "stream",
     "text": [
      "INFO:autora.theorist.bms.regressor:BMS fitting started\n"
     ]
    },
    {
     "name": "stdout",
     "output_type": "stream",
     "text": [
      "          x         y\n",
      "1  0.000000 -0.462041\n",
      "5  6.283185 -1.219553\n",
      "8  4.188790 -0.564305\n",
      "0  0.000000 -0.125522\n",
      "7  2.094395  0.784092\n"
     ]
    },
    {
     "name": "stderr",
     "output_type": "stream",
     "text": [
      "100%|██████████| 100/100 [00:03<00:00, 26.29it/s]\n",
      "INFO:autora.theorist.bms.regressor:BMS fitting finished\n"
     ]
    },
    {
     "name": "stdout",
     "output_type": "stream",
     "text": [
      "StandardState(variables=VariableCollection(independent_variables=[Variable(name='x', value_range=(0, 6.283185307179586), allowed_values=array([0.        , 0.6981317 , 1.3962634 , 2.0943951 , 2.7925268 ,\n",
      "       3.4906585 , 4.1887902 , 4.88692191, 5.58505361, 6.28318531]), units='', type=<ValueType.REAL: 'real'>, variable_label='', rescale=1, is_covariate=False)], dependent_variables=[Variable(name='y', value_range=None, allowed_values=None, units='', type=<ValueType.REAL: 'real'>, variable_label='', rescale=1, is_covariate=False)], covariates=[]), conditions=          x\n",
      "1  0.000000\n",
      "5  6.283185\n",
      "8  4.188790\n",
      "0  0.000000\n",
      "7  2.094395, experiment_data=          x         y\n",
      "0  4.188790 -0.726505\n",
      "1  0.000000  0.505258\n",
      "2  6.283185 -0.290439\n",
      "3  0.000000 -0.262585\n",
      "4  2.094395  0.580335\n",
      "5  0.000000 -0.462041\n",
      "6  6.283185 -1.219553\n",
      "7  4.188790 -0.564305\n",
      "8  0.000000 -0.125522\n",
      "9  2.094395  0.784092, models=[-0.18, -0.18])\n"
     ]
    }
   ],
   "source": [
    "s = theorist(experiment_runner(experimentalist(s, num_samples=5)))\n",
    "print(s)"
   ]
  },
  {
   "cell_type": "markdown",
   "metadata": {},
   "source": [
    "## Chain Looping with Number of Cycles\n",
    "\n",
    "Moreover, we can use these chained components within a loop to run multiple cycles."
   ]
  },
  {
   "cell_type": "code",
   "execution_count": null,
   "metadata": {},
   "outputs": [
    {
     "name": "stderr",
     "output_type": "stream",
     "text": [
      "INFO:autora.theorist.bms.regressor:BMS fitting started\n"
     ]
    },
    {
     "name": "stdout",
     "output_type": "stream",
     "text": [
      "\n",
      "\u001b[1mRunning Cycle 1:\u001b[0m\n",
      "          x         y\n",
      "1  0.000000 -0.146700\n",
      "8  4.188790 -0.880945\n",
      "7  2.094395  0.913588\n",
      "5  6.283185  0.332327\n",
      "4  2.094395  0.795916\n"
     ]
    },
    {
     "name": "stderr",
     "output_type": "stream",
     "text": [
      "100%|██████████| 100/100 [00:03<00:00, 25.24it/s]\n",
      "INFO:autora.theorist.bms.regressor:BMS fitting finished\n",
      "INFO:autora.theorist.bms.regressor:BMS fitting started\n"
     ]
    },
    {
     "name": "stdout",
     "output_type": "stream",
     "text": [
      "\u001b[1mCycle 1 model: sin(x)\u001b[0m\n",
      "\n",
      "\u001b[1mRunning Cycle 2:\u001b[0m\n",
      "          x         y\n",
      "1  0.000000 -0.016597\n",
      "4  2.094395  0.859277\n",
      "7  2.094395  0.337170\n",
      "5  6.283185  0.411272\n",
      "8  4.188790 -1.476447\n"
     ]
    },
    {
     "name": "stderr",
     "output_type": "stream",
     "text": [
      "100%|██████████| 100/100 [00:03<00:00, 25.75it/s]\n",
      "INFO:autora.theorist.bms.regressor:BMS fitting finished\n",
      "INFO:autora.theorist.bms.regressor:BMS fitting started\n"
     ]
    },
    {
     "name": "stdout",
     "output_type": "stream",
     "text": [
      "\u001b[1mCycle 2 model: 0.11\u001b[0m\n",
      "\n",
      "\u001b[1mRunning Cycle 3:\u001b[0m\n",
      "          x         y\n",
      "1  0.000000 -0.664093\n",
      "7  2.094395  0.964456\n",
      "5  6.283185  0.369233\n",
      "8  4.188790 -0.780341\n",
      "4  2.094395  0.808201\n"
     ]
    },
    {
     "name": "stderr",
     "output_type": "stream",
     "text": [
      "100%|██████████| 100/100 [00:03<00:00, 25.62it/s]\n",
      "INFO:autora.theorist.bms.regressor:BMS fitting finished\n",
      "INFO:autora.theorist.bms.regressor:BMS fitting started\n"
     ]
    },
    {
     "name": "stdout",
     "output_type": "stream",
     "text": [
      "\u001b[1mCycle 3 model: sin(x)\u001b[0m\n",
      "\n",
      "\u001b[1mRunning Cycle 4:\u001b[0m\n",
      "          x         y\n",
      "8  4.188790 -1.016577\n",
      "1  0.000000  0.230408\n",
      "5  6.283185  0.042962\n",
      "7  2.094395  0.111047\n",
      "4  2.094395  1.226777\n"
     ]
    },
    {
     "name": "stderr",
     "output_type": "stream",
     "text": [
      "100%|██████████| 100/100 [00:03<00:00, 25.24it/s]\n",
      "INFO:autora.theorist.bms.regressor:BMS fitting finished\n",
      "INFO:autora.theorist.bms.regressor:BMS fitting started\n"
     ]
    },
    {
     "name": "stdout",
     "output_type": "stream",
     "text": [
      "\u001b[1mCycle 4 model: sin(x)\u001b[0m\n",
      "\n",
      "\u001b[1mRunning Cycle 5:\u001b[0m\n",
      "          x         y\n",
      "1  0.000000 -0.021768\n",
      "7  2.094395  0.728375\n",
      "8  4.188790 -1.647559\n",
      "5  6.283185 -0.397815\n",
      "4  2.094395  1.331318\n"
     ]
    },
    {
     "name": "stderr",
     "output_type": "stream",
     "text": [
      "100%|██████████| 100/100 [00:03<00:00, 25.29it/s]\n",
      "INFO:autora.theorist.bms.regressor:BMS fitting finished\n"
     ]
    },
    {
     "name": "stdout",
     "output_type": "stream",
     "text": [
      "\u001b[1mCycle 5 model: sin(x)\u001b[0m\n"
     ]
    }
   ],
   "source": [
    "#### First, let's reinitialize the state object to get a clean state ####\n",
    "s = StandardState(\n",
    "    variables = variables,\n",
    "    conditions = conditions,\n",
    "    experiment_data = pd.DataFrame(columns=[\"x\",\"y\"])\n",
    ")\n",
    "\n",
    "### Then we cycle through the pipeline we built five times ###\n",
    "num_cycles = 5 # number of empirical research cycles\n",
    "for cycle in range(num_cycles):\n",
    "    print(f\"\\n\\033[1mRunning Cycle {cycle+1}:\\033[0m\")\n",
    "    s = theorist(experiment_runner(experimentalist(s, num_samples=5)))\n",
    "    print(f\"\\033[1mCycle {cycle+1} model: {s.model}\\033[0m\")"
   ]
  },
  {
   "cell_type": "markdown",
   "metadata": {},
   "source": [
    "If everything went well in terms of our theorist, we should have recovered our ground truth model `sin(x)`:"
   ]
  },
  {
   "cell_type": "code",
   "execution_count": null,
   "metadata": {},
   "outputs": [
    {
     "name": "stdout",
     "output_type": "stream",
     "text": [
      "sin(x)\n"
     ]
    }
   ],
   "source": [
    "print(s.model)"
   ]
  },
  {
   "cell_type": "markdown",
   "metadata": {},
   "source": [
    "## Chain Looping with Stopping Criterion\n",
    "\n",
    "Alternatively, we can run the chain until we reach a stopping criterion. For example, here we will loop until we get 30 datapoints."
   ]
  },
  {
   "cell_type": "code",
   "execution_count": null,
   "metadata": {},
   "outputs": [
    {
     "name": "stderr",
     "output_type": "stream",
     "text": [
      "INFO:autora.theorist.bms.regressor:BMS fitting started\n"
     ]
    },
    {
     "name": "stdout",
     "output_type": "stream",
     "text": [
      "\n",
      "\u001b[1mRunning Cycle 1, number of datapoints: 0\u001b[0m\n",
      "          x         y\n",
      "2  4.188790 -0.527142\n",
      "9  0.000000 -0.088866\n",
      "7  2.094395  0.660834\n",
      "5  6.283185  0.589858\n",
      "8  4.188790 -1.315129\n"
     ]
    },
    {
     "name": "stderr",
     "output_type": "stream",
     "text": [
      "100%|██████████| 100/100 [00:03<00:00, 27.83it/s]\n",
      "INFO:autora.theorist.bms.regressor:BMS fitting finished\n",
      "INFO:autora.theorist.bms.regressor:BMS fitting started\n"
     ]
    },
    {
     "name": "stdout",
     "output_type": "stream",
     "text": [
      "\u001b[1mCycle 1 model: -0.14\u001b[0m\n",
      "\n",
      "\u001b[1mRunning Cycle 2, number of datapoints: 5\u001b[0m\n",
      "          x         y\n",
      "9  0.000000  0.180818\n",
      "5  6.283185 -0.322560\n",
      "2  4.188790 -0.685328\n",
      "8  4.188790 -0.097007\n",
      "7  2.094395  0.848112\n"
     ]
    },
    {
     "name": "stderr",
     "output_type": "stream",
     "text": [
      "100%|██████████| 100/100 [00:04<00:00, 24.68it/s]\n",
      "INFO:autora.theorist.bms.regressor:BMS fitting finished\n",
      "INFO:autora.theorist.bms.regressor:BMS fitting started\n"
     ]
    },
    {
     "name": "stdout",
     "output_type": "stream",
     "text": [
      "\u001b[1mCycle 2 model: sin(x)\u001b[0m\n",
      "\n",
      "\u001b[1mRunning Cycle 3, number of datapoints: 10\u001b[0m\n",
      "          x         y\n",
      "7  2.094395  1.648347\n",
      "5  6.283185  0.043524\n",
      "8  4.188790 -1.015529\n",
      "2  4.188790 -0.820145\n",
      "9  0.000000 -0.993784\n"
     ]
    },
    {
     "name": "stderr",
     "output_type": "stream",
     "text": [
      "100%|██████████| 100/100 [00:03<00:00, 27.33it/s]\n",
      "INFO:autora.theorist.bms.regressor:BMS fitting finished\n",
      "INFO:autora.theorist.bms.regressor:BMS fitting started\n"
     ]
    },
    {
     "name": "stdout",
     "output_type": "stream",
     "text": [
      "\u001b[1mCycle 3 model: -0.13\u001b[0m\n",
      "\n",
      "\u001b[1mRunning Cycle 4, number of datapoints: 15\u001b[0m\n",
      "          x         y\n",
      "5  6.283185 -0.709298\n",
      "7  2.094395  0.961194\n",
      "2  4.188790 -0.798148\n",
      "8  4.188790 -0.561981\n",
      "9  0.000000  0.352491\n"
     ]
    },
    {
     "name": "stderr",
     "output_type": "stream",
     "text": [
      "100%|██████████| 100/100 [00:03<00:00, 25.85it/s]\n",
      "INFO:autora.theorist.bms.regressor:BMS fitting finished\n",
      "INFO:autora.theorist.bms.regressor:BMS fitting started\n"
     ]
    },
    {
     "name": "stdout",
     "output_type": "stream",
     "text": [
      "\u001b[1mCycle 4 model: -0.13\u001b[0m\n",
      "\n",
      "\u001b[1mRunning Cycle 5, number of datapoints: 20\u001b[0m\n",
      "          x         y\n",
      "2  4.188790 -0.685564\n",
      "8  4.188790 -0.918654\n",
      "9  0.000000 -0.477673\n",
      "5  6.283185 -0.207382\n",
      "7  2.094395  0.166655\n"
     ]
    },
    {
     "name": "stderr",
     "output_type": "stream",
     "text": [
      "100%|██████████| 100/100 [00:03<00:00, 26.22it/s]\n",
      "INFO:autora.theorist.bms.regressor:BMS fitting finished\n",
      "INFO:autora.theorist.bms.regressor:BMS fitting started\n"
     ]
    },
    {
     "name": "stdout",
     "output_type": "stream",
     "text": [
      "\u001b[1mCycle 5 model: sin(x)\u001b[0m\n",
      "\n",
      "\u001b[1mRunning Cycle 6, number of datapoints: 25\u001b[0m\n",
      "          x         y\n",
      "7  2.094395  0.711381\n",
      "2  4.188790 -0.529463\n",
      "8  4.188790 -0.994340\n",
      "5  6.283185 -0.183913\n",
      "9  0.000000  0.636867\n"
     ]
    },
    {
     "name": "stderr",
     "output_type": "stream",
     "text": [
      "100%|██████████| 100/100 [00:04<00:00, 24.70it/s]\n",
      "INFO:autora.theorist.bms.regressor:BMS fitting finished\n"
     ]
    },
    {
     "name": "stdout",
     "output_type": "stream",
     "text": [
      "\u001b[1mCycle 6 model: sin(x)\u001b[0m\n",
      "\n",
      "\u001b[1mNumber of datapoints: 30\u001b[0m\n",
      "Determined Model: sin(x)\n"
     ]
    }
   ],
   "source": [
    "#### First, let's reinitialize the state object to get a clean state ####\n",
    "s = StandardState(\n",
    "    variables = variables,\n",
    "    conditions = conditions,\n",
    "    experiment_data = pd.DataFrame(columns=[\"x\",\"y\"])\n",
    ")\n",
    "\n",
    "### Then we cycle through the pipeline we built until we reach our stopping criteria ###\n",
    "cycle = 0\n",
    "while len(s.experiment_data) < 30:\n",
    "    print(f\"\\n\\033[1mRunning Cycle {cycle+1}, number of datapoints: {len(s.experiment_data)}\\033[0m\")\n",
    "    s = theorist(experiment_runner(experimentalist(s, num_samples=5)))\n",
    "    print(f\"\\033[1mCycle {cycle+1} model: {s.model}\\033[0m\")\n",
    "    cycle += 1\n",
    "\n",
    "print(f\"\\n\\033[1mNumber of datapoints: {len(s.experiment_data)}\\033[0m\")\n",
    "print(f\"\\033[1mDetermined Model: {s.model}\\033[0m\")\n"
   ]
  },
  {
   "attachments": {},
   "cell_type": "markdown",
   "metadata": {},
   "source": [
    "# Next Notebook\n",
    "This concludes the tutorial on ``autora`` functionality. However, ``autora`` is a flexible framework in which users can integrate their own theorists, experimentalists, and experiment_runners in an automated empirical research workflow. The next notebook illustrates how to add your own custom theorists and experimentalists to use with ``autora``.\n",
    "\n",
    "Follow this link for the next notebook tutorial:\n",
    "[AutoRA Basic Tutorial IV: Customization](https://autoresearch.github.io/autora/tutorials/basic/Tutorial-IV-Customization/) <br>"
   ]
  }
 ],
 "metadata": {
  "colab": {
   "provenance": [],
   "toc_visible": true
  },
  "kernelspec": {
   "display_name": "autoraKernel",
   "language": "python",
   "name": "autorakernel"
  },
  "language_info": {
   "codemirror_mode": {
    "name": "ipython",
    "version": 3
   },
   "file_extension": ".py",
   "mimetype": "text/x-python",
   "name": "python",
   "nbconvert_exporter": "python",
   "pygments_lexer": "ipython3"
  }
 },
 "nbformat": 4,
 "nbformat_minor": 0
}
