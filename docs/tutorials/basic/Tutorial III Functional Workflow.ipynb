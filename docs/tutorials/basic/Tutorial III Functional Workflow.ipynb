{
 "cells": [
  {
   "attachments": {},
   "cell_type": "markdown",
   "metadata": {},
   "source": [
    "# Basic Tutorial III: Functional Workflow\n",
    "## Introduction"
   ]
  },
  {
   "attachments": {},
   "cell_type": "markdown",
   "metadata": {},
   "source": [
    "**[AutoRA](https://pypi.org/project/autora/)** (**Au**tomated **R**esearch **A**ssistant) is an open-source framework designed to automate various stages of empirical research, including model discovery, experimental design, and data collection.\n",
    "\n",
    "This notebook is the third of four notebooks within the basic tutorials of ``autora``. We suggest that you go through these notebooks in order as each builds upon the last. However, each notebook is self-contained and so there is no need to *run* the content of the last notebook for your current notebook.\n",
    "\n",
    "These notebooks provide a comprehensive introduction to the capabilities of ``autora``. **It demonstrates the fundamental components of ``autora``, and how they can be combined to facilitate automated (closed-loop) empirical research through synthetic experiments.**\n",
    "\n",
    "**How to use this notebook** *You can progress through the notebook section by section or directly navigate to specific sections. If you choose the latter, it is recommended to execute all cells in the notebook initially, allowing you to easily rerun the cells in each section later without issues.*"
   ]
  },
  {
   "attachments": {},
   "cell_type": "markdown",
   "metadata": {},
   "source": [
    "### Tutorial Setup\n",
    "\n",
    "We will here import some standard python packages, set seeds for replicability, and define a plotting function."
   ]
  },
  {
   "cell_type": "code",
   "execution_count": null,
   "metadata": {},
   "outputs": [],
   "source": [
    "#### Installation ####\n",
    "!pip install -q \"autora[theorist-bms]\"\n",
    "!pip install -q \"autora[experiment-runner-synthetic-abstract-equation]\"\n",
    "\n",
    "#### Import modules ####\n",
    "from typing import Optional\n",
    "import numpy as np\n",
    "import pandas as pd\n",
    "import sympy as sp\n",
    "import torch\n",
    "import matplotlib.pyplot as plt\n",
    "\n",
    "from autora.state import StandardState\n",
    "\n",
    "#### Set seeds ####\n",
    "np.random.seed(42)\n",
    "torch.manual_seed(42)\n",
    "\n",
    "#### Define plot function ####\n",
    "def plot_from_state(s: StandardState, expr: str):    \n",
    "    \n",
    "    \"\"\"\n",
    "    Plots the data, the ground truth model, and the current predicted model\n",
    "    \"\"\"\n",
    "    \n",
    "    #Determine labels and variables\n",
    "    model_label = f\"Model: {s.models[-1]}\" if hasattr(s.models[-1],'repr') else \"Model\"\n",
    "    experiment_data = s.experiment_data.sort_values(by=[\"x\"])\n",
    "    ground_x = np.linspace(s.variables.independent_variables[0].value_range[0],s.variables.independent_variables[0].value_range[1],100)\n",
    "    \n",
    "    #Determine predicted ground truth\n",
    "    equation = sp.simplify(expr)\n",
    "    ground_predicted_y = [equation.evalf(subs={'x':x}) for x in ground_x]\n",
    "    model_predicted_y = s.models[-1].predict(ground_x.reshape(-1, 1))\n",
    "\n",
    "    #Plot the data and models\n",
    "    f = plt.figure(figsize=(4,3))\n",
    "    plt.plot(experiment_data[\"x\"], experiment_data[\"y\"], 'o', label = None)\n",
    "    plt.plot(ground_x, model_predicted_y, alpha=.8, label=model_label)\n",
    "    plt.plot(ground_x, ground_predicted_y, alpha=.8,  label=f'Ground Truth: {expr}')\n",
    "    plt.xlabel('x')\n",
    "    plt.ylabel('y')\n",
    "    plt.legend()\n",
    "    plt.show()"
   ]
  },
  {
   "cell_type": "markdown",
   "metadata": {},
   "source": [
    "## States\n",
    "\n",
    "Using the functions and objects in `autora.state`, we can build flexible pipelines and cycles which operate on state\n",
    "objects. State objects represent data from an experiment, like the conditions, observed experiment data and models. The State also includes rules on how to update those data if new data are provided using the \"Delta mechanism\". This state can be acted upon by experimentalists, experiment runners, and theorists. \n",
    "\n",
    "In tutorial I, we had experimentalists define new conditions, experiment runners collect new observations, and theorists model the data. To do this, we used the output of one as the input of the other, such as: \n",
    "\n",
    "`conditions = experimentalist(...)` $\\rightarrow$ <br>\n",
    "`observations = experiment_runner(conditions,...)` $\\rightarrow$ <br>\n",
    "`model = theorist(conditions, observations)` <br>\n",
    "\n",
    "This chaining is embedded within the `State` functionality. To act on a state, we must wrap each of our experimentalist(s), experiment_runner(s), and theorist(s) so that they:\n",
    "- operate on the `State`, and\n",
    "- return a modified object of the **same type** `State`."
   ]
  },
  {
   "cell_type": "markdown",
   "metadata": {},
   "source": [
    "### Defining The State\n",
    "\n",
    "We use the `StandardState` object. Let's begin by populating the state with *variable information* (`variables`), *seed condition data* (`conditions`), and a *dataframe* (`pd.DataFrame(columns=[\"x\",\"y\"])`) that will hold our conditions (`x`) and observations (`y`).\n",
    "\n",
    "*Note: Some `autora` components have a `random_state` parameter that sets the seed for random number generators. Using this parameter ensures reproducibility of your code, but is optional.*"
   ]
  },
  {
   "cell_type": "code",
   "execution_count": null,
   "metadata": {},
   "outputs": [],
   "source": [
    "from autora.variable import Variable, ValueType, VariableCollection\n",
    "from autora.experimentalist.random import random_pool\n",
    "from autora.state import StandardState\n",
    "\n",
    "#### Define variable data ####\n",
    "iv = Variable(name=\"x\", value_range=(0, 2 * np.pi), allowed_values=np.linspace(0, 2 * np.pi, 30))\n",
    "dv = Variable(name=\"y\", type=ValueType.REAL)\n",
    "variables = VariableCollection(independent_variables=[iv],dependent_variables=[dv])\n",
    "\n",
    "#### Define seed condition data ####\n",
    "conditions = random_pool(variables, num_samples=10, random_state=0)\n",
    "\n",
    "#### Initialize State ####\n",
    "s = StandardState(\n",
    "    variables = variables,\n",
    "    conditions = conditions,\n",
    "    experiment_data = pd.DataFrame(columns=[\"x\",\"y\"])\n",
    ")"
   ]
  },
  {
   "cell_type": "markdown",
   "metadata": {},
   "source": [
    "### Viewing the State\n",
    "\n",
    "Now, let's view the contents of the state we just initialized."
   ]
  },
  {
   "cell_type": "code",
   "execution_count": null,
   "metadata": {},
   "outputs": [],
   "source": [
    "print(s)"
   ]
  },
  {
   "cell_type": "markdown",
   "metadata": {},
   "source": [
    "We can view all of the content we provided the state more directly if we choose."
   ]
  },
  {
   "cell_type": "code",
   "execution_count": null,
   "metadata": {},
   "outputs": [],
   "source": [
    "print(\"\\033[1mThe variables we provided:\\033[0m\")\n",
    "print(s.variables)\n",
    "\n",
    "print(\"\\n\\033[1mThe conditions we provided:\\033[0m\")\n",
    "print(s.conditions)\n",
    "\n",
    "print(\"\\n\\033[1mThe dataframe we provided:\\033[0m\")\n",
    "print(s.experiment_data)"
   ]
  },
  {
   "cell_type": "markdown",
   "metadata": {},
   "source": [
    "### AutoRA Components and the State\n",
    "\n",
    "Now that we have initialized the state, we need to start preparing components of `autora` to work with the state - namely, experimentalists, experiment runners, and theorists. \n",
    "\n",
    "These components are defined in the same way as past tutorials. All we need to do so that these can function within the state is to wrap them in specialized state functions. Note that as the theorists are using the `scikit-learn` interface, this will need to be wrapped differently than the experiment runners and experimentalists. The wrappers are:\n",
    "- `on_state()` for experiment runners and experimentalists\n",
    "- `estimator_on_state()` for theorists (specifically, scikit-learn estimators)\n",
    "\n",
    "The first argument for each wrapper should be your corresponding function (i.e., the experiment runner, the experimentalist, and the theorist). The `on_state` wrapper takes a second argument, `output`, to determine where in the state the component is acting on. For the experimentalist this will be `output=[\"conditions\"]`, and for the experiment runner this will be `output=[\"experiment_data\"]`.\n",
    "\n",
    "Once the components are wrapped, their functionality changes to act on the state, meaning that they now expect a state as the first input and will return a modified version of that state."
   ]
  },
  {
   "cell_type": "markdown",
   "metadata": {},
   "source": [
    "## Wrapping Components to Work with State"
   ]
  },
  {
   "cell_type": "markdown",
   "metadata": {},
   "source": [
    "### Experimentalist Defined and Wrapped with State\n",
    "\n",
    "We will use autora's `random_pool` pooler for our experimentalist. We import this and then wrap it so that it functions with the state."
   ]
  },
  {
   "cell_type": "code",
   "execution_count": null,
   "metadata": {},
   "outputs": [],
   "source": [
    "from autora.experimentalist.random import random_pool\n",
    "from autora.state import on_state\n",
    "\n",
    "experimentalist = on_state(random_pool, output=[\"conditions\"])"
   ]
  },
  {
   "cell_type": "markdown",
   "metadata": {},
   "source": [
    "### Experiment Runner Defined and Wrapped with State\n",
    "We define a sine experiment runner and then wrap it so that it functions with the state.\n",
    "\n",
    "To create our experiment runner, we will use an `AutoRA` function called `equation_experiment()`. This function takes in an equation wrapped as a `sympy` object using `sp.simplify()` and then allows us to solve for any input (`x`) given. Further, we constrain the values that this function can output by passing it the `variable` information."
   ]
  },
  {
   "cell_type": "code",
   "execution_count": null,
   "metadata": {},
   "outputs": [],
   "source": [
    "import sympy as sp\n",
    "from autora.experiment_runner.synthetic.abstract.equation import equation_experiment\n",
    "from autora.state import on_state\n",
    "\n",
    "#### Define variable data ####\n",
    "iv = Variable(name=\"x\", value_range=(0, 2 * np.pi), allowed_values=np.linspace(0, 2 * np.pi, 30))\n",
    "dv = Variable(name=\"y\", type=ValueType.REAL)\n",
    "variables = VariableCollection(independent_variables=[iv],dependent_variables=[dv])\n",
    "\n",
    "#### Equation Experiment Method ####\n",
    "sin_experiment = equation_experiment(sp.simplify('sin(x)'), variables.independent_variables, variables.dependent_variables[0])\n",
    "sin_runner = sin_experiment.run\n",
    "\n",
    "experiment_runner = on_state(sin_runner, output=[\"experiment_data\"])"
   ]
  },
  {
   "cell_type": "markdown",
   "metadata": {},
   "source": [
    "### Theorist Defined and Wrapped with State\n",
    "\n",
    "We will use autora's `BMSRegressor` theorist. We import this and then wrap it so that if functions with the state."
   ]
  },
  {
   "cell_type": "code",
   "execution_count": null,
   "metadata": {},
   "outputs": [],
   "source": [
    "from autora.theorist.bms import BMSRegressor\n",
    "from autora.state import estimator_on_state\n",
    "\n",
    "theorist = estimator_on_state(BMSRegressor(epochs=100))"
   ]
  },
  {
   "cell_type": "markdown",
   "metadata": {},
   "source": [
    "## Running Each Component with the State"
   ]
  },
  {
   "cell_type": "markdown",
   "metadata": {},
   "source": [
    "### Run the Experimentalist\n",
    "\n",
    "Let's run the experimentalist with the state and see how the state changes."
   ]
  },
  {
   "cell_type": "code",
   "execution_count": null,
   "metadata": {},
   "outputs": [],
   "source": [
    "print('\\033[1mPrevious Conditions:\\033[0m')\n",
    "print(s.conditions)\n",
    "\n",
    "s = experimentalist(s, num_samples=10, random_state=42)\n",
    "\n",
    "print('\\n\\033[1mUpdated Conditions:\\033[0m')\n",
    "print(s.conditions)"
   ]
  },
  {
   "cell_type": "markdown",
   "metadata": {},
   "source": [
    "### Run the Experiment Runner\n",
    "\n",
    "Let's run the experiment runner and see how the state changes."
   ]
  },
  {
   "cell_type": "code",
   "execution_count": null,
   "metadata": {},
   "outputs": [],
   "source": [
    "print(\"\\033[1mPrevious Data:\\033[0m\")\n",
    "print(s.experiment_data)\n",
    "\n",
    "s = experiment_runner(s, added_noise=1.0, random_state=42)\n",
    "\n",
    "print(\"\\n\\033[1mUpdated Data:\\033[0m\")\n",
    "print(s.experiment_data)"
   ]
  },
  {
   "cell_type": "markdown",
   "metadata": {},
   "source": [
    "### Run the Theorist\n",
    "\n",
    "Let's run the theorist and see how the state changes. Note that theorists should return a single model directly or multiple models within a list to work with the state."
   ]
  },
  {
   "cell_type": "code",
   "execution_count": null,
   "metadata": {},
   "outputs": [],
   "source": [
    "s = theorist(s)\n",
    "\n",
    "print(\"\\n\\033[1mUpdated Model:\\033[0m\")\n",
    "print(s.models[-1])\n",
    "\n",
    "plot_from_state(s,'sin(x)')"
   ]
  },
  {
   "cell_type": "markdown",
   "metadata": {},
   "source": [
    "### Component Chaining\n",
    "\n",
    "As such, we have our `autora` components wrapped to work with the state. Remember, this means that they take the state as an input and returns the updated state as an output. As the components all act on the state, they can easily be chained."
   ]
  },
  {
   "cell_type": "code",
   "execution_count": null,
   "metadata": {},
   "outputs": [],
   "source": [
    "s = experimentalist(s, num_samples=10, random_state=42)\n",
    "s = experiment_runner(s, added_noise=1.0, random_state=42)\n",
    "s = theorist(s)\n",
    "\n",
    "print(s)\n",
    "plot_from_state(s,'sin(x)')"
   ]
  },
  {
   "cell_type": "markdown",
   "metadata": {},
   "source": [
    "## The Cycle\n",
    "\n",
    "Moreover, we can use these chained components within a loop to run multiple cycles."
   ]
  },
  {
   "cell_type": "markdown",
   "metadata": {},
   "source": [
    "### Cycle using Number of Cycles"
   ]
  },
  {
   "cell_type": "code",
   "execution_count": null,
   "metadata": {},
   "outputs": [],
   "source": [
    "#### First, let's reinitialize the state object to get a clean state ####\n",
    "iv = Variable(name=\"x\", value_range=(0, 2 * np.pi), allowed_values=np.linspace(0, 2 * np.pi, 30))\n",
    "dv = Variable(name=\"y\", type=ValueType.REAL)\n",
    "variables = VariableCollection(independent_variables=[iv],dependent_variables=[dv])\n",
    "\n",
    "conditions = random_pool(variables, num_samples=10, random_state=42)\n",
    "\n",
    "s = StandardState(\n",
    "    variables = variables,\n",
    "    conditions = conditions,\n",
    "    experiment_data = pd.DataFrame(columns=[\"x\",\"y\"])\n",
    ")\n",
    "\n",
    "### Then we cycle through the pipeline we built three more times ###\n",
    "num_cycles = 3 # number of empirical research cycles\n",
    "for cycle in range(num_cycles):\n",
    "    #Run pipeline\n",
    "    s = experimentalist(s, num_samples=10, random_state=42+cycle)\n",
    "    s = experiment_runner(s, added_noise=1.0, random_state=42+cycle)\n",
    "    s = theorist(s)\n",
    "    \n",
    "    #Report metrics\n",
    "    print(f\"\\n\\033[1mRunning Cycle {cycle+1}:\\033[0m\")\n",
    "    print(f\"\\033[1mCycle {cycle+1} model: {s.models[-1]}\\033[0m\")\n",
    "    plot_from_state(s,'sin(x)')"
   ]
  },
  {
   "cell_type": "markdown",
   "metadata": {},
   "source": [
    "### Cycle using Stopping Criteria\n",
    "\n",
    "Alternatively, we can run the chain until we reach a stopping criterion. For example, here we will loop until we get 40 datapoints."
   ]
  },
  {
   "cell_type": "code",
   "execution_count": null,
   "metadata": {},
   "outputs": [],
   "source": [
    "#### First, let's reinitialize the state object to get a clean state ####\n",
    "iv = Variable(name=\"x\", value_range=(0, 2 * np.pi), allowed_values=np.linspace(0, 2 * np.pi, 30))\n",
    "dv = Variable(name=\"y\", type=ValueType.REAL)\n",
    "variables = VariableCollection(independent_variables=[iv],dependent_variables=[dv])\n",
    "\n",
    "conditions = random_pool(variables, num_samples=10, random_state=42)\n",
    "\n",
    "s = StandardState(\n",
    "    variables = variables,\n",
    "    conditions = conditions,\n",
    "    experiment_data = pd.DataFrame(columns=[\"x\",\"y\"])\n",
    ")\n",
    "\n",
    "### Then we cycle through the pipeline we built until we reach our stopping criterion ###\n",
    "cycle = 0\n",
    "while len(s.experiment_data) < 40: #Run until we have at least 40 datapoints\n",
    "    #Run pipeline\n",
    "    s = experimentalist(s, num_samples=10, random_state=42+cycle)\n",
    "    s = experiment_runner(s, added_noise=1.0, random_state=42+cycle)\n",
    "    s = theorist(s)\n",
    "    \n",
    "    #Report metrics\n",
    "    print(f\"\\n\\033[1mRunning Cycle {cycle+1}, number of datapoints: {len(s.experiment_data)}\\033[0m\")\n",
    "    print(f\"\\033[1mCycle {cycle+1} model: {s.models[-1]}\\033[0m\")\n",
    "    plot_from_state(s,'sin(x)')\n",
    "    \n",
    "    #Increase count\n",
    "    cycle += 1\n",
    "\n",
    "print(f\"\\n\\033[1mNumber of datapoints: {len(s.experiment_data)}\\033[0m\")\n",
    "print(f\"\\033[1mDetermined Model: {s.models[-1]}\\033[0m\")"
   ]
  },
  {
   "cell_type": "markdown",
   "metadata": {},
   "source": [
    "### The Conditional Cycle \n",
    "\n",
    "Because `autora` components (theorist, experiment runner, experimentalist) act on the state, building a pipeline can have a lot of flexibility. Above, we demonstrated using a single set of components in different loops, but the components can also change respective to your criteria. In other words, you can use `if-else` statements to control which component is acting on the state."
   ]
  },
  {
   "cell_type": "markdown",
   "metadata": {},
   "source": [
    "For example, we can choose a different experimentalist depending on the number of datapoints we have collected."
   ]
  },
  {
   "cell_type": "code",
   "execution_count": null,
   "metadata": {},
   "outputs": [],
   "source": [
    "#### We will first define a new experimentalist\n",
    "def uniform_sample(variables: VariableCollection, conditions: pd.DataFrame, num_samples: int = 1, random_state: Optional[int] = None):\n",
    "\n",
    "    \"\"\"\n",
    "    An experimentalist that selects the least represented datapoints\n",
    "    \"\"\"\n",
    "\n",
    "    #Set random state\n",
    "    rng = np.random.default_rng(random_state)\n",
    "    \n",
    "    #Retrieve the possible values\n",
    "    allowed_values = variables.independent_variables[0].allowed_values\n",
    "    \n",
    "    #Determine the representation of each value\n",
    "    conditions_count = np.array([conditions[\"x\"].isin([value]).sum(axis=0) for value in allowed_values])\n",
    "    \n",
    "    #Sort to determine the least represented values\n",
    "    conditions_sort = conditions_count.argsort()\n",
    "    \n",
    "    conditions_count = conditions_count[conditions_sort]\n",
    "    values_count = allowed_values[conditions_sort]\n",
    "    \n",
    "    #Sample from values with the smallest frequency\n",
    "    x = values_count[conditions_count<=conditions_count[num_samples-1]]\n",
    "    x = rng.choice(x,num_samples)\n",
    "    \n",
    "    return pd.DataFrame({\"x\": x})"
   ]
  },
  {
   "cell_type": "code",
   "execution_count": null,
   "metadata": {},
   "outputs": [],
   "source": [
    "from autora.experimentalist.random import random_pool\n",
    "\n",
    "#### First, let's reinitialize the state object to get a clean state ####\n",
    "iv = Variable(name=\"x\", value_range=(0, 2 * np.pi), allowed_values=np.linspace(0, 2 * np.pi, 30))\n",
    "dv = Variable(name=\"y\", type=ValueType.REAL)\n",
    "variables = VariableCollection(independent_variables=[iv],dependent_variables=[dv])\n",
    "\n",
    "conditions = random_pool(variables, num_samples=10, random_state=42)\n",
    "\n",
    "s = StandardState(\n",
    "    variables = variables,\n",
    "    conditions = conditions,\n",
    "    experiment_data = pd.DataFrame(columns=[\"x\",\"y\"])\n",
    ")\n",
    "\n",
    "#### Initiate both experimentalists ####\n",
    "uniform_experimentalist = on_state(uniform_sample, output=[\"conditions\"])\n",
    "random_experimentalist = on_state(random_pool, output=['conditions'])\n",
    "\n",
    "### Then we cycle through the pipeline we built until we reach our stopping criteria ###\n",
    "cycle = 0\n",
    "while len(s.experiment_data) < 40:\n",
    "    \n",
    "    #Run pipeline\n",
    "    if len(s.experiment_data) < 20: #Conditional experimentalist: random for first half of cyles\n",
    "        print('\\n#==================================================#')\n",
    "        print('\\033[1mUsing random pooler experimentalist...\\033[0m')\n",
    "        s = random_experimentalist(s, num_samples=10, random_state=42+cycle)\n",
    "    else: #Conditional experimentalist: uniform for last half of cycles\n",
    "        print('\\n#==================================================#')\n",
    "        print('\\033[1mUsing uniform sampler experimentalist...\\033[0m')\n",
    "        s = uniform_experimentalist(s, num_samples=10, random_state=42+cycle)\n",
    "        \n",
    "    s = experiment_runner(s, added_noise=1.0, random_state=42+cycle)\n",
    "    s = theorist(s)\n",
    "    \n",
    "    #Report metrics\n",
    "    print(f\"\\n\\033[1mRunning Cycle {cycle+1}:\\033[0m\")\n",
    "    print(f\"\\033[1mCycle {cycle+1} model: {s.models[-1]}\\033[0m\")\n",
    "    plot_from_state(s,'sin(x)')\n",
    "    \n",
    "    #Increase count\n",
    "    cycle += 1"
   ]
  },
  {
   "cell_type": "markdown",
   "metadata": {},
   "source": [
    "In addition, we can dynamically change parameters across cycles."
   ]
  },
  {
   "cell_type": "code",
   "execution_count": null,
   "metadata": {},
   "outputs": [],
   "source": [
    "from autora.experimentalist.random import random_pool\n",
    "\n",
    "#### First, let's reinitialize the state object to get a clean state ####\n",
    "iv = Variable(name=\"x\", value_range=(0, 2 * np.pi), allowed_values=np.linspace(0, 2 * np.pi, 30))\n",
    "dv = Variable(name=\"y\", type=ValueType.REAL)\n",
    "variables = VariableCollection(independent_variables=[iv],dependent_variables=[dv])\n",
    "\n",
    "conditions = random_pool(variables, num_samples=10, random_state=42)\n",
    "\n",
    "s = StandardState(\n",
    "    variables = variables,\n",
    "    conditions = conditions,\n",
    "    experiment_data = pd.DataFrame(columns=[\"x\",\"y\"])\n",
    ")\n",
    "\n",
    "#### Initiate both experimentalists ####\n",
    "random_experimentalist = on_state(random_pool, output=['conditions'])\n",
    "\n",
    "### Then we cycle through the pipeline we built until we reach our stopping criteria ###\n",
    "for cycle, num_samples in enumerate([5, 10, 20, 50, 100]):\n",
    "    \n",
    "    #Report metrics\n",
    "    print(f\"\\n\\033[1mRunning Cycle {cycle+1} with {num_samples} new samples:\\033[0m\")\n",
    "\n",
    "    #Run pipeline\n",
    "    s = random_experimentalist(s, num_samples=num_samples, random_state=42+cycle)\n",
    "    s = experiment_runner(s, added_noise=1.0, random_state=42+cycle)\n",
    "    s = theorist(s)\n",
    "    \n",
    "    #Report metrics\n",
    "    print(f\"\\033[1mCycle {cycle+1} model: {s.models[-1]}\\033[0m\")\n",
    "    plot_from_state(s,'sin(x)')"
   ]
  },
  {
   "attachments": {},
   "cell_type": "markdown",
   "metadata": {},
   "source": [
    "## Next Notebook\n",
    "This concludes the tutorial on ``autora`` functionality. However, ``autora`` is a flexible framework in which users can integrate their own theorists, experimentalists, and experiment_runners in an automated empirical research workflow. The next notebook, **AutoRA Basic Tutorial IV: Customization**, illustrates how to add your own custom theorists and experimentalists to use with ``autora``."
   ]
  }
 ],
 "metadata": {
  "colab": {
   "provenance": [],
   "toc_visible": true
  },
  "kernelspec": {
   "display_name": "autora_venv",
   "language": "python",
   "name": "python3"
  },
  "language_info": {
   "codemirror_mode": {
    "name": "ipython",
    "version": 3
   },
   "file_extension": ".py",
   "mimetype": "text/x-python",
   "name": "python",
   "nbconvert_exporter": "python",
   "pygments_lexer": "ipython3"
  }
 },
 "nbformat": 4,
 "nbformat_minor": 0
}
