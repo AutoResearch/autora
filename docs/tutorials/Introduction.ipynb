{
 "cells": [
  {
   "cell_type": "markdown",
   "metadata": {},
   "source": [
    "# Introduction to AutoRA"
   ]
  },
  {
   "cell_type": "markdown",
   "metadata": {},
   "source": [
    "**[AutoRA](https://pypi.org/project/autora/)** (**Au**tomated **R**esearch **A**ssistant) is an open-source framework designed to automate various stages of empirical research, including model discovery, experimental design, and data collection.\n",
    "\n",
    "This notebook provides a comprehensive introduction to the capabilities of ``autora``. **It demonstrates the fundamental components of ``autora``, and how they can be combined to facilitate automated (closed-loop) empirical research through synthetic experiments.**\n",
    "\n",
    "**How to use this notebook**: *You can progress through the notebook section by section or directly navigate to specific sections. If you choose the latter, it is recommended to execute all cells in the notebook initially, allowing you to easily rerun the cells in each section later without issues.*\n",
    "\n",
    "## Overview\n",
    "\n",
    "1. Installation\n",
    "2. Automated Empirical Research Components\n",
    "    - Experiment Runners\n",
    "    - Theorists\n",
    "    - Experimentalists\n",
    "3. Automated Empirical Research With Basic Loop Constructs\n",
    "4. Automated Empirical Research With AutoRA Workflow Logic\n",
    "    - Basic Workflows\n",
    "    - Advanced Workflows\n",
    "5. Customizing Automated Empirical Research Components\n",
    "    - Custom Theorists\n",
    "    - Custom Experimentalists\n"
   ]
  },
  {
   "cell_type": "markdown",
   "metadata": {},
   "source": [
    "## Installation\n",
    "\n",
    "The AutoRA ecosystem is a comprehensive collection of packages that together establish a framework for closed-loop empirical research. At the core of this framework is the ``autora`` package, which serves as the parent package and is essential for end users to install.  It provides functionalities for automating workflows in empirical research and includes vetted modules with minimal dependencies.\n",
    "\n",
    "However, the flexibility of autora extends further with the inclusion of *optional* modules as additional dependencies. Users have the freedom to selectively install these modules based on their specific needs and preferences.\n",
    "\n",
    "<img src=\"https://autoresearch.github.io/autora/img/package_overview.png\" width=\"75%\" alt=\"AutoRA Package Structure\">\n",
    "\n",
    "*Optional dependencies enable users to customize their autora environment without worrying about conflicts with other packages within the broader autora ecosystem. To install an optional module, simply use the command ``autora[dependency-name]``, where ``dependency-name`` corresponds to the name of the desired module (see example below).*\n",
    "\n",
    "To begin, we will install all the relevant optional dependencies. Our focus will be on two experimentalists: ``experimentalist-falsification`` and ``experimentalist-sampler-novelty``, along with a Bayesian Machine Scientist (BMS) implemented in the ``theorist-bms`` package. It's important to note that installing a module will automatically include the main autora package, as well as any required dependencies for workflow management and running synthetic experiments."
   ]
  },
  {
   "cell_type": "code",
   "execution_count": null,
   "metadata": {},
   "outputs": [
    {
     "name": "stdout",
     "output_type": "stream",
     "text": [
      "\u001b[2K     \u001b[90m━━━━━━━━━━━━━━━━━━━━━━━━━━━━━━━━━━━━━━\u001b[0m \u001b[32m110.5/110.5 kB\u001b[0m \u001b[31m13.2 MB/s\u001b[0m eta \u001b[36m0:00:00\u001b[0m\n",
      "\u001b[2K     \u001b[90m━━━━━━━━━━━━━━━━━━━━━━━━━━━━━━━━━━━━━━\u001b[0m \u001b[32m237.5/237.5 kB\u001b[0m \u001b[31m27.2 MB/s\u001b[0m eta \u001b[36m0:00:00\u001b[0m\n",
      "\u001b[2K     \u001b[90m━━━━━━━━━━━━━━━━━━━━━━━━━━━━━━━━━━━━━━━━\u001b[0m \u001b[32m51.1/51.1 kB\u001b[0m \u001b[31m7.0 MB/s\u001b[0m eta \u001b[36m0:00:00\u001b[0m\n",
      "\u001b[?25h"
     ]
    }
   ],
   "source": [
    "!pip install -q \"autora[experimentalist-falsification]\"\n",
    "!pip install -q \"autora[experimentalist-sampler-novelty]\"\n",
    "!pip install -q \"autora[experimentalist-sampler-model-disagreement]\"\n",
    "!pip install -q \"autora[theorist-bms]\""
   ]
  },
  {
   "cell_type": "markdown",
   "metadata": {},
   "source": [
    "To make all simulations in this notebook replicable, we will set some seeds."
   ]
  },
  {
   "cell_type": "code",
   "execution_count": null,
   "metadata": {},
   "outputs": [
    {
     "data": {
      "text/plain": [
       "<torch._C.Generator at 0x1350a0d70>"
      ]
     },
     "execution_count": null,
     "metadata": {},
     "output_type": "execute_result"
    }
   ],
   "source": [
    "import numpy as np\n",
    "import torch\n",
    "\n",
    "np.random.seed(42)\n",
    "torch.manual_seed(42)"
   ]
  },
  {
   "cell_type": "markdown",
   "metadata": {},
   "source": [
    "## Automated Empirical Research Components\n",
    "\n",
    "The goal of this section is to set up all ``autora`` components to enable a closed-loop discovery workflow with synthetic data. This involves specifying (1) the experiment environment, (2) a theorist for model discovery, (3) an experimentalist for identifying novel experiment conditions.\n",
    "\n",
    "<img src=\"https://github.com/AutoResearch/autora/blob/main/docs/img/modules_overview.png?raw=true\" width=\"75%\" alt=\"AutoRA Components\">"
   ]
  },
  {
   "cell_type": "markdown",
   "metadata": {},
   "source": [
    "### Experiments\n",
    "\n",
    "``autora`` provides support for experiment runners, which serve as interfaces for conducting both real-world and synthetic experiments. An experiment runner typically accepts experiment conditions as input (e.g., a 2-dimensional numpy array with columns representing different independent variables) and produces collected observations as output (e.g., a 2-dimensional numpy array with columns representing different dependent variables). These experiment runners can be combined with other ``autora`` components to facilitate closed-loop scientific discovery.\n",
    "\n",
    "<img src=\"https://autoresearch.github.io/autora/img/experiment_runner.png\" width=\"75%\" alt=\"AutoRA Components\">\n",
    "\n",
    "#### Types\n",
    "\n",
    "AutoRA offers two types of experiment runners: **real-world experiments** and **synthetic experiments**.\n",
    "\n",
    "For **real-world experiments**, experiment runners can include interfaces for various scenarios such as web-based experiments for behavioral data collection (e.g., using [Firebase and Prolific](https://autoresearch.github.io/autora/user-guide/experiment-runners/firebase-prolific/)) or experiments involving electrical circuits (e.g., using [Tinkerforge](https://en.wikipedia.org/wiki/Tinkerforge)). These runners often require external components such as databases to store collected observations or servers to host the experiments. You may refer to the respective tutorials for these interfaces on how to set up all required components.\n",
    "\n",
    "**Synthetic experiments** are conducted on synthetic experiment runners, which are functions that take experimental conditions as input and generate simulated observations as output. These experiments serve multiple purposes, including *testing autora components* before applying them to real-world experiments, *benchmarking methods for automated scientific discovery*, or *conducting computational metascientific experiments*.\n",
    "\n",
    "In this introductory tutorial, we primarily focus on simple synthetic experiments. For more complex synthetic experiments implementing various scientific models, you can utilize the[autora-synthetic](https://github.com/autoresearch/autora-synthetic/) module."
   ]
  },
  {
   "cell_type": "markdown",
   "metadata": {},
   "source": [
    "#### Usage\n",
    "\n",
    "To create a synthetic experiment runner, we begin with **defining a ground truth** from which to generate data. Here, we consider a simple sine function:\n",
    "\n",
    "$y = f(x) = \\sin(x)$\n",
    "\n",
    "In this case, $x$ corresponds to an *independent* variable (the variable we can manipulate in an experiment), $y$ corresponds to a *dependent* variable (the variable we can observe after conducting the experiment), and $f(x)$ is the *ground-truth function* (or \"mechanism\") that we seek to uncover via a combination of experimentation and model discovery.\n",
    "\n",
    "However, we assume that observations are obtained with a measurement error when running the experiment.\n",
    "\n",
    "$\\hat{y} = \\hat{f}(x) = f(x) + \\epsilon, \\quad \\epsilon \\sim \\mathcal{N}(0,0.01^{2})$\n",
    "\n",
    "where $\\epsilon$ is the measurement error sampled from a normal distribution with zero mean and a standard deviation of $0.01$.\n",
    "\n",
    "The following code block defines ground truth $f(x)$ and the experiment runner $\\hat{f}(x)$ as ``lambda`` functions."
   ]
  },
  {
   "cell_type": "code",
   "execution_count": null,
   "metadata": {},
   "outputs": [],
   "source": [
    "ground_truth = lambda x: np.sin(x)\n",
    "run_experiment = lambda x: ground_truth(x) + np.random.normal(0, 0.1, size=x.shape)"
   ]
  },
  {
   "cell_type": "markdown",
   "metadata": {},
   "source": [
    "Next, we generate a pool of all possible experimental conditions from the domain $[0, 2\\pi]$."
   ]
  },
  {
   "cell_type": "code",
   "execution_count": null,
   "metadata": {},
   "outputs": [],
   "source": [
    "import numpy as np\n",
    "\n",
    "condition_pool = np.linspace(0, 2 * np.pi, 100)"
   ]
  },
  {
   "cell_type": "markdown",
   "metadata": {},
   "source": [
    "In order to run a simple synthetic experiment, we can first sample from the pool of possible experiment conditions (without replacement), and then pass these conditions to the synthetic experiment runner:"
   ]
  },
  {
   "cell_type": "code",
   "execution_count": null,
   "metadata": {},
   "outputs": [
    {
     "data": {
      "text/plain": [
       "<matplotlib.legend.Legend at 0x138cfca60>"
      ]
     },
     "execution_count": null,
     "metadata": {},
     "output_type": "execute_result"
    },
    {
     "data": {
      "image/png": "[encoded data removed]",
      "text/plain": [
       "<Figure size 640x480 with 1 Axes>"
      ]
     },
     "metadata": {},
     "output_type": "display_data"
    }
   ],
   "source": [
    "initial_conditions = np.random.choice(condition_pool, size=10, replace=False)\n",
    "initial_observations = run_experiment(initial_conditions)\n",
    "\n",
    "# plot sampled conditions against ground-truth\n",
    "import matplotlib.pyplot as plt\n",
    "plt.plot(condition_pool, ground_truth(condition_pool), label='Ground Truth')\n",
    "plt.plot(initial_conditions, initial_observations, 'o', label='Sampled Conditions')\n",
    "plt.xlabel('x')\n",
    "plt.ylabel('y')\n",
    "plt.title('Sine Function')\n",
    "plt.legend()"
   ]
  },
  {
   "cell_type": "markdown",
   "metadata": {},
   "source": [
    "Certain theorists and experimentalists may need to have knowledge about the experimental variables, such as the domain from which new experiment conditions are sampled. To provide this information, we can utilize a ``VariableCollection`` object. In the context of our synthetic experiment, we have a single *independent variable* (``IV``) denoted as $x$, and a single *dependent* variable (``DV``) denoted as $y$."
   ]
  },
  {
   "cell_type": "code",
   "execution_count": null,
   "metadata": {},
   "outputs": [],
   "source": [
    "from autora.variable import DV, IV, ValueType, VariableCollection\n",
    "\n",
    "# Specify independent variable\n",
    "iv = IV(\n",
    "    name=\"x\",                       # name of the independent variable\n",
    "    value_range=(0, 2 * np.pi),     # specify the domain\n",
    "    allowed_values=condition_pool,  # alternatively, we can specify the pool of allowed conditions directly\n",
    ")\n",
    "\n",
    "# specify dependent variable\n",
    "dv = DV(\n",
    "    name=\"y\",                       # name of the dependent variable\n",
    "    type=ValueType.REAL,            # specify the variable type (some theorists require this to optimize)\n",
    ")\n",
    "\n",
    "# Variable collection with ivs and dvs\n",
    "metadata = VariableCollection(\n",
    "    independent_variables=[iv],\n",
    "    dependent_variables=[dv],\n",
    ")"
   ]
  },
  {
   "cell_type": "markdown",
   "metadata": {},
   "source": [
    "**Note**: *For expository reasons, we focus in this tutorial on simple synthetic experiments. In general, ``autora`` provides functionality for automating [more complex synthetic experiments](https://github.com/autoresearch/autora-synthetic/), as well as real-world experiments, such as [behavioral data collection via web-based experiments](https://autoresearch.github.io/autora/user-guide/experiment-runners/firebase-prolific/), experiments with electrical circuits via [Tinkerforge](https://en.wikipedia.org/wiki/Tinkerforge), and other automated experimentation platforms.*"
   ]
  },
  {
   "cell_type": "markdown",
   "metadata": {},
   "source": [
    "### Theorists\n",
    "\n",
    "The AutoRA framework includes and interfaces with different methods for scientific model discovery. These methods are referred to as *theorists* and are implemented as [sklearn estimators](https://scikit-learn.org/stable/tutorial/machine_learning_map/index.html). For general information about theorists, see the respective [AutoRA Documentation](https://autoresearch.github.io/autora/theorist/).\n",
    "\n",
    "<img src=\"https://autoresearch.github.io/autora/img/theorist.png\" width=\"75%\" alt=\"Theorist Overview\">\n",
    "\n",
    "\n",
    "Theorists **take as input a set of conditions and observations**. Conditions and observations can typically be passed as *two-dimensional numpy arrays* (with columns corresponding to variables and rows corresponding to different instances of those variables). Theorists then **identify and fit a model** which may be used to predict observations based on experiment conditions."
   ]
  },
  {
   "cell_type": "markdown",
   "metadata": {},
   "source": [
    "#### Types\n",
    "\n",
    "There are different types of theorists within the AutoRA framework, each with its own approach to scientific model discovery.\n",
    "\n",
    "Some theorists focus on *fitting the parameters of a pre-specified model* to the given data (see the scikit learn documentation for a [selection of basic regressors](https://scikit-learn.org/stable/supervised_learning.html)). The model architecture in such cases is typically fixed, while the parameters are adjusted to optimize the model's performance. Linear regression is an example of a parameter-fitting theorist.\n",
    "\n",
    "Other theorists are concerned with *identifying both the architecture of a model and its parameters*. The model architectures can take various forms, such as equations, causal models, or process models. Implemented as scikit-learn estimators, these theorists aim to discover a model architecture that accurately describes the data. They often operate within a user-defined search space, which specifies the allowable operations or components that can be included in the model. This approach provides more flexibility in exploring different model architectures."
   ]
  },
  {
   "cell_type": "markdown",
   "metadata": {},
   "source": [
    "#### Usage\n",
    "\n",
    "In this tutorial, we delve into two types of theorists: (1) a linear regression theorist, which focuses on fitting a linear model, and (2) a Bayesian Machine Scientist (Guimerà et al., 2020, in *Science Advances*), which specializes in identifying and fitting a non-linear equation.\n",
    "\n",
    "Theorists are commonly instantiated as regressors within the ``sklearn`` library:"
   ]
  },
  {
   "cell_type": "code",
   "execution_count": null,
   "metadata": {},
   "outputs": [],
   "source": [
    "from sklearn import linear_model\n",
    "from autora.theorist.bms import BMSRegressor\n",
    "\n",
    "theorist_lr = linear_model.LinearRegression()\n",
    "theorist_bms = BMSRegressor(epochs=100)"
   ]
  },
  {
   "cell_type": "markdown",
   "metadata": {},
   "source": [
    "Once instantiated, we can fit the theorist to link experimental conditions with observations. However, before doing so, we should convert both inputs into 2-dimensional numpy arrays."
   ]
  },
  {
   "cell_type": "code",
   "execution_count": null,
   "metadata": {},
   "outputs": [
    {
     "name": "stderr",
     "output_type": "stream",
     "text": [
      "INFO:autora.theorist.bms.regressor:BMS fitting started\n",
      "100%|██████████| 100/100 [00:07<00:00, 13.91it/s]\n",
      "INFO:autora.theorist.bms.regressor:BMS fitting finished\n"
     ]
    },
    {
     "data": {
      "text/html": [
       "<style>#sk-container-id-1 {color: black;background-color: white;}#sk-container-id-1 pre{padding: 0;}#sk-container-id-1 div.sk-toggleable {background-color: white;}#sk-container-id-1 label.sk-toggleable__label {cursor: pointer;display: block;width: 100%;margin-bottom: 0;padding: 0.3em;box-sizing: border-box;text-align: center;}#sk-container-id-1 label.sk-toggleable__label-arrow:before {content: \"▸\";float: left;margin-right: 0.25em;color: #696969;}#sk-container-id-1 label.sk-toggleable__label-arrow:hover:before {color: black;}#sk-container-id-1 div.sk-estimator:hover label.sk-toggleable__label-arrow:before {color: black;}#sk-container-id-1 div.sk-toggleable__content {max-height: 0;max-width: 0;overflow: hidden;text-align: left;background-color: #f0f8ff;}#sk-container-id-1 div.sk-toggleable__content pre {margin: 0.2em;color: black;border-radius: 0.25em;background-color: #f0f8ff;}#sk-container-id-1 input.sk-toggleable__control:checked~div.sk-toggleable__content {max-height: 200px;max-width: 100%;overflow: auto;}#sk-container-id-1 input.sk-toggleable__control:checked~label.sk-toggleable__label-arrow:before {content: \"▾\";}#sk-container-id-1 div.sk-estimator input.sk-toggleable__control:checked~label.sk-toggleable__label {background-color: #d4ebff;}#sk-container-id-1 div.sk-label input.sk-toggleable__control:checked~label.sk-toggleable__label {background-color: #d4ebff;}#sk-container-id-1 input.sk-hidden--visually {border: 0;clip: rect(1px 1px 1px 1px);clip: rect(1px, 1px, 1px, 1px);height: 1px;margin: -1px;overflow: hidden;padding: 0;position: absolute;width: 1px;}#sk-container-id-1 div.sk-estimator {font-family: monospace;background-color: #f0f8ff;border: 1px dotted black;border-radius: 0.25em;box-sizing: border-box;margin-bottom: 0.5em;}#sk-container-id-1 div.sk-estimator:hover {background-color: #d4ebff;}#sk-container-id-1 div.sk-parallel-item::after {content: \"\";width: 100%;border-bottom: 1px solid gray;flex-grow: 1;}#sk-container-id-1 div.sk-label:hover label.sk-toggleable__label {background-color: #d4ebff;}#sk-container-id-1 div.sk-serial::before {content: \"\";position: absolute;border-left: 1px solid gray;box-sizing: border-box;top: 0;bottom: 0;left: 50%;z-index: 0;}#sk-container-id-1 div.sk-serial {display: flex;flex-direction: column;align-items: center;background-color: white;padding-right: 0.2em;padding-left: 0.2em;position: relative;}#sk-container-id-1 div.sk-item {position: relative;z-index: 1;}#sk-container-id-1 div.sk-parallel {display: flex;align-items: stretch;justify-content: center;background-color: white;position: relative;}#sk-container-id-1 div.sk-item::before, #sk-container-id-1 div.sk-parallel-item::before {content: \"\";position: absolute;border-left: 1px solid gray;box-sizing: border-box;top: 0;bottom: 0;left: 50%;z-index: -1;}#sk-container-id-1 div.sk-parallel-item {display: flex;flex-direction: column;z-index: 1;position: relative;background-color: white;}#sk-container-id-1 div.sk-parallel-item:first-child::after {align-self: flex-end;width: 50%;}#sk-container-id-1 div.sk-parallel-item:last-child::after {align-self: flex-start;width: 50%;}#sk-container-id-1 div.sk-parallel-item:only-child::after {width: 0;}#sk-container-id-1 div.sk-dashed-wrapped {border: 1px dashed gray;margin: 0 0.4em 0.5em 0.4em;box-sizing: border-box;padding-bottom: 0.4em;background-color: white;}#sk-container-id-1 div.sk-label label {font-family: monospace;font-weight: bold;display: inline-block;line-height: 1.2em;}#sk-container-id-1 div.sk-label-container {text-align: center;}#sk-container-id-1 div.sk-container {/* jupyter's `normalize.less` sets `[hidden] { display: none; }` but bootstrap.min.css set `[hidden] { display: none !important; }` so we also need the `!important` here to be able to override the default hidden behavior on the sphinx rendered scikit-learn.org. See: https://github.com/scikit-learn/scikit-learn/issues/21755 */display: inline-block !important;position: relative;}#sk-container-id-1 div.sk-text-repr-fallback {display: none;}</style><div id=\"sk-container-id-1\" class=\"sk-top-container\"><div class=\"sk-text-repr-fallback\"><pre>BMSRegressor(epochs=100)</pre><b>In a Jupyter environment, please rerun this cell to show the HTML representation or trust the notebook. <br />On GitHub, the HTML representation is unable to render, please try loading this page with nbviewer.org.</b></div><div class=\"sk-container\" hidden><div class=\"sk-item\"><div class=\"sk-estimator sk-toggleable\"><input class=\"sk-toggleable__control sk-hidden--visually\" id=\"sk-estimator-id-1\" type=\"checkbox\" checked><label for=\"sk-estimator-id-1\" class=\"sk-toggleable__label sk-toggleable__label-arrow\">BMSRegressor</label><div class=\"sk-toggleable__content\"><pre>BMSRegressor(epochs=100)</pre></div></div></div></div></div>"
      ],
      "text/plain": [
       "BMSRegressor(epochs=100)"
      ]
     },
     "execution_count": null,
     "metadata": {},
     "output_type": "execute_result"
    }
   ],
   "source": [
    "# convert data to 2-dimensional numpy array\n",
    "initial_conditions = initial_conditions.reshape((len(initial_conditions), 1))\n",
    "initial_observations = initial_observations.reshape((len(initial_observations), 1))\n",
    "\n",
    "# fit theorists\n",
    "theorist_lr.fit(initial_conditions, initial_observations)\n",
    "theorist_bms.fit(initial_conditions, initial_observations)"
   ]
  },
  {
   "cell_type": "markdown",
   "metadata": {},
   "source": [
    "For some theorists, we can inspect the resulting model architecture. For instance, in the BMS theorist, we can call obtain the model formula via ``theorist_bms.model_.__repr__()``."
   ]
  },
  {
   "cell_type": "code",
   "execution_count": null,
   "metadata": {},
   "outputs": [
    {
     "name": "stdout",
     "output_type": "stream",
     "text": [
      "Model of BMS theorist: sin(X0)\n"
     ]
    }
   ],
   "source": [
    "print(\"Model of BMS theorist: \" + theorist_bms.model_.__repr__())"
   ]
  },
  {
   "cell_type": "markdown",
   "metadata": {},
   "source": [
    "We may now obtain predictions from both theorists for the entire pool of experiment conditions."
   ]
  },
  {
   "cell_type": "code",
   "execution_count": null,
   "metadata": {},
   "outputs": [],
   "source": [
    "# convert condition pool into 2-dimensional numpy array before generating respective predictions\n",
    "condition_pool = condition_pool.reshape((len(condition_pool), 1))\n",
    "\n",
    "# obtain predictions\n",
    "predicted_observations_lr = theorist_lr.predict(condition_pool)\n",
    "predicted_observations_bms = theorist_bms.predict(condition_pool)"
   ]
  },
  {
   "cell_type": "markdown",
   "metadata": {},
   "source": [
    "In the next code segment, we plot the theorists' predictions against the ground truth. For the BMS theorist, we can obtain a latex expression of the model architecture using ``theorist_bms.model_.latex()``."
   ]
  },
  {
   "cell_type": "code",
   "execution_count": null,
   "metadata": {},
   "outputs": [
    {
     "data": {
      "text/plain": [
       "<matplotlib.legend.Legend at 0x1494cb130>"
      ]
     },
     "execution_count": null,
     "metadata": {},
     "output_type": "execute_result"
    },
    {
     "data": {
      "image/png": "[encoded data removed]",
      "text/plain": [
       "<Figure size 640x480 with 1 Axes>"
      ]
     },
     "metadata": {},
     "output_type": "display_data"
    }
   ],
   "source": [
    "# obtain latex expression of BMS theorist\n",
    "bms_model = theorist_bms.model_.latex()\n",
    "\n",
    "# plot model predictions against ground-truth\n",
    "import matplotlib.pyplot as plt\n",
    "plt.plot(condition_pool, ground_truth(condition_pool), label='Ground Truth')\n",
    "plt.plot(initial_conditions, initial_observations, 'o', label='Data Used for Model Identification')\n",
    "plt.plot(condition_pool, predicted_observations_lr, label='Linear Regression')\n",
    "plt.plot(condition_pool, predicted_observations_bms, label='Bayesian Machine Scientist: $' + bms_model + '$')\n",
    "plt.xlabel('x')\n",
    "plt.ylabel('y')\n",
    "plt.title('Model Predictions')\n",
    "plt.legend()"
   ]
  },
  {
   "cell_type": "markdown",
   "metadata": {},
   "source": [
    "**Note**: *There are various other types of theorists you can combine with AutoRA as long as they are implemented as ``sklearn`` estimators. This includes [autora modules](theorist/index.md), any [scikit learn estimators](https://scikit-learn.org/stable/tutorial/machine_learning_map/index.html), as well as third-party packages, such as [PySR](https://github.com/MilesCranmer/PySR) for symbolic regression.*"
   ]
  },
  {
   "cell_type": "markdown",
   "metadata": {},
   "source": [
    "### Experimentalists\n",
    "\n",
    "The primary goal of an experimentalist is to design experiments that yield scientific merit. The AutoRA framework offers various strategies for identifying informative new data points (e.g., by searching for experiment conditions that existing scientific models fail to explain, or by looking for novel conditions altogether).\n",
    "\n",
    "<img src=\"https://autoresearch.github.io/autora/img/experimentalist.png\" width=\"75%\" alt=\"Experimentalist Overview\">\n",
    "\n",
    "Experimentalists are implemented as functions that return a set of experiment conditions (e.g., in the form of a 2-dimensional numpy array in which columns correspond to independent variables), which can be subjected to an experiment. To determine these conditions, experimentalists may use information about candidate models obtained from a theorist, experimental conditions that have already been probed, or respective dependent measures. For more detailed information about experimentalists, please refer to the corresponding [AutoRA Documentation](https://autoresearch.github.io/autora/experimentalist/).\n",
    "\n",
    "#### Types\n",
    "\n",
    "There are generally three types of experimentalist functions: **poolers**, **samplers**, and **pipelines**.\n",
    "\n",
    "**Poolers** generate a novel set of experimental conditions \"from scratch\", e.g., by sampling from a grid. They usually require metadata describing independent variables of the experiment (e.g., their range or the set of allowed values).\n",
    "\n",
    "**Samplers** operate on an existing pool of experimental conditions. They require typically require experimental conditions to be represented as a 2-dimensional numpy array in which columns correspond to independent variables and rows to different conditions). They then select experiment conditions from this pool.\n",
    "\n",
    "**Pipelines** Pipelines connect multiple experimentalists into a unified workflow. This is beneficial when various steps are required to process experiment conditions. For example, apart from identifying novel experimental conditions, experimentalist functions may perform other operations on the set of conditions, such as rearranging the rows of a condition matrix or adding new experiment conditions as columns. Experiment pipelines may begin with a pooler that generates all possible experiment conditions, followed by a sampler that selects a subset of conditions from the pool, and then proceed to additional functions that arrange the selected conditions in a specific order necessary for conducting the experiment."
   ]
  },
  {
   "cell_type": "markdown",
   "metadata": {},
   "source": [
    "#### Usage: Poolers\n",
    "\n",
    "Experimentalist poolers are implemented as functions and can be called directly. For instance, the following **grid pooler** generates a grid based on the ``allowed_values`` of all independent variables in the ``metadata`` object that we defined above. We can simply add a list of allowed values to each independent variable. In this case, we only have one variable."
   ]
  },
  {
   "cell_type": "code",
   "execution_count": null,
   "metadata": {},
   "outputs": [],
   "source": [
    "allowed_values = np.linspace(0, 2 * np.pi, 100)\n",
    "metadata.independent_variables[0].allowed_values = allowed_values"
   ]
  },
  {
   "cell_type": "markdown",
   "metadata": {},
   "source": [
    "Now we can pass the grid pooler the list of independent variables from the ``metadata`` object."
   ]
  },
  {
   "cell_type": "code",
   "execution_count": null,
   "metadata": {},
   "outputs": [],
   "source": [
    "from autora.experimentalist.pooler.grid import grid_pool\n",
    "\n",
    "new_conditions = grid_pool(ivs = metadata.independent_variables)"
   ]
  },
  {
   "cell_type": "markdown",
   "metadata": {},
   "source": [
    "The resulting condition pool contains all experiment conditions from the grid:"
   ]
  },
  {
   "cell_type": "code",
   "execution_count": null,
   "metadata": {},
   "outputs": [
    {
     "name": "stdout",
     "output_type": "stream",
     "text": [
      "(0.0,)\n",
      "(0.06346651825433926,)\n",
      "(0.12693303650867852,)\n",
      "(0.1903995547630178,)\n",
      "(0.25386607301735703,)\n",
      "(0.3173325912716963,)\n",
      "(0.3807991095260356,)\n",
      "(0.4442656277803748,)\n",
      "(0.5077321460347141,)\n",
      "(0.5711986642890533,)\n",
      "(0.6346651825433925,)\n"
     ]
    }
   ],
   "source": [
    "# return first 10 conditions\n",
    "for idx, condition in enumerate(new_conditions):\n",
    "    print(condition)\n",
    "    if idx > 9:\n",
    "        break"
   ]
  },
  {
   "cell_type": "markdown",
   "metadata": {},
   "source": [
    "Alternatively, we may use the **random pooler** to randomly draw experimental conditions from the domains of each independent variable. The random pooler requires as input a list of discrete values from which to sample from. In this case, we can pass it ``metadata.independent_variables[0].allowed_values`` for the independent variable. We can also specify the input argument ``n`` to obtain 10 random samples."
   ]
  },
  {
   "cell_type": "code",
   "execution_count": null,
   "metadata": {},
   "outputs": [
    {
     "name": "stdout",
     "output_type": "stream",
     "text": [
      "(5.521587088127515,)\n",
      "(0.9519977738150889,)\n",
      "(1.0154642920694281,)\n",
      "(4.6330558325667655,)\n",
      "(3.681058058751677,)\n",
      "(5.775453161144872,)\n",
      "(5.013854942092801,)\n",
      "(4.442656277803748,)\n",
      "(3.998390650023373,)\n",
      "(0.9519977738150889,)\n"
     ]
    }
   ],
   "source": [
    "from autora.experimentalist.pooler.random_pooler import random_pool\n",
    "\n",
    "# generate random pool of 10 conditions\n",
    "num_samples = 10\n",
    "new_conditions = random_pool(metadata.independent_variables[0].allowed_values,\n",
    "                             n=num_samples)\n",
    "\n",
    "# print conditons\n",
    "for idx, condition in enumerate(new_conditions):\n",
    "    print(condition)"
   ]
  },
  {
   "cell_type": "markdown",
   "metadata": {},
   "source": [
    "#### Usage: Samplers\n",
    "\n",
    "An experiment sampler typically requires an existing pool of conditions as input along with additional arguments. For instance, the **[novelty sampler](https://autoresearch.github.io/autora/user-guide/experimentalists/samplers/novelty/)** requires, aside from a pool of conditions, a list of prior conditions. The user may also specify the number of samples ``num_samples`` to select from the pool.\n",
    "\n",
    "The novelty sampler will then select novel experiment conditions from the pool which are most dissimilar to some reference conditions, such as the ``initial_conditions`` obtained above:"
   ]
  },
  {
   "cell_type": "code",
   "execution_count": null,
   "metadata": {},
   "outputs": [
    {
     "name": "stdout",
     "output_type": "stream",
     "text": [
      "[[6.28318531]\n",
      " [6.21971879]]\n"
     ]
    }
   ],
   "source": [
    "from autora.experimentalist.sampler.novelty import novelty_sample\n",
    "\n",
    "new_conditions_novelty = novelty_sample(condition_pool = condition_pool,\n",
    "                                 reference_conditions = initial_conditions,\n",
    "                                 num_samples = 2)\n",
    "\n",
    "print(new_conditions_novelty)"
   ]
  },
  {
   "cell_type": "markdown",
   "metadata": {},
   "source": [
    "Another example for an experiment sampler is the **[falsification sampler](https://autoresearch.github.io/autora/falsification/docs/sampler/)**. The falsification sampler identifies experiment conditions under which the loss of a candidate model (returned by the theorist) is predicted to be the highest. This loss is approximated with a neural network, which is trained to predict the loss of the candidate model, given some initial experimental conditions, respective initial observations, and the metadata.\n",
    "\n",
    "The following code segment calls on the falsification sampler to return novel conditions based on the candidate model of the linear regression theorist introduced above. As with the novelty sampler, we seek to select 10 conditions."
   ]
  },
  {
   "cell_type": "code",
   "execution_count": null,
   "metadata": {},
   "outputs": [
    {
     "name": "stderr",
     "output_type": "stream",
     "text": [
      "WARNING:autora.utils.deprecation:Use `falsification_score_sample_from_predictions` instead. `falsification_score_sampler_from_predictions` is deprecated.\n"
     ]
    },
    {
     "name": "stdout",
     "output_type": "stream",
     "text": [
      "[[0.        ]\n",
      " [0.06346652]]\n"
     ]
    }
   ],
   "source": [
    "from autora.experimentalist.sampler.falsification import falsification_sample\n",
    "\n",
    "new_conditions_falsification = falsification_sample(\n",
    "        condition_pool=condition_pool,\n",
    "        model=theorist_lr,\n",
    "        reference_conditions=initial_conditions,\n",
    "        reference_observations=initial_observations,\n",
    "        metadata=metadata,\n",
    "        num_samples=2\n",
    "    )\n",
    "\n",
    "print(new_conditions_falsification)"
   ]
  },
  {
   "cell_type": "markdown",
   "metadata": {},
   "source": [
    "We can plot the selected conditions for both samples relative to the selected samples. Since we don't have observations for those conditions, we plot them as vertical lines."
   ]
  },
  {
   "cell_type": "code",
   "execution_count": null,
   "metadata": {},
   "outputs": [
    {
     "data": {
      "text/plain": [
       "<matplotlib.legend.Legend at 0x1498bacd0>"
      ]
     },
     "execution_count": null,
     "metadata": {},
     "output_type": "execute_result"
    },
    {
     "data": {
      "image/png": "[encoded data removed]",
      "text/plain": [
       "<Figure size 640x480 with 1 Axes>"
      ]
     },
     "metadata": {},
     "output_type": "display_data"
    }
   ],
   "source": [
    "# plot model predictions against ground-truth\n",
    "import matplotlib.pyplot as plt\n",
    "\n",
    "y_min = np.min(initial_observations)\n",
    "y_max  = np.max(initial_observations)\n",
    "\n",
    "# plot conditions obtained by novelty sampler\n",
    "for idx, condition in enumerate(new_conditions_novelty):\n",
    "    if idx == 0:\n",
    "        plt.plot([condition[0], condition[0]], [y_min, y_max], '--r', label='novelty conditions')\n",
    "    else: # we want to omit the label for all other conditions\n",
    "        plt.plot([condition[0], condition[0]], [y_min, y_max], '--r')\n",
    "\n",
    "# plot conditions obtained by falsification sampler\n",
    "for idx, condition in enumerate(new_conditions_falsification):\n",
    "    if idx == 0:\n",
    "        plt.plot([condition[0], condition[0]], [y_min, y_max], '--g', label='falsification conditions')\n",
    "    else: # we want to omit the label for all other conditions\n",
    "        plt.plot([condition[0], condition[0]], [y_min, y_max], '--g')\n",
    "\n",
    "plt.plot(condition_pool, ground_truth(condition_pool), '-', label='Ground Truth')\n",
    "plt.plot(initial_conditions, initial_observations, 'o', label='Initial Data')\n",
    "plt.plot(condition_pool, predicted_observations_lr, '-k', label='Prediction from Linear Regression')\n",
    "plt.xlabel('x')\n",
    "plt.ylabel('y')\n",
    "plt.title('Sampled Experimental Conditions')\n",
    "plt.legend()"
   ]
  },
  {
   "cell_type": "markdown",
   "metadata": {},
   "source": [
    "\n",
    "#### Usage: Pipelines\n",
    "\n",
    "Experimentalists can be connected in a **[pipeline](https://autoresearch.github.io/autora/core/docs/pipeline/Experimentalist%20Pipeline%20Examples/)**, where each element passes its output to the next element, ensuring compatibility between the inputs and outputs. Pipelines offer a flexible and efficient way to orchestrate the workflow involving complex experimentalists (e.g., for processing of experimental conditions) and experiment runners (e.g., for preprocessing of collected observations). They allow for the integration of poolers, samplers, and other design manipulations into a cohesive stream of experimental conditions.\n",
    "\n",
    "Let's examine the following pipeline example:\n",
    "\n",
    "<ol>\n",
    "<li> Generate a grid of all possible experimental conditions.\n",
    "<li> Filter out conditions where the independent variable falls within the range -1 to 1.\n",
    "<li> Sample 10 conditions using the novelty sampler.\n",
    "<li> Select 5 conditions from the sampled set using the falsification sampler.\n",
    "</ol>\n",
    "\n",
    "Before creating the pipeline, let's define an additional function that removes experiment conditions falling within the range of -1 to 1, specifically $-1 \\leq x \\leq 1$. This function will be used in the second step of the pipeline."
   ]
  },
  {
   "cell_type": "code",
   "execution_count": null,
   "metadata": {},
   "outputs": [],
   "source": [
    "from typing import Iterable\n",
    "\n",
    "def condition_exclusion(conditions):\n",
    "    # first we need to make sure that conditions is a 2-dimensional numpy array\n",
    "    if isinstance(conditions, Iterable):\n",
    "        conditions = np.array(list(conditions))\n",
    "\n",
    "    if conditions.ndim == 1:\n",
    "        conditions = conditions.reshape(-1, 1)\n",
    "\n",
    "    # now we can sub-select conditions\n",
    "    conditions_to_keep = conditions[(-1 > conditions) | (conditions > 1)]\n",
    "    conditions_to_keep = conditions_to_keep.reshape(-1, 1)\n",
    "    return conditions_to_keep"
   ]
  },
  {
   "cell_type": "markdown",
   "metadata": {},
   "source": [
    "A pipeline can be defined as a list of functions, such as ``[grid_pool, value_exclusion, novelty_sample, falsification_sample]``. However, to create a pipeline object, we need to specify the required parameters for each element in the pipeline. We can achieve this by providing nested dictionaries containing the additional parameters, as shown in the code block below.\n",
    "\n",
    "**Note**: *Each element of the pipeline passes its output to the next element as the first argument of the element's function. Thus, we need to make sure that the output of one pipeline element is compatible with the required first input argument for the next element. In our case, the first argument for each pipeline element (except for poolers) is assumed to be a 2-dimensional numpy array specifying a set of experimental conditions.*\n"
   ]
  },
  {
   "cell_type": "code",
   "execution_count": null,
   "metadata": {},
   "outputs": [],
   "source": [
    "from autora.experimentalist.pipeline import make_pipeline\n",
    "\n",
    "experimentalist_pipeline = make_pipeline([grid_pool,\n",
    "                                 condition_exclusion,\n",
    "                                 novelty_sample,\n",
    "                                 falsification_sample],\n",
    "                                params={\"grid_pool\":\n",
    "                                            {\"ivs\": metadata.independent_variables},\n",
    "                                        \"novelty_sample\":\n",
    "                                            {\"reference_conditions\": initial_conditions,\n",
    "                                             \"num_samples\": 10},\n",
    "                                        \"falsification_sample\":\n",
    "                                            {\"model\": theorist_bms,\n",
    "                                             \"reference_conditions\": initial_conditions,\n",
    "                                             \"reference_observations\": initial_observations,\n",
    "                                             \"metadata\": metadata,\n",
    "                                             \"num_samples\": 5}})"
   ]
  },
  {
   "cell_type": "markdown",
   "metadata": {},
   "source": [
    "In the declaration of the ``params`` parameter, we first specify the name of the pipeline object we seek to parameterize as a dictionary key, e.g., ``\"grid_pool\"``, and then nest within it, another dictionary with the names of the input arguments as keys (e.g., ``\"ivs\"``) along with their values (e.g.,  ``metadata.independent_variables``).\n",
    "\n",
    "Once specified, we can run the pipeline object to obtain novel experimental conditions."
   ]
  },
  {
   "cell_type": "code",
   "execution_count": null,
   "metadata": {},
   "outputs": [
    {
     "name": "stderr",
     "output_type": "stream",
     "text": [
      "WARNING:autora.utils.deprecation:Use `falsification_score_sample_from_predictions` instead. `falsification_score_sampler_from_predictions` is deprecated.\n"
     ]
    },
    {
     "name": "stdout",
     "output_type": "stream",
     "text": [
      "[[1.96746207]\n",
      " [6.28318531]\n",
      " [6.21971879]\n",
      " [6.15625227]\n",
      " [6.09278575]]\n"
     ]
    }
   ],
   "source": [
    "new_conditions = experimentalist_pipeline.run()\n",
    "\n",
    "print(new_conditions)"
   ]
  },
  {
   "cell_type": "markdown",
   "metadata": {},
   "source": [
    "**Hint**: *A common error for running pipelines is that the output of one pipeline element is incompatible with the input of the next pipeline element (e.g., not providing a 2-dimensional numpy array to ``novelty_sample``). In such cases, it can be helpful to \"manually\" pass the inputs from one element to another element, to check if they are compatible.*\n",
    "\n",
    "**Note**: *Pipelines may be used for other purposes, such as linking an experiment runner with multiple pre-processing steps.*"
   ]
  },
  {
   "cell_type": "markdown",
   "metadata": {},
   "source": [
    "## Automated Empirical Research With Basic Loop Constructs\n",
    "\n",
    "After defining all the components required for the empirical research process, we can create an automated workflow using basic loop constructs in Python.\n",
    "\n",
    "The following code block demonstrates how to build such a workflow using the components introduced in the preceding sections, such as\n",
    "\n",
    "- ``metadata`` (object specifying variables of the experiment), <br>\n",
    "- ``run_experiment`` (function for collecting data), <br>\n",
    "- ``theorist_bms`` (scikit learn estimator for discoverying requations using the Bayesian Machine Scientist), <br>\n",
    "- ``random_pool`` (function for generating a random pool of experimental conditions), and <br>\n",
    "- ``falsification_sample`` (function for identifying novel experiment conditions using the falsification .sampler) <br>\n",
    "\n",
    "We begin with implementing the following workflow:\n",
    "1. Generate 3 seed experimental conditions using ``random_pool``\n",
    "2. Generate 3 seed observations using ``run_experiment``\n",
    "3. Loop through the following steps 5 times\n",
    "   - Identify a model relating conditions to observations using ``theorist_bms``\n",
    "   - Identify 3 new experimental conditions using ``falsification_sample``\n",
    "   - Collect 3 new observations using ``run_experiment``\n",
    "   - Add new conditions and observations to the dataset\n",
    "\n",
    "We will iteratre through this workflow 5 times."
   ]
  },
  {
   "cell_type": "code",
   "execution_count": null,
   "metadata": {},
   "outputs": [
    {
     "name": "stderr",
     "output_type": "stream",
     "text": [
      "INFO:autora.theorist.bms.regressor:BMS fitting started\n",
      "100%|██████████| 100/100 [00:08<00:00, 11.50it/s]\n",
      "INFO:autora.theorist.bms.regressor:BMS fitting finished\n",
      "WARNING:autora.utils.deprecation:Use `falsification_score_sample_from_predictions` instead. `falsification_score_sampler_from_predictions` is deprecated.\n",
      "INFO:autora.theorist.bms.regressor:BMS fitting started\n"
     ]
    },
    {
     "name": "stdout",
     "output_type": "stream",
     "text": [
      "Loss in cycle 0: 0.0\n",
      "Discovered Model: sin(X0)\n"
     ]
    },
    {
     "name": "stderr",
     "output_type": "stream",
     "text": [
      "100%|██████████| 100/100 [00:07<00:00, 13.36it/s]\n",
      "INFO:autora.theorist.bms.regressor:BMS fitting finished\n",
      "WARNING:autora.utils.deprecation:Use `falsification_score_sample_from_predictions` instead. `falsification_score_sampler_from_predictions` is deprecated.\n",
      "INFO:autora.theorist.bms.regressor:BMS fitting started\n"
     ]
    },
    {
     "name": "stdout",
     "output_type": "stream",
     "text": [
      "Loss in cycle 1: 0.0\n",
      "Discovered Model: sin(X0)\n"
     ]
    },
    {
     "name": "stderr",
     "output_type": "stream",
     "text": [
      "100%|██████████| 100/100 [00:07<00:00, 13.41it/s]\n",
      "INFO:autora.theorist.bms.regressor:BMS fitting finished\n",
      "WARNING:autora.utils.deprecation:Use `falsification_score_sample_from_predictions` instead. `falsification_score_sampler_from_predictions` is deprecated.\n",
      "INFO:autora.theorist.bms.regressor:BMS fitting started\n"
     ]
    },
    {
     "name": "stdout",
     "output_type": "stream",
     "text": [
      "Loss in cycle 2: 0.5830078060480123\n",
      "Discovered Model: _a0_\n"
     ]
    },
    {
     "name": "stderr",
     "output_type": "stream",
     "text": [
      "100%|██████████| 100/100 [00:07<00:00, 12.81it/s]\n",
      "INFO:autora.theorist.bms.regressor:BMS fitting finished\n",
      "WARNING:autora.utils.deprecation:Use `falsification_score_sample_from_predictions` instead. `falsification_score_sampler_from_predictions` is deprecated.\n",
      "INFO:autora.theorist.bms.regressor:BMS fitting started\n"
     ]
    },
    {
     "name": "stdout",
     "output_type": "stream",
     "text": [
      "Loss in cycle 3: 0.0\n",
      "Discovered Model: sin(X0)\n"
     ]
    },
    {
     "name": "stderr",
     "output_type": "stream",
     "text": [
      "100%|██████████| 100/100 [00:07<00:00, 13.67it/s]\n",
      "INFO:autora.theorist.bms.regressor:BMS fitting finished\n",
      "WARNING:autora.utils.deprecation:Use `falsification_score_sample_from_predictions` instead. `falsification_score_sampler_from_predictions` is deprecated.\n"
     ]
    },
    {
     "name": "stdout",
     "output_type": "stream",
     "text": [
      "Loss in cycle 4: 0.0\n",
      "Discovered Model: sin(X0)\n"
     ]
    }
   ],
   "source": [
    "num_cycles = 5 # number of empirical research cycles\n",
    "measurements_per_cycle = 3 # number of data points to collect for each cycle\n",
    "\n",
    "# generate an initial set of experimental conditions\n",
    "conditions = random_pool(metadata.independent_variables[0].allowed_values,\n",
    "                                 n=measurements_per_cycle)\n",
    "# convert iterator into 2-dimensional numpy array\n",
    "conditions = np.array(list(conditions)).reshape(-1, 1)\n",
    "\n",
    "# collect initial set of observations\n",
    "observations = run_experiment(conditions)\n",
    "\n",
    "for cycle in range(num_cycles):\n",
    "\n",
    "  # use BMS theorist to fit the model to the data\n",
    "  theorist_bms.fit(conditions, observations)\n",
    "\n",
    "  # obtain new conditions\n",
    "  new_conditions = falsification_sample(\n",
    "          condition_pool=condition_pool,\n",
    "          model=theorist_bms,\n",
    "          reference_conditions=conditions,\n",
    "          reference_observations=observations,\n",
    "          metadata=metadata,\n",
    "          num_samples=measurements_per_cycle,\n",
    "      )\n",
    "\n",
    "  # obtain new observations\n",
    "  new_observations = run_experiment(new_conditions)\n",
    "\n",
    "  # combine old and new conditions and observations\n",
    "  conditions = np.concatenate((conditions, new_conditions))\n",
    "  observations = np.concatenate((observations, new_observations))\n",
    "\n",
    "  # evaluate model of the theorist based on its ability to predict each observation from the ground truth, evaluated across the entire space of experimental conditions\n",
    "  loss = np.mean(np.square(theorist_bms.predict(condition_pool) - ground_truth(condition_pool)))\n",
    "  print(\"Loss in cycle {}: {}\".format(cycle, loss))\n",
    "  print(\"Discovered Model: \" +  theorist_bms.model_.__repr__())\n"
   ]
  },
  {
   "cell_type": "markdown",
   "metadata": {},
   "source": [
    "We can easily replace components in the workflow above. For instance, we could replace  ``falsification_sample`` with the ``experimentalist_pipeline`` defined above.\n",
    "\n",
    "In the following code block, we add a linear regression theorist, to fit a linear model to the data. In addition, we replace ``falsification_sample`` with  ``model_disagreement_sampler`` to sample experimental conditions that differentiate most between the linear model and the model discovered by the BMS theorist."
   ]
  },
  {
   "cell_type": "code",
   "execution_count": null,
   "metadata": {},
   "outputs": [
    {
     "name": "stderr",
     "output_type": "stream",
     "text": [
      "INFO:autora.theorist.bms.regressor:BMS fitting started\n",
      "100%|██████████| 100/100 [00:07<00:00, 12.60it/s]\n",
      "INFO:autora.theorist.bms.regressor:BMS fitting finished\n",
      "INFO:autora.theorist.bms.regressor:BMS fitting started\n"
     ]
    },
    {
     "name": "stdout",
     "output_type": "stream",
     "text": [
      "Loss in cycle 0: 0.7663165942701162\n",
      "Discovered BMS Model: _a0_\n"
     ]
    },
    {
     "name": "stderr",
     "output_type": "stream",
     "text": [
      "100%|██████████| 100/100 [00:08<00:00, 12.32it/s]\n",
      "INFO:autora.theorist.bms.regressor:BMS fitting finished\n",
      "INFO:autora.theorist.bms.regressor:BMS fitting started\n"
     ]
    },
    {
     "name": "stdout",
     "output_type": "stream",
     "text": [
      "Loss in cycle 1: 0.0\n",
      "Discovered BMS Model: sin(relu(X0))\n"
     ]
    },
    {
     "name": "stderr",
     "output_type": "stream",
     "text": [
      "100%|██████████| 100/100 [00:06<00:00, 14.84it/s]\n",
      "INFO:autora.theorist.bms.regressor:BMS fitting finished\n",
      "INFO:autora.theorist.bms.regressor:BMS fitting started\n"
     ]
    },
    {
     "name": "stdout",
     "output_type": "stream",
     "text": [
      "Loss in cycle 2: 0.5278979868526005\n",
      "Discovered BMS Model: _a0_\n"
     ]
    },
    {
     "name": "stderr",
     "output_type": "stream",
     "text": [
      "100%|██████████| 100/100 [00:06<00:00, 14.46it/s]\n",
      "INFO:autora.theorist.bms.regressor:BMS fitting finished\n",
      "INFO:autora.theorist.bms.regressor:BMS fitting started\n"
     ]
    },
    {
     "name": "stdout",
     "output_type": "stream",
     "text": [
      "Loss in cycle 3: 0.5084168918123109\n",
      "Discovered BMS Model: _a0_\n"
     ]
    },
    {
     "name": "stderr",
     "output_type": "stream",
     "text": [
      "100%|██████████| 100/100 [00:06<00:00, 15.53it/s]\n",
      "INFO:autora.theorist.bms.regressor:BMS fitting finished\n"
     ]
    },
    {
     "name": "stdout",
     "output_type": "stream",
     "text": [
      "Loss in cycle 4: 0.0\n",
      "Discovered BMS Model: sin(X0)\n"
     ]
    }
   ],
   "source": [
    "from autora.experimentalist.sampler.model_disagreement import model_disagreement_sampler\n",
    "\n",
    "num_cycles = 5 # number of empirical research cycles\n",
    "measurements_per_cycle = 3 # number of data points to collect for each cycle\n",
    "\n",
    "# generate an initial set of experimental conditions\n",
    "conditions = random_pool(metadata.independent_variables[0].allowed_values,\n",
    "                                 n=measurements_per_cycle)\n",
    "# convert iterator into 2-dimensional numpy array\n",
    "conditions = np.array(list(conditions)).reshape(-1, 1)\n",
    "\n",
    "# collect initial set of observations\n",
    "observations = run_experiment(conditions)\n",
    "\n",
    "for cycle in range(num_cycles):\n",
    "\n",
    "  # use BMS theorist to fit the model to the data\n",
    "  theorist_bms.fit(conditions, observations)\n",
    "  theorist_lr.fit(conditions, observations)\n",
    "\n",
    "  # obtain new conditions\n",
    "  new_conditions = model_disagreement_sampler(\n",
    "          condition_pool,\n",
    "          models = [theorist_bms, theorist_lr],\n",
    "          num_samples = measurements_per_cycle\n",
    "      )\n",
    "\n",
    "  # obtain new observations\n",
    "  new_observations = run_experiment(new_conditions)\n",
    "\n",
    "  # combine old and new conditions and observations\n",
    "  conditions = np.concatenate((conditions, new_conditions))\n",
    "  observations = np.concatenate((observations, new_observations))\n",
    "\n",
    "  # evaluate model of the theorist based on its ability to predict each observation from the ground truth, evaluated across the entire space of experimental conditions\n",
    "  loss = np.mean(np.square(theorist_bms.predict(condition_pool) - ground_truth(condition_pool)))\n",
    "  print(\"Loss in cycle {}: {}\".format(cycle, loss))\n",
    "  print(\"Discovered BMS Model: \" +  theorist_bms.model_.__repr__())\n"
   ]
  },
  {
   "cell_type": "markdown",
   "metadata": {},
   "source": [
    "While the workflow logic with basic loop constructs is flexible, there are more convenient ways to specify a research cycle in ``autora``. The next section illustrates the use of these constructs."
   ]
  },
  {
   "cell_type": "markdown",
   "metadata": {},
   "source": [
    "## Automated Empirical Research With AutoRA Workflow Logic\n",
    "\n",
    "Workflows in ``autora`` implement the *autonomous empirical research paradigm*. This paradigm centers around the dynamic interplay between automated theorists and automated experimentalists. As outlined above, theorists rely–among other things–on existing data to construct computational models by linking experimental conditions to dependent measures. Experimentalist design follow-up experiments to refine and validate models generated by the theorist. Together, these agents enable a closed-loop scientific discovery process.\n",
    "\n",
    "The following sections introduce ways of specifying workflows directly in ``autora``. For more information on workflows, please refer to the [corresponding documentation](https://autoresearch.github.io/autora/user-guide/workflow/)."
   ]
  },
  {
   "cell_type": "markdown",
   "metadata": {},
   "source": [
    "### Basic Workflows\n",
    "\n",
    "This section provides an introduction to handling workflows with the controller object. Here, we focus on workflows implementing the **default execution order**: (1) generate experiment conditions using the ``eperimentalist``, (2) collect observations using the ``experiment_runner``, and (3), generate a model that links experiment conditions to observations using the ``theorist``.\n",
    "\n",
    "At the end of this section, we will able to implement the following workflow:\n",
    "\n",
    "We begin with implementing the following workflow:\n",
    "1. Generate seed experimental conditions\n",
    "2. Iterate 5 times through the following steps\n",
    "   - Collect observations using ``run_experiment``\n",
    "   - Identify a model relating conditions to observations using ``theorist_bms``\n",
    "   - Identify 3 new experimental conditions using ``falsification_sample``\n",
    "\n",
    "#### Declaration\n",
    "\n",
    "We begin with defining a simple workflow. Workflows can be encapsulated in a ``Controller`` object. For instance, the following code block sets up a closed-loop cycle between (1) a grid pooler for sampling experimental conditions, (2) an experiment runner for obtaining respective observations, and (3) a BMS theorist for discoverying an equation relating experimental conditions to observations.\n",
    "\n",
    "As with pipelines, we can pass the ``Controller`` object static parameters for each component. In this case, we provide the grid experimentalist with information about the independent variables to sample.\n",
    "\n",
    "**Note**: *We haven't included the ``falsification_sample`` experimentalist into our workflow yet because it requires us to specify state-dependent input arguments (e.g., the model generated by the theorist), which we will cover at the end of this section.*"
   ]
  },
  {
   "cell_type": "code",
   "execution_count": null,
   "metadata": {},
   "outputs": [],
   "source": [
    "from autora.workflow import Controller\n",
    "\n",
    "controller = Controller(\n",
    "    variables=metadata,\n",
    "    experimentalist=grid_pool,\n",
    "    experiment_runner=run_experiment,\n",
    "    theorist=theorist_bms,\n",
    "    params={\n",
    "        \"experimentalist\":\n",
    "                {\"ivs\": metadata.independent_variables}\n",
    "    }\n",
    ")"
   ]
  },
  {
   "cell_type": "markdown",
   "metadata": {},
   "source": [
    "In the declaration of the ``params`` parameter, we first specify the type of the component we seek to parameterize as a dictionary key, e.g., ``\"experimentalist\"``. Then we nest within it, another dictionary with the input arguments to the respective component as keys (e.g., ``\"ivs\"`` is an input argument to the ``grid_pool`` experimentalist) along with their values (e.g.,  ``metadata.independent_variables``).\n",
    "\n",
    "#### Monitoring\n",
    "\n",
    "Before we execute the controller, lets also add a **monitor function** which is executed with every autonomous empirical research step. The following code block prints the last generated result of the workflow defined by the controller. All workflow results are stored in the ``state.history`` object. We can access the kind of the latest result using ``state.history[-1].kind``."
   ]
  },
  {
   "cell_type": "code",
   "execution_count": null,
   "metadata": {},
   "outputs": [],
   "source": [
    "# define monitor function\n",
    "def monitor(state):\n",
    "    print(f\"MONITOR: Generated new {state.history[-1].kind}\")\n",
    "\n",
    "# add monitor function to controller\n",
    "controller.monitor = monitor"
   ]
  },
  {
   "cell_type": "markdown",
   "metadata": {},
   "source": [
    "#### Execution\n",
    "\n",
    "The controller is defined as an iterator. We can execute a single step in the workflow by passing the ``controller`` object to the ``next()`` method. The following code block executes three steps of the default research cycle."
   ]
  },
  {
   "cell_type": "code",
   "execution_count": null,
   "metadata": {},
   "outputs": [
    {
     "name": "stderr",
     "output_type": "stream",
     "text": [
      "INFO:autora.workflow.base:getting step_name='experimentalist'\n",
      "INFO:autora.workflow.base:running next_function=<function from_experimentalist_pipeline.<locals>._executor_experimentalist at 0x1494cea60>\n",
      "INFO:autora.workflow.base:getting step_name='experiment_runner'\n",
      "INFO:autora.workflow.base:running next_function=<function from_experiment_runner_callable.<locals>._executor_experiment_runner at 0x14abcaf70>\n",
      "INFO:autora.workflow.base:getting step_name='theorist'\n",
      "INFO:autora.workflow.base:running next_function=<function from_theorist_estimator.<locals>._executor_theorist at 0x14abcaf70>\n",
      "INFO:autora.theorist.bms.regressor:BMS fitting started\n"
     ]
    },
    {
     "name": "stdout",
     "output_type": "stream",
     "text": [
      "MONITOR: Generated new CONDITION\n",
      "MONITOR: Generated new OBSERVATION\n"
     ]
    },
    {
     "name": "stderr",
     "output_type": "stream",
     "text": [
      "100%|██████████| 100/100 [00:11<00:00,  8.50it/s]\n",
      "INFO:autora.theorist.bms.regressor:BMS fitting finished\n"
     ]
    },
    {
     "name": "stdout",
     "output_type": "stream",
     "text": [
      "MONITOR: Generated new MODEL\n"
     ]
    },
    {
     "data": {
      "text/plain": [
       "<autora.workflow.controller.Controller at 0x14996e760>"
      ]
     },
     "execution_count": null,
     "metadata": {},
     "output_type": "execute_result"
    }
   ],
   "source": [
    "next(controller)\n",
    "next(controller)\n",
    "next(controller)"
   ]
  },
  {
   "cell_type": "markdown",
   "metadata": {},
   "source": [
    "As indicated by the monitor, the **default execution order** is as follows: (1) generate experiment conditions, (2) collect observations, and (3), generate a model. After executing step (3), the controller would then continue with step (1):"
   ]
  },
  {
   "cell_type": "code",
   "execution_count": null,
   "metadata": {},
   "outputs": [
    {
     "name": "stderr",
     "output_type": "stream",
     "text": [
      "INFO:autora.workflow.base:getting step_name='experimentalist'\n",
      "INFO:autora.workflow.base:running next_function=<function from_experimentalist_pipeline.<locals>._executor_experimentalist at 0x1499671f0>\n"
     ]
    },
    {
     "name": "stdout",
     "output_type": "stream",
     "text": [
      "MONITOR: Generated new CONDITION\n"
     ]
    },
    {
     "data": {
      "text/plain": [
       "<autora.workflow.controller.Controller at 0x14996e760>"
      ]
     },
     "execution_count": null,
     "metadata": {},
     "output_type": "execute_result"
    }
   ],
   "source": [
    "next(controller)"
   ]
  },
  {
   "cell_type": "markdown",
   "metadata": {},
   "source": [
    "Since ``controller`` is an iterator, we can use [itertools](https://docs.python.org/3/library/itertools.html) for efficient looping. The following example uses ``takewhile`` to define a loop that stops as soon as we obtained three models from the theorist.\n",
    "\n",
    "We begin with defining a lambda function which returns true whenever the controller has less then 5 models. As explained in the next subsection, we can obtain a list of generated models by accessing the controller's state via ``controller.state.models``."
   ]
  },
  {
   "cell_type": "code",
   "execution_count": null,
   "metadata": {},
   "outputs": [],
   "source": [
    "continue_criterion = lambda controller: len(controller.state.models) < 5"
   ]
  },
  {
   "cell_type": "markdown",
   "metadata": {},
   "source": [
    "Now we can run a for-loop using the ``controller`` as an iterator, and ``takewhile`` as iterator logic that continues to execute steps of the controller as long as  ``continue_criterion`` returns ``True``. In this way, we can execute 3 research cycles."
   ]
  },
  {
   "cell_type": "code",
   "execution_count": null,
   "metadata": {},
   "outputs": [
    {
     "name": "stderr",
     "output_type": "stream",
     "text": [
      "INFO:autora.workflow.base:getting step_name='experiment_runner'\n",
      "INFO:autora.workflow.base:running next_function=<function from_experiment_runner_callable.<locals>._executor_experiment_runner at 0x14ab130d0>\n",
      "INFO:autora.workflow.base:getting step_name='theorist'\n",
      "INFO:autora.workflow.base:running next_function=<function from_theorist_estimator.<locals>._executor_theorist at 0x1493d8f70>\n",
      "INFO:autora.theorist.bms.regressor:BMS fitting started\n"
     ]
    },
    {
     "name": "stdout",
     "output_type": "stream",
     "text": [
      "MONITOR: Generated new OBSERVATION\n",
      "Number of models: 1\n"
     ]
    },
    {
     "name": "stderr",
     "output_type": "stream",
     "text": [
      "100%|██████████| 100/100 [00:10<00:00,  9.47it/s]\n",
      "INFO:autora.theorist.bms.regressor:BMS fitting finished\n",
      "INFO:autora.workflow.base:getting step_name='experimentalist'\n",
      "INFO:autora.workflow.base:running next_function=<function from_experimentalist_pipeline.<locals>._executor_experimentalist at 0x149e84280>\n",
      "INFO:autora.workflow.base:getting step_name='experiment_runner'\n",
      "INFO:autora.workflow.base:running next_function=<function from_experiment_runner_callable.<locals>._executor_experiment_runner at 0x1493d8f70>\n",
      "INFO:autora.workflow.base:getting step_name='theorist'\n",
      "INFO:autora.workflow.base:running next_function=<function from_theorist_estimator.<locals>._executor_theorist at 0x149e84280>\n"
     ]
    },
    {
     "name": "stdout",
     "output_type": "stream",
     "text": [
      "MONITOR: Generated new MODEL\n",
      "Number of models: 2\n",
      "MONITOR: Generated new CONDITION\n",
      "Number of models: 2\n",
      "MONITOR: Generated new OBSERVATION\n",
      "Number of models: 2\n"
     ]
    },
    {
     "name": "stderr",
     "output_type": "stream",
     "text": [
      "INFO:autora.theorist.bms.regressor:BMS fitting started\n",
      "100%|██████████| 100/100 [00:09<00:00, 11.05it/s]\n",
      "INFO:autora.theorist.bms.regressor:BMS fitting finished\n",
      "INFO:autora.workflow.base:getting step_name='experimentalist'\n",
      "INFO:autora.workflow.base:running next_function=<function from_experimentalist_pipeline.<locals>._executor_experimentalist at 0x14ab130d0>\n",
      "INFO:autora.workflow.base:getting step_name='experiment_runner'\n",
      "INFO:autora.workflow.base:running next_function=<function from_experiment_runner_callable.<locals>._executor_experiment_runner at 0x149e84280>\n",
      "INFO:autora.workflow.base:getting step_name='theorist'\n",
      "INFO:autora.workflow.base:running next_function=<function from_theorist_estimator.<locals>._executor_theorist at 0x14ab130d0>\n",
      "INFO:autora.theorist.bms.regressor:BMS fitting started\n"
     ]
    },
    {
     "name": "stdout",
     "output_type": "stream",
     "text": [
      "MONITOR: Generated new MODEL\n",
      "Number of models: 3\n",
      "MONITOR: Generated new CONDITION\n",
      "Number of models: 3\n",
      "MONITOR: Generated new OBSERVATION\n",
      "Number of models: 3\n"
     ]
    },
    {
     "name": "stderr",
     "output_type": "stream",
     "text": [
      "100%|██████████| 100/100 [00:10<00:00,  9.41it/s]\n",
      "INFO:autora.theorist.bms.regressor:BMS fitting finished\n",
      "INFO:autora.workflow.base:getting step_name='experimentalist'\n",
      "INFO:autora.workflow.base:running next_function=<function from_experimentalist_pipeline.<locals>._executor_experimentalist at 0x1493d8dc0>\n",
      "INFO:autora.workflow.base:getting step_name='experiment_runner'\n",
      "INFO:autora.workflow.base:running next_function=<function from_experiment_runner_callable.<locals>._executor_experiment_runner at 0x149967040>\n",
      "INFO:autora.workflow.base:getting step_name='theorist'\n",
      "INFO:autora.workflow.base:running next_function=<function from_theorist_estimator.<locals>._executor_theorist at 0x1493d89d0>\n",
      "INFO:autora.theorist.bms.regressor:BMS fitting started\n"
     ]
    },
    {
     "name": "stdout",
     "output_type": "stream",
     "text": [
      "MONITOR: Generated new MODEL\n",
      "Number of models: 4\n",
      "MONITOR: Generated new CONDITION\n",
      "Number of models: 4\n",
      "MONITOR: Generated new OBSERVATION\n",
      "Number of models: 4\n"
     ]
    },
    {
     "name": "stderr",
     "output_type": "stream",
     "text": [
      "100%|██████████| 100/100 [00:10<00:00,  9.87it/s]\n",
      "INFO:autora.theorist.bms.regressor:BMS fitting finished\n"
     ]
    },
    {
     "name": "stdout",
     "output_type": "stream",
     "text": [
      "MONITOR: Generated new MODEL\n"
     ]
    }
   ],
   "source": [
    "from itertools import takewhile\n",
    "\n",
    "for step in takewhile(continue_criterion, controller):\n",
    "    print(f\"Number of models: {len(step.state.models)}\")"
   ]
  },
  {
   "cell_type": "markdown",
   "metadata": {},
   "source": [
    "#### Result Inspection\n",
    "\n",
    "After each executed step, we can observe the result generated by the ``controller``. All results are stored in in ``controller.state.history``. Each result is composed of a value specifying its ``kind`` (``CONDITION``, ``OBSERVATION``, or ``MODEL``) and the respective ``data``.\n",
    "\n",
    "We can obtain the observations collected in the last step of the workflow as follows:"
   ]
  },
  {
   "cell_type": "code",
   "execution_count": null,
   "metadata": {},
   "outputs": [
    {
     "name": "stdout",
     "output_type": "stream",
     "text": [
      "ResultKind.MODEL\n",
      "BMSRegressor(epochs=100)\n"
     ]
    }
   ],
   "source": [
    "result = controller.state.history[-1]\n",
    "\n",
    "print(result.kind)\n",
    "print(result.data)"
   ]
  },
  {
   "cell_type": "markdown",
   "metadata": {},
   "source": [
    "We can also specify the kind of result we are looking for directly. For instance, we can obtain all models generated by the theorist using ``controller.state.models``. The following code block prints the last model discovered by the BMS theorist (note that ``model_.__repr__()`` is a function specific to the BMS theorist which returns its model as a string)."
   ]
  },
  {
   "cell_type": "code",
   "execution_count": null,
   "metadata": {},
   "outputs": [
    {
     "name": "stdout",
     "output_type": "stream",
     "text": [
      "sin(X0)\n"
     ]
    }
   ],
   "source": [
    "print(controller.state.models[-1].model_.__repr__())"
   ]
  },
  {
   "cell_type": "markdown",
   "metadata": {},
   "source": [
    "Alternatively, we can access probed experimental conditions via ``controller.state.conditions`` and observations via ``controller.state.observations``, respectively. The following code block requests the latest experimental conditions identified by the experimentalist."
   ]
  },
  {
   "cell_type": "code",
   "execution_count": null,
   "metadata": {},
   "outputs": [
    {
     "data": {
      "text/plain": [
       "array([[0.        ],\n",
       "       [0.06346652],\n",
       "       [0.12693304],\n",
       "       [0.19039955],\n",
       "       [0.25386607],\n",
       "       [0.31733259],\n",
       "       [0.38079911],\n",
       "       [0.44426563],\n",
       "       [0.50773215],\n",
       "       [0.57119866],\n",
       "       [0.63466518],\n",
       "       [0.6981317 ],\n",
       "       [0.76159822],\n",
       "       [0.82506474],\n",
       "       [0.88853126],\n",
       "       [0.95199777],\n",
       "       [1.01546429],\n",
       "       [1.07893081],\n",
       "       [1.14239733],\n",
       "       [1.20586385],\n",
       "       [1.26933037],\n",
       "       [1.33279688],\n",
       "       [1.3962634 ],\n",
       "       [1.45972992],\n",
       "       [1.52319644],\n",
       "       [1.58666296],\n",
       "       [1.65012947],\n",
       "       [1.71359599],\n",
       "       [1.77706251],\n",
       "       [1.84052903],\n",
       "       [1.90399555],\n",
       "       [1.96746207],\n",
       "       [2.03092858],\n",
       "       [2.0943951 ],\n",
       "       [2.15786162],\n",
       "       [2.22132814],\n",
       "       [2.28479466],\n",
       "       [2.34826118],\n",
       "       [2.41172769],\n",
       "       [2.47519421],\n",
       "       [2.53866073],\n",
       "       [2.60212725],\n",
       "       [2.66559377],\n",
       "       [2.72906028],\n",
       "       [2.7925268 ],\n",
       "       [2.85599332],\n",
       "       [2.91945984],\n",
       "       [2.98292636],\n",
       "       [3.04639288],\n",
       "       [3.10985939],\n",
       "       [3.17332591],\n",
       "       [3.23679243],\n",
       "       [3.30025895],\n",
       "       [3.36372547],\n",
       "       [3.42719199],\n",
       "       [3.4906585 ],\n",
       "       [3.55412502],\n",
       "       [3.61759154],\n",
       "       [3.68105806],\n",
       "       [3.74452458],\n",
       "       [3.8079911 ],\n",
       "       [3.87145761],\n",
       "       [3.93492413],\n",
       "       [3.99839065],\n",
       "       [4.06185717],\n",
       "       [4.12532369],\n",
       "       [4.1887902 ],\n",
       "       [4.25225672],\n",
       "       [4.31572324],\n",
       "       [4.37918976],\n",
       "       [4.44265628],\n",
       "       [4.5061228 ],\n",
       "       [4.56958931],\n",
       "       [4.63305583],\n",
       "       [4.69652235],\n",
       "       [4.75998887],\n",
       "       [4.82345539],\n",
       "       [4.88692191],\n",
       "       [4.95038842],\n",
       "       [5.01385494],\n",
       "       [5.07732146],\n",
       "       [5.14078798],\n",
       "       [5.2042545 ],\n",
       "       [5.26772102],\n",
       "       [5.33118753],\n",
       "       [5.39465405],\n",
       "       [5.45812057],\n",
       "       [5.52158709],\n",
       "       [5.58505361],\n",
       "       [5.64852012],\n",
       "       [5.71198664],\n",
       "       [5.77545316],\n",
       "       [5.83891968],\n",
       "       [5.9023862 ],\n",
       "       [5.96585272],\n",
       "       [6.02931923],\n",
       "       [6.09278575],\n",
       "       [6.15625227],\n",
       "       [6.21971879],\n",
       "       [6.28318531]])"
      ]
     },
     "execution_count": null,
     "metadata": {},
     "output_type": "execute_result"
    }
   ],
   "source": [
    "controller.state.conditions[-1]"
   ]
  },
  {
   "cell_type": "markdown",
   "metadata": {},
   "source": [
    "#### Seeding\n",
    "\n",
    "The default execution order always begins with an experimentalist. This is problematic if we want to use an experimentalist that depends on prior steps (e.g., the falsification experimentalist requires a model generated by the theorist). We can circumvent this problem by seeding the controller with experiment conditons.\n",
    "\n",
    "The following code block seeds the controller with 3 experiment conditions. We first generate the ``seed_conditions``, and then pass them, encapsulated in a list, to the ``seed`` function of the ``controller`` object."
   ]
  },
  {
   "cell_type": "code",
   "execution_count": null,
   "metadata": {},
   "outputs": [
    {
     "name": "stderr",
     "output_type": "stream",
     "text": [
      "INFO:autora.workflow.base:getting step_name='experiment_runner'\n",
      "INFO:autora.workflow.base:running next_function=<function from_experiment_runner_callable.<locals>._executor_experiment_runner at 0x149e84e50>\n"
     ]
    },
    {
     "name": "stdout",
     "output_type": "stream",
     "text": [
      "MONITOR: Generated new OBSERVATION\n"
     ]
    },
    {
     "data": {
      "text/plain": [
       "<autora.workflow.controller.Controller at 0x149487a90>"
      ]
     },
     "execution_count": null,
     "metadata": {},
     "output_type": "execute_result"
    }
   ],
   "source": [
    "# generate initial pool of 3 experimental conditions\n",
    "seed_conditions = np.linspace(0,2*np.pi,3)\n",
    "\n",
    "# define controller\n",
    "controller = Controller(\n",
    "    monitor=monitor,\n",
    "    variables=metadata,\n",
    "    experimentalist=grid_pool,\n",
    "    experiment_runner=run_experiment,\n",
    "    theorist=theorist_bms,\n",
    "    params={\n",
    "        \"experimentalist\":\n",
    "                {\"ivs\": metadata.independent_variables}\n",
    "    }\n",
    ")\n",
    "\n",
    "# seed controller\n",
    "controller.seed(conditions=[seed_conditions])\n",
    "\n",
    "next(controller)"
   ]
  },
  {
   "cell_type": "markdown",
   "metadata": {},
   "source": [
    "Note that, since we seeded the controller with initial experimental conditions, the next step is to execute the ``experiment_runner``. This is why the first step of reported by the monitor involves the generation of observations (based on the seed experimental conditions)."
   ]
  },
  {
   "cell_type": "markdown",
   "metadata": {},
   "source": [
    "#### Accessing State-Dependent Properties\n",
    "\n",
    "Some automated empirical research components require input arguments that depend on the result of the last step in the workflow. For instance, the ``falsification_sample`` experimentalist depends on the previously collected experimental conditions, observations, and the fitted model. For such cases, it is possible to use \"state-dependent properties\" in the ``params`` dictionary. These are the following strings, which will be replaced during execution by their respective current values:\n",
    "\n",
    "- ``\"%observations.ivs[-1]%\"``: the last observed independent variables <br>\n",
    "- ``\"%observations.dvs[-1]%\"``: the last observed dependent variables <br>\n",
    "- ``\"%observations.ivs%\"``: all the observed independent variables (observations), concatenated into a single array <br>\n",
    "- ``\"%observations.dvs%\"``: all the observed dependent variables (experimental conditions), concatenated into a single array <br>\n",
    "- ``\"%models[-1]%\"``: the last fitted theorist <br>\n",
    "- ``\"%models%\"``: all the fitted theorists <br>\n",
    "\n",
    "In the following example, we use the ``\"%observations.ivs%\"``, ``\"%observations.dvs%\"``, and ``\"%models%\"``  properties for the ``falsification_sample`` experimentalist which seeks to identify experimental conditions that are predicted to maximize the loss of the fitted model.\n",
    "\n",
    "The code block below implements the following workflow:\n",
    "1. Generate 3 seed experimental conditions\n",
    "2. Iterate 5 times through the following steps\n",
    "   - Collect observations using ``run_experiment``\n",
    "   - Identify a model relating conditions to observations using ``theorist_bms``\n",
    "   - Identify 3 new experimental conditions using ``falsification_sample``\n"
   ]
  },
  {
   "cell_type": "code",
   "execution_count": null,
   "metadata": {},
   "outputs": [],
   "source": [
    "# generate initial pool of 3 experimental conditions\n",
    "seed_conditions = np.linspace(0,2*np.pi,3)\n",
    "\n",
    "\n",
    "# define controller\n",
    "controller = Controller(\n",
    "    monitor=monitor,\n",
    "    variables=metadata,\n",
    "    experimentalist=falsification_sample,\n",
    "    experiment_runner=run_experiment,\n",
    "    theorist=theorist_bms,\n",
    "    params={\n",
    "        \"experimentalist\":\n",
    "                {\"condition_pool\": condition_pool,\n",
    "                 \"model\": \"%models[-1]%\", # access last model generated by theorist\n",
    "                 \"reference_conditions\": \"%observations.ivs%\", # access all conditions probed so far\n",
    "                 \"reference_observations\": \"%observations.dvs%\", # access all observations collected so far\n",
    "                 \"metadata\": metadata,\n",
    "                 \"num_samples\": 3}\n",
    "    }\n",
    ")\n",
    "\n",
    "# seed controller\n",
    "controller.seed(conditions=[seed_conditions])"
   ]
  },
  {
   "cell_type": "markdown",
   "metadata": {},
   "source": [
    "Using ``takewhile``, we can now specify a workflow logic that executes the automated research process 5 times. Accordingly, we stop execution of the ``controller`` as soon as it accumulated 5 models."
   ]
  },
  {
   "cell_type": "code",
   "execution_count": null,
   "metadata": {},
   "outputs": [
    {
     "name": "stderr",
     "output_type": "stream",
     "text": [
      "INFO:autora.workflow.base:getting step_name='experiment_runner'\n",
      "INFO:autora.workflow.base:running next_function=<function from_experiment_runner_callable.<locals>._executor_experiment_runner at 0x14a286160>\n",
      "INFO:autora.workflow.base:getting step_name='theorist'\n",
      "INFO:autora.workflow.base:running next_function=<function from_theorist_estimator.<locals>._executor_theorist at 0x149802940>\n",
      "INFO:autora.theorist.bms.regressor:BMS fitting started\n"
     ]
    },
    {
     "name": "stdout",
     "output_type": "stream",
     "text": [
      "MONITOR: Generated new OBSERVATION\n",
      "Number of models: 0\n"
     ]
    },
    {
     "name": "stderr",
     "output_type": "stream",
     "text": [
      "100%|██████████| 100/100 [00:07<00:00, 13.76it/s]\n",
      "INFO:autora.theorist.bms.regressor:BMS fitting finished\n",
      "INFO:autora.workflow.base:getting step_name='experimentalist'\n",
      "INFO:autora.workflow.base:running next_function=<function from_experimentalist_pipeline.<locals>._executor_experimentalist at 0x14ac66790>\n",
      "WARNING:autora.utils.deprecation:Use `falsification_score_sample_from_predictions` instead. `falsification_score_sampler_from_predictions` is deprecated.\n"
     ]
    },
    {
     "name": "stdout",
     "output_type": "stream",
     "text": [
      "MONITOR: Generated new MODEL\n",
      "Number of models: 1\n"
     ]
    },
    {
     "name": "stderr",
     "output_type": "stream",
     "text": [
      "INFO:autora.workflow.base:getting step_name='experiment_runner'\n",
      "INFO:autora.workflow.base:running next_function=<function from_experiment_runner_callable.<locals>._executor_experiment_runner at 0x14ba651f0>\n",
      "INFO:autora.workflow.base:getting step_name='theorist'\n",
      "INFO:autora.workflow.base:running next_function=<function from_theorist_estimator.<locals>._executor_theorist at 0x14ba65a60>\n",
      "INFO:autora.theorist.bms.regressor:BMS fitting started\n"
     ]
    },
    {
     "name": "stdout",
     "output_type": "stream",
     "text": [
      "MONITOR: Generated new CONDITION\n",
      "Number of models: 1\n",
      "MONITOR: Generated new OBSERVATION\n",
      "Number of models: 1\n"
     ]
    },
    {
     "name": "stderr",
     "output_type": "stream",
     "text": [
      "100%|██████████| 100/100 [00:07<00:00, 13.54it/s]\n",
      "INFO:autora.theorist.bms.regressor:BMS fitting finished\n",
      "INFO:autora.workflow.base:getting step_name='experimentalist'\n",
      "INFO:autora.workflow.base:running next_function=<function from_experimentalist_pipeline.<locals>._executor_experimentalist at 0x1493d8f70>\n",
      "WARNING:autora.utils.deprecation:Use `falsification_score_sample_from_predictions` instead. `falsification_score_sampler_from_predictions` is deprecated.\n"
     ]
    },
    {
     "name": "stdout",
     "output_type": "stream",
     "text": [
      "MONITOR: Generated new MODEL\n",
      "Number of models: 2\n"
     ]
    },
    {
     "name": "stderr",
     "output_type": "stream",
     "text": [
      "INFO:autora.workflow.base:getting step_name='experiment_runner'\n",
      "INFO:autora.workflow.base:running next_function=<function from_experiment_runner_callable.<locals>._executor_experiment_runner at 0x14c1aef70>\n",
      "INFO:autora.workflow.base:getting step_name='theorist'\n",
      "INFO:autora.workflow.base:running next_function=<function from_theorist_estimator.<locals>._executor_theorist at 0x14ab13820>\n",
      "INFO:autora.theorist.bms.regressor:BMS fitting started\n"
     ]
    },
    {
     "name": "stdout",
     "output_type": "stream",
     "text": [
      "MONITOR: Generated new CONDITION\n",
      "Number of models: 2\n",
      "MONITOR: Generated new OBSERVATION\n",
      "Number of models: 2\n"
     ]
    },
    {
     "name": "stderr",
     "output_type": "stream",
     "text": [
      "100%|██████████| 100/100 [00:06<00:00, 14.66it/s]\n",
      "INFO:autora.theorist.bms.regressor:BMS fitting finished\n",
      "INFO:autora.workflow.base:getting step_name='experimentalist'\n",
      "INFO:autora.workflow.base:running next_function=<function from_experimentalist_pipeline.<locals>._executor_experimentalist at 0x14ab13550>\n",
      "WARNING:autora.utils.deprecation:Use `falsification_score_sample_from_predictions` instead. `falsification_score_sampler_from_predictions` is deprecated.\n"
     ]
    },
    {
     "name": "stdout",
     "output_type": "stream",
     "text": [
      "MONITOR: Generated new MODEL\n",
      "Number of models: 3\n"
     ]
    },
    {
     "name": "stderr",
     "output_type": "stream",
     "text": [
      "INFO:autora.workflow.base:getting step_name='experiment_runner'\n",
      "INFO:autora.workflow.base:running next_function=<function from_experiment_runner_callable.<locals>._executor_experiment_runner at 0x149967d30>\n",
      "INFO:autora.workflow.base:getting step_name='theorist'\n",
      "INFO:autora.workflow.base:running next_function=<function from_theorist_estimator.<locals>._executor_theorist at 0x1496dd820>\n",
      "INFO:autora.theorist.bms.regressor:BMS fitting started\n"
     ]
    },
    {
     "name": "stdout",
     "output_type": "stream",
     "text": [
      "MONITOR: Generated new CONDITION\n",
      "Number of models: 3\n",
      "MONITOR: Generated new OBSERVATION\n",
      "Number of models: 3\n"
     ]
    },
    {
     "name": "stderr",
     "output_type": "stream",
     "text": [
      "100%|██████████| 100/100 [00:06<00:00, 16.52it/s]\n",
      "INFO:autora.theorist.bms.regressor:BMS fitting finished\n",
      "INFO:autora.workflow.base:getting step_name='experimentalist'\n",
      "INFO:autora.workflow.base:running next_function=<function from_experimentalist_pipeline.<locals>._executor_experimentalist at 0x149967d30>\n",
      "WARNING:autora.utils.deprecation:Use `falsification_score_sample_from_predictions` instead. `falsification_score_sampler_from_predictions` is deprecated.\n"
     ]
    },
    {
     "name": "stdout",
     "output_type": "stream",
     "text": [
      "MONITOR: Generated new MODEL\n",
      "Number of models: 4\n"
     ]
    },
    {
     "name": "stderr",
     "output_type": "stream",
     "text": [
      "INFO:autora.workflow.base:getting step_name='experiment_runner'\n",
      "INFO:autora.workflow.base:running next_function=<function from_experiment_runner_callable.<locals>._executor_experiment_runner at 0x14ac66550>\n",
      "INFO:autora.workflow.base:getting step_name='theorist'\n",
      "INFO:autora.workflow.base:running next_function=<function from_theorist_estimator.<locals>._executor_theorist at 0x14a875160>\n",
      "INFO:autora.theorist.bms.regressor:BMS fitting started\n"
     ]
    },
    {
     "name": "stdout",
     "output_type": "stream",
     "text": [
      "MONITOR: Generated new CONDITION\n",
      "Number of models: 4\n",
      "MONITOR: Generated new OBSERVATION\n",
      "Number of models: 4\n"
     ]
    },
    {
     "name": "stderr",
     "output_type": "stream",
     "text": [
      "100%|██████████| 100/100 [00:06<00:00, 14.89it/s]\n",
      "INFO:autora.theorist.bms.regressor:BMS fitting finished\n",
      "INFO:autora.workflow.base:getting step_name='experimentalist'\n",
      "INFO:autora.workflow.base:running next_function=<function from_experimentalist_pipeline.<locals>._executor_experimentalist at 0x149967ca0>\n",
      "WARNING:autora.utils.deprecation:Use `falsification_score_sample_from_predictions` instead. `falsification_score_sampler_from_predictions` is deprecated.\n"
     ]
    },
    {
     "name": "stdout",
     "output_type": "stream",
     "text": [
      "MONITOR: Generated new MODEL\n",
      "Number of models: 5\n"
     ]
    },
    {
     "name": "stderr",
     "output_type": "stream",
     "text": [
      "INFO:autora.workflow.base:getting step_name='experiment_runner'\n",
      "INFO:autora.workflow.base:running next_function=<function from_experiment_runner_callable.<locals>._executor_experiment_runner at 0x14a770e50>\n",
      "INFO:autora.workflow.base:getting step_name='theorist'\n",
      "INFO:autora.workflow.base:running next_function=<function from_theorist_estimator.<locals>._executor_theorist at 0x14a770e50>\n",
      "INFO:autora.theorist.bms.regressor:BMS fitting started\n"
     ]
    },
    {
     "name": "stdout",
     "output_type": "stream",
     "text": [
      "MONITOR: Generated new CONDITION\n",
      "Number of models: 5\n",
      "MONITOR: Generated new OBSERVATION\n",
      "Number of models: 5\n"
     ]
    },
    {
     "name": "stderr",
     "output_type": "stream",
     "text": [
      "100%|██████████| 100/100 [00:07<00:00, 14.08it/s]\n",
      "INFO:autora.theorist.bms.regressor:BMS fitting finished\n"
     ]
    },
    {
     "name": "stdout",
     "output_type": "stream",
     "text": [
      "MONITOR: Generated new MODEL\n"
     ]
    }
   ],
   "source": [
    "from itertools import takewhile\n",
    "\n",
    "continue_criterion = lambda controller: len(controller.state.models) < 6\n",
    "\n",
    "for step in takewhile(continue_criterion, controller):\n",
    "    print(f\"Number of models: {len(step.state.models)}\")"
   ]
  },
  {
   "cell_type": "markdown",
   "metadata": {},
   "source": [
    "### Advanced Workflows\n",
    "\n",
    "In some cases, we may want to condition the sequence of steps taken in the empirical research process on the current state of the process. For instance, one might want to switch from a novelty sampling strategy to a falsification sampling strategy as soon as one has probed enough novel experiment conditions. This section provides a basic introduction to the``BaseController``, which enables the implementation of such arbitrary execution orders.\n",
    "\n",
    "In this section, we consider a scenario in which we switch experimentalists, depending on the amount of observations collected:\n",
    "- If no observations are collected, we sample some seed experimental conditions\n",
    "- If less than 7 observations are collected, we sample experimental conditions with ``novelty_sample``\n",
    "- If 7 or more observations are collected, we sample experimental conditions with ``falsification_sample``\n",
    "\n",
    "#### Planner Declaration\n",
    "\n",
    "We begin with defining an ``experimentalist_planner`` function. Such planner function will be provided as input to the ``BaseController``, and will be used to determine the next step of the workflow, depending on the current state. The code block below implements a planner that selects the experimentalist to be executed depending on the amount of observations collected:"
   ]
  },
  {
   "cell_type": "code",
   "execution_count": null,
   "metadata": {},
   "outputs": [],
   "source": [
    "from autora.workflow.planner import last_result_kind_planner\n",
    "\n",
    "def experimentalist_planner(state):\n",
    "    # We're going to reuse the \"last_result_kind_planner\" planner, and modify its output.\n",
    "    proposed_next_step = last_result_kind_planner(state)\n",
    "\n",
    "    # Obtain a list of all observations collected so far\n",
    "    all_observations = [item for sublist in state.observations for item in sublist]\n",
    "    num_observations = len(all_observations)\n",
    "\n",
    "    # Determine next experimentalist\n",
    "    if proposed_next_step == \"experimentalist\":\n",
    "        if num_observations < 1:\n",
    "            next_step = \"seed_experimentalist\"\n",
    "        elif num_observations > 0 and num_observations < 7:\n",
    "            next_step = \"novelty_experimentalist\"\n",
    "        else:\n",
    "            next_step = \"falsification_experimentalist\"\n",
    "    else:\n",
    "      next_step = proposed_next_step\n",
    "\n",
    "    print(\"PLANNER: Next step: \" + next_step)\n",
    "    return next_step"
   ]
  },
  {
   "cell_type": "markdown",
   "metadata": {},
   "source": [
    "The ``experimentalist_planner`` function accepts a ``controller``'s state as input and returns the next step to be executed. Here, we call the ``last_result_kind_planner`` to obtain the default next step. For instance, according to the autonomous empirical research paradigm, if the last step involved executing the ``\"theorist\"``, the next step would be executing the ``experimentalist``.\n",
    "\n",
    "If the next default step is the ``experimentalist``, the  ``experimentalist_planner`` will select the type of experimentalist based on the total number of collected observations."
   ]
  },
  {
   "cell_type": "markdown",
   "metadata": {},
   "source": [
    "#### Executor Collection Declaration\n",
    "\n",
    "In order for the ``BaseController`` to work with the ``experimentalist_planner``, we need to specify the experimentalists that it selects to be executed. In the next code block, we define all experimentalists by wrapping each of them into a ``Pipeline``. However, at this point, we don't need to provide the respective paramters for each experimentalist–we will provide these later, directly to the ``BaseController`` object."
   ]
  },
  {
   "cell_type": "code",
   "execution_count": null,
   "metadata": {},
   "outputs": [],
   "source": [
    "from autora.experimentalist.pipeline import make_pipeline\n",
    "\n",
    "seed_pipeline = make_pipeline([np.linspace(0, 2*np.pi, 3)])\n",
    "novelty_pipeline = make_pipeline([novelty_sample])\n",
    "falsification_pipeline = make_pipeline([falsification_sample])"
   ]
  },
  {
   "cell_type": "markdown",
   "metadata": {},
   "source": [
    "We can now wrap all elements of our research process–this includes all experimentalists as well as the theorist and experiment runner–into a collection of executors. The following code block defines this collection using ``ChainedFunctionMapping``."
   ]
  },
  {
   "cell_type": "code",
   "execution_count": null,
   "metadata": {},
   "outputs": [],
   "source": [
    "from autora.workflow.executor import (ChainedFunctionMapping, from_experimentalist_pipeline,\n",
    "    from_experiment_runner_callable, from_theorist_estimator)\n",
    "\n",
    "executor_collection = ChainedFunctionMapping(\n",
    "    seed_experimentalist=\n",
    "        [from_experimentalist_pipeline, seed_pipeline],\n",
    "    novelty_experimentalist=\n",
    "        [from_experimentalist_pipeline, novelty_pipeline],\n",
    "    falsification_experimentalist=\n",
    "        [from_experimentalist_pipeline, falsification_pipeline],\n",
    "    experiment_runner=[from_experiment_runner_callable, run_experiment],\n",
    "    theorist=[from_theorist_estimator, theorist_bms],\n",
    ")"
   ]
  },
  {
   "cell_type": "markdown",
   "metadata": {},
   "source": [
    "In the ``ChainedFunctionMapping``, we specify each element by its type, followed by its function. For instance, the ``seed_experimentalist`` is defined as an experimentalist pipeline. Thus, we specify it as ``from_experimentalist_pipeline``, and chain it with its respectie function ``seed_experimentalist`` defined above."
   ]
  },
  {
   "cell_type": "markdown",
   "metadata": {},
   "source": [
    "#### Base Controller Declaration\n",
    "\n",
    "So far, we have defined a ``experimentalist_planner`` function which determines the next step in our workflow. We have also defined a  ``executor_collection`` defining each step of the workflow. Both will be provided to a special ``Controller`` called ``BaseController``. The ``BaseController`` does not require us to specify a ``theorist``, ``experimentalist``, or ``experiment_runner``. Instead, we can provide it with an ``executor_collection`` specifying all the elements of the workflow we require.\n",
    "\n",
    "The ``BaseController`` also requires us to specify an intiial ``state``. Here, we can instantiate a state as a ``History`` object which entails all variables of the experiment (as declared in ``metadata``) along with the parameters provided to each element in the ``executor_collection``. Let's begin with defining the parameters for all elements in the ``executor_collection``. Here, only two of the elements (``novelty_experimentalist`` and ``falsification_experimentalist``) require us to specify additional parameters.\n"
   ]
  },
  {
   "cell_type": "code",
   "execution_count": null,
   "metadata": {},
   "outputs": [],
   "source": [
    "params = {\"novelty_experimentalist\":\n",
    "              {\"novelty_sample\":\n",
    "                 {\"condition_pool\": condition_pool,\n",
    "                  \"reference_conditions\": \"%observations.ivs%\", # access all conditions probed so far\n",
    "                   \"num_samples\": 3},\n",
    "               },\n",
    "          \"falsification_experimentalist\":\n",
    "              {\"falsification_sample\":\n",
    "                 {\"condition_pool\": condition_pool,\n",
    "                 \"model\": \"%models[-1]%\", # access last model generated by theorist\n",
    "                 \"reference_conditions\": \"%observations.ivs%\", # access all conditions probed so far\n",
    "                 \"reference_observations\": \"%observations.dvs%\", # access all observations collected so far\n",
    "                 \"metadata\": metadata,\n",
    "                 \"num_samples\": 3}\n",
    "              }\n",
    "          }"
   ]
  },
  {
   "cell_type": "markdown",
   "metadata": {},
   "source": [
    "Using the ``metadata`` and ``params``, we can instantiate an initial ``state`` for the workflow."
   ]
  },
  {
   "cell_type": "code",
   "execution_count": null,
   "metadata": {},
   "outputs": [],
   "source": [
    "from autora.workflow.state import History\n",
    "\n",
    "state = History(variables=metadata, params=params)"
   ]
  },
  {
   "cell_type": "markdown",
   "metadata": {},
   "source": [
    "For convenience, let us also define a monitor function which can print the current total number of observations. We will provide this monitor to the ``BaseController``."
   ]
  },
  {
   "cell_type": "code",
   "execution_count": null,
   "metadata": {},
   "outputs": [],
   "source": [
    "def monitor(state):\n",
    "    all_observations = [item for sublist in state.observations for item in sublist]\n",
    "    num_observations = len(all_observations)\n",
    "    print(f\"MONITOR: Number of observations {num_observations}\")"
   ]
  },
  {
   "cell_type": "markdown",
   "metadata": {},
   "source": [
    "We now have all the required input arguments for the ``BaseController``."
   ]
  },
  {
   "cell_type": "code",
   "execution_count": null,
   "metadata": {},
   "outputs": [],
   "source": [
    "from autora.workflow.base import BaseController\n",
    "\n",
    "# define controller\n",
    "controller = BaseController(\n",
    "    state=state,\n",
    "    monitor=monitor,\n",
    "    planner=experimentalist_planner,\n",
    "    executor_collection=executor_collection,\n",
    ")\n"
   ]
  },
  {
   "cell_type": "markdown",
   "metadata": {},
   "source": [
    "Finally, let's execute the controller for 5 research cycles, measured in terms of the number of generated models."
   ]
  },
  {
   "cell_type": "code",
   "execution_count": null,
   "metadata": {},
   "outputs": [
    {
     "name": "stderr",
     "output_type": "stream",
     "text": [
      "INFO:autora.workflow.base:getting step_name='seed_experimentalist'\n",
      "INFO:autora.workflow.base:running next_function=<function from_experimentalist_pipeline.<locals>._executor_experimentalist at 0x14a875280>\n",
      "INFO:autora.workflow.base:getting step_name='experiment_runner'\n",
      "INFO:autora.workflow.base:running next_function=<function from_experiment_runner_callable.<locals>._executor_experiment_runner at 0x14c1ae5e0>\n",
      "INFO:autora.workflow.base:getting step_name='theorist'\n",
      "INFO:autora.workflow.base:running next_function=<function from_theorist_estimator.<locals>._executor_theorist at 0x14c1ae5e0>\n",
      "INFO:autora.theorist.bms.regressor:BMS fitting started\n"
     ]
    },
    {
     "name": "stdout",
     "output_type": "stream",
     "text": [
      "PLANNER: Next step: seed_experimentalist\n",
      "MONITOR: Number of observations 0\n",
      "MONITOR: Number of models: 0\n",
      "PLANNER: Next step: experiment_runner\n",
      "MONITOR: Number of observations 3\n",
      "MONITOR: Number of models: 0\n",
      "PLANNER: Next step: theorist\n"
     ]
    },
    {
     "name": "stderr",
     "output_type": "stream",
     "text": [
      "100%|██████████| 100/100 [00:06<00:00, 14.96it/s]\n",
      "INFO:autora.theorist.bms.regressor:BMS fitting finished\n",
      "INFO:autora.workflow.base:getting step_name='novelty_experimentalist'\n",
      "INFO:autora.workflow.base:running next_function=<function from_experimentalist_pipeline.<locals>._executor_experimentalist at 0x14c1ae790>\n",
      "INFO:autora.workflow.base:getting step_name='experiment_runner'\n",
      "INFO:autora.workflow.base:running next_function=<function from_experiment_runner_callable.<locals>._executor_experiment_runner at 0x14a875940>\n",
      "INFO:autora.workflow.base:getting step_name='theorist'\n",
      "INFO:autora.workflow.base:running next_function=<function from_theorist_estimator.<locals>._executor_theorist at 0x14b6a05e0>\n",
      "INFO:autora.theorist.bms.regressor:BMS fitting started\n"
     ]
    },
    {
     "name": "stdout",
     "output_type": "stream",
     "text": [
      "MONITOR: Number of observations 3\n",
      "MONITOR: Number of models: 1\n",
      "PLANNER: Next step: novelty_experimentalist\n",
      "MONITOR: Number of observations 3\n",
      "MONITOR: Number of models: 1\n",
      "PLANNER: Next step: experiment_runner\n",
      "MONITOR: Number of observations 6\n",
      "MONITOR: Number of models: 1\n",
      "PLANNER: Next step: theorist\n"
     ]
    },
    {
     "name": "stderr",
     "output_type": "stream",
     "text": [
      "100%|██████████| 100/100 [00:06<00:00, 14.48it/s]\n",
      "INFO:autora.theorist.bms.regressor:BMS fitting finished\n",
      "INFO:autora.workflow.base:getting step_name='novelty_experimentalist'\n",
      "INFO:autora.workflow.base:running next_function=<function from_experimentalist_pipeline.<locals>._executor_experimentalist at 0x1497e4430>\n",
      "INFO:autora.workflow.base:getting step_name='experiment_runner'\n",
      "INFO:autora.workflow.base:running next_function=<function from_experiment_runner_callable.<locals>._executor_experiment_runner at 0x14995df70>\n",
      "INFO:autora.workflow.base:getting step_name='theorist'\n",
      "INFO:autora.workflow.base:running next_function=<function from_theorist_estimator.<locals>._executor_theorist at 0x14995df70>\n",
      "INFO:autora.theorist.bms.regressor:BMS fitting started\n"
     ]
    },
    {
     "name": "stdout",
     "output_type": "stream",
     "text": [
      "MONITOR: Number of observations 6\n",
      "MONITOR: Number of models: 2\n",
      "PLANNER: Next step: novelty_experimentalist\n",
      "MONITOR: Number of observations 6\n",
      "MONITOR: Number of models: 2\n",
      "PLANNER: Next step: experiment_runner\n",
      "MONITOR: Number of observations 9\n",
      "MONITOR: Number of models: 2\n",
      "PLANNER: Next step: theorist\n"
     ]
    },
    {
     "name": "stderr",
     "output_type": "stream",
     "text": [
      "100%|██████████| 100/100 [00:07<00:00, 13.28it/s]\n",
      "INFO:autora.theorist.bms.regressor:BMS fitting finished\n",
      "INFO:autora.workflow.base:getting step_name='falsification_experimentalist'\n",
      "INFO:autora.workflow.base:running next_function=<function from_experimentalist_pipeline.<locals>._executor_experimentalist at 0x14937e700>\n",
      "WARNING:autora.utils.deprecation:Use `falsification_score_sample_from_predictions` instead. `falsification_score_sampler_from_predictions` is deprecated.\n"
     ]
    },
    {
     "name": "stdout",
     "output_type": "stream",
     "text": [
      "MONITOR: Number of observations 9\n",
      "MONITOR: Number of models: 3\n",
      "PLANNER: Next step: falsification_experimentalist\n"
     ]
    },
    {
     "name": "stderr",
     "output_type": "stream",
     "text": [
      "INFO:autora.workflow.base:getting step_name='experiment_runner'\n",
      "INFO:autora.workflow.base:running next_function=<function from_experiment_runner_callable.<locals>._executor_experiment_runner at 0x1496dd040>\n",
      "INFO:autora.workflow.base:getting step_name='theorist'\n",
      "INFO:autora.workflow.base:running next_function=<function from_theorist_estimator.<locals>._executor_theorist at 0x14937e700>\n",
      "INFO:autora.theorist.bms.regressor:BMS fitting started\n"
     ]
    },
    {
     "name": "stdout",
     "output_type": "stream",
     "text": [
      "MONITOR: Number of observations 9\n",
      "MONITOR: Number of models: 3\n",
      "PLANNER: Next step: experiment_runner\n",
      "MONITOR: Number of observations 12\n",
      "MONITOR: Number of models: 3\n",
      "PLANNER: Next step: theorist\n"
     ]
    },
    {
     "name": "stderr",
     "output_type": "stream",
     "text": [
      "100%|██████████| 100/100 [00:06<00:00, 15.86it/s]\n",
      "INFO:autora.theorist.bms.regressor:BMS fitting finished\n",
      "INFO:autora.workflow.base:getting step_name='falsification_experimentalist'\n",
      "INFO:autora.workflow.base:running next_function=<function from_experimentalist_pipeline.<locals>._executor_experimentalist at 0x14a286040>\n",
      "WARNING:autora.utils.deprecation:Use `falsification_score_sample_from_predictions` instead. `falsification_score_sampler_from_predictions` is deprecated.\n"
     ]
    },
    {
     "name": "stdout",
     "output_type": "stream",
     "text": [
      "MONITOR: Number of observations 12\n",
      "MONITOR: Number of models: 4\n",
      "PLANNER: Next step: falsification_experimentalist\n"
     ]
    },
    {
     "name": "stderr",
     "output_type": "stream",
     "text": [
      "INFO:autora.workflow.base:getting step_name='experiment_runner'\n",
      "INFO:autora.workflow.base:running next_function=<function from_experiment_runner_callable.<locals>._executor_experiment_runner at 0x14937e700>\n",
      "INFO:autora.workflow.base:getting step_name='theorist'\n",
      "INFO:autora.workflow.base:running next_function=<function from_theorist_estimator.<locals>._executor_theorist at 0x14937e700>\n",
      "INFO:autora.theorist.bms.regressor:BMS fitting started\n"
     ]
    },
    {
     "name": "stdout",
     "output_type": "stream",
     "text": [
      "MONITOR: Number of observations 12\n",
      "MONITOR: Number of models: 4\n",
      "PLANNER: Next step: experiment_runner\n",
      "MONITOR: Number of observations 15\n",
      "MONITOR: Number of models: 4\n",
      "PLANNER: Next step: theorist\n"
     ]
    },
    {
     "name": "stderr",
     "output_type": "stream",
     "text": [
      "100%|██████████| 100/100 [00:06<00:00, 14.46it/s]\n",
      "INFO:autora.theorist.bms.regressor:BMS fitting finished\n"
     ]
    },
    {
     "name": "stdout",
     "output_type": "stream",
     "text": [
      "MONITOR: Number of observations 15\n"
     ]
    }
   ],
   "source": [
    "from itertools import takewhile\n",
    "\n",
    "continue_criterion = lambda controller: len(controller.state.models) < 5\n",
    "\n",
    "for step in takewhile(continue_criterion, controller):\n",
    "    print(f\"MONITOR: Number of models: {len(step.state.models)}\")"
   ]
  },
  {
   "cell_type": "markdown",
   "metadata": {},
   "source": [
    "We can observe that the controller begins with sampling experiment condition using the ``seed_experimentalist``. It then proceeds to sample condition using the ``novelty_experimentalist`` until it has collected 7 or more observations, at which it switches to the ``falsification_experimentalist``."
   ]
  },
  {
   "cell_type": "markdown",
   "metadata": {},
   "source": [
    "## Customizing Automated Empirical Research Components\n",
    "\n",
    "``autora`` is a flexible framework in which users can integrate their own theorists, experimentalists, and experiment_runners in a automated empirical research workflow. This section illustrates the integration of custom theorists and experimentalists. For more information on how to contribute your own modules to the ``autora`` ecosystem, please refer to the [Contributor Documentation](https://autoresearch.github.io/autora/contribute/modules/).\n",
    "\n",
    "To illustrate the use of custom theorists and experimentalists, we consider a simple workflow introduced above:\n",
    "1. Generate 3 seed experimental conditions\n",
    "2. Iterate through the following steps\n",
    "   - Collect observations using ``run_experiment``\n",
    "   - Identify a model relating conditions to observations using ``theorist_bms``\n",
    "   - Identify 3 new experimental conditions using ``falsification_sample``"
   ]
  },
  {
   "cell_type": "code",
   "execution_count": null,
   "metadata": {},
   "outputs": [],
   "source": [
    "# generate initial pool of 3 experimental conditions\n",
    "seed_conditions = np.linspace(0,2*np.pi,3)\n",
    "\n",
    "params = {\n",
    "        \"experimentalist\":\n",
    "                {\"condition_pool\": condition_pool,\n",
    "                 \"model\": \"%models[-1]%\", # access last model generated by theorist\n",
    "                 \"reference_conditions\": \"%observations.ivs%\", # access all conditions probed so far\n",
    "                 \"reference_observations\": \"%observations.dvs%\", # access all observations collected so far\n",
    "                 \"metadata\": metadata,\n",
    "                 \"num_samples\": 3}\n",
    "    }\n",
    "\n",
    "# define controller\n",
    "controller = Controller(\n",
    "    monitor=monitor,\n",
    "    variables=metadata,\n",
    "    experimentalist=falsification_sample,\n",
    "    experiment_runner=run_experiment,\n",
    "    theorist=theorist_bms,\n",
    "    params=params,\n",
    ")\n",
    "\n",
    "# seed controller\n",
    "controller.seed(conditions=[seed_conditions])"
   ]
  },
  {
   "cell_type": "markdown",
   "metadata": {},
   "source": [
    "### Custom Theorists\n",
    "\n",
    "What if we wanted to replace the ``theorist_bms`` with a custom theorist?\n",
    "\n",
    "We can implement our theorist as a class that inherits from  `sklearn.base.BaseEstimator`. The class must implement the following methods:\n",
    "\n",
    "- `fit(self, conditions, observations)`\n",
    "- `predict(self, conditions)`\n",
    "\n",
    "The follwing code block implements such a theorist that fits a polynomial of a specified degree."
   ]
  },
  {
   "cell_type": "code",
   "execution_count": null,
   "metadata": {},
   "outputs": [],
   "source": [
    "\"\"\"\n",
    "Example Theorist\n",
    "\"\"\"\n",
    "\n",
    "import numpy as np\n",
    "from sklearn.base import BaseEstimator\n",
    "\n",
    "\n",
    "class PolynomialRegressor(BaseEstimator):\n",
    "    \"\"\"\n",
    "    This theorist fits a polynomial function to the data.\n",
    "    \"\"\"\n",
    "\n",
    "    def __init__(self, degree: int = 3):\n",
    "        self.degree = degree\n",
    "\n",
    "    def fit(self, conditions, observations):\n",
    "\n",
    "        # polyfit expects a 1D array\n",
    "        if conditions.ndim > 1:\n",
    "            conditions = conditions.flatten()\n",
    "\n",
    "        if observations.ndim > 1:\n",
    "            observations = observations.flatten()\n",
    "\n",
    "        # fit polynomial\n",
    "        self.coeff = np.polyfit(conditions, observations, 2)\n",
    "        self.polynomial = np.poly1d(self.coeff)\n",
    "        pass\n",
    "\n",
    "    def predict(self, conditions):\n",
    "        return self.polynomial(conditions)"
   ]
  },
  {
   "cell_type": "markdown",
   "metadata": {},
   "source": [
    "We can now assign the theorist to a new controller."
   ]
  },
  {
   "cell_type": "code",
   "execution_count": null,
   "metadata": {},
   "outputs": [],
   "source": [
    "theorist_poly = PolynomialRegressor(degree = 3)\n",
    "\n",
    "# define controller\n",
    "controller_with_polynomial_theorist = Controller(\n",
    "    monitor=monitor,\n",
    "    variables=metadata,\n",
    "    experimentalist=falsification_sample,\n",
    "    experiment_runner=run_experiment,\n",
    "    theorist=theorist_poly,\n",
    "    params=params,\n",
    ")\n",
    "\n",
    "# seed controller\n",
    "controller_with_polynomial_theorist.seed(conditions=[seed_conditions])"
   ]
  },
  {
   "cell_type": "markdown",
   "metadata": {},
   "source": [
    "Let's run the controller with the new theorist for 3 research cycles, defined by the number of models generated."
   ]
  },
  {
   "cell_type": "code",
   "execution_count": null,
   "metadata": {},
   "outputs": [
    {
     "name": "stderr",
     "output_type": "stream",
     "text": [
      "INFO:autora.workflow.base:getting step_name='experimentalist'\n",
      "INFO:autora.workflow.base:running next_function=<function from_experimentalist_pipeline.<locals>._executor_experimentalist at 0x14a875550>\n",
      "WARNING:autora.utils.deprecation:Use `falsification_score_sample_from_predictions` instead. `falsification_score_sampler_from_predictions` is deprecated.\n"
     ]
    },
    {
     "name": "stdout",
     "output_type": "stream",
     "text": [
      "MONITOR: Number of observations 15\n"
     ]
    }
   ],
   "source": [
    "from itertools import takewhile\n",
    "\n",
    "continue_criterion = lambda controller: len(controller.state.models) < 5\n",
    "\n",
    "for step in takewhile(continue_criterion, controller_with_polynomial_theorist):\n",
    "    print(f\"MONITOR: Number of models: {len(step.state.models)}\")"
   ]
  },
  {
   "cell_type": "markdown",
   "metadata": {},
   "source": [
    "We can plot the last model identified by our custom theorist against the ground truth."
   ]
  },
  {
   "cell_type": "code",
   "execution_count": null,
   "metadata": {},
   "outputs": [
    {
     "data": {
      "text/plain": [
       "<matplotlib.legend.Legend at 0x1491795e0>"
      ]
     },
     "execution_count": null,
     "metadata": {},
     "output_type": "execute_result"
    },
    {
     "data": {
      "image/png": "[encoded data removed]",
      "text/plain": [
       "<Figure size 640x480 with 1 Axes>"
      ]
     },
     "metadata": {},
     "output_type": "display_data"
    }
   ],
   "source": [
    "last_polynomial_model = controller_with_polynomial_theorist.state.models[-1]\n",
    "\n",
    "predicted_observations_polynomial = last_polynomial_model.predict(condition_pool)\n",
    "\n",
    "# plot model predictions against ground-truth\n",
    "import matplotlib.pyplot as plt\n",
    "plt.plot(condition_pool, ground_truth(condition_pool), label='Ground Truth')\n",
    "plt.plot(condition_pool, predicted_observations_polynomial, label='Polynomial Fit')\n",
    "plt.xlabel('x')\n",
    "plt.ylabel('y')\n",
    "plt.title('Model Predictions')\n",
    "plt.legend()"
   ]
  },
  {
   "cell_type": "markdown",
   "metadata": {},
   "source": [
    "### Custom Experimentalists\n",
    "\n",
    "We can also implement custom experimentalists. Experimentalists are generally implemented as functions that can be integrated into an\n",
    "[Experimentalist Pipeline](https://autoresearch.github.io/autora/core/docs/pipeline/Experimentalist%20Pipeline%20Examples/). For instance, an experimentalist sampler function expects a pool of experimental conditions–typically passed as a 2D numpy array named ``condition_pool``–and returns a modified set of experimental conditions.\n",
    "\n",
    "The following code block implements a basic experimentalist that considers two models, and identifies experimental conditions for which the two models differ most in their predictions. This is a special case of the [Model Disagreement Sampler](https://autoresearch.github.io/autora/user-guide/experimentalists/samplers/model-disagreement/)."
   ]
  },
  {
   "cell_type": "code",
   "execution_count": null,
   "metadata": {},
   "outputs": [],
   "source": [
    "def model_disagreement_sample(condition_pool, model_a, model_b, num_samples = 1):\n",
    "\n",
    "    # get predictions from both models\n",
    "    prediction_a = model_a.predict(condition_pool)\n",
    "    prediction_b = model_b.predict(condition_pool)\n",
    "\n",
    "    # compute mean squared distance between predictions\n",
    "    disagreement = np.mean((prediction_a - prediction_b) ** 2, axis=1)\n",
    "\n",
    "    # sort the summed disagreements and select the top n\n",
    "    selected_conditions_idx = (-disagreement).argsort()[:num_samples]\n",
    "\n",
    "    return condition_pool[selected_conditions_idx]"
   ]
  },
  {
   "cell_type": "markdown",
   "metadata": {},
   "source": [
    "We can illustrate our new experimentalist sampler by fitting two different theorists to an initial set of conditions and observations. Here, we consider the BMS theorist and our custom polynomial theorist from above. We then sample 3 experimental conditions using our new experimentalist ``model_disagreement_sample``."
   ]
  },
  {
   "cell_type": "code",
   "execution_count": null,
   "metadata": {},
   "outputs": [
    {
     "name": "stderr",
     "output_type": "stream",
     "text": [
      "INFO:autora.theorist.bms.regressor:BMS fitting started\n",
      "100%|██████████| 100/100 [00:10<00:00,  9.61it/s]\n",
      "INFO:autora.theorist.bms.regressor:BMS fitting finished\n"
     ]
    }
   ],
   "source": [
    "# fit two theorists\n",
    "theorist_bms.fit(initial_conditions, initial_observations)\n",
    "theorist_poly.fit(initial_conditions, initial_observations)\n",
    "\n",
    "# sample experimental conditions with our custom experimentalist sampler function\n",
    "selected_conditions = model_disagreement_sample(condition_pool,\n",
    "                                                theorist_bms,\n",
    "                                                theorist_poly,\n",
    "                                                num_samples = 4)"
   ]
  },
  {
   "cell_type": "markdown",
   "metadata": {},
   "source": [
    "After fitting both theorists, we can compare their predictions across the entire pool of experimental conditions. We will add the sampled experimental conditions to the plot."
   ]
  },
  {
   "cell_type": "code",
   "execution_count": null,
   "metadata": {},
   "outputs": [
    {
     "data": {
      "text/plain": [
       "<matplotlib.legend.Legend at 0x14b7727c0>"
      ]
     },
     "execution_count": null,
     "metadata": {},
     "output_type": "execute_result"
    },
    {
     "data": {
      "image/png": "[encoded data removed]",
      "text/plain": [
       "<Figure size 640x480 with 1 Axes>"
      ]
     },
     "metadata": {},
     "output_type": "display_data"
    }
   ],
   "source": [
    "# plot model predictions against ground-truth\n",
    "import matplotlib.pyplot as plt\n",
    "\n",
    "# obtain predictions for both theorists\n",
    "predicted_observations_bms = theorist_bms.predict(condition_pool)\n",
    "predicted_observations_poly = theorist_poly.predict(condition_pool)\n",
    "\n",
    "plt.plot(condition_pool, ground_truth(condition_pool), label='Ground Truth')\n",
    "plt.plot(condition_pool, predicted_observations_bms, label='Predictions of BMS Theorist')\n",
    "plt.plot(condition_pool, predicted_observations_poly, label='Predictions of Polynomial Theorist')\n",
    "\n",
    "y_min = -2.5\n",
    "y_max  = 1\n",
    "\n",
    "# plot conditions obtained by novelty sampler\n",
    "for idx, condition in enumerate(selected_conditions):\n",
    "    if idx == 0:\n",
    "        plt.plot([condition[0], condition[0]],\n",
    "                 [y_min, y_max],\n",
    "                 '--r', label='selected conditions')\n",
    "    else: # we want to omit the label for all other conditions\n",
    "        plt.plot()\n",
    "\n",
    "\n",
    "plt.xlabel('x')\n",
    "plt.ylabel('y')\n",
    "plt.title('Model Disagreement')\n",
    "plt.legend()"
   ]
  },
  {
   "cell_type": "markdown",
   "metadata": {},
   "source": [
    "Finally, we can integrate our custom experimentalist and theorist into a closed-loop empirical research workflow, e.g., using basic loop constructs."
   ]
  },
  {
   "cell_type": "code",
   "execution_count": null,
   "metadata": {},
   "outputs": [
    {
     "name": "stderr",
     "output_type": "stream",
     "text": [
      "100%|██████████| 100/100 [00:10<00:00,  9.89it/s]\n"
     ]
    },
    {
     "name": "stdout",
     "output_type": "stream",
     "text": [
      "Loss of BMS theorist in cycle 0: 1.2163627818326361\n",
      "Loss of polynomial theorist in cycle 0: 20.625978925891836\n"
     ]
    },
    {
     "name": "stderr",
     "output_type": "stream",
     "text": [
      "100%|██████████| 100/100 [00:10<00:00,  9.87it/s]\n"
     ]
    },
    {
     "name": "stdout",
     "output_type": "stream",
     "text": [
      "Loss of BMS theorist in cycle 1: 0.0\n",
      "Loss of polynomial theorist in cycle 1: 0.5257924709018393\n"
     ]
    },
    {
     "name": "stderr",
     "output_type": "stream",
     "text": [
      "100%|██████████| 100/100 [00:08<00:00, 12.09it/s]\n"
     ]
    },
    {
     "name": "stdout",
     "output_type": "stream",
     "text": [
      "Loss of BMS theorist in cycle 2: 0.0\n",
      "Loss of polynomial theorist in cycle 2: 0.8453161612839792\n"
     ]
    },
    {
     "name": "stderr",
     "output_type": "stream",
     "text": [
      "100%|██████████| 100/100 [00:09<00:00, 10.20it/s]\n"
     ]
    },
    {
     "name": "stdout",
     "output_type": "stream",
     "text": [
      "Loss of BMS theorist in cycle 3: 0.0\n",
      "Loss of polynomial theorist in cycle 3: 0.2918752703795088\n"
     ]
    },
    {
     "name": "stderr",
     "output_type": "stream",
     "text": [
      "100%|██████████| 100/100 [00:10<00:00,  9.57it/s]"
     ]
    },
    {
     "name": "stdout",
     "output_type": "stream",
     "text": [
      "Loss of BMS theorist in cycle 4: 0.5358783173609328\n",
      "Loss of polynomial theorist in cycle 4: 0.2796160348658682\n"
     ]
    },
    {
     "name": "stderr",
     "output_type": "stream",
     "text": [
      "\n"
     ]
    }
   ],
   "source": [
    "num_cycles = 5 # number of empirical research cycles\n",
    "measurements_per_cycle = 3 # number of data points to collect for each cycle\n",
    "\n",
    "# generate an initial set experimental conditions\n",
    "conditions = random_pool(metadata.independent_variables[0].allowed_values,\n",
    "                                 n=measurements_per_cycle)\n",
    "# convert iterator into 2-dimensional numpy array\n",
    "conditions = np.array(list(conditions)).reshape(-1, 1)\n",
    "\n",
    "# collect initial set of observations\n",
    "observations = run_experiment(conditions)\n",
    "\n",
    "for cycle in range(num_cycles):\n",
    "\n",
    "  # use BMS theorist and custom polynomial theorist to fit the model to the data\n",
    "  theorist_bms.fit(conditions, observations)\n",
    "  theorist_poly.fit(conditions, observations)\n",
    "\n",
    "  # obtain new conditions from custrom experimentalist sampler\n",
    "  new_conditions = model_disagreement_sample(condition_pool,\n",
    "                                                theorist_bms,\n",
    "                                                theorist_poly,\n",
    "                                                num_samples = 3)\n",
    "\n",
    "  # obtain new observations\n",
    "  new_observations = run_experiment(new_conditions)\n",
    "\n",
    "  # combine old and new conditions and observations\n",
    "  conditions = np.concatenate((conditions, new_conditions))\n",
    "  observations = np.concatenate((observations, new_observations))\n",
    "\n",
    "  # evaluate model of the theorist based on its ability to predict each observation from the ground truth, evaluated across the entire space of experimental conditions\n",
    "  loss_bms = np.mean(np.square(theorist_bms.predict(condition_pool) - ground_truth(condition_pool)))\n",
    "  loss_poly = np.mean(np.square(theorist_poly.predict(condition_pool) - ground_truth(condition_pool)))\n",
    "  print(\"Loss of BMS theorist in cycle {}: {}\".format(cycle, loss_bms))\n",
    "  print(\"Loss of polynomial theorist in cycle {}: {}\".format(cycle, loss_poly))"
   ]
  },
  {
   "cell_type": "markdown",
   "metadata": {},
   "source": [
    "## Help\n",
    "We hope that this tutorial helped demonstrate the fundamental components of ``autora``, and how they can be combined to facilitate automated (closed-loop) empirical research through synthetic experiments. We encourage you to explore other [tutorials](https://autoresearch.github.io/autora/tutorials/) and check out the [documentation](https://autoresearch.github.io/).\n",
    "\n",
    "If you encounter any issues, bugs, or questions, please reach out to us through the [AutoRA Forum](https://github.com/orgs/AutoResearch/discussions). Feel free to report any bugs by [creating an issue in the AutoRA repository](https://github.com/AutoResearch/autora/issues).\n",
    "\n",
    "You may also post questions directly into the [User Q&A Section](https://github.com/orgs/AutoResearch/discussions/categories/using-autora).\n"
   ]
  }
 ],
 "metadata": {
  "colab": {
   "provenance": [],
   "toc_visible": true
  },
  "kernelspec": {
   "display_name": "Python 3",
   "name": "python3"
  },
  "language_info": {
   "name": "python"
  }
 },
 "nbformat": 4,
 "nbformat_minor": 0
}
