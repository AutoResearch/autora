{
  "cells": [
    {
      "cell_type": "markdown",
      "metadata": {
        "id": "_q7iLq3GUYMz"
      },
      "source": [
        "# Introduction\n",
        "## Basic Tutorial III: Workflow Logic"
      ]
    },
    {
      "cell_type": "markdown",
      "metadata": {
        "pycharm": {
          "name": "#%% md\n"
        },
        "id": "5mfUKtGTUYM1"
      },
      "source": [
        "**[AutoRA](https://pypi.org/project/autora/)** (**Au**tomated **R**esearch **A**ssistant) is an open-source framework designed to automate various stages of empirical research, including model discovery, experimental design, and data collection.\n",
        "\n",
        "This notebook is the third of four notebooks within the basic tutorials of ``autora``. We suggest that you go through these notebooks in order as each builds upon the last. However, each notebook is self-contained and so there is no need to *run* the content of the last notebook for your current notebook. We will here provide a link to each notebook, but we will also provide a link at the end of each notebook to navigate you to the next notebook.\n",
        "\n",
        "[AutoRA Basic Tutorial I: Components](www.addlink.com) <br>\n",
        "[AutoRA Basic Tutorial II: Loop Constructs](www.addlink.com) <br>\n",
        "[AutoRA Basic Tutorial III: Workflow Logic](www.addlink.com) <br>\n",
        "[AutoRA Basic Tutorial IV: Customization](www.addlink.com) <br>\n",
        "\n",
        "These notebooks provide a comprehensive introduction to the capabilities of ``autora``. **It demonstrates the fundamental components of ``autora``, and how they can be combined to facilitate automated (closed-loop) empirical research through synthetic experiments.**\n",
        "\n",
        "**How to use this notebook** *You can progress through the notebook section by section or directly navigate to specific sections. If you choose the latter, it is recommended to execute all cells in the notebook initially, allowing you to easily rerun the cells in each section later without issues.*"
      ]
    },
    {
      "cell_type": "markdown",
      "source": [
        "## Tutorial Setup\n",
        "This tutorial is self-contained so that you do not need to run the previous notebook to begin. However, the four notebooks are continuous so that what we define in a previous notebook should still exist within this notebook. As such, we will here re-run relevant code from past tutorials. We will not again walk you through these, but if you need a reminder what they are then go see the descriptions in previous notebooks."
      ],
      "metadata": {
        "id": "BuCna7-ytMBB"
      }
    },
    {
      "cell_type": "code",
      "source": [
        "#### Installation ####\n",
        "!pip install -q \"autora[experimentalist-falsification]\"\n",
        "!pip install -q \"autora[experimentalist-sampler-novelty]\"\n",
        "!pip install -q \"autora[theorist-bms]\"\n",
        "\n",
        "#### Import modules ####\n",
        "import numpy as np\n",
        "import torch\n",
        "from autora.variable import DV, IV, ValueType, VariableCollection\n",
        "from autora.experimentalist.pooler.grid import grid_pool\n",
        "from autora.experimentalist.sampler.falsification import falsification_sample\n",
        "from autora.experimentalist.sampler.novelty import novelty_sample\n",
        "from autora.theorist.bms import BMSRegressor\n",
        "\n",
        "#### Set seeds ####\n",
        "np.random.seed(42)\n",
        "torch.manual_seed(42)\n",
        "\n",
        "#### Define ground truth and experiment runner ####\n",
        "ground_truth = lambda x: np.sin(x)\n",
        "run_experiment = lambda x: ground_truth(x) + np.random.normal(0, 0.1, size=x.shape)\n",
        "\n",
        "#### Define condition pool ####\n",
        "condition_pool = np.linspace(0, 2 * np.pi, 10)\n",
        "condition_pool = condition_pool.reshape((len(condition_pool), 1))\n",
        "\n",
        "#### Define metadata ####\n",
        "iv = IV(name=\"x\", value_range=(0, 2 * np.pi), allowed_values=np.linspace(0, 2 * np.pi, 10))\n",
        "dv = DV(name=\"y\", type=ValueType.REAL)\n",
        "metadata = VariableCollection(independent_variables=[iv],dependent_variables=[dv])\n",
        "\n",
        "#### Define theorists ####\n",
        "theorist_bms = BMSRegressor(epochs=100)"
      ],
      "metadata": {
        "id": "RuCZVkP7tM6L"
      },
      "execution_count": 28,
      "outputs": []
    },
    {
      "cell_type": "markdown",
      "metadata": {
        "id": "fjJRnOXhUYNM"
      },
      "source": [
        "# Workflow Logic\n",
        "\n",
        "Workflows in ``autora`` implement the *autonomous empirical research paradigm*. This paradigm centers around the dynamic interplay between automated theorists and automated experimentalists. As outlined above, theorists rely–among other things–on existing data to construct computational models by linking experimental conditions to dependent measures. Experimentalists design follow-up experiments to refine and validate models generated by the theorist. Together, these agents enable a closed-loop scientific discovery process.\n",
        "\n",
        "The following sections introduce ways of specifying workflows directly in ``autora``. For more information on workflows, please refer to the [corresponding documentation](https://autoresearch.github.io/autora/user-guide/workflow/)."
      ]
    },
    {
      "cell_type": "markdown",
      "metadata": {
        "id": "lWV6x-oUUYNM"
      },
      "source": [
        "## Basic Workflows\n",
        "\n",
        "This section provides an introduction to handling workflows with the controller object. Here, we focus on workflows implementing the **default execution order**: (1) generate experiment conditions using the ``eperimentalist``, (2) collect observations using the ``experiment_runner``, and (3), generate a model that links experiment conditions to observations using the ``theorist``.\n",
        "\n",
        "We begin with implementing the following workflow:\n",
        "1. Generate seed experimental conditions\n",
        "2. Iterate 5 times through the following steps\n",
        "   - Collect observations using ``run_experiment``\n",
        "   - Identify a model relating conditions to observations using ``theorist_bms``\n",
        "   - Identify 3 new experimental conditions using ``falsification_sample``\n",
        "\n",
        "### Declaration\n",
        "\n",
        "We begin with defining a simple workflow. Workflows can be encapsulated in a ``Controller`` object. For instance, the following code block sets up a closed-loop cycle between (1) a grid pooler for sampling experimental conditions, (2) an experiment runner for obtaining respective observations, and (3) a BMS theorist for discoverying an equation relating experimental conditions to observations.\n",
        "\n",
        "As with pipelines, we can pass the ``Controller`` object static parameters for each component. In this case, we provide the grid experimentalist with information about the independent variables to sample.\n",
        "\n",
        "**Note**: *We haven't included the ``falsification_sample`` experimentalist into our workflow yet because it requires us to specify state-dependent input arguments (e.g., the model generated by the theorist), which we will cover at the end of this section.*"
      ]
    },
    {
      "cell_type": "code",
      "execution_count": 29,
      "metadata": {
        "id": "crMFLnTgUYNM"
      },
      "outputs": [],
      "source": [
        "from autora.workflow import Controller\n",
        "\n",
        "controller = Controller(\n",
        "    variables=metadata,\n",
        "    experimentalist=grid_pool,\n",
        "    experiment_runner=run_experiment,\n",
        "    theorist=theorist_bms,\n",
        "    params={\n",
        "        \"experimentalist\":\n",
        "                {\"ivs\": metadata.independent_variables}\n",
        "    }\n",
        ")"
      ]
    },
    {
      "cell_type": "markdown",
      "metadata": {
        "id": "p1ZHI56hUYNM"
      },
      "source": [
        "In the declaration of the ``params`` parameter, we first specify the type of the component we seek to parameterize as a dictionary key, e.g., ``\"experimentalist\"``. Then we nest within it, another dictionary with the input arguments to the respective component as keys (e.g., ``\"ivs\"`` is an input argument to the ``grid_pool`` experimentalist) along with their values (e.g.,  ``metadata.independent_variables``).\n",
        "\n",
        "### Monitoring\n",
        "\n",
        "Before we execute the controller, lets also add a **monitor function** which is executed with every autonomous empirical research step. The following code block prints the last generated result of the workflow defined by the controller. All workflow results are stored in the ``state.history`` object. We can access the kind of the latest result using ``state.history[-1].kind``."
      ]
    },
    {
      "cell_type": "code",
      "execution_count": 30,
      "metadata": {
        "id": "AyKM11z6UYNN"
      },
      "outputs": [],
      "source": [
        "# define monitor function\n",
        "def monitor(state):\n",
        "    print(f\"MONITOR: Generated new {state.history[-1].kind}\")\n",
        "\n",
        "# add monitor function to controller\n",
        "controller.monitor = monitor"
      ]
    },
    {
      "cell_type": "markdown",
      "metadata": {
        "id": "QWhI8SvuUYNN"
      },
      "source": [
        "### Execution\n",
        "\n",
        "The controller is defined as an iterator. We can execute a single step in the workflow by passing the ``controller`` object to the ``next()`` method. The following code block executes three steps of the default research cycle."
      ]
    },
    {
      "cell_type": "code",
      "execution_count": 31,
      "metadata": {
        "id": "wIwF6i70UYNN",
        "colab": {
          "base_uri": "https://localhost:8080/"
        },
        "outputId": "b0fbf84c-85ac-4f89-c9c8-705c4a5a4e22"
      },
      "outputs": [
        {
          "output_type": "stream",
          "name": "stdout",
          "text": [
            "MONITOR: Generated new CONDITION\n",
            "MONITOR: Generated new OBSERVATION\n"
          ]
        },
        {
          "output_type": "stream",
          "name": "stderr",
          "text": [
            "100%|██████████| 100/100 [00:21<00:00,  4.66it/s]\n"
          ]
        },
        {
          "output_type": "stream",
          "name": "stdout",
          "text": [
            "MONITOR: Generated new MODEL\n"
          ]
        },
        {
          "output_type": "execute_result",
          "data": {
            "text/plain": [
              "<autora.workflow.controller.Controller at 0x7f1dc043bb20>"
            ]
          },
          "metadata": {},
          "execution_count": 31
        }
      ],
      "source": [
        "next(controller)\n",
        "next(controller)\n",
        "next(controller)"
      ]
    },
    {
      "cell_type": "markdown",
      "metadata": {
        "id": "0OJ8WdFlUYNN"
      },
      "source": [
        "As indicated by the monitor, the **default execution order** is as follows: (1) generate experiment conditions, (2) collect observations, and (3), generate a model. After executing step (3), the controller would then continue with step (1):"
      ]
    },
    {
      "cell_type": "code",
      "execution_count": 32,
      "metadata": {
        "id": "FZXvTUG2UYNN",
        "colab": {
          "base_uri": "https://localhost:8080/"
        },
        "outputId": "848dcef6-cff4-4f1b-a781-2db960f58f06"
      },
      "outputs": [
        {
          "output_type": "stream",
          "name": "stdout",
          "text": [
            "MONITOR: Generated new CONDITION\n"
          ]
        },
        {
          "output_type": "execute_result",
          "data": {
            "text/plain": [
              "<autora.workflow.controller.Controller at 0x7f1dc043bb20>"
            ]
          },
          "metadata": {},
          "execution_count": 32
        }
      ],
      "source": [
        "next(controller)"
      ]
    },
    {
      "cell_type": "markdown",
      "metadata": {
        "id": "r7gneVACUYNN"
      },
      "source": [
        "Since ``controller`` is an iterator, we can use [itertools](https://docs.python.org/3/library/itertools.html) for efficient looping. The following example uses ``takewhile`` to define a loop that stops as soon as we obtained three models from the theorist.\n",
        "\n",
        "We begin with defining a lambda function which returns true whenever the controller has less then 5 models. As explained in the next subsection, we can obtain a list of generated models by accessing the controller's state via ``controller.state.models``."
      ]
    },
    {
      "cell_type": "code",
      "execution_count": 33,
      "metadata": {
        "id": "Hanf3vpEUYNO"
      },
      "outputs": [],
      "source": [
        "continue_criterion = lambda controller: len(controller.state.models) < 5"
      ]
    },
    {
      "cell_type": "markdown",
      "metadata": {
        "id": "krPjzb8hUYNO"
      },
      "source": [
        "Now we can run a for-loop using the ``controller`` as an iterator, and ``takewhile`` as iterator logic that continues to execute steps of the controller as long as  ``continue_criterion`` returns ``True``. In this way, we can execute 5 research cycles."
      ]
    },
    {
      "cell_type": "code",
      "execution_count": 34,
      "metadata": {
        "id": "8FFj4NFLUYNO",
        "colab": {
          "base_uri": "https://localhost:8080/"
        },
        "outputId": "15ee6b27-ebbe-450b-c99b-8a1e1eef66a5"
      },
      "outputs": [
        {
          "output_type": "stream",
          "name": "stdout",
          "text": [
            "MONITOR: Generated new OBSERVATION\n",
            "Number of models: 1\n"
          ]
        },
        {
          "output_type": "stream",
          "name": "stderr",
          "text": [
            "100%|██████████| 100/100 [00:20<00:00,  5.00it/s]\n"
          ]
        },
        {
          "output_type": "stream",
          "name": "stdout",
          "text": [
            "MONITOR: Generated new MODEL\n",
            "Number of models: 2\n",
            "MONITOR: Generated new CONDITION\n",
            "Number of models: 2\n",
            "MONITOR: Generated new OBSERVATION\n",
            "Number of models: 2\n"
          ]
        },
        {
          "output_type": "stream",
          "name": "stderr",
          "text": [
            "100%|██████████| 100/100 [00:11<00:00,  9.04it/s]\n"
          ]
        },
        {
          "output_type": "stream",
          "name": "stdout",
          "text": [
            "MONITOR: Generated new MODEL\n",
            "Number of models: 3\n",
            "MONITOR: Generated new CONDITION\n",
            "Number of models: 3\n",
            "MONITOR: Generated new OBSERVATION\n",
            "Number of models: 3\n"
          ]
        },
        {
          "output_type": "stream",
          "name": "stderr",
          "text": [
            "100%|██████████| 100/100 [00:11<00:00,  8.92it/s]\n"
          ]
        },
        {
          "output_type": "stream",
          "name": "stdout",
          "text": [
            "MONITOR: Generated new MODEL\n",
            "Number of models: 4\n",
            "MONITOR: Generated new CONDITION\n",
            "Number of models: 4\n",
            "MONITOR: Generated new OBSERVATION\n",
            "Number of models: 4\n"
          ]
        },
        {
          "output_type": "stream",
          "name": "stderr",
          "text": [
            "100%|██████████| 100/100 [00:11<00:00,  8.92it/s]"
          ]
        },
        {
          "output_type": "stream",
          "name": "stdout",
          "text": [
            "MONITOR: Generated new MODEL\n"
          ]
        },
        {
          "output_type": "stream",
          "name": "stderr",
          "text": [
            "\n"
          ]
        }
      ],
      "source": [
        "from itertools import takewhile\n",
        "\n",
        "for step in takewhile(continue_criterion, controller):\n",
        "    print(f\"Number of models: {len(step.state.models)}\")"
      ]
    },
    {
      "cell_type": "markdown",
      "metadata": {
        "id": "ipgISi2QUYNO"
      },
      "source": [
        "### Result Inspection\n",
        "\n",
        "After each executed step, we can observe the result generated by the ``controller``. All results are stored in in ``controller.state.history``. Each result is composed of a value specifying its ``kind`` (``CONDITION``, ``OBSERVATION``, or ``MODEL``) and the respective ``data``.\n",
        "\n",
        "We can obtain the observations collected in the last step of the workflow as follows:"
      ]
    },
    {
      "cell_type": "code",
      "execution_count": 35,
      "metadata": {
        "id": "xaigjyMpUYNO",
        "colab": {
          "base_uri": "https://localhost:8080/"
        },
        "outputId": "6315b7ee-c334-4702-c6e1-c0f2d5480317"
      },
      "outputs": [
        {
          "output_type": "stream",
          "name": "stdout",
          "text": [
            "ResultKind.MODEL\n",
            "BMSRegressor(epochs=100)\n"
          ]
        }
      ],
      "source": [
        "result = controller.state.history[-1]\n",
        "\n",
        "print(result.kind)\n",
        "print(result.data)"
      ]
    },
    {
      "cell_type": "markdown",
      "metadata": {
        "id": "p3mLxYfyUYNO"
      },
      "source": [
        "We can also specify the kind of result we are looking for directly. For instance, we can obtain all models generated by the theorist using ``controller.state.models``. The following code block prints the last model discovered by the BMS theorist (note that ``repr()`` is a function specific to the BMS theorist which returns its model as a string)."
      ]
    },
    {
      "cell_type": "code",
      "execution_count": 36,
      "metadata": {
        "id": "DEoLhXo6UYNO",
        "colab": {
          "base_uri": "https://localhost:8080/"
        },
        "outputId": "a8205c81-3052-4a01-db3c-bbc7d03fcdf5"
      },
      "outputs": [
        {
          "output_type": "stream",
          "name": "stdout",
          "text": [
            "sin(X0)\n"
          ]
        }
      ],
      "source": [
        "print(controller.state.models[-1].repr())"
      ]
    },
    {
      "cell_type": "markdown",
      "metadata": {
        "id": "XT3kZJJmUYNP"
      },
      "source": [
        "Alternatively, we can access probed experimental conditions via ``controller.state.conditions`` and observations via ``controller.state.observations``, respectively. The following code block requests the latest experimental conditions identified by the experimentalist and the corresponding observations collected by the experiment runner"
      ]
    },
    {
      "cell_type": "code",
      "execution_count": 37,
      "metadata": {
        "id": "oQu4pF_yUYNP",
        "colab": {
          "base_uri": "https://localhost:8080/"
        },
        "outputId": "846cdb8d-f07a-4ca8-f878-6c06cbfec54a"
      },
      "outputs": [
        {
          "output_type": "stream",
          "name": "stdout",
          "text": [
            "Conditions:\n",
            "[[0.        ]\n",
            " [0.6981317 ]\n",
            " [1.3962634 ]\n",
            " [2.0943951 ]\n",
            " [2.7925268 ]\n",
            " [3.4906585 ]\n",
            " [4.1887902 ]\n",
            " [4.88692191]\n",
            " [5.58505361]\n",
            " [6.28318531]]\n",
            "Observations:\n",
            "[[ 0.          0.07384666]\n",
            " [ 0.6981317   0.65992444]\n",
            " [ 1.3962634   0.97324292]\n",
            " [ 2.0943951   0.83591503]\n",
            " [ 2.7925268   0.19416794]\n",
            " [ 3.4906585  -0.41400456]\n",
            " [ 4.1887902  -0.91208928]\n",
            " [ 4.88692191 -0.87909553]\n",
            " [ 5.58505361 -0.60842578]\n",
            " [ 6.28318531 -0.17630402]]\n"
          ]
        }
      ],
      "source": [
        "print(f\"Conditions:\\n{controller.state.conditions[-1]}\")\n",
        "print(f\"Observations:\\n{controller.state.observations[-1]}\")"
      ]
    },
    {
      "cell_type": "markdown",
      "metadata": {
        "id": "aabSIf3fUYNP"
      },
      "source": [
        "### Seeding\n",
        "\n",
        "The default execution order always begins with an experimentalist. This is problematic if we want to use an experimentalist that depends on prior steps (e.g., the falsification experimentalist requires a model generated by the theorist). We can circumvent this problem by seeding the controller with experiment conditons.\n",
        "\n",
        "The following code block seeds the controller with 3 experiment conditions. We first generate the ``seed_conditions``, and then pass them, encapsulated in a list, to the ``seed`` function of the ``controller`` object."
      ]
    },
    {
      "cell_type": "code",
      "execution_count": 38,
      "metadata": {
        "id": "jyF6yXDCUYNP",
        "colab": {
          "base_uri": "https://localhost:8080/"
        },
        "outputId": "97bb5399-ff3e-49ed-aec1-3783551dd994"
      },
      "outputs": [
        {
          "output_type": "stream",
          "name": "stdout",
          "text": [
            "MONITOR: Generated new OBSERVATION\n"
          ]
        },
        {
          "output_type": "execute_result",
          "data": {
            "text/plain": [
              "<autora.workflow.controller.Controller at 0x7f1dbe8150c0>"
            ]
          },
          "metadata": {},
          "execution_count": 38
        }
      ],
      "source": [
        "# generate initial pool of 3 experimental conditions\n",
        "seed_conditions = np.linspace(0,2*np.pi,3)\n",
        "\n",
        "# define controller\n",
        "controller = Controller(\n",
        "    monitor=monitor,\n",
        "    variables=metadata,\n",
        "    experimentalist=grid_pool,\n",
        "    experiment_runner=run_experiment,\n",
        "    theorist=theorist_bms,\n",
        "    params={\n",
        "        \"experimentalist\":\n",
        "                {\"ivs\": metadata.independent_variables}\n",
        "    }\n",
        ")\n",
        "\n",
        "# seed controller\n",
        "controller.seed(conditions=[seed_conditions])\n",
        "\n",
        "next(controller)"
      ]
    },
    {
      "cell_type": "markdown",
      "metadata": {
        "id": "CTNPh9LAUYNP"
      },
      "source": [
        "Note that, since we seeded the controller with initial experimental conditions, the next step is to execute the ``experiment_runner``. This is why the first step reported by the monitor involves the generation of observations (based on the seed experimental conditions).\n",
        "\n"
      ]
    },
    {
      "cell_type": "markdown",
      "metadata": {
        "id": "atOAyk5iUYNP"
      },
      "source": [
        "### Accessing State-Dependent Properties\n",
        "\n",
        "Some automated empirical research components require input arguments that depend on the result of the last step in the workflow. For instance, the ``falsification_sample`` experimentalist depends on the previously collected experimental conditions, observations, and the fitted model. For such cases, it is possible to use \"state-dependent properties\" in the ``params`` dictionary. These are the following strings, which will be replaced during execution by their respective current values:\n",
        "\n",
        "- ``\"%observations.ivs[-1]%\"``: the last observed independent variables <br>\n",
        "- ``\"%observations.dvs[-1]%\"``: the last observed dependent variables <br>\n",
        "- ``\"%observations.ivs%\"``: all the observed independent variables (observations), concatenated into a single array <br>\n",
        "- ``\"%observations.dvs%\"``: all the observed dependent variables (experimental conditions), concatenated into a single array <br>\n",
        "- ``\"%models[-1]%\"``: the last fitted theorist <br>\n",
        "- ``\"%models%\"``: all the fitted theorists <br>\n",
        "\n",
        "In the following example, we use the ``\"%observations.ivs%\"``, ``\"%observations.dvs%\"``, and ``\"%models%\"``  properties for the ``falsification_sample`` experimentalist which seeks to identify experimental conditions that are predicted to maximize the loss of the fitted model.\n",
        "\n",
        "The code block below implements the following workflow:\n",
        "1. Generate 3 seed experimental conditions\n",
        "2. Iterate 5 times through the following steps\n",
        "   - Collect observations using ``run_experiment``\n",
        "   - Identify a model relating conditions to observations using ``theorist_bms``\n",
        "   - Identify 3 new experimental conditions using ``falsification_sample``\n"
      ]
    },
    {
      "cell_type": "code",
      "execution_count": 39,
      "metadata": {
        "id": "B8Bt0YeQUYNP"
      },
      "outputs": [],
      "source": [
        "# generate initial pool of 3 experimental conditions\n",
        "seed_conditions = np.linspace(0,2*np.pi,3)\n",
        "\n",
        "# define controller\n",
        "controller = Controller(\n",
        "    monitor=monitor,\n",
        "    variables=metadata,\n",
        "    experimentalist=falsification_sample,\n",
        "    experiment_runner=run_experiment,\n",
        "    theorist=theorist_bms,\n",
        "    params={\n",
        "        \"experimentalist\":\n",
        "                {\"condition_pool\": condition_pool,\n",
        "                 \"model\": \"%models[-1]%\", # access last model generated by theorist\n",
        "                 \"reference_conditions\": \"%observations.ivs%\", # access all conditions probed so far\n",
        "                 \"reference_observations\": \"%observations.dvs%\", # access all observations collected so far\n",
        "                 \"metadata\": metadata,\n",
        "                 \"num_samples\": 3}\n",
        "    }\n",
        ")\n",
        "\n",
        "# seed controller\n",
        "controller.seed(conditions=[seed_conditions])"
      ]
    },
    {
      "cell_type": "markdown",
      "metadata": {
        "id": "GIlhC3UZUYNQ"
      },
      "source": [
        "Using ``takewhile``, we can now specify a workflow logic that executes the automated research process 5 times. Accordingly, we stop execution of the ``controller`` as soon as it accumulated 5 models."
      ]
    },
    {
      "cell_type": "code",
      "execution_count": 40,
      "metadata": {
        "id": "L_TPQmSJUYNQ",
        "colab": {
          "base_uri": "https://localhost:8080/"
        },
        "outputId": "e329e8db-2839-4d42-b678-f051c388cd86"
      },
      "outputs": [
        {
          "output_type": "stream",
          "name": "stdout",
          "text": [
            "MONITOR: Generated new OBSERVATION\n",
            "Number of models: 0\n"
          ]
        },
        {
          "output_type": "stream",
          "name": "stderr",
          "text": [
            "100%|██████████| 100/100 [00:10<00:00,  9.51it/s]\n",
            "WARNING:autora.utils.deprecation:Use `falsification_score_sample_from_predictions` instead. `falsification_score_sampler_from_predictions` is deprecated.\n"
          ]
        },
        {
          "output_type": "stream",
          "name": "stdout",
          "text": [
            "MONITOR: Generated new MODEL\n",
            "Number of models: 1\n",
            "MONITOR: Generated new CONDITION\n",
            "Number of models: 1\n",
            "MONITOR: Generated new OBSERVATION\n",
            "Number of models: 1\n"
          ]
        },
        {
          "output_type": "stream",
          "name": "stderr",
          "text": [
            "100%|██████████| 100/100 [00:11<00:00,  8.80it/s]\n",
            "WARNING:autora.utils.deprecation:Use `falsification_score_sample_from_predictions` instead. `falsification_score_sampler_from_predictions` is deprecated.\n"
          ]
        },
        {
          "output_type": "stream",
          "name": "stdout",
          "text": [
            "MONITOR: Generated new MODEL\n",
            "Number of models: 2\n",
            "MONITOR: Generated new CONDITION\n",
            "Number of models: 2\n",
            "MONITOR: Generated new OBSERVATION\n",
            "Number of models: 2\n"
          ]
        },
        {
          "output_type": "stream",
          "name": "stderr",
          "text": [
            "100%|██████████| 100/100 [00:11<00:00,  8.70it/s]\n",
            "WARNING:autora.utils.deprecation:Use `falsification_score_sample_from_predictions` instead. `falsification_score_sampler_from_predictions` is deprecated.\n"
          ]
        },
        {
          "output_type": "stream",
          "name": "stdout",
          "text": [
            "MONITOR: Generated new MODEL\n",
            "Number of models: 3\n",
            "MONITOR: Generated new CONDITION\n",
            "Number of models: 3\n",
            "MONITOR: Generated new OBSERVATION\n",
            "Number of models: 3\n"
          ]
        },
        {
          "output_type": "stream",
          "name": "stderr",
          "text": [
            "100%|██████████| 100/100 [00:11<00:00,  8.98it/s]\n",
            "WARNING:autora.utils.deprecation:Use `falsification_score_sample_from_predictions` instead. `falsification_score_sampler_from_predictions` is deprecated.\n"
          ]
        },
        {
          "output_type": "stream",
          "name": "stdout",
          "text": [
            "MONITOR: Generated new MODEL\n",
            "Number of models: 4\n",
            "MONITOR: Generated new CONDITION\n",
            "Number of models: 4\n",
            "MONITOR: Generated new OBSERVATION\n",
            "Number of models: 4\n"
          ]
        },
        {
          "output_type": "stream",
          "name": "stderr",
          "text": [
            "100%|██████████| 100/100 [00:10<00:00,  9.47it/s]\n",
            "WARNING:autora.utils.deprecation:Use `falsification_score_sample_from_predictions` instead. `falsification_score_sampler_from_predictions` is deprecated.\n"
          ]
        },
        {
          "output_type": "stream",
          "name": "stdout",
          "text": [
            "MONITOR: Generated new MODEL\n",
            "Number of models: 5\n",
            "MONITOR: Generated new CONDITION\n",
            "Number of models: 5\n",
            "MONITOR: Generated new OBSERVATION\n",
            "Number of models: 5\n"
          ]
        },
        {
          "output_type": "stream",
          "name": "stderr",
          "text": [
            "100%|██████████| 100/100 [00:09<00:00, 10.86it/s]"
          ]
        },
        {
          "output_type": "stream",
          "name": "stdout",
          "text": [
            "MONITOR: Generated new MODEL\n"
          ]
        },
        {
          "output_type": "stream",
          "name": "stderr",
          "text": [
            "\n"
          ]
        }
      ],
      "source": [
        "from itertools import takewhile\n",
        "\n",
        "continue_criterion = lambda controller: len(controller.state.models) < 6\n",
        "\n",
        "for step in takewhile(continue_criterion, controller):\n",
        "    print(f\"Number of models: {len(step.state.models)}\")"
      ]
    },
    {
      "cell_type": "markdown",
      "metadata": {
        "id": "agcGRk5NUYNQ"
      },
      "source": [
        "## Advanced Workflows\n",
        "\n",
        "In some cases, we may want to condition the sequence of steps taken in the empirical research process on the current state of the process. For instance, one might want to switch from a novelty sampling strategy to a falsification sampling strategy as soon as one has probed enough novel experiment conditions. This section provides a basic introduction to the``BaseController``, which enables the implementation of such arbitrary execution orders.\n",
        "\n",
        "In this section, we consider a scenario in which we switch experimentalists, depending on the amount of observations collected:\n",
        "- If no observations are collected, we sample some seed experimental conditions\n",
        "- If less than 7 observations are collected, we sample experimental conditions with ``novelty_sample``\n",
        "- If 7 or more observations are collected, we sample experimental conditions with ``falsification_sample``\n",
        "\n",
        "#### Planner Declaration\n",
        "\n",
        "We begin with defining an ``experimentalist_planner`` function. Such planner function will be provided as input to the ``BaseController``, and will be used to determine the next step of the workflow, depending on the current state. The code block below implements a planner that selects the experimentalist to be executed depending on the amount of observations collected:"
      ]
    },
    {
      "cell_type": "code",
      "execution_count": 41,
      "metadata": {
        "id": "Rld_TIygUYNQ"
      },
      "outputs": [],
      "source": [
        "from autora.workflow.planner import last_result_kind_planner\n",
        "\n",
        "def experimentalist_planner(state):\n",
        "    # We're going to reuse the \"last_result_kind_planner\" planner, and modify its output.\n",
        "    proposed_next_step = last_result_kind_planner(state)\n",
        "\n",
        "    # Obtain a list of all observations collected so far\n",
        "    all_observations = [item for sublist in state.observations for item in sublist]\n",
        "    num_observations = len(all_observations)\n",
        "\n",
        "    # Determine next experimentalist\n",
        "    if proposed_next_step == \"experimentalist\":\n",
        "        if num_observations < 1:\n",
        "            next_step = \"seed_experimentalist\"\n",
        "        elif num_observations > 0 and num_observations < 7:\n",
        "            next_step = \"novelty_experimentalist\"\n",
        "        else:\n",
        "            next_step = \"falsification_experimentalist\"\n",
        "    else:\n",
        "      next_step = proposed_next_step\n",
        "\n",
        "    print(\"PLANNER: Next step: \" + next_step)\n",
        "    return next_step"
      ]
    },
    {
      "cell_type": "markdown",
      "metadata": {
        "id": "Yufzx-_8UYNQ"
      },
      "source": [
        "The ``experimentalist_planner`` function accepts a ``controller``'s state as input and returns the next step to be executed. Here, we call the ``last_result_kind_planner`` to obtain the default next step. For instance, according to the autonomous empirical research paradigm, if the last step involved executing the ``\"theorist\"``, the next step would be executing the ``experimentalist``.\n",
        "\n",
        "If the next default step is the ``experimentalist``, the  ``experimentalist_planner`` will select the type of experimentalist based on the total number of collected observations."
      ]
    },
    {
      "cell_type": "markdown",
      "metadata": {
        "id": "qRvGhjFlUYNQ"
      },
      "source": [
        "### Executor Collection Declaration\n",
        "\n",
        "In order for the ``BaseController`` to work with the ``experimentalist_planner``, we need to specify the experimentalists that it selects to be executed. In the next code block, we define all experimentalists by wrapping each of them into a ``Pipeline``. However, at this point, we don't need to provide the respective parameters for each experimentalist–we will provide these later, directly to the ``BaseController`` object.\n"
      ]
    },
    {
      "cell_type": "code",
      "execution_count": 42,
      "metadata": {
        "id": "eTzX1-nBUYNR"
      },
      "outputs": [],
      "source": [
        "from autora.experimentalist.pipeline import make_pipeline\n",
        "\n",
        "seed_pipeline = make_pipeline([np.linspace(0, 2*np.pi, 3)])\n",
        "novelty_pipeline = make_pipeline([novelty_sample])\n",
        "falsification_pipeline = make_pipeline([falsification_sample])"
      ]
    },
    {
      "cell_type": "markdown",
      "metadata": {
        "id": "2H4eIWLmUYNR"
      },
      "source": [
        "We can now wrap all elements of our research process–this includes all experimentalists as well as the theorist and experiment runner–into a collection of executors. The following code block defines this collection using ``ChainedFunctionMapping``."
      ]
    },
    {
      "cell_type": "code",
      "execution_count": 43,
      "metadata": {
        "id": "FfjGXQvDUYNR"
      },
      "outputs": [],
      "source": [
        "from autora.workflow.executor import (ChainedFunctionMapping, from_experimentalist_pipeline,\n",
        "    from_experiment_runner_callable, from_theorist_estimator)\n",
        "\n",
        "executor_collection = ChainedFunctionMapping(\n",
        "    seed_experimentalist=\n",
        "        [from_experimentalist_pipeline, seed_pipeline],\n",
        "    novelty_experimentalist=\n",
        "        [from_experimentalist_pipeline, novelty_pipeline],\n",
        "    falsification_experimentalist=\n",
        "        [from_experimentalist_pipeline, falsification_pipeline],\n",
        "    experiment_runner=[from_experiment_runner_callable, run_experiment],\n",
        "    theorist=[from_theorist_estimator, theorist_bms],\n",
        ")"
      ]
    },
    {
      "cell_type": "markdown",
      "metadata": {
        "id": "qx9FNV_jUYNR"
      },
      "source": [
        "In the ``ChainedFunctionMapping``, we specify each element by its type, followed by its function. For instance, the ``seed_experimentalist`` is defined as an experimentalist pipeline. Thus, we specify it as ``from_experimentalist_pipeline``, and chain it with its respective function ``seed_experimentalist`` defined above."
      ]
    },
    {
      "cell_type": "markdown",
      "metadata": {
        "id": "h1xwRNm5UYNS"
      },
      "source": [
        "### Base Controller Declaration\n",
        "\n",
        "So far, we have defined a ``experimentalist_planner`` function which determines the next step in our workflow. We have also defined a  ``executor_collection`` defining each step of the workflow. Both will be provided to a special ``Controller`` called ``BaseController``. The ``BaseController`` does not require us to specify a ``theorist``, ``experimentalist``, or ``experiment_runner``. Instead, we can provide it with an ``executor_collection`` specifying all the elements of the workflow we require.\n",
        "\n",
        "The ``BaseController`` also requires us to specify an initial ``state``. Here, we can instantiate a state as a ``History`` object which entails all variables of the experiment (as declared in ``metadata``) along with the parameters provided to each element in the ``executor_collection``. Let's begin with defining the parameters for all elements in the ``executor_collection``. Here, only two of the elements (``novelty_experimentalist`` and ``falsification_experimentalist``) require us to specify additional parameters.\n"
      ]
    },
    {
      "cell_type": "code",
      "execution_count": 44,
      "metadata": {
        "id": "Zq0HDjTcUYNS"
      },
      "outputs": [],
      "source": [
        "params = {\"novelty_experimentalist\":\n",
        "              {\"novelty_sample\":\n",
        "                 {\"condition_pool\": condition_pool,\n",
        "                  \"reference_conditions\": \"%observations.ivs%\", # access all conditions probed so far\n",
        "                   \"num_samples\": 3},\n",
        "               },\n",
        "          \"falsification_experimentalist\":\n",
        "              {\"falsification_sample\":\n",
        "                 {\"condition_pool\": condition_pool,\n",
        "                 \"model\": \"%models[-1]%\", # access last model generated by theorist\n",
        "                 \"reference_conditions\": \"%observations.ivs%\", # access all conditions probed so far\n",
        "                 \"reference_observations\": \"%observations.dvs%\", # access all observations collected so far\n",
        "                 \"metadata\": metadata,\n",
        "                 \"num_samples\": 3}\n",
        "              }\n",
        "          }"
      ]
    },
    {
      "cell_type": "markdown",
      "metadata": {
        "id": "AX60ukJeUYNS"
      },
      "source": [
        "Using the ``metadata`` and ``params``, we can instantiate an initial ``state`` for the workflow."
      ]
    },
    {
      "cell_type": "code",
      "execution_count": 45,
      "metadata": {
        "id": "dmG183YXUYNS"
      },
      "outputs": [],
      "source": [
        "from autora.workflow.state import History\n",
        "\n",
        "state = History(variables=metadata, params=params)"
      ]
    },
    {
      "cell_type": "markdown",
      "metadata": {
        "id": "Wtv0ORp5UYNS"
      },
      "source": [
        "For convenience, let us also define a monitor function which can print the current total number of observations. We will provide this monitor to the ``BaseController``."
      ]
    },
    {
      "cell_type": "code",
      "execution_count": 46,
      "metadata": {
        "id": "CWEAY4-9UYNS"
      },
      "outputs": [],
      "source": [
        "def monitor(state):\n",
        "    all_observations = [item for sublist in state.observations for item in sublist]\n",
        "    num_observations = len(all_observations)\n",
        "    print(f\"MONITOR: Number of observations {num_observations}\")"
      ]
    },
    {
      "cell_type": "markdown",
      "metadata": {
        "id": "W94jN2YDUYNS"
      },
      "source": [
        "We now have all the required input arguments for the ``BaseController``."
      ]
    },
    {
      "cell_type": "code",
      "execution_count": 47,
      "metadata": {
        "id": "sQ2aBbWAUYNT"
      },
      "outputs": [],
      "source": [
        "from autora.workflow.base import BaseController\n",
        "\n",
        "# define controller\n",
        "controller = BaseController(\n",
        "    state=state,\n",
        "    monitor=monitor,\n",
        "    planner=experimentalist_planner,\n",
        "    executor_collection=executor_collection,\n",
        ")\n"
      ]
    },
    {
      "cell_type": "markdown",
      "metadata": {
        "id": "XSPAMShJUYNT"
      },
      "source": [
        "Finally, let's execute the controller for 5 research cycles, measured in terms of the number of generated models."
      ]
    },
    {
      "cell_type": "code",
      "execution_count": 48,
      "metadata": {
        "id": "8tvuuhoGUYNT",
        "colab": {
          "base_uri": "https://localhost:8080/"
        },
        "outputId": "d523e8c1-7dca-4ab6-bd50-f697be43342a"
      },
      "outputs": [
        {
          "output_type": "stream",
          "name": "stdout",
          "text": [
            "PLANNER: Next step: seed_experimentalist\n",
            "MONITOR: Number of observations 0\n",
            "MONITOR: Number of models: 0\n",
            "PLANNER: Next step: experiment_runner\n",
            "MONITOR: Number of observations 3\n",
            "MONITOR: Number of models: 0\n",
            "PLANNER: Next step: theorist\n"
          ]
        },
        {
          "output_type": "stream",
          "name": "stderr",
          "text": [
            "100%|██████████| 100/100 [00:09<00:00, 10.08it/s]\n"
          ]
        },
        {
          "output_type": "stream",
          "name": "stdout",
          "text": [
            "MONITOR: Number of observations 3\n",
            "MONITOR: Number of models: 1\n",
            "PLANNER: Next step: novelty_experimentalist\n",
            "MONITOR: Number of observations 3\n",
            "MONITOR: Number of models: 1\n",
            "PLANNER: Next step: experiment_runner\n",
            "MONITOR: Number of observations 6\n",
            "MONITOR: Number of models: 1\n",
            "PLANNER: Next step: theorist\n"
          ]
        },
        {
          "output_type": "stream",
          "name": "stderr",
          "text": [
            "100%|██████████| 100/100 [00:10<00:00,  9.26it/s]\n"
          ]
        },
        {
          "output_type": "stream",
          "name": "stdout",
          "text": [
            "MONITOR: Number of observations 6\n",
            "MONITOR: Number of models: 2\n",
            "PLANNER: Next step: novelty_experimentalist\n",
            "MONITOR: Number of observations 6\n",
            "MONITOR: Number of models: 2\n",
            "PLANNER: Next step: experiment_runner\n",
            "MONITOR: Number of observations 9\n",
            "MONITOR: Number of models: 2\n",
            "PLANNER: Next step: theorist\n"
          ]
        },
        {
          "output_type": "stream",
          "name": "stderr",
          "text": [
            "100%|██████████| 100/100 [00:12<00:00,  7.91it/s]\n",
            "WARNING:autora.utils.deprecation:Use `falsification_score_sample_from_predictions` instead. `falsification_score_sampler_from_predictions` is deprecated.\n"
          ]
        },
        {
          "output_type": "stream",
          "name": "stdout",
          "text": [
            "MONITOR: Number of observations 9\n",
            "MONITOR: Number of models: 3\n",
            "PLANNER: Next step: falsification_experimentalist\n",
            "MONITOR: Number of observations 9\n",
            "MONITOR: Number of models: 3\n",
            "PLANNER: Next step: experiment_runner\n",
            "MONITOR: Number of observations 12\n",
            "MONITOR: Number of models: 3\n",
            "PLANNER: Next step: theorist\n"
          ]
        },
        {
          "output_type": "stream",
          "name": "stderr",
          "text": [
            "100%|██████████| 100/100 [00:10<00:00,  9.73it/s]\n",
            "WARNING:autora.utils.deprecation:Use `falsification_score_sample_from_predictions` instead. `falsification_score_sampler_from_predictions` is deprecated.\n"
          ]
        },
        {
          "output_type": "stream",
          "name": "stdout",
          "text": [
            "MONITOR: Number of observations 12\n",
            "MONITOR: Number of models: 4\n",
            "PLANNER: Next step: falsification_experimentalist\n",
            "MONITOR: Number of observations 12\n",
            "MONITOR: Number of models: 4\n",
            "PLANNER: Next step: experiment_runner\n",
            "MONITOR: Number of observations 15\n",
            "MONITOR: Number of models: 4\n",
            "PLANNER: Next step: theorist\n"
          ]
        },
        {
          "output_type": "stream",
          "name": "stderr",
          "text": [
            "100%|██████████| 100/100 [00:10<00:00,  9.46it/s]\n"
          ]
        },
        {
          "output_type": "stream",
          "name": "stdout",
          "text": [
            "MONITOR: Number of observations 15\n"
          ]
        }
      ],
      "source": [
        "from itertools import takewhile\n",
        "\n",
        "continue_criterion = lambda controller: len(controller.state.models) < 5\n",
        "\n",
        "for step in takewhile(continue_criterion, controller):\n",
        "    print(f\"MONITOR: Number of models: {len(step.state.models)}\")"
      ]
    },
    {
      "cell_type": "markdown",
      "metadata": {
        "id": "VymXaj-gUYNT"
      },
      "source": [
        "We can observe that the controller begins with sampling experiment condition using the ``seed_experimentalist``. It then proceeds to sample condition using the ``novelty_experimentalist`` until it has collected 7 or more observations, at which it switches to the ``falsification_experimentalist``."
      ]
    },
    {
      "cell_type": "markdown",
      "source": [
        "# Next Notebook\n",
        "This concludes the tutorial on ``autora`` functionality. However, ``autora`` is a flexible framework in which users can integrate their own theorists, experimentalists, and experiment_runners in an automated empirical research workflow. The next notebook illustrates how to add your own custom theorists and experimentalists to use with ``autora``.\n",
        "\n",
        "Follow this link for the next notebook tutorial:\n",
        "[AutoRA Basic Tutorial IV: Customization](www.addlink.com) <br>"
      ],
      "metadata": {
        "id": "oS5TJBr6s-kJ"
      }
    }
  ],
  "metadata": {
    "colab": {
      "provenance": [],
      "toc_visible": true
    },
    "kernelspec": {
      "display_name": "Python 3",
      "name": "python3"
    },
    "language_info": {
      "name": "python"
    }
  },
  "nbformat": 4,
  "nbformat_minor": 0
}