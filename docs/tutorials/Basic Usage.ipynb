{
 "cells": [
  {
   "cell_type": "markdown",
   "metadata": {},
   "source": [
    "# Basic Usage"
   ]
  },
  {
   "cell_type": "markdown",
   "metadata": {},
   "source": [
    "**[AutoRA](https://pypi.org/project/autora/)** (**Au**tomated **R**esearch **A**ssistant) is an open-source framework designed to automate various stages of empirical research, including model discovery, experimental design, and data collection.\n",
    "\n",
    "This notebook provides a comprehensive introduction to the capabilities of ``autora``. **It demonstrates the fundamental components of ``autora``, and how they can be combined to facilitate automated (closed-loop) empirical research through synthetic experiments.**\n",
    "\n",
    "***How to use this notebook**: You can progress through the notebook section by section or directly navigate to specific sections. If you choose the latter, it is recommended to execute all cells in the notebook initially, allowing you to easily rerun the cells in each section later without issues.*\n",
    "\n",
    "**<font color=\"red\"> TODO: (o) extend to 2d-function, (o) add BMS seed (o) make smaller pool of conditions so that novel conditions don't overlap as much </font>**\n",
    "\n",
    "## Overview\n",
    "\n",
    "1. Installing ``autora``\n",
    "2. Automated Empirical Research Components\n",
    "    2.1. Experiment Runners\n",
    "    2.2. Theorists\n",
    "    2.3. Experimentalists\n",
    "3. Automated Empirical Research With Basic Loop Constructs\n",
    "4. Automated Empirical Research With AutoRA Workflow Logic\n",
    "    4.1. Basic Workflows\n",
    "    4.2. Advanced Workflows\n",
    "5. Customizing Automated Empirical Research Components"
   ]
  },
  {
   "cell_type": "markdown",
   "metadata": {},
   "source": [
    "## Installation\n",
    "\n",
    "The AutoRA ecosystem is a comprehensive collection of packages that together establish a framework for closed-loop empirical research. At the core of this framework is the ``autora`` package, which serves as the parent package and is essential for end users to install.  It provides functionalities for automating workflows in empirical research and includes vetted modules with minimal dependencies.\n",
    "\n",
    "However, the flexibility of autora extends further with the inclusion of *optional* modules as additional dependencies. Users have the freedom to selectively install these modules based on their specific needs and preferences.\n",
    "\n",
    "<img src=\"https://autoresearch.github.io/autora/img/package_overview.png\" width=\"75%\" alt=\"AutoRA Package Structure\">\n",
    "\n",
    "*Optional dependencies enable users to customize their autora environment without worrying about conflicts with other packages within the broader autora ecosystem. To install an optional module, simply use the command ``autora[dependency-name]``, where ``dependency-name`` corresponds to the name of the desired module (see example below).*\n",
    "\n",
    "To begin, we will install all the relevant optional dependencies. Our focus will be on two experimentalists: ``experimentalist-falsification`` and ``experimentalist-sampler-novelty``, along with a Bayesian Machine Scientist (BMS) implemented in the ``theorist-bms`` package. It's important to note that installing a module will automatically include the main autora package, as well as any required dependencies for workflow management and running synthetic experiments."
   ]
  },
  {
   "cell_type": "code",
   "execution_count": null,
   "metadata": {},
   "outputs": [
    {
     "name": "stdout",
     "output_type": "stream",
     "text": [
      "^C\r\n",
      "\u001b[31mERROR: Operation cancelled by user\u001b[0m\u001b[31m\r\n",
      "\u001b[0m"
     ]
    }
   ],
   "source": [
    "!pip install -q \"autora[experimentalist-falsification]\"\n",
    "!pip install -q \"autora[experimentalist-sampler-novelty]\"\n",
    "!pip install -q \"autora[experimentalist-sampler-model-disagreement]\"\n",
    "!pip install -q \"autora[theorist-bms]\""
   ]
  },
  {
   "cell_type": "markdown",
   "metadata": {},
   "source": [
    "## Automated Empirical Research Components\n",
    "\n",
    "The goal of this section is to set up all ``autora`` components to enable a closed-loop discovery workflow with synthetic data. This involves specifying (1) the experiment environment, (2) a theorist for model discovery, (3) an experimentalist for identifying novel experiment conditions.\n",
    "\n",
    "<img src=\"https://github.com/AutoResearch/autora/blob/main/docs/img/modules_overview.png?raw=true\" width=\"75%\" alt=\"AutoRA Components\">"
   ]
  },
  {
   "cell_type": "markdown",
   "metadata": {},
   "source": [
    "### Experiments\n",
    "\n",
    "``autora`` provides support for experiment runners, which serve as interfaces for conducting both real-world and synthetic experiments. An experiment runner typically accepts experiment conditions as input (e.g., a 2-dimensional numpy array with columns representing different independent variables) and produces collected observations as output (e.g., a 2-dimensional numpy array with columns representing different dependent variables). These experiment runners can be combined with other ``autora`` components to facilitate closed-loop scientific discovery.\n",
    "\n",
    "<img src=\"../img/experiment_runner.png\" width=\"75%\" alt=\"AutoRA Components\">\n",
    "\n",
    "#### Types\n",
    "\n",
    "AutoRA offers two types of experiment runners: **real-world experiments** and **synthetic experiments**.\n",
    "\n",
    "For **real-world experiments**, experiment runners can include interfaces for various scenarios such as web-based experiments for behavioral data collection (e.g., using [Firebase and Prolific](https://autoresearch.github.io/autora/user-guide/experiment-runners/firebase-prolific/)) or experiments involving electrical circuits (e.g., using [Tinkerforge](https://en.wikipedia.org/wiki/Tinkerforge)). These runners often require external components such as databases to store collected observations or servers to host the experiments. You may refer to the respective tutorials for these interfaces on how to set up all required components.\n",
    "\n",
    "**Synthetic experiments** are conducted on synthetic experiment runners, which are functions that take experimental conditions as input and generate simulated observations as output. These experiments serve multiple purposes, including *testing autora components* before applying them to real-world experiments, *benchmarking methods for automated scientific discovery*, or *conducting computational metascientific experiments*.\n",
    "\n",
    "In this introductory tutorial, we primarily focus on simple synthetic experiments. For more complex synthetic experiments implementing various scientific models, you can utilize the[autora-synthetic](https://github.com/autoresearch/autora-synthetic/) module."
   ]
  },
  {
   "cell_type": "markdown",
   "metadata": {},
   "source": [
    "#### Usage\n",
    "\n",
    "To create a synthetic experiment runner, we begin with **defining a ground truth** from which to generate data. Here, we consider a simple sine function:\n",
    "\n",
    "$y = f(x) = \\sin(x)$\n",
    "\n",
    "In this case, $x$ corresponds to an *independent* variable (the variable we can manipulate in an experiment), $y$ corresponds to a *dependent* variable (the variable we can observe after conducting the experiment), and $f(x)$ is the *ground-truth function* (or \"mechanism\") that we seek to uncover via a combination of experimentation and model discovery.\n",
    "\n",
    "However, we assume that observations are obtained with a measurement error when running the experiment.\n",
    "\n",
    "$\\hat{y} = \\hat{f}(x) = f(x) + \\epsilon, \\quad \\epsilon \\sim \\mathcal{N}(0,0.01^{2})$\n",
    "\n",
    "where $\\epsilon$ is the measurement error sampled from a normal distribution with zero mean and a standard deviation of $0.01$.\n",
    "\n",
    "The following code block defines ground truth $f(x)$ and the experiment runner $\\hat{f}(x)$ as ``lambda`` functions."
   ]
  },
  {
   "cell_type": "code",
   "execution_count": null,
   "metadata": {},
   "outputs": [],
   "source": [
    "ground_truth = lambda x: np.sin(x)\n",
    "run_experiment = lambda x: ground_truth(x) + np.random.normal(0, 0.1, size=x.shape)"
   ]
  },
  {
   "cell_type": "markdown",
   "metadata": {},
   "source": [
    "Next, we generate a pool of all possible experimental conditions from the domain $[0, 2\\pi]$."
   ]
  },
  {
   "cell_type": "code",
   "execution_count": null,
   "metadata": {},
   "outputs": [],
   "source": [
    "import numpy as np\n",
    "\n",
    "condition_pool = np.linspace(0, 2 * np.pi, 1000)"
   ]
  },
  {
   "cell_type": "markdown",
   "metadata": {},
   "source": [
    "In order to run a simple synthetic experiment, we can first sample from the pool of possible experiment conditions (without replacement), and then pass these conditions to the synthetic experiment runner:"
   ]
  },
  {
   "cell_type": "code",
   "execution_count": null,
   "metadata": {},
   "outputs": [
    {
     "data": {
      "text/plain": [
       "<matplotlib.legend.Legend at 0x150c8a730>"
      ]
     },
     "execution_count": null,
     "metadata": {},
     "output_type": "execute_result"
    },
    {
     "data": {
      "image/png": "[encoded data removed]",
      "text/plain": [
       "<Figure size 640x480 with 1 Axes>"
      ]
     },
     "metadata": {},
     "output_type": "display_data"
    }
   ],
   "source": [
    "initial_conditions = np.random.choice(condition_pool, size=10, replace=False)\n",
    "initial_observations = run_experiment(initial_conditions)\n",
    "\n",
    "# plot sampled conditions against ground-truth\n",
    "import matplotlib.pyplot as plt\n",
    "plt.plot(condition_pool, ground_truth(condition_pool), label='Ground Truth')\n",
    "plt.plot(initial_conditions, initial_observations, 'o', label='Sampled Conditions')\n",
    "plt.xlabel('x')\n",
    "plt.ylabel('y')\n",
    "plt.title('Sine Function')\n",
    "plt.legend()"
   ]
  },
  {
   "cell_type": "markdown",
   "metadata": {},
   "source": [
    "Certain theorists and experimentalists may need to have knowledge about the experimental variables, such as the domain from which new experiment conditions are sampled. To provide this information, we can utilize a ``VariableCollection`` object. In the context of our synthetic experiment, we have a single *independent variable* (``IV``) denoted as $x$, and a single *dependent* variable (``DV``) denoted as $y$."
   ]
  },
  {
   "cell_type": "code",
   "execution_count": null,
   "metadata": {},
   "outputs": [],
   "source": [
    "from autora.variable import DV, IV, ValueType, VariableCollection\n",
    "\n",
    "# Specify independent variable\n",
    "iv = IV(\n",
    "    name=\"x\",                       # name of the independent variable\n",
    "    value_range=(0, 2 * np.pi),     # specify the domain\n",
    "    allowed_values=condition_pool,  # alternatively, we can specify the pool of allowed conditions directly\n",
    ")\n",
    "\n",
    "# specify dependent variable\n",
    "dv = DV(\n",
    "    name=\"y\",                       # name of the dependent variable\n",
    "    type=ValueType.REAL,            # specify the variable type (some theorists require this to optimize)\n",
    ")\n",
    "\n",
    "# Variable collection with ivs and dvs\n",
    "metadata = VariableCollection(\n",
    "    independent_variables=[iv],\n",
    "    dependent_variables=[dv],\n",
    ")"
   ]
  },
  {
   "cell_type": "markdown",
   "metadata": {},
   "source": [
    "***Note**: For expository reasons, we focus in this tutorial on simple synthetic experiments. In general, ``autora`` provides functionality for automating [more complex synthetic experiments](https://github.com/autoresearch/autora-synthetic/), as well as real-world experiments, such as [behavioral data collection via web-based experiments](https://autoresearch.github.io/autora/user-guide/experiment-runners/firebase-prolific/), experiments with electrical circuits via [Tinkerforge](https://en.wikipedia.org/wiki/Tinkerforge), and other automated experimentation platforms.*"
   ]
  },
  {
   "cell_type": "markdown",
   "metadata": {},
   "source": [
    "### Theorists\n",
    "\n",
    "The AutoRA framework includes and interfaces with different methods for scientific model discovery. These methods are referred to as *theorists* and are implemented as [sklearn estimators](https://scikit-learn.org/stable/tutorial/machine_learning_map/index.html). For general information about theorists, see the respective [AutoRA Documentation](https://autoresearch.github.io/autora/theorist/).\n",
    "\n",
    "<img src=\"https://autoresearch.github.io/autora/img/theorist.png\" width=\"75%\" alt=\"Theorist Overview\">\n",
    "\n",
    "\n",
    "Theorists **take as input a set of conditions and observations**. Conditions and observations can typically be passed as *two-dimensional numpy arrays* (with columns corresponding to variables and rows corresponding to different instances of those variables). Theorists then **identify and fit a model** which may be used to predict observations based on experiment conditions."
   ]
  },
  {
   "cell_type": "markdown",
   "metadata": {},
   "source": [
    "#### Types\n",
    "\n",
    "There are different types of theorists within the AutoRA framework, each with its own approach to scientific model discovery.\n",
    "\n",
    "Some theorists focus on *fitting the parameters of a pre-specified model* to the given data (see the scikit learn documentation for a [selection of basic regressors](https://scikit-learn.org/stable/supervised_learning.html)). The model architecture in such cases is typically fixed, while the parameters are adjusted to optimize the model's performance. Linear regression is an example of a parameter-fitting theorist.\n",
    "\n",
    "Other theorists are concerned with *identifying both the architecture of a model and its parameters*. The model architectures can take various forms, such as equations, causal models, or process models. Implemented as scikit-learn estimators, these theorists aim to discover a model architecture that accurately describes the data. They often operate within a user-defined search space, which specifies the allowable operations or components that can be included in the model. This approach provides more flexibility in exploring different model architectures."
   ]
  },
  {
   "cell_type": "markdown",
   "metadata": {},
   "source": [
    "#### Usage\n",
    "\n",
    "In this tutorial, we delve into two types of theorists: (1) a linear regression theorist, which focuses on fitting a linear model, and (2) a Bayesian Machine Scientist (Guimerà et al., 2020, in *Science Advances*), which specializes in identifying and fitting a non-linear equation.\n",
    "\n",
    "Theorists are commonly instantiated as regressors within the ``sklearn`` library:"
   ]
  },
  {
   "cell_type": "code",
   "execution_count": null,
   "metadata": {},
   "outputs": [],
   "source": [
    "from sklearn import linear_model\n",
    "from autora.theorist.bms import BMSRegressor\n",
    "\n",
    "theorist_lr = linear_model.LinearRegression()\n",
    "theorist_bms = BMSRegressor(epochs=100)"
   ]
  },
  {
   "cell_type": "markdown",
   "metadata": {},
   "source": [
    "Once instantiated, we can fit the theorist to link experimental conditions with observations. However, before doing so, we should convert both inputs into 2-dimensional numpy arrays."
   ]
  },
  {
   "cell_type": "code",
   "execution_count": null,
   "metadata": {},
   "outputs": [
    {
     "name": "stderr",
     "output_type": "stream",
     "text": [
      "INFO:autora.theorist.bms.regressor:BMS fitting started\n",
      "100%|██████████| 100/100 [00:07<00:00, 13.80it/s]\n",
      "INFO:autora.theorist.bms.regressor:BMS fitting finished\n"
     ]
    },
    {
     "data": {
      "text/html": [
       "<style>#sk-container-id-3 {color: black;background-color: white;}#sk-container-id-3 pre{padding: 0;}#sk-container-id-3 div.sk-toggleable {background-color: white;}#sk-container-id-3 label.sk-toggleable__label {cursor: pointer;display: block;width: 100%;margin-bottom: 0;padding: 0.3em;box-sizing: border-box;text-align: center;}#sk-container-id-3 label.sk-toggleable__label-arrow:before {content: \"▸\";float: left;margin-right: 0.25em;color: #696969;}#sk-container-id-3 label.sk-toggleable__label-arrow:hover:before {color: black;}#sk-container-id-3 div.sk-estimator:hover label.sk-toggleable__label-arrow:before {color: black;}#sk-container-id-3 div.sk-toggleable__content {max-height: 0;max-width: 0;overflow: hidden;text-align: left;background-color: #f0f8ff;}#sk-container-id-3 div.sk-toggleable__content pre {margin: 0.2em;color: black;border-radius: 0.25em;background-color: #f0f8ff;}#sk-container-id-3 input.sk-toggleable__control:checked~div.sk-toggleable__content {max-height: 200px;max-width: 100%;overflow: auto;}#sk-container-id-3 input.sk-toggleable__control:checked~label.sk-toggleable__label-arrow:before {content: \"▾\";}#sk-container-id-3 div.sk-estimator input.sk-toggleable__control:checked~label.sk-toggleable__label {background-color: #d4ebff;}#sk-container-id-3 div.sk-label input.sk-toggleable__control:checked~label.sk-toggleable__label {background-color: #d4ebff;}#sk-container-id-3 input.sk-hidden--visually {border: 0;clip: rect(1px 1px 1px 1px);clip: rect(1px, 1px, 1px, 1px);height: 1px;margin: -1px;overflow: hidden;padding: 0;position: absolute;width: 1px;}#sk-container-id-3 div.sk-estimator {font-family: monospace;background-color: #f0f8ff;border: 1px dotted black;border-radius: 0.25em;box-sizing: border-box;margin-bottom: 0.5em;}#sk-container-id-3 div.sk-estimator:hover {background-color: #d4ebff;}#sk-container-id-3 div.sk-parallel-item::after {content: \"\";width: 100%;border-bottom: 1px solid gray;flex-grow: 1;}#sk-container-id-3 div.sk-label:hover label.sk-toggleable__label {background-color: #d4ebff;}#sk-container-id-3 div.sk-serial::before {content: \"\";position: absolute;border-left: 1px solid gray;box-sizing: border-box;top: 0;bottom: 0;left: 50%;z-index: 0;}#sk-container-id-3 div.sk-serial {display: flex;flex-direction: column;align-items: center;background-color: white;padding-right: 0.2em;padding-left: 0.2em;position: relative;}#sk-container-id-3 div.sk-item {position: relative;z-index: 1;}#sk-container-id-3 div.sk-parallel {display: flex;align-items: stretch;justify-content: center;background-color: white;position: relative;}#sk-container-id-3 div.sk-item::before, #sk-container-id-3 div.sk-parallel-item::before {content: \"\";position: absolute;border-left: 1px solid gray;box-sizing: border-box;top: 0;bottom: 0;left: 50%;z-index: -1;}#sk-container-id-3 div.sk-parallel-item {display: flex;flex-direction: column;z-index: 1;position: relative;background-color: white;}#sk-container-id-3 div.sk-parallel-item:first-child::after {align-self: flex-end;width: 50%;}#sk-container-id-3 div.sk-parallel-item:last-child::after {align-self: flex-start;width: 50%;}#sk-container-id-3 div.sk-parallel-item:only-child::after {width: 0;}#sk-container-id-3 div.sk-dashed-wrapped {border: 1px dashed gray;margin: 0 0.4em 0.5em 0.4em;box-sizing: border-box;padding-bottom: 0.4em;background-color: white;}#sk-container-id-3 div.sk-label label {font-family: monospace;font-weight: bold;display: inline-block;line-height: 1.2em;}#sk-container-id-3 div.sk-label-container {text-align: center;}#sk-container-id-3 div.sk-container {/* jupyter's `normalize.less` sets `[hidden] { display: none; }` but bootstrap.min.css set `[hidden] { display: none !important; }` so we also need the `!important` here to be able to override the default hidden behavior on the sphinx rendered scikit-learn.org. See: https://github.com/scikit-learn/scikit-learn/issues/21755 */display: inline-block !important;position: relative;}#sk-container-id-3 div.sk-text-repr-fallback {display: none;}</style><div id=\"sk-container-id-3\" class=\"sk-top-container\"><div class=\"sk-text-repr-fallback\"><pre>BMSRegressor(epochs=100)</pre><b>In a Jupyter environment, please rerun this cell to show the HTML representation or trust the notebook. <br />On GitHub, the HTML representation is unable to render, please try loading this page with nbviewer.org.</b></div><div class=\"sk-container\" hidden><div class=\"sk-item\"><div class=\"sk-estimator sk-toggleable\"><input class=\"sk-toggleable__control sk-hidden--visually\" id=\"sk-estimator-id-3\" type=\"checkbox\" checked><label for=\"sk-estimator-id-3\" class=\"sk-toggleable__label sk-toggleable__label-arrow\">BMSRegressor</label><div class=\"sk-toggleable__content\"><pre>BMSRegressor(epochs=100)</pre></div></div></div></div></div>"
      ],
      "text/plain": [
       "BMSRegressor(epochs=100)"
      ]
     },
     "execution_count": null,
     "metadata": {},
     "output_type": "execute_result"
    }
   ],
   "source": [
    "# convert data to 2-dimensional numpy array\n",
    "initial_conditions = initial_conditions.reshape((len(initial_conditions), 1))\n",
    "initial_observations = initial_observations.reshape((len(initial_observations), 1))\n",
    "\n",
    "# fit theorists\n",
    "theorist_lr.fit(initial_conditions, initial_observations)\n",
    "theorist_bms.fit(initial_conditions, initial_observations)"
   ]
  },
  {
   "cell_type": "markdown",
   "metadata": {},
   "source": [
    "For some theorists, we can inspect the resulting model architecture. For instance, in the BMS theorist, we can call obtain the model formula via ``theorist_bms.model_.__repr__()``."
   ]
  },
  {
   "cell_type": "code",
   "execution_count": null,
   "metadata": {},
   "outputs": [
    {
     "name": "stdout",
     "output_type": "stream",
     "text": [
      "Model of BMS theorist: sin(X0)\n"
     ]
    }
   ],
   "source": [
    "print(\"Model of BMS theorist: \" + theorist_bms.model_.__repr__())"
   ]
  },
  {
   "cell_type": "markdown",
   "metadata": {},
   "source": [
    "We may now obtain predictions from both theorists for the entire pool of experiment conditions."
   ]
  },
  {
   "cell_type": "code",
   "execution_count": null,
   "metadata": {},
   "outputs": [],
   "source": [
    "# convert condition pool into 2-dimensional numpy array before generating respective predictions\n",
    "condition_pool = condition_pool.reshape((len(condition_pool), 1))\n",
    "\n",
    "# obtain predictions\n",
    "predicted_observations_lr = theorist_lr.predict(condition_pool)\n",
    "predicted_observations_bms = theorist_bms.predict(condition_pool)"
   ]
  },
  {
   "cell_type": "markdown",
   "metadata": {},
   "source": [
    "In the next code segment, we plot the theorists' predictions against the ground truth. For the BMS theorist, we can obtain a latex expression of the model architecture using ``theorist_bms.model_.latex()``."
   ]
  },
  {
   "cell_type": "code",
   "execution_count": null,
   "metadata": {},
   "outputs": [
    {
     "data": {
      "text/plain": [
       "<matplotlib.legend.Legend at 0x133a7bb50>"
      ]
     },
     "execution_count": null,
     "metadata": {},
     "output_type": "execute_result"
    },
    {
     "data": {
      "image/png": "[encoded data removed]",
      "text/plain": [
       "<Figure size 640x480 with 1 Axes>"
      ]
     },
     "metadata": {},
     "output_type": "display_data"
    }
   ],
   "source": [
    "# obtain latex expression of BMS theorist\n",
    "bms_model = theorist_bms.model_.latex()\n",
    "\n",
    "# plot model predictions against ground-truth\n",
    "import matplotlib.pyplot as plt\n",
    "plt.plot(condition_pool, ground_truth(condition_pool), label='Ground Truth')\n",
    "plt.plot(initial_conditions, initial_observations, 'o', label='Data Used for Model Identification')\n",
    "plt.plot(condition_pool, predicted_observations_lr, label='Linear Regression')\n",
    "plt.plot(condition_pool, predicted_observations_bms, label='Bayesian Machine Scientist: $' + bms_model + '$')\n",
    "plt.xlabel('x')\n",
    "plt.ylabel('y')\n",
    "plt.title('Model Predictions')\n",
    "plt.legend()"
   ]
  },
  {
   "cell_type": "markdown",
   "metadata": {},
   "source": [
    "***Note**: that there are various other types of theorists you can combine with AutoRA as long as they are implemented as ``sklearn`` estimators. This includes [autora modules](theorist/index.md), any [scikit learn estimators](https://scikit-learn.org/stable/tutorial/machine_learning_map/index.html), as well as third-party packages, such as [PySR](https://github.com/MilesCranmer/PySR) for symbolic regression.*"
   ]
  },
  {
   "cell_type": "markdown",
   "metadata": {},
   "source": [
    "### Experimentalists\n",
    "\n",
    "The primary goal of an experimentalist is to design experiments that yield scientific merit. The AutoRA framework offers various strategies for identifying informative new data points (e.g., by searching for experiment conditions that existing scientific models fail to explain, or by looking for novel conditions altogether).\n",
    "\n",
    "<img src=\"https://autoresearch.github.io/autora/img/experimentalist.png\" width=\"75%\" alt=\"Experimentalist Overview\">\n",
    "\n",
    "Experimentalists are implemented as functions that return a set of experiment conditions (e.g., in the form of a 2-dimensional numpy array in which columns correspond to independent variables), which can be subjected to an experiment. To determine these conditions, experimentalists may use information about candidate models obtained from a theorist, experimental conditions that have already been probed, or respective dependent measures. For more detailed information about experimentalists, please refer to the corresponding [AutoRA Documentation](https://autoresearch.github.io/autora/experimentalist/).\n",
    "\n",
    "#### Types\n",
    "\n",
    "There are generally three types of experimentalist functions: **poolers**, **samplers**, and **pipelines**.\n",
    "\n",
    "**Poolers** generate a novel set of experimental conditions \"from scratch\", e.g., by sampling from a grid. They usually require metadata describing independent variables of the experiment (e.g., their range or the set of allowed values).\n",
    "\n",
    "**Samplers** operate on an existing pool of experimental conditions. They require typically require experimental conditions to be represented as a 2-dimensional numpy array in which columns correspond to independent variables and rows to different conditions). They then select experiment conditions from this pool.\n",
    "\n",
    "**Pipelines** Pipelines connect multiple experimentalists into a unified workflow. This is beneficial when various steps are required to process experiment conditions. For example, apart from identifying novel experimental conditions, experimentalist functions may perform other operations on the set of conditions, such as rearranging the rows of a condition matrix or adding new experiment conditions as columns. Experiment pipelines may begin with a pooler that generates all possible experiment conditions, followed by a sampler that selects a subset of conditions from the pool, and then proceed to additional functions that arrange the selected conditions in a specific order necessary for conducting the experiment."
   ]
  },
  {
   "cell_type": "markdown",
   "metadata": {},
   "source": [
    "#### Usage: Poolers\n",
    "\n",
    "Experimentalist poolers are implemented as functions and can be called directly. For instance, the following **grid pooler** generates a grid based on the ``allowed_values`` of all independent variables in the ``metadata`` object that we defined above. We can simply add a list of allowed values to each independent variable. In this case, we only have one variable."
   ]
  },
  {
   "cell_type": "code",
   "execution_count": null,
   "metadata": {},
   "outputs": [],
   "source": [
    "allowed_values = np.linspace(0, 2 * np.pi, 1000)\n",
    "metadata.independent_variables[0].allowed_values = allowed_values"
   ]
  },
  {
   "cell_type": "markdown",
   "metadata": {},
   "source": [
    "Now we can pass the grid pooler the list of independent variables from the ``metadata`` object."
   ]
  },
  {
   "cell_type": "code",
   "execution_count": null,
   "metadata": {},
   "outputs": [],
   "source": [
    "from autora.experimentalist.pooler.grid import grid_pool\n",
    "\n",
    "new_conditions = grid_pool(ivs = metadata.independent_variables)"
   ]
  },
  {
   "cell_type": "markdown",
   "metadata": {},
   "source": [
    "The resulting condition pool contains all experiment conditions from the grid:"
   ]
  },
  {
   "cell_type": "code",
   "execution_count": null,
   "metadata": {},
   "outputs": [
    {
     "name": "stdout",
     "output_type": "stream",
     "text": [
      "(0.0,)\n",
      "(0.006289474781961547,)\n",
      "(0.012578949563923095,)\n",
      "(0.018868424345884642,)\n",
      "(0.02515789912784619,)\n",
      "(0.03144737390980774,)\n",
      "(0.037736848691769284,)\n",
      "(0.04402632347373083,)\n",
      "(0.05031579825569238,)\n",
      "(0.056605273037653926,)\n",
      "(0.06289474781961547,)\n"
     ]
    }
   ],
   "source": [
    "# return first 10 conditions\n",
    "for idx, condition in enumerate(new_conditions):\n",
    "    print(condition)\n",
    "    if idx > 9:\n",
    "        break"
   ]
  },
  {
   "cell_type": "markdown",
   "metadata": {},
   "source": [
    "Alternatively, we may use the **random pooler** to randomly draw experimental conditions from the domains of each independent variable. The random pooler requires as input a list of discrete values from which to sample from. In this case, we can pass it ``metadata.independent_variables[0].allowed_values`` for the independent variable. We can also specify the input argument ``n`` to obtain 10 random samples."
   ]
  },
  {
   "cell_type": "code",
   "execution_count": null,
   "metadata": {},
   "outputs": [
    {
     "name": "stdout",
     "output_type": "stream",
     "text": [
      "(1.723316090257464,)\n",
      "(5.924685244607778,)\n",
      "(0.918263318166386,)\n",
      "(4.006395436109505,)\n",
      "(0.4780000834290776,)\n",
      "(2.4528951649650033,)\n",
      "(1.4528686746331174,)\n",
      "(0.4528421843012314,)\n",
      "(2.792526803190927,)\n",
      "(5.905816820261893,)\n"
     ]
    }
   ],
   "source": [
    "from autora.experimentalist.pooler.random_pooler import random_pool\n",
    "\n",
    "# generate random pool of 10 conditions\n",
    "num_samples = 10\n",
    "new_conditions = random_pool(metadata.independent_variables[0].allowed_values,\n",
    "                             n=num_samples)\n",
    "\n",
    "# print conditons\n",
    "for idx, condition in enumerate(new_conditions):\n",
    "    print(condition)"
   ]
  },
  {
   "cell_type": "markdown",
   "metadata": {},
   "source": [
    "#### Usage: Samplers\n",
    "\n",
    "An experiment sampler typically requires an existing pool of conditions as input along with additional arguments. For instance, the **[novelty sampler](https://autoresearch.github.io/autora/user-guide/experimentalists/samplers/novelty/)** requires, aside from a pool of conditions, a list of prior conditions. The user may also specify the number of samples ``num_samples`` to select from the pool.\n",
    "\n",
    "The novelty sampler will then select novel experiment conditions from the pool which are most dissimilar to some reference conditions, such as the ``initial_conditions`` obtained above:"
   ]
  },
  {
   "cell_type": "code",
   "execution_count": null,
   "metadata": {},
   "outputs": [
    {
     "name": "stdout",
     "output_type": "stream",
     "text": [
      "[[3.68563222]\n",
      " [3.67934275]]\n"
     ]
    }
   ],
   "source": [
    "from autora.experimentalist.sampler.novelty import novelty_sample\n",
    "\n",
    "new_conditions_novelty = novelty_sample(condition_pool = condition_pool,\n",
    "                                 reference_conditions = initial_conditions,\n",
    "                                 num_samples = 2)\n",
    "\n",
    "print(new_conditions_novelty)"
   ]
  },
  {
   "cell_type": "markdown",
   "metadata": {},
   "source": [
    "Another example for an experiment sampler is the **[falsification sampler](https://autoresearch.github.io/autora/falsification/docs/sampler/)**. The falsification sampler identifies experiment conditions under which the loss of a candidate model (returned by the theorist) is predicted to be the highest. This loss is approximated with a neural network, which is trained to predict the loss of the candidate model, given some initial experimental conditions, respective initial observations, and the metadata.\n",
    "\n",
    "The following code segment calls on the falsification sampler to return novel conditions based on the candidate model of the BMS theorist introduced above. As with the novelty sampler, we seek to select 10 conditions."
   ]
  },
  {
   "cell_type": "code",
   "execution_count": null,
   "metadata": {},
   "outputs": [
    {
     "name": "stderr",
     "output_type": "stream",
     "text": [
      "WARNING:autora.utils.deprecation:Use `falsification_score_sample_from_predictions` instead. `falsification_score_sampler_from_predictions` is deprecated.\n"
     ]
    },
    {
     "name": "stdout",
     "output_type": "stream",
     "text": [
      "[[5.13221142]\n",
      " [5.1385009 ]]\n"
     ]
    }
   ],
   "source": [
    "from autora.experimentalist.sampler.falsification import falsification_sample\n",
    "\n",
    "new_conditions_falsification = falsification_sample(\n",
    "        condition_pool=condition_pool,\n",
    "        model=theorist_bms,\n",
    "        reference_conditions=initial_conditions,\n",
    "        reference_observations=initial_observations,\n",
    "        metadata=metadata,\n",
    "        num_samples=2\n",
    "    )\n",
    "\n",
    "print(new_conditions_falsification)"
   ]
  },
  {
   "cell_type": "markdown",
   "metadata": {},
   "source": [
    "We can plot the selected conditions for both samples relative to the selected samples. Since we don't have observations for those conditions, we plot them as vertical lines."
   ]
  },
  {
   "cell_type": "code",
   "execution_count": null,
   "metadata": {},
   "outputs": [
    {
     "data": {
      "text/plain": [
       "<matplotlib.legend.Legend at 0x151432490>"
      ]
     },
     "execution_count": null,
     "metadata": {},
     "output_type": "execute_result"
    },
    {
     "data": {
      "image/png": "[encoded data removed]",
      "text/plain": [
       "<Figure size 640x480 with 1 Axes>"
      ]
     },
     "metadata": {},
     "output_type": "display_data"
    }
   ],
   "source": [
    "# plot model predictions against ground-truth\n",
    "import matplotlib.pyplot as plt\n",
    "\n",
    "y_min = np.min(initial_observations)\n",
    "y_max  = np.max(initial_observations)\n",
    "\n",
    "# plot conditions obtained by novelty sampler\n",
    "for idx, condition in enumerate(new_conditions_novelty):\n",
    "    if idx == 0:\n",
    "        plt.plot([condition[0], condition[0]], [y_min, y_max], '--r', label='novelty conditions')\n",
    "    else: # we want to omit the label for all other conditions\n",
    "        plt.plot()\n",
    "\n",
    "# plot conditions obtained by falsification sampler\n",
    "for idx, condition in enumerate(new_conditions_falsification):\n",
    "    if idx == 0:\n",
    "        plt.plot([condition[0], condition[0]], [y_min, y_max], '--g', label='falsification conditions')\n",
    "    else: # we want to omit the label for all other conditions\n",
    "        plt.plot()\n",
    "\n",
    "plt.plot(initial_conditions, initial_observations, 'o', label='Initial Data')\n",
    "plt.plot(condition_pool, predicted_observations_bms, label='Prediction from Bayesian Machine Scientist')\n",
    "plt.xlabel('x')\n",
    "plt.ylabel('y')\n",
    "plt.title('Sampled Experimental Conditions')\n",
    "plt.legend()"
   ]
  },
  {
   "cell_type": "markdown",
   "metadata": {},
   "source": [
    "\n",
    "#### Usage: Pipelines\n",
    "\n",
    "Experimentalists can be connected in a **[pipeline](https://autoresearch.github.io/autora/core/docs/pipeline/Experimentalist%20Pipeline%20Examples/)**, where each element passes its output to the next element, ensuring compatibility between the inputs and outputs. Pipelines offer a flexible and efficient way to orchestrate the workflow involving complex experimentalists (e.g., for processing of experimental conditions) and experiment runners (e.g., for preprocessing of collected observations). They allow for the integration of poolers, samplers, and other design manipulations into a cohesive stream of experimental conditions.\n",
    "\n",
    "Let's examine the following pipeline example:\n",
    "\n",
    "<ol>\n",
    "<li> Generate a grid of all possible experimental conditions.\n",
    "<li> Filter out conditions where the independent variable falls within the range -1 to 1.\n",
    "<li> Sample 100 conditions using the novelty sampler.\n",
    "<li> Select 5 conditions from the sampled set using the falsification sampler.\n",
    "</ol>\n",
    "\n",
    "Before creating the pipeline, let's define an additional function that removes experiment conditions falling within the range of -1 to 1, specifically $-1 \\leq x \\leq 1$. This function will be used in the second step of the pipeline."
   ]
  },
  {
   "cell_type": "code",
   "execution_count": null,
   "metadata": {},
   "outputs": [],
   "source": [
    "from typing import Iterable\n",
    "\n",
    "def condition_exclusion(conditions):\n",
    "    # first we need to make sure that conditions is a 2-dimensional numpy array\n",
    "    if isinstance(conditions, Iterable):\n",
    "        conditions = np.array(list(conditions))\n",
    "\n",
    "    if conditions.ndim == 1:\n",
    "        conditions = conditions.reshape(-1, 1)\n",
    "\n",
    "    # now we can sub-select conditions\n",
    "    conditions_to_keep = conditions[(-1 > conditions) | (conditions > 1)]\n",
    "    conditions_to_keep = conditions_to_keep.reshape(-1, 1)\n",
    "    return conditions_to_keep"
   ]
  },
  {
   "cell_type": "markdown",
   "metadata": {},
   "source": [
    "A pipeline can be defined as a list of functions, such as ``[grid_pool, value_exclusion, novelty_sample, falsification_sample]``. However, to create a pipeline object, we need to specify the required parameters for each element in the pipeline. We can achieve this by providing nested dictionaries containing the additional parameters, as shown in the code block below.\n",
    "\n",
    "***Note**: Each element of the pipeline passes its output to the next element as the first argument of the element's function. Thus, we need to make sure that the output of one pipeline element is compatible with the required first input argument for the next element. In our case, the first argument for each pipeline element (except for poolers) is assumed to be a 2-dimensional numpy array specifying a set of experimental conditions.*\n"
   ]
  },
  {
   "cell_type": "code",
   "execution_count": null,
   "metadata": {},
   "outputs": [],
   "source": [
    "from autora.experimentalist.pipeline import make_pipeline\n",
    "\n",
    "experimentalist_pipeline = make_pipeline([grid_pool,\n",
    "                                 condition_exclusion,\n",
    "                                 novelty_sample,\n",
    "                                 falsification_sample],\n",
    "                                params={\"grid_pool\":\n",
    "                                            {\"ivs\": metadata.independent_variables},\n",
    "                                        \"novelty_sample\":\n",
    "                                            {\"reference_conditions\": initial_conditions,\n",
    "                                             \"num_samples\": 100},\n",
    "                                        \"falsification_sample\":\n",
    "                                            {\"model\": theorist_bms,\n",
    "                                             \"reference_conditions\": initial_conditions,\n",
    "                                             \"reference_observations\": initial_observations,\n",
    "                                             \"metadata\": metadata,\n",
    "                                             \"num_samples\": 10}})"
   ]
  },
  {
   "cell_type": "markdown",
   "metadata": {},
   "source": [
    "In the declaration of the ``params`` parameter, we first specify the name of the pipeline object we seek to parameterize as a dictionary key, e.g., ``\"grid_pool\"``, and then nest within it, another dictionary with the names of the input arguments as keys (e.g., ``\"ivs\"``) along with their values (e.g.,  ``metadata.independent_variables``).\n",
    "\n",
    "Once specified, we can run the pipeline object to obtain novel experimental conditions."
   ]
  },
  {
   "cell_type": "code",
   "execution_count": null,
   "metadata": {},
   "outputs": [
    {
     "name": "stderr",
     "output_type": "stream",
     "text": [
      "WARNING:autora.utils.deprecation:Use `falsification_score_sample_from_predictions` instead. `falsification_score_sampler_from_predictions` is deprecated.\n"
     ]
    },
    {
     "name": "stdout",
     "output_type": "stream",
     "text": [
      "[[4.94981665]\n",
      " [4.95610613]\n",
      " [4.9623956 ]\n",
      " [4.96868508]\n",
      " [4.97497455]\n",
      " [4.98126403]\n",
      " [4.9875535 ]\n",
      " [4.99384298]\n",
      " [5.00013245]\n",
      " [5.00642193]]\n"
     ]
    }
   ],
   "source": [
    "new_conditions = experimentalist_pipeline.run()\n",
    "\n",
    "print(new_conditions)"
   ]
  },
  {
   "cell_type": "markdown",
   "metadata": {},
   "source": [
    "***Hint**: A common error for running pipelines is that the output of one pipeline element is incompatible with the input of the next pipeline element (e.g., not providing a 2-dimensional numpy array to ``novelty_sample``). In such cases, it can be helpful to \"manually\" pass the inputs from one element to another element, to check if they are compatible.*\n",
    "\n",
    "***Note**: Pipelines may be used for other purposes, such as linking an experiment runner with multiple pre-processing steps.*"
   ]
  },
  {
   "cell_type": "markdown",
   "metadata": {},
   "source": [
    "## Automated Empirical Research With Basic Loop Constructs\n",
    "\n",
    "After defining all the components required for the empirical research process, we can create an automated workflow using basic loop constructs in Python.\n",
    "\n",
    "The following code block demonstrates how to build such a workflow using the components introduced in the preceding sections, such as\n",
    "\n",
    "- ``metadata`` (object specifying variables of the experiment), <br>\n",
    "- ``run_experiment`` (function for collecting data), <br>\n",
    "- ``theorist_bms`` (scikit learn estimator for discoverying requations using the Bayesian Machine Scientist), <br>\n",
    "- ``random_pool`` (function for generating a random pool of experimental conditions), and <br>\n",
    "- ``falsification_sample`` (function for identifying novel experiment conditions using the falsification .sampler) <br>\n",
    "\n",
    "We begin with implementing the following workflow:\n",
    "1. Generate 10 seed experimental conditions using ``random_pool``\n",
    "2. Generate 10 seed observations using ``run_experiment``\n",
    "3. Loop through the following steps 5 times\n",
    "   2.1. Identify a model relating conditions to observations using ``theorist_bms``\n",
    "   2.2. Identify 10 new experimental conditions using ``falsification_sample``\n",
    "   2.3. Collect 10 new observations using ``run_experiment``\n",
    "   2.4  Add new conditions and observations to the dataset"
   ]
  },
  {
   "cell_type": "code",
   "execution_count": null,
   "metadata": {},
   "outputs": [
    {
     "name": "stderr",
     "output_type": "stream",
     "text": [
      "INFO:autora.theorist.bms.regressor:BMS fitting started\n",
      "100%|██████████| 100/100 [00:06<00:00, 15.21it/s]\n",
      "INFO:autora.theorist.bms.regressor:BMS fitting finished\n",
      "WARNING:autora.utils.deprecation:Use `falsification_score_sample_from_predictions` instead. `falsification_score_sampler_from_predictions` is deprecated.\n",
      "INFO:autora.theorist.bms.regressor:BMS fitting started\n"
     ]
    },
    {
     "name": "stdout",
     "output_type": "stream",
     "text": [
      "Loss in cycle 0: 0.0\n"
     ]
    },
    {
     "name": "stderr",
     "output_type": "stream",
     "text": [
      "100%|██████████| 100/100 [00:05<00:00, 17.13it/s]\n",
      "INFO:autora.theorist.bms.regressor:BMS fitting finished\n",
      "WARNING:autora.utils.deprecation:Use `falsification_score_sample_from_predictions` instead. `falsification_score_sampler_from_predictions` is deprecated.\n",
      "INFO:autora.theorist.bms.regressor:BMS fitting started\n"
     ]
    },
    {
     "name": "stdout",
     "output_type": "stream",
     "text": [
      "Loss in cycle 1: 0.0\n"
     ]
    },
    {
     "name": "stderr",
     "output_type": "stream",
     "text": [
      "100%|██████████| 100/100 [00:07<00:00, 14.11it/s]\n",
      "INFO:autora.theorist.bms.regressor:BMS fitting finished\n",
      "WARNING:autora.utils.deprecation:Use `falsification_score_sample_from_predictions` instead. `falsification_score_sampler_from_predictions` is deprecated.\n"
     ]
    },
    {
     "name": "stdout",
     "output_type": "stream",
     "text": [
      "Loss in cycle 2: 0.0\n"
     ]
    }
   ],
   "source": [
    "num_cycles = 3 # number of empirical research cycles\n",
    "measurements_per_cycle = 10 # number of data points to collect for each cycle\n",
    "\n",
    "# generate an initial set of 10 experimental conditions\n",
    "conditions = random_pool(metadata.independent_variables[0].allowed_values,\n",
    "                                 n=measurements_per_cycle)\n",
    "# convert iterator into 2-dimensional numpy array\n",
    "conditions = np.array(list(conditions)).reshape(-1, 1)\n",
    "\n",
    "# collect initial set of observations\n",
    "observations = run_experiment(conditions)\n",
    "\n",
    "for cycle in range(num_cycles):\n",
    "\n",
    "  # use BMS theorist to fit the model to the data\n",
    "  theorist_bms.fit(conditions, observations)\n",
    "\n",
    "  # obtain new conditions\n",
    "  new_conditions = falsification_sample(\n",
    "          condition_pool=condition_pool,\n",
    "          model=theorist_bms,\n",
    "          reference_conditions=conditions,\n",
    "          reference_observations=observations,\n",
    "          metadata=metadata,\n",
    "          num_samples=measurements_per_cycle,\n",
    "      )\n",
    "\n",
    "  # obtain new observations\n",
    "  new_observations = run_experiment(new_conditions)\n",
    "\n",
    "  # combine old and new conditions and observations\n",
    "  conditions = np.concatenate((conditions, new_conditions))\n",
    "  observations = np.concatenate((observations, new_observations))\n",
    "\n",
    "  # evaluate model of the theorist based on its ability to predict each observation from the ground truth, evaluated across the entire space of experimental conditions\n",
    "  loss = np.mean(np.square(theorist_bms.predict(condition_pool) - ground_truth(condition_pool)))\n",
    "  print(\"Loss in cycle {}: {}\".format(cycle, loss))\n"
   ]
  },
  {
   "cell_type": "markdown",
   "metadata": {},
   "source": [
    "We can easily replace components in the workflow above. For instance, we could replace  ``falsification_sample`` with the ``experimentalist_pipeline`` defined above.\n",
    "\n",
    "In the following code block, we add a linear regression theorist, to fit a linear model to the data. In addition, we replace ``falsification_sample`` with  ``model_disagreement_sampler`` to sample experimental conditions that differentiate most between the linear model and the model discovered by the BMS theorist."
   ]
  },
  {
   "cell_type": "code",
   "execution_count": null,
   "metadata": {},
   "outputs": [
    {
     "name": "stderr",
     "output_type": "stream",
     "text": [
      "INFO:autora.theorist.bms.regressor:BMS fitting started\n",
      "100%|██████████| 100/100 [00:06<00:00, 14.44it/s]\n",
      "INFO:autora.theorist.bms.regressor:BMS fitting finished\n",
      "INFO:autora.theorist.bms.regressor:BMS fitting started\n"
     ]
    },
    {
     "name": "stdout",
     "output_type": "stream",
     "text": [
      "Loss in cycle 0: 0.0\n"
     ]
    },
    {
     "name": "stderr",
     "output_type": "stream",
     "text": [
      "100%|██████████| 100/100 [00:06<00:00, 16.29it/s]\n",
      "INFO:autora.theorist.bms.regressor:BMS fitting finished\n",
      "INFO:autora.theorist.bms.regressor:BMS fitting started\n"
     ]
    },
    {
     "name": "stdout",
     "output_type": "stream",
     "text": [
      "Loss in cycle 1: 0.5020141626933737\n"
     ]
    },
    {
     "name": "stderr",
     "output_type": "stream",
     "text": [
      "100%|██████████| 100/100 [00:06<00:00, 15.00it/s]\n",
      "INFO:autora.theorist.bms.regressor:BMS fitting finished\n"
     ]
    },
    {
     "name": "stdout",
     "output_type": "stream",
     "text": [
      "Loss in cycle 2: 0.0\n"
     ]
    }
   ],
   "source": [
    "from autora.experimentalist.sampler.model_disagreement import model_disagreement_sampler\n",
    "\n",
    "num_cycles = 3 # number of empirical research cycles\n",
    "measurements_per_cycle = 10 # number of data points to collect for each cycle\n",
    "\n",
    "# generate an initial set of 10 experimental conditions\n",
    "conditions = random_pool(metadata.independent_variables[0].allowed_values,\n",
    "                                 n=measurements_per_cycle)\n",
    "# convert iterator into 2-dimensional numpy array\n",
    "conditions = np.array(list(conditions)).reshape(-1, 1)\n",
    "\n",
    "# collect initial set of observations\n",
    "observations = run_experiment(conditions)\n",
    "\n",
    "for cycle in range(num_cycles):\n",
    "\n",
    "  # use BMS theorist to fit the model to the data\n",
    "  theorist_bms.fit(conditions, observations)\n",
    "  theorist_lr.fit(conditions, observations)\n",
    "\n",
    "  # obtain new conditions\n",
    "  new_conditions = model_disagreement_sampler(\n",
    "          condition_pool,\n",
    "          models = [theorist_bms, theorist_lr],\n",
    "          num_samples = measurements_per_cycle\n",
    "      )\n",
    "\n",
    "  # obtain new observations\n",
    "  new_observations = run_experiment(new_conditions)\n",
    "\n",
    "  # combine old and new conditions and observations\n",
    "  conditions = np.concatenate((conditions, new_conditions))\n",
    "  observations = np.concatenate((observations, new_observations))\n",
    "\n",
    "  # evaluate model of the theorist based on its ability to predict each observation from the ground truth, evaluated across the entire space of experimental conditions\n",
    "  loss = np.mean(np.square(theorist_bms.predict(condition_pool) - ground_truth(condition_pool)))\n",
    "  print(\"Loss in cycle {}: {}\".format(cycle, loss))\n"
   ]
  },
  {
   "cell_type": "markdown",
   "metadata": {},
   "source": [
    "While the workflow logic with basic loop constructs is flexible, there are more convenient ways to specify a research cycle in ``autora``. The next section illustrates the use of these constructs."
   ]
  },
  {
   "cell_type": "markdown",
   "metadata": {},
   "source": [
    "## Automated Empirical Research With AutoRA Workflow Logic\n",
    "\n",
    "Workflows in ``autora`` implement the *autonomous empirical research paradigm*. This paradigm centers around the dynamic interplay between automated theorists and automated experimentalists. As outlined above, theorists rely–among other things–on existing data to construct computational models by linking experimental conditions to dependent measures. Experimentalist design follow-up experiments to refine and validate models generated by the theorist. Together, these agents enable a closed-loop scientific discovery process.\n",
    "\n",
    "The following sections introduce ways of specifying workflows directly in ``autora``. For more information on workflows, please refer to the [corresponding documentation](https://autoresearch.github.io/autora/user-guide/workflow/)."
   ]
  },
  {
   "cell_type": "markdown",
   "metadata": {},
   "source": [
    "### Basic Workflows\n",
    "\n",
    "This section provides an introduction to handling workflows with the controller object. Here, we focus on workflows implementing the **default execution order**: (1) generate experiment conditions using the ``eperimentalist``, (2) collect observations using the ``experiment_runner``, and (3), generate a model that links experiment conditions to observations using the ``theorist``.\n",
    "\n",
    "At the end of this section, we will able to implement the following workflow:\n",
    "\n",
    "We begin with implementing the following workflow:\n",
    "1. Generate 10 seed experimental conditions using ``grid_pool``\n",
    "2. Iterate 5 times through the following steps\n",
    "   2.2. Collect observations using ``run_experiment``\n",
    "   2.1. Identify a model relating conditions to observations using ``theorist_bms``\n",
    "   2.2. Identify 10 new experimental conditions using ``falsification_sample``\n",
    "\n",
    "#### Declaration\n",
    "\n",
    "We begin with defining a simple workflow. Workflows can be encapsulated in a ``Controller`` object. For instance, the following code block sets up a closed-loop cycle between (1) a grid pooler for sampling experimental conditions, (2) an experiment runner for obtaining respective observations, and (3) a BMS theorist for discoverying an equation relating experimental conditions to observations.\n",
    "\n",
    "As with pipelines, we can pass the ``Controller`` object static parameters for each component. In this case, we provide the grid experimentalist with information about the independent variables to sample.\n",
    "\n",
    "***Note**: We haven't included the ``falsification_sample`` experimentalist into our workflow yet because it requires us to specify state-dependent input arguments (e.g., the model generated by the theorist), which we will cover at the end of this section.*"
   ]
  },
  {
   "cell_type": "code",
   "execution_count": null,
   "metadata": {},
   "outputs": [],
   "source": [
    "from autora.workflow import Controller\n",
    "\n",
    "controller = Controller(\n",
    "    variables=metadata,\n",
    "    experimentalist=grid_pool,\n",
    "    experiment_runner=run_experiment,\n",
    "    theorist=theorist_bms,\n",
    "    params={\n",
    "        \"experimentalist\":\n",
    "                {\"ivs\": metadata.independent_variables}\n",
    "    }\n",
    ")"
   ]
  },
  {
   "cell_type": "markdown",
   "metadata": {},
   "source": [
    "In the declaration of the ``params`` parameter, we first specify the type of the component we seek to parameterize as a dictionary key, e.g., ``\"experimentalist\"``. Then we nest within it, another dictionary with the input arguments to the respective component as keys (e.g., ``\"ivs\"`` is an input argument to the ``grid_pool`` experimentalist) along with their values (e.g.,  ``metadata.independent_variables``).\n",
    "\n",
    "#### Monitoring\n",
    "\n",
    "Before we execute the controller, lets also add a **monitor function** which is executed with every autonomous empirical research step. The following code block prints the last generated result of the workflow defined by the controller. All workflow results are stored in the ``state.history`` object. We can access the kind of the latest result using ``state.history[-1].kind``."
   ]
  },
  {
   "cell_type": "code",
   "execution_count": null,
   "metadata": {},
   "outputs": [],
   "source": [
    "# define monitor function\n",
    "def monitor(state):\n",
    "    print(f\"MONITOR: Generated new {state.history[-1].kind}\")\n",
    "\n",
    "# add monitor function to controller\n",
    "controller.monitor = monitor"
   ]
  },
  {
   "cell_type": "markdown",
   "metadata": {},
   "source": [
    "#### Execution\n",
    "\n",
    "The controller is defined as an iterator. We can execute a single step in the workflow by passing the ``controller`` object to the ``next()`` method. The following code block executes three steps of the default research cycle."
   ]
  },
  {
   "cell_type": "code",
   "execution_count": null,
   "metadata": {},
   "outputs": [
    {
     "name": "stderr",
     "output_type": "stream",
     "text": [
      "INFO:autora.workflow.base:getting step_name='experimentalist'\n",
      "INFO:autora.workflow.base:running next_function=<function from_experimentalist_pipeline.<locals>._executor_experimentalist at 0x1579955e0>\n",
      "INFO:autora.workflow.base:getting step_name='experiment_runner'\n",
      "INFO:autora.workflow.base:running next_function=<function from_experiment_runner_callable.<locals>._executor_experiment_runner at 0x153d70b80>\n",
      "INFO:autora.workflow.base:getting step_name='theorist'\n",
      "INFO:autora.workflow.base:running next_function=<function from_theorist_estimator.<locals>._executor_theorist at 0x1528758b0>\n",
      "INFO:autora.theorist.bms.regressor:BMS fitting started\n"
     ]
    },
    {
     "name": "stdout",
     "output_type": "stream",
     "text": [
      "MONITOR: Generated new CONDITION\n",
      "MONITOR: Generated new OBSERVATION\n"
     ]
    },
    {
     "name": "stderr",
     "output_type": "stream",
     "text": [
      "100%|██████████| 100/100 [00:09<00:00, 10.13it/s]\n",
      "INFO:autora.theorist.bms.regressor:BMS fitting finished\n"
     ]
    },
    {
     "name": "stdout",
     "output_type": "stream",
     "text": [
      "MONITOR: Generated new MODEL\n"
     ]
    },
    {
     "data": {
      "text/plain": [
       "<autora.workflow.controller.Controller at 0x15798e790>"
      ]
     },
     "execution_count": null,
     "metadata": {},
     "output_type": "execute_result"
    }
   ],
   "source": [
    "next(controller)\n",
    "next(controller)\n",
    "next(controller)"
   ]
  },
  {
   "cell_type": "markdown",
   "metadata": {},
   "source": [
    "As indicated by the monitor, the **default execution order** is as follows: (1) generate experiment conditions, (2) collect observations, and (3), generate a model. After executing step (3), the controller would then continue with step (1):"
   ]
  },
  {
   "cell_type": "code",
   "execution_count": null,
   "metadata": {},
   "outputs": [
    {
     "name": "stderr",
     "output_type": "stream",
     "text": [
      "INFO:autora.workflow.base:getting step_name='experimentalist'\n",
      "INFO:autora.workflow.base:running next_function=<function from_experimentalist_pipeline.<locals>._executor_experimentalist at 0x1579955e0>\n"
     ]
    },
    {
     "name": "stdout",
     "output_type": "stream",
     "text": [
      "MONITOR: Generated new CONDITION\n"
     ]
    },
    {
     "data": {
      "text/plain": [
       "<autora.workflow.controller.Controller at 0x15798e790>"
      ]
     },
     "execution_count": null,
     "metadata": {},
     "output_type": "execute_result"
    }
   ],
   "source": [
    "next(controller)"
   ]
  },
  {
   "cell_type": "markdown",
   "metadata": {},
   "source": [
    "Since ``controller`` is an iterator, we can use [itertools](https://docs.python.org/3/library/itertools.html) for efficient looping. The following example uses ``takewhile`` to define a loop that stops as soon as we obtained three models from the theorist.\n",
    "\n",
    "We begin with defining a lambda function which returns true whenever the controller has less then 3 models. As explained in the next subsection, we can obtain a list of generated models by accessing the controller's state via ``controller.state.models``."
   ]
  },
  {
   "cell_type": "code",
   "execution_count": null,
   "metadata": {},
   "outputs": [],
   "source": [
    "continue_criterion = lambda controller: len(controller.state.models) < 3"
   ]
  },
  {
   "cell_type": "markdown",
   "metadata": {},
   "source": [
    "Now we can run a for-loop using the ``controller`` as an iterator, and ``takewhile`` as iterator logic that continues to execute steps of the controller as long as  ``continue_criterion`` returns ``True``. In this way, we can execute 3 research cycles."
   ]
  },
  {
   "cell_type": "code",
   "execution_count": null,
   "metadata": {},
   "outputs": [
    {
     "name": "stderr",
     "output_type": "stream",
     "text": [
      "INFO:autora.workflow.base:getting step_name='experimentalist'\n",
      "INFO:autora.workflow.base:running next_function=<function from_experimentalist_pipeline.<locals>._executor_experimentalist at 0x1565bda60>\n",
      "WARNING:autora.utils.deprecation:Use `falsification_score_sample_from_predictions` instead. `falsification_score_sampler_from_predictions` is deprecated.\n",
      "INFO:autora.workflow.base:getting step_name='experiment_runner'\n",
      "INFO:autora.workflow.base:running next_function=<function from_experiment_runner_callable.<locals>._executor_experiment_runner at 0x1565bdee0>\n",
      "INFO:autora.workflow.base:getting step_name='theorist'\n",
      "INFO:autora.workflow.base:running next_function=<function from_theorist_estimator.<locals>._executor_theorist at 0x1565bd820>\n",
      "INFO:autora.theorist.bms.regressor:BMS fitting started\n"
     ]
    },
    {
     "name": "stdout",
     "output_type": "stream",
     "text": [
      "MONITOR: Generated new CONDITION\n",
      "Number of models: 2\n",
      "MONITOR: Generated new OBSERVATION\n",
      "Number of models: 2\n"
     ]
    },
    {
     "name": "stderr",
     "output_type": "stream",
     "text": [
      "100%|██████████| 100/100 [00:07<00:00, 12.67it/s]\n",
      "INFO:autora.theorist.bms.regressor:BMS fitting finished\n"
     ]
    },
    {
     "name": "stdout",
     "output_type": "stream",
     "text": [
      "MONITOR: Generated new MODEL\n"
     ]
    }
   ],
   "source": [
    "from itertools import takewhile\n",
    "\n",
    "for step in takewhile(continue_criterion, controller):\n",
    "    print(f\"Number of models: {len(step.state.models)}\")"
   ]
  },
  {
   "cell_type": "markdown",
   "metadata": {},
   "source": [
    "#### Result Inspection\n",
    "\n",
    "After each executed step, we can observe the result generated by the ``controller``. All results are stored in in ``controller.state.history``. Each result is composed of a value specifying its ``kind`` (``CONDITION``, ``OBSERVATION``, or ``MODEL``) and the respective ``data``.\n",
    "\n",
    "We can obtain the observations collected in the last step of the workflow as follows:"
   ]
  },
  {
   "cell_type": "code",
   "execution_count": null,
   "metadata": {},
   "outputs": [
    {
     "name": "stdout",
     "output_type": "stream",
     "text": [
      "ResultKind.MODEL\n",
      "BMSRegressor(epochs=100)\n"
     ]
    }
   ],
   "source": [
    "result = controller.state.history[-1]\n",
    "\n",
    "print(result.kind)\n",
    "print(result.data)"
   ]
  },
  {
   "cell_type": "markdown",
   "metadata": {},
   "source": [
    "We can also specify the kind of result we are looking for directly. For instance, we can obtain all models generated by the theorist using ``controller.state.models``. The following code block prints the last model discovered by the BMS theorist (note that ``model_.__repr__()`` is a function specific to the BMS theorist which returns its model as a string)."
   ]
  },
  {
   "cell_type": "code",
   "execution_count": null,
   "metadata": {},
   "outputs": [
    {
     "name": "stdout",
     "output_type": "stream",
     "text": [
      "(X0 / cosh((X0 * (X0 / _a0_))))\n"
     ]
    }
   ],
   "source": [
    "print(controller.state.models[-1].model_.__repr__())"
   ]
  },
  {
   "cell_type": "markdown",
   "metadata": {},
   "source": [
    "#### Seeding\n",
    "\n",
    "The default execution order always begins with an experimentalist. This is problematic if we want to use an experimentalist that depends on prior steps (e.g., the falsification experimentalist requires a model generated by the theorist). We can circumvent this problem by seeding the controller with experiment conditons.\n",
    "\n",
    "The following code block seeds the controller with 10 experiment conditions. We first generate the ``seed_conditions``, and then pass them, encapsulated in a list, to the ``seed`` function of the ``controller`` object."
   ]
  },
  {
   "cell_type": "code",
   "execution_count": null,
   "metadata": {},
   "outputs": [
    {
     "name": "stderr",
     "output_type": "stream",
     "text": [
      "INFO:autora.workflow.base:getting step_name='experiment_runner'\n",
      "INFO:autora.workflow.base:running next_function=<function from_experiment_runner_callable.<locals>._executor_experiment_runner at 0x158136820>\n"
     ]
    },
    {
     "name": "stdout",
     "output_type": "stream",
     "text": [
      "MONITOR: Generated new OBSERVATION\n"
     ]
    },
    {
     "data": {
      "text/plain": [
       "<autora.workflow.controller.Controller at 0x158146d30>"
      ]
     },
     "execution_count": null,
     "metadata": {},
     "output_type": "execute_result"
    }
   ],
   "source": [
    "# generate initial pool of 5 experimental conditions\n",
    "seed_conditions = np.linspace(0,2*np.pi,10)\n",
    "\n",
    "# define controller\n",
    "controller = Controller(\n",
    "    monitor=monitor,\n",
    "    variables=metadata,\n",
    "    experimentalist=grid_pool,\n",
    "    experiment_runner=run_experiment,\n",
    "    theorist=theorist_bms,\n",
    "    params={\n",
    "        \"experimentalist\":\n",
    "                {\"ivs\": metadata.independent_variables}\n",
    "    }\n",
    ")\n",
    "\n",
    "# seed controller\n",
    "controller.seed(conditions=[seed_conditions])\n",
    "\n",
    "next(controller)"
   ]
  },
  {
   "cell_type": "markdown",
   "metadata": {},
   "source": [
    "Note that, since we seeded the controller with initial experimental conditions, the next step is to execute the ``experiment_runner``. This is why the first step of reported by the monitor involves the generation of observations (based on the seed experimental conditions)."
   ]
  },
  {
   "cell_type": "markdown",
   "metadata": {},
   "source": [
    "#### Accessing State-Dependent Properties\n",
    "\n",
    "Some automated empirical research components require input arguments that depend on the result of the last step in the workflow. For instance, the ``falsification_sample`` experimentalist depends on the previously collected experimental conditions, observations, and the fitted model. For such cases, it is possible to use \"state-dependent properties\" in the ``params`` dictionary. These are the following strings, which will be replaced during execution by their respective current values:\n",
    "\n",
    "- ``\"%observations.dvs[-1]%\"``: the last observed dependent variables <br>\n",
    "- ``\"%observations.ivs[-1]%\"``: the last observed independent variables <br>\n",
    "- ``\"%observations.dvs%\"``: all the observed dependent variables (experimental conditions), concatenated into a single array <br>\n",
    "- ``\"%observations.ivs%\"``: all the observed independent variables (observations), concatenated into a single array <br>\n",
    "- ``\"%models[-1]%\"``: the last fitted theorist <br>\n",
    "- ``\"%models%\"``: all the fitted theorists <br>\n",
    "\n",
    "In the following example, we use the ``\"%observations.ivs%\"``, ``\"%observations.dvs%\"``, and ``\"%models%\"``  properties for the ``falsification_sample`` experimentalist which seeks to identify experimental conditions that are predicted to maximize the loss of the fitted model.\n",
    "\n",
    "The code block below implements the following workflow:\n",
    "1. Generate 10 seed experimental conditions using ``grid_pool``\n",
    "2. Iterate 5 times through the following steps\n",
    "   2.2. Collect observations using ``run_experiment``\n",
    "   2.1. Identify a model relating conditions to observations using ``theorist_bms``\n",
    "   2.2. Identify 10 new experimental conditions using ``falsification_sample``\n"
   ]
  },
  {
   "cell_type": "code",
   "execution_count": null,
   "metadata": {},
   "outputs": [],
   "source": [
    "# generate a grid of experimental conditions\n",
    "seed_conditions = grid_pool(ivs=metadata.independent_variables)\n",
    "# convert iterator into 2-dimensional numpy array\n",
    "seed_conditions = np.array(list(seed_conditions)).reshape(-1, 1)\n",
    "# select the first 10 conditions\n",
    "seed_conditions = seed_conditions[0:9,]\n",
    "\n",
    "\n",
    "# define controller\n",
    "controller = Controller(\n",
    "    monitor=monitor,\n",
    "    variables=metadata,\n",
    "    experimentalist=falsification_sample,\n",
    "    experiment_runner=run_experiment,\n",
    "    theorist=theorist_bms,\n",
    "    params={\n",
    "        \"experimentalist\":\n",
    "                {\"condition_pool\": condition_pool,\n",
    "                 \"model\": \"%models[-1]%\", # access last model generated by theorist\n",
    "                 \"reference_conditions\": \"%observations.ivs%\", # access all conditions probed so far\n",
    "                 \"reference_observations\": \"%observations.dvs%\", # access all observations collected so far\n",
    "                 \"metadata\": metadata,\n",
    "                 \"num_samples\": 10}\n",
    "    }\n",
    ")\n",
    "\n",
    "# seed controller\n",
    "controller.seed(conditions=[seed_conditions])"
   ]
  },
  {
   "cell_type": "markdown",
   "metadata": {},
   "source": [
    "Using ``takewhile``, we can now specify a workflow logic that executes the automated research process 5 times. Accordingly, we stop execution of the ``controller`` as soon as it accumulated 5 models."
   ]
  },
  {
   "cell_type": "code",
   "execution_count": null,
   "metadata": {},
   "outputs": [
    {
     "name": "stderr",
     "output_type": "stream",
     "text": [
      "INFO:autora.workflow.base:getting step_name='experiment_runner'\n",
      "INFO:autora.workflow.base:running next_function=<function from_experiment_runner_callable.<locals>._executor_experiment_runner at 0x15653c820>\n",
      "INFO:autora.workflow.base:getting step_name='theorist'\n",
      "INFO:autora.workflow.base:running next_function=<function from_theorist_estimator.<locals>._executor_theorist at 0x158125820>\n",
      "INFO:autora.theorist.bms.regressor:BMS fitting started\n"
     ]
    },
    {
     "name": "stdout",
     "output_type": "stream",
     "text": [
      "MONITOR: Generated new OBSERVATION\n",
      "Number of models: 0\n"
     ]
    },
    {
     "name": "stderr",
     "output_type": "stream",
     "text": [
      "100%|██████████| 100/100 [00:07<00:00, 13.46it/s]\n",
      "INFO:autora.theorist.bms.regressor:BMS fitting finished\n",
      "INFO:autora.workflow.base:getting step_name='experimentalist'\n",
      "INFO:autora.workflow.base:running next_function=<function from_experimentalist_pipeline.<locals>._executor_experimentalist at 0x153d52790>\n",
      "WARNING:autora.utils.deprecation:Use `falsification_score_sample_from_predictions` instead. `falsification_score_sampler_from_predictions` is deprecated.\n"
     ]
    },
    {
     "name": "stdout",
     "output_type": "stream",
     "text": [
      "MONITOR: Generated new MODEL\n",
      "Number of models: 1\n"
     ]
    },
    {
     "name": "stderr",
     "output_type": "stream",
     "text": [
      "INFO:autora.workflow.base:getting step_name='experiment_runner'\n",
      "INFO:autora.workflow.base:running next_function=<function from_experiment_runner_callable.<locals>._executor_experiment_runner at 0x157989af0>\n",
      "INFO:autora.workflow.base:getting step_name='theorist'\n",
      "INFO:autora.workflow.base:running next_function=<function from_theorist_estimator.<locals>._executor_theorist at 0x157989af0>\n",
      "INFO:autora.theorist.bms.regressor:BMS fitting started\n"
     ]
    },
    {
     "name": "stdout",
     "output_type": "stream",
     "text": [
      "MONITOR: Generated new CONDITION\n",
      "Number of models: 1\n",
      "MONITOR: Generated new OBSERVATION\n",
      "Number of models: 1\n"
     ]
    },
    {
     "name": "stderr",
     "output_type": "stream",
     "text": [
      "100%|██████████| 100/100 [00:07<00:00, 13.40it/s]\n",
      "INFO:autora.theorist.bms.regressor:BMS fitting finished\n",
      "INFO:autora.workflow.base:getting step_name='experimentalist'\n",
      "INFO:autora.workflow.base:running next_function=<function from_experimentalist_pipeline.<locals>._executor_experimentalist at 0x1565ac0d0>\n",
      "WARNING:autora.utils.deprecation:Use `falsification_score_sample_from_predictions` instead. `falsification_score_sampler_from_predictions` is deprecated.\n"
     ]
    },
    {
     "name": "stdout",
     "output_type": "stream",
     "text": [
      "MONITOR: Generated new MODEL\n",
      "Number of models: 2\n"
     ]
    },
    {
     "name": "stderr",
     "output_type": "stream",
     "text": [
      "INFO:autora.workflow.base:getting step_name='experiment_runner'\n",
      "INFO:autora.workflow.base:running next_function=<function from_experiment_runner_callable.<locals>._executor_experiment_runner at 0x157989550>\n",
      "INFO:autora.workflow.base:getting step_name='theorist'\n",
      "INFO:autora.workflow.base:running next_function=<function from_theorist_estimator.<locals>._executor_theorist at 0x157989550>\n",
      "INFO:autora.theorist.bms.regressor:BMS fitting started\n"
     ]
    },
    {
     "name": "stdout",
     "output_type": "stream",
     "text": [
      "MONITOR: Generated new CONDITION\n",
      "Number of models: 2\n",
      "MONITOR: Generated new OBSERVATION\n",
      "Number of models: 2\n"
     ]
    },
    {
     "name": "stderr",
     "output_type": "stream",
     "text": [
      "100%|██████████| 100/100 [00:07<00:00, 12.91it/s]\n",
      "INFO:autora.theorist.bms.regressor:BMS fitting finished\n",
      "INFO:autora.workflow.base:getting step_name='experimentalist'\n",
      "INFO:autora.workflow.base:running next_function=<function from_experimentalist_pipeline.<locals>._executor_experimentalist at 0x15653ca60>\n",
      "WARNING:autora.utils.deprecation:Use `falsification_score_sample_from_predictions` instead. `falsification_score_sampler_from_predictions` is deprecated.\n"
     ]
    },
    {
     "name": "stdout",
     "output_type": "stream",
     "text": [
      "MONITOR: Generated new MODEL\n",
      "Number of models: 3\n"
     ]
    },
    {
     "name": "stderr",
     "output_type": "stream",
     "text": [
      "INFO:autora.workflow.base:getting step_name='experiment_runner'\n",
      "INFO:autora.workflow.base:running next_function=<function from_experiment_runner_callable.<locals>._executor_experiment_runner at 0x15653c8b0>\n",
      "INFO:autora.workflow.base:getting step_name='theorist'\n",
      "INFO:autora.workflow.base:running next_function=<function from_theorist_estimator.<locals>._executor_theorist at 0x15653c8b0>\n",
      "INFO:autora.theorist.bms.regressor:BMS fitting started\n"
     ]
    },
    {
     "name": "stdout",
     "output_type": "stream",
     "text": [
      "MONITOR: Generated new CONDITION\n",
      "Number of models: 3\n",
      "MONITOR: Generated new OBSERVATION\n",
      "Number of models: 3\n"
     ]
    },
    {
     "name": "stderr",
     "output_type": "stream",
     "text": [
      "100%|██████████| 100/100 [00:05<00:00, 17.98it/s]\n",
      "INFO:autora.theorist.bms.regressor:BMS fitting finished\n",
      "INFO:autora.workflow.base:getting step_name='experimentalist'\n",
      "INFO:autora.workflow.base:running next_function=<function from_experimentalist_pipeline.<locals>._executor_experimentalist at 0x1579a24c0>\n",
      "WARNING:autora.utils.deprecation:Use `falsification_score_sample_from_predictions` instead. `falsification_score_sampler_from_predictions` is deprecated.\n"
     ]
    },
    {
     "name": "stdout",
     "output_type": "stream",
     "text": [
      "MONITOR: Generated new MODEL\n",
      "Number of models: 4\n"
     ]
    },
    {
     "name": "stderr",
     "output_type": "stream",
     "text": [
      "INFO:autora.workflow.base:getting step_name='experiment_runner'\n",
      "INFO:autora.workflow.base:running next_function=<function from_experiment_runner_callable.<locals>._executor_experiment_runner at 0x1579a24c0>\n",
      "INFO:autora.workflow.base:getting step_name='theorist'\n",
      "INFO:autora.workflow.base:running next_function=<function from_theorist_estimator.<locals>._executor_theorist at 0x1579a24c0>\n",
      "INFO:autora.theorist.bms.regressor:BMS fitting started\n"
     ]
    },
    {
     "name": "stdout",
     "output_type": "stream",
     "text": [
      "MONITOR: Generated new CONDITION\n",
      "Number of models: 4\n",
      "MONITOR: Generated new OBSERVATION\n",
      "Number of models: 4\n"
     ]
    },
    {
     "name": "stderr",
     "output_type": "stream",
     "text": [
      "100%|██████████| 100/100 [00:06<00:00, 15.24it/s]\n",
      "INFO:autora.theorist.bms.regressor:BMS fitting finished\n",
      "INFO:autora.workflow.base:getting step_name='experimentalist'\n",
      "INFO:autora.workflow.base:running next_function=<function from_experimentalist_pipeline.<locals>._executor_experimentalist at 0x157989550>\n",
      "WARNING:autora.utils.deprecation:Use `falsification_score_sample_from_predictions` instead. `falsification_score_sampler_from_predictions` is deprecated.\n"
     ]
    },
    {
     "name": "stdout",
     "output_type": "stream",
     "text": [
      "MONITOR: Generated new MODEL\n",
      "Number of models: 5\n"
     ]
    },
    {
     "name": "stderr",
     "output_type": "stream",
     "text": [
      "INFO:autora.workflow.base:getting step_name='experiment_runner'\n",
      "INFO:autora.workflow.base:running next_function=<function from_experiment_runner_callable.<locals>._executor_experiment_runner at 0x157989670>\n",
      "INFO:autora.workflow.base:getting step_name='theorist'\n",
      "INFO:autora.workflow.base:running next_function=<function from_theorist_estimator.<locals>._executor_theorist at 0x1579895e0>\n",
      "INFO:autora.theorist.bms.regressor:BMS fitting started\n"
     ]
    },
    {
     "name": "stdout",
     "output_type": "stream",
     "text": [
      "MONITOR: Generated new CONDITION\n",
      "Number of models: 5\n",
      "MONITOR: Generated new OBSERVATION\n",
      "Number of models: 5\n"
     ]
    },
    {
     "name": "stderr",
     "output_type": "stream",
     "text": [
      "100%|██████████| 100/100 [00:06<00:00, 15.05it/s]\n",
      "INFO:autora.theorist.bms.regressor:BMS fitting finished\n"
     ]
    },
    {
     "name": "stdout",
     "output_type": "stream",
     "text": [
      "MONITOR: Generated new MODEL\n"
     ]
    }
   ],
   "source": [
    "from itertools import takewhile\n",
    "\n",
    "continue_criterion = lambda controller: len(controller.state.models) < 6\n",
    "\n",
    "for step in takewhile(continue_criterion, controller):\n",
    "    print(f\"Number of models: {len(step.state.models)}\")"
   ]
  },
  {
   "cell_type": "markdown",
   "metadata": {},
   "source": [
    "### Advanced Workflows\n",
    "\n",
    "This section explains how to specify arbitrary execution orders, and how to reference state-dependent variables within the ``controller`` object introduced above.\n",
    "\n",
    "To illustrate the implementation of advanced workflows, we focus on the following **exemplary workflow**:\n",
    "\n",
    "1. Generate seed experimental conditions from a grid.\n",
    "2. Loop through the following steps\n",
    "  2.1. Run synthetic experiment to collect observations\n",
    "  2.2. Identify a model using the BMS theorist\n",
    "  2.3. Identify experimental conditions that the BMS theorist cannot capture\n",
    "  2.4. We stop after five iterations, or if the discovered model stays the same for two cycles\n",
    "\n",
    "We begin with\n",
    "\n"
   ]
  },
  {
   "cell_type": "markdown",
   "metadata": {},
   "source": [
    "A key limitation of the ``Cycle`` object is that we cannot define input parameters which change as a function of each cycle. For instance, the ``novelty_sample`` function requires as input the latest model (which may change every cycle). For such cases, it is possible to use \"state-dependent properties\" in the ``params`` dictionary. These are the following strings, which will be replaced during execution by their respective current values:\n",
    "\n",
    "- ``\"%observations.dvs[-1]%\"``: the last observed dependent variables <br>\n",
    "- ``\"%observations.ivs[-1]%\"``: the last observed independent variables <br>\n",
    "- ``\"%observations.dvs%\"``: all the observed dependent variables (experimental conditions), concatenated into a single array <br>\n",
    "- ``\"%observations.ivs%\"``: all the observed independent variables (observations), concatenated into a single array <br>\n",
    "- ``\"%models[-1]%\"``: the last fitted theorist <br>\n",
    "- ``\"%models%\"``: all the fitted theorists <br>\n",
    "\n",
    "In the following example, we use the ``\"%observations.dvs%\"`` cycle property for the ``novelty_sample`` experimentalist which seeks to identify experiment conditions that are most distinct from prior observations."
   ]
  },
  {
   "cell_type": "code",
   "execution_count": null,
   "metadata": {},
   "outputs": [
    {
     "name": "stderr",
     "output_type": "stream",
     "text": [
      "INFO:autora.workflow.base:getting step_name='full_cycle'\n",
      "INFO:autora.workflow.base:running next_function=<function full_cycle_wrapper.<locals>._executor_full_cycle at 0x152dd49d0>\n"
     ]
    },
    {
     "ename": "ValueError",
     "evalue": "need at least one array to concatenate",
     "output_type": "error",
     "traceback": [
      "\u001b[0;31m---------------------------------------------------------------------------\u001b[0m",
      "\u001b[0;31mValueError\u001b[0m                                Traceback (most recent call last)",
      "Cell \u001b[0;32mIn[135], line 14\u001b[0m\n\u001b[1;32m      1\u001b[0m cycle \u001b[38;5;241m=\u001b[39m Cycle(\n\u001b[1;32m      2\u001b[0m     variables\u001b[38;5;241m=\u001b[39mmetadata,\n\u001b[1;32m      3\u001b[0m     theorist\u001b[38;5;241m=\u001b[39mtheorist_bms,\n\u001b[0;32m   (...)\u001b[0m\n\u001b[1;32m     11\u001b[0m     }\n\u001b[1;32m     12\u001b[0m )\n\u001b[0;32m---> 14\u001b[0m \u001b[43mcycle\u001b[49m\u001b[38;5;241;43m.\u001b[39;49m\u001b[43mrun\u001b[49m\u001b[43m(\u001b[49m\u001b[43mnum_cycles\u001b[49m\u001b[38;5;241;43m=\u001b[39;49m\u001b[38;5;241;43m3\u001b[39;49m\u001b[43m)\u001b[49m\n",
      "File \u001b[0;32m~/Documents/recovered files/projects/AdversarialResearch/AER/.venv/lib/python3.9/site-packages/autora/workflow/cycle.py:82\u001b[0m, in \u001b[0;36mCycle.run\u001b[0;34m(self, num_cycles)\u001b[0m\n\u001b[1;32m     80\u001b[0m \u001b[38;5;28;01mdef\u001b[39;00m \u001b[38;5;21mrun\u001b[39m(\u001b[38;5;28mself\u001b[39m, num_cycles: \u001b[38;5;28mint\u001b[39m \u001b[38;5;241m=\u001b[39m \u001b[38;5;241m1\u001b[39m):\n\u001b[1;32m     81\u001b[0m \u001b[38;5;250m    \u001b[39m\u001b[38;5;124;03m\"\"\"Execute the next step in the cycle.\"\"\"\u001b[39;00m\n\u001b[0;32m---> 82\u001b[0m     \u001b[38;5;28;43msuper\u001b[39;49m\u001b[43m(\u001b[49m\u001b[43m)\u001b[49m\u001b[38;5;241;43m.\u001b[39;49m\u001b[43mrun\u001b[49m\u001b[43m(\u001b[49m\u001b[43mnum_steps\u001b[49m\u001b[38;5;241;43m=\u001b[39;49m\u001b[43mnum_cycles\u001b[49m\u001b[43m)\u001b[49m\n\u001b[1;32m     83\u001b[0m     \u001b[38;5;28;01mreturn\u001b[39;00m \u001b[38;5;28mself\u001b[39m\n",
      "File \u001b[0;32m~/Documents/recovered files/projects/AdversarialResearch/AER/.venv/lib/python3.9/site-packages/autora/workflow/base.py:85\u001b[0m, in \u001b[0;36mBaseController.run\u001b[0;34m(self, num_steps)\u001b[0m\n\u001b[1;32m     83\u001b[0m \u001b[38;5;250m\u001b[39m\u001b[38;5;124;03m\"\"\"Run the next num_steps planned steps in the workflow.\"\"\"\u001b[39;00m\n\u001b[1;32m     84\u001b[0m \u001b[38;5;28;01mfor\u001b[39;00m i \u001b[38;5;129;01min\u001b[39;00m \u001b[38;5;28mrange\u001b[39m(num_steps):\n\u001b[0;32m---> 85\u001b[0m     \u001b[38;5;28;43mself\u001b[39;49m\u001b[38;5;241;43m.\u001b[39;49m\u001b[43mrun_once\u001b[49m\u001b[43m(\u001b[49m\u001b[43m)\u001b[49m\n\u001b[1;32m     86\u001b[0m \u001b[38;5;28;01mreturn\u001b[39;00m \u001b[38;5;28mself\u001b[39m\n",
      "File \u001b[0;32m~/Documents/recovered files/projects/AdversarialResearch/AER/.venv/lib/python3.9/site-packages/autora/workflow/base.py:71\u001b[0m, in \u001b[0;36mBaseController.run_once\u001b[0;34m(self, step_name)\u001b[0m\n\u001b[1;32m     68\u001b[0m _logger\u001b[38;5;241m.\u001b[39mdebug(\u001b[38;5;124mf\u001b[39m\u001b[38;5;124m\"\u001b[39m\u001b[38;5;132;01m{\u001b[39;00mnext_params\u001b[38;5;132;01m=}\u001b[39;00m\u001b[38;5;124m\"\u001b[39m)\n\u001b[1;32m     70\u001b[0m \u001b[38;5;66;03m# Execute\u001b[39;00m\n\u001b[0;32m---> 71\u001b[0m result \u001b[38;5;241m=\u001b[39m \u001b[43mnext_function\u001b[49m\u001b[43m(\u001b[49m\u001b[38;5;28;43mself\u001b[39;49m\u001b[38;5;241;43m.\u001b[39;49m\u001b[43mstate\u001b[49m\u001b[43m,\u001b[49m\u001b[43m \u001b[49m\u001b[43mparams\u001b[49m\u001b[38;5;241;43m=\u001b[39;49m\u001b[43mnext_params\u001b[49m\u001b[43m)\u001b[49m\n\u001b[1;32m     72\u001b[0m _logger\u001b[38;5;241m.\u001b[39mdebug(\u001b[38;5;124mf\u001b[39m\u001b[38;5;124m\"\u001b[39m\u001b[38;5;132;01m{\u001b[39;00mresult\u001b[38;5;132;01m=}\u001b[39;00m\u001b[38;5;124m\"\u001b[39m)\n\u001b[1;32m     74\u001b[0m \u001b[38;5;66;03m# Update\u001b[39;00m\n",
      "File \u001b[0;32m~/Documents/recovered files/projects/AdversarialResearch/AER/.venv/lib/python3.9/site-packages/autora/workflow/executor.py:174\u001b[0m, in \u001b[0;36mfull_cycle_wrapper.<locals>._executor_full_cycle\u001b[0;34m(state, params)\u001b[0m\n\u001b[1;32m    169\u001b[0m experimentalist_params \u001b[38;5;241m=\u001b[39m params\u001b[38;5;241m.\u001b[39mget(\u001b[38;5;124m\"\u001b[39m\u001b[38;5;124mexperimentalist\u001b[39m\u001b[38;5;124m\"\u001b[39m, {})\n\u001b[1;32m    171\u001b[0m experimentalist_executor \u001b[38;5;241m=\u001b[39m from_experimentalist_pipeline(\n\u001b[1;32m    172\u001b[0m     experimentalist_pipeline\n\u001b[1;32m    173\u001b[0m )\n\u001b[0;32m--> 174\u001b[0m experimentalist_result \u001b[38;5;241m=\u001b[39m \u001b[43mexperimentalist_executor\u001b[49m\u001b[43m(\u001b[49m\u001b[43mstate\u001b[49m\u001b[43m,\u001b[49m\u001b[43m \u001b[49m\u001b[43mexperimentalist_params\u001b[49m\u001b[43m)\u001b[49m\n\u001b[1;32m    176\u001b[0m experiment_runner_params \u001b[38;5;241m=\u001b[39m params\u001b[38;5;241m.\u001b[39mget(\u001b[38;5;124m\"\u001b[39m\u001b[38;5;124mexperiment_runner\u001b[39m\u001b[38;5;124m\"\u001b[39m, {})\n\u001b[1;32m    177\u001b[0m experiment_runner_executor \u001b[38;5;241m=\u001b[39m from_experiment_runner_callable(\n\u001b[1;32m    178\u001b[0m     experiment_runner_callable\n\u001b[1;32m    179\u001b[0m )\n",
      "File \u001b[0;32m~/Documents/recovered files/projects/AdversarialResearch/AER/.venv/lib/python3.9/site-packages/autora/workflow/executor.py:63\u001b[0m, in \u001b[0;36mfrom_experimentalist_pipeline.<locals>._executor_experimentalist\u001b[0;34m(state, params)\u001b[0m\n\u001b[1;32m     62\u001b[0m \u001b[38;5;28;01mdef\u001b[39;00m \u001b[38;5;21m_executor_experimentalist\u001b[39m(state: SupportsControllerState, params: Dict):\n\u001b[0;32m---> 63\u001b[0m     params_ \u001b[38;5;241m=\u001b[39m \u001b[43mresolve_state_params\u001b[49m\u001b[43m(\u001b[49m\u001b[43mparams\u001b[49m\u001b[43m,\u001b[49m\u001b[43m \u001b[49m\u001b[43mstate\u001b[49m\u001b[43m)\u001b[49m\n\u001b[1;32m     64\u001b[0m     new_conditions \u001b[38;5;241m=\u001b[39m pipeline(\u001b[38;5;241m*\u001b[39m\u001b[38;5;241m*\u001b[39mparams_)\n\u001b[1;32m     66\u001b[0m     \u001b[38;5;28;01mif\u001b[39;00m \u001b[38;5;28misinstance\u001b[39m(new_conditions, pd\u001b[38;5;241m.\u001b[39mDataFrame):\n",
      "File \u001b[0;32m~/Documents/recovered files/projects/AdversarialResearch/AER/.venv/lib/python3.9/site-packages/autora/workflow/state/param.py:116\u001b[0m, in \u001b[0;36mresolve_state_params\u001b[0;34m(params, state)\u001b[0m\n\u001b[1;32m    104\u001b[0m \u001b[38;5;250m\u001b[39m\u001b[38;5;124;03m\"\"\"\u001b[39;00m\n\u001b[1;32m    105\u001b[0m \u001b[38;5;124;03mReturns the `params` attribute of the input, with `cycle properties` resolved.\u001b[39;00m\n\u001b[1;32m    106\u001b[0m \n\u001b[0;32m   (...)\u001b[0m\n\u001b[1;32m    113\u001b[0m \n\u001b[1;32m    114\u001b[0m \u001b[38;5;124;03m\"\"\"\u001b[39;00m\n\u001b[1;32m    115\u001b[0m state_dependent_properties \u001b[38;5;241m=\u001b[39m _get_state_dependent_properties(state)\n\u001b[0;32m--> 116\u001b[0m resolved_params \u001b[38;5;241m=\u001b[39m \u001b[43m_resolve_properties\u001b[49m\u001b[43m(\u001b[49m\u001b[43mparams\u001b[49m\u001b[43m,\u001b[49m\u001b[43m \u001b[49m\u001b[43mstate_dependent_properties\u001b[49m\u001b[43m)\u001b[49m\n\u001b[1;32m    117\u001b[0m \u001b[38;5;28;01mreturn\u001b[39;00m resolved_params\n",
      "File \u001b[0;32m~/Documents/recovered files/projects/AdversarialResearch/AER/.venv/lib/python3.9/site-packages/autora/workflow/state/param.py:94\u001b[0m, in \u001b[0;36m_resolve_properties\u001b[0;34m(params, state_dependent_properties)\u001b[0m\n\u001b[1;32m     91\u001b[0m \u001b[38;5;28;01mif\u001b[39;00m \u001b[38;5;28misinstance\u001b[39m(value, \u001b[38;5;28mdict\u001b[39m):\n\u001b[1;32m     92\u001b[0m     params_[key] \u001b[38;5;241m=\u001b[39m _resolve_properties(value, state_dependent_properties)\n\u001b[1;32m     93\u001b[0m \u001b[38;5;28;01melif\u001b[39;00m \u001b[38;5;28misinstance\u001b[39m(value, \u001b[38;5;28mstr\u001b[39m) \u001b[38;5;129;01mand\u001b[39;00m (\n\u001b[0;32m---> 94\u001b[0m     \u001b[43mvalue\u001b[49m\u001b[43m \u001b[49m\u001b[38;5;129;43;01min\u001b[39;49;00m\u001b[43m \u001b[49m\u001b[43mstate_dependent_properties\u001b[49m\n\u001b[1;32m     95\u001b[0m ):  \u001b[38;5;66;03m# value is a key in the cycle_properties dictionary\u001b[39;00m\n\u001b[1;32m     96\u001b[0m     params_[key] \u001b[38;5;241m=\u001b[39m state_dependent_properties[value]\n\u001b[1;32m     97\u001b[0m \u001b[38;5;28;01melse\u001b[39;00m:\n",
      "File \u001b[0;32m/usr/local/Cellar/python@3.9/3.9.13_1/Frameworks/Python.framework/Versions/3.9/lib/python3.9/_collections_abc.py:769\u001b[0m, in \u001b[0;36mMapping.__contains__\u001b[0;34m(self, key)\u001b[0m\n\u001b[1;32m    767\u001b[0m \u001b[38;5;28;01mdef\u001b[39;00m \u001b[38;5;21m__contains__\u001b[39m(\u001b[38;5;28mself\u001b[39m, key):\n\u001b[1;32m    768\u001b[0m     \u001b[38;5;28;01mtry\u001b[39;00m:\n\u001b[0;32m--> 769\u001b[0m         \u001b[38;5;28;43mself\u001b[39;49m\u001b[43m[\u001b[49m\u001b[43mkey\u001b[49m\u001b[43m]\u001b[49m\n\u001b[1;32m    770\u001b[0m     \u001b[38;5;28;01mexcept\u001b[39;00m \u001b[38;5;167;01mKeyError\u001b[39;00m:\n\u001b[1;32m    771\u001b[0m         \u001b[38;5;28;01mreturn\u001b[39;00m \u001b[38;5;28;01mFalse\u001b[39;00m\n",
      "File \u001b[0;32m~/Documents/recovered files/projects/AdversarialResearch/AER/.venv/lib/python3.9/site-packages/autora/utils/dictionary.py:12\u001b[0m, in \u001b[0;36mLazyDict.__getitem__\u001b[0;34m(self, key)\u001b[0m\n\u001b[1;32m     10\u001b[0m \u001b[38;5;28;01mdef\u001b[39;00m \u001b[38;5;21m__getitem__\u001b[39m(\u001b[38;5;28mself\u001b[39m, key):\n\u001b[1;32m     11\u001b[0m     func \u001b[38;5;241m=\u001b[39m \u001b[38;5;28mself\u001b[39m\u001b[38;5;241m.\u001b[39m_raw_dict\u001b[38;5;241m.\u001b[39m\u001b[38;5;21m__getitem__\u001b[39m(key)\n\u001b[0;32m---> 12\u001b[0m     \u001b[38;5;28;01mreturn\u001b[39;00m \u001b[43mfunc\u001b[49m\u001b[43m(\u001b[49m\u001b[43m)\u001b[49m\n",
      "File \u001b[0;32m~/Documents/recovered files/projects/AdversarialResearch/AER/.venv/lib/python3.9/site-packages/autora/workflow/state/param.py:49\u001b[0m, in \u001b[0;36m_get_state_dependent_properties.<locals>.<lambda>\u001b[0;34m()\u001b[0m\n\u001b[1;32m     36\u001b[0m n_ivs \u001b[38;5;241m=\u001b[39m \u001b[38;5;28mlen\u001b[39m(state\u001b[38;5;241m.\u001b[39mvariables\u001b[38;5;241m.\u001b[39mindependent_variables)\n\u001b[1;32m     37\u001b[0m n_dvs \u001b[38;5;241m=\u001b[39m \u001b[38;5;28mlen\u001b[39m(state\u001b[38;5;241m.\u001b[39mvariables\u001b[38;5;241m.\u001b[39mdependent_variables)\n\u001b[1;32m     38\u001b[0m state_dependent_property_dict \u001b[38;5;241m=\u001b[39m LazyDict(\n\u001b[1;32m     39\u001b[0m     {\n\u001b[1;32m     40\u001b[0m         \u001b[38;5;124m\"\u001b[39m\u001b[38;5;132;01m%o\u001b[39;00m\u001b[38;5;124mbservations.ivs[-1]\u001b[39m\u001b[38;5;124m%\u001b[39m\u001b[38;5;124m\"\u001b[39m: \u001b[38;5;28;01mlambda\u001b[39;00m: np\u001b[38;5;241m.\u001b[39marray(state\u001b[38;5;241m.\u001b[39mobservations[\u001b[38;5;241m-\u001b[39m\u001b[38;5;241m1\u001b[39m])[\n\u001b[1;32m     41\u001b[0m             :, \u001b[38;5;241m0\u001b[39m:n_ivs\n\u001b[1;32m     42\u001b[0m         ],\n\u001b[1;32m     43\u001b[0m         \u001b[38;5;124m\"\u001b[39m\u001b[38;5;132;01m%o\u001b[39;00m\u001b[38;5;124mbservations.dvs[-1]\u001b[39m\u001b[38;5;124m%\u001b[39m\u001b[38;5;124m\"\u001b[39m: \u001b[38;5;28;01mlambda\u001b[39;00m: np\u001b[38;5;241m.\u001b[39marray(state\u001b[38;5;241m.\u001b[39mobservations[\u001b[38;5;241m-\u001b[39m\u001b[38;5;241m1\u001b[39m])[\n\u001b[1;32m     44\u001b[0m             :, n_ivs:\n\u001b[1;32m     45\u001b[0m         ],\n\u001b[1;32m     46\u001b[0m         \u001b[38;5;124m\"\u001b[39m\u001b[38;5;132;01m%o\u001b[39;00m\u001b[38;5;124mbservations.ivs\u001b[39m\u001b[38;5;124m%\u001b[39m\u001b[38;5;124m\"\u001b[39m: \u001b[38;5;28;01mlambda\u001b[39;00m: np\u001b[38;5;241m.\u001b[39mrow_stack(\n\u001b[1;32m     47\u001b[0m             [np\u001b[38;5;241m.\u001b[39mempty([\u001b[38;5;241m0\u001b[39m, n_ivs \u001b[38;5;241m+\u001b[39m n_dvs])] \u001b[38;5;241m+\u001b[39m \u001b[38;5;28mlist\u001b[39m(state\u001b[38;5;241m.\u001b[39mobservations)\n\u001b[1;32m     48\u001b[0m         )[:, \u001b[38;5;241m0\u001b[39m:n_ivs],\n\u001b[0;32m---> 49\u001b[0m         \u001b[38;5;124m\"\u001b[39m\u001b[38;5;132;01m%o\u001b[39;00m\u001b[38;5;124mbservations.dvs\u001b[39m\u001b[38;5;124m%\u001b[39m\u001b[38;5;124m\"\u001b[39m: \u001b[38;5;28;01mlambda\u001b[39;00m: \u001b[43mnp\u001b[49m\u001b[38;5;241;43m.\u001b[39;49m\u001b[43mrow_stack\u001b[49m\u001b[43m(\u001b[49m\u001b[43mstate\u001b[49m\u001b[38;5;241;43m.\u001b[39;49m\u001b[43mobservations\u001b[49m\u001b[43m)\u001b[49m[:, n_ivs:],\n\u001b[1;32m     50\u001b[0m         \u001b[38;5;124m\"\u001b[39m\u001b[38;5;124m%\u001b[39m\u001b[38;5;124mmodels[-1]\u001b[39m\u001b[38;5;124m%\u001b[39m\u001b[38;5;124m\"\u001b[39m: \u001b[38;5;28;01mlambda\u001b[39;00m: state\u001b[38;5;241m.\u001b[39mmodels[\u001b[38;5;241m-\u001b[39m\u001b[38;5;241m1\u001b[39m],\n\u001b[1;32m     51\u001b[0m         \u001b[38;5;124m\"\u001b[39m\u001b[38;5;124m%\u001b[39m\u001b[38;5;124mmodels\u001b[39m\u001b[38;5;124m%\u001b[39m\u001b[38;5;124m\"\u001b[39m: \u001b[38;5;28;01mlambda\u001b[39;00m: state\u001b[38;5;241m.\u001b[39mmodels,\n\u001b[1;32m     52\u001b[0m     }\n\u001b[1;32m     53\u001b[0m )\n\u001b[1;32m     54\u001b[0m \u001b[38;5;28;01mreturn\u001b[39;00m state_dependent_property_dict\n",
      "File \u001b[0;32m~/Documents/recovered files/projects/AdversarialResearch/AER/.venv/lib/python3.9/site-packages/numpy/core/shape_base.py:289\u001b[0m, in \u001b[0;36mvstack\u001b[0;34m(tup, dtype, casting)\u001b[0m\n\u001b[1;32m    287\u001b[0m \u001b[38;5;28;01mif\u001b[39;00m \u001b[38;5;129;01mnot\u001b[39;00m \u001b[38;5;28misinstance\u001b[39m(arrs, \u001b[38;5;28mlist\u001b[39m):\n\u001b[1;32m    288\u001b[0m     arrs \u001b[38;5;241m=\u001b[39m [arrs]\n\u001b[0;32m--> 289\u001b[0m \u001b[38;5;28;01mreturn\u001b[39;00m \u001b[43m_nx\u001b[49m\u001b[38;5;241;43m.\u001b[39;49m\u001b[43mconcatenate\u001b[49m\u001b[43m(\u001b[49m\u001b[43marrs\u001b[49m\u001b[43m,\u001b[49m\u001b[43m \u001b[49m\u001b[38;5;241;43m0\u001b[39;49m\u001b[43m,\u001b[49m\u001b[43m \u001b[49m\u001b[43mdtype\u001b[49m\u001b[38;5;241;43m=\u001b[39;49m\u001b[43mdtype\u001b[49m\u001b[43m,\u001b[49m\u001b[43m \u001b[49m\u001b[43mcasting\u001b[49m\u001b[38;5;241;43m=\u001b[39;49m\u001b[43mcasting\u001b[49m\u001b[43m)\u001b[49m\n",
      "\u001b[0;31mValueError\u001b[0m: need at least one array to concatenate"
     ]
    }
   ],
   "source": [
    "cycle = Cycle(\n",
    "    variables=metadata,\n",
    "    theorist=theorist_bms,\n",
    "    experimentalist=novelty_sample,\n",
    "    experiment_runner=run_experiment,\n",
    "    params={\n",
    "        \"experimentalist\":\n",
    "                {\"condition_pool\": condition_pool,\n",
    "                \"reference_conditions\": \"%observations.dvs%\",\n",
    "                \"num_samples\": 10}\n",
    "    }\n",
    ")\n",
    "\n",
    "cycle.run(num_cycles=3)"
   ]
  },
  {
   "cell_type": "markdown",
   "metadata": {},
   "source": [
    "# OLD\n",
    "\n",
    "In this notebook, we will define a basic closed-loop cycle using an sklearn theorist capable of maintaining a history of past events.\n",
    "\n",
    "Let's begin with defining a theorist that maintains a history of its parameters along with scores computed by a falsification experimentalist:"
   ]
  },
  {
   "cell_type": "code",
   "execution_count": null,
   "metadata": {},
   "outputs": [],
   "source": [
    "import numpy as np\n",
    "from sklearn.base import BaseEstimator\n",
    "\n",
    "\n",
    "class ExampleRegressorWithHistory(BaseEstimator):\n",
    "    \"\"\"\n",
    "    This theorist fits a polynomial function to the data.\n",
    "    \"\"\"\n",
    "\n",
    "    def __init__(self, degree: int = 2):\n",
    "        self.degree = degree\n",
    "        self.reward_history = [] # this will be used to store history of rewards\n",
    "        self.coeff_history = [] # this will be used to store history of model coefficients\n",
    "\n",
    "    def fit(self, conditions, observations):\n",
    "        # making sure that input is 1d (as required by poly1d)\n",
    "        if len(conditions.shape) == 2:\n",
    "          conditions = conditions.flatten()\n",
    "        if len(observations.shape) == 2:\n",
    "          observations = observations.flatten()\n",
    "\n",
    "        # fit polynomial\n",
    "        self.coeff = np.polyfit(conditions, observations, 2)\n",
    "        self.polynomial = np.poly1d(self.coeff)\n",
    "        pass\n",
    "\n",
    "    def predict(self, conditions):\n",
    "        return self.polynomial(conditions)\n",
    "\n",
    "    def update_history(self, reward):\n",
    "        self.reward_history.append(reward)\n",
    "        self.coeff_history.append(self.coeff)\n",
    "\n",
    "model = ExampleRegressorWithHistory()"
   ]
  },
  {
   "cell_type": "markdown",
   "metadata": {},
   "source": [
    "Now, let's define a ground-truth to work with."
   ]
  },
  {
   "cell_type": "code",
   "execution_count": null,
   "metadata": {},
   "outputs": [],
   "source": [
    "from autora.variable import DV, IV, ValueType, VariableCollection\n",
    "\n",
    "X_pool = np.linspace(0, 2 * np.pi, 1000)\n",
    "X = np.random.choice(X_pool, size=10, replace=False)\n",
    "experiment = lambda x: np.sin(x)\n",
    "Y = experiment(X)\n",
    "\n",
    "# making sure that X, Y are 2d-arrays\n",
    "X = X.reshape((len(X), 1))\n",
    "Y = Y.reshape((len(Y), 1))\n",
    "\n",
    "# Specify independent variable\n",
    "iv = IV(\n",
    "    name=\"x\",\n",
    "    value_range=(0, 2 * np.pi),\n",
    ")\n",
    "\n",
    "# specify dependent variable\n",
    "dv = DV(\n",
    "    name=\"y\",\n",
    "    type=ValueType.REAL,\n",
    ")\n",
    "\n",
    "# Variable collection with ivs and dvs\n",
    "metadata = VariableCollection(\n",
    "    independent_variables=[iv],\n",
    "    dependent_variables=[dv],\n",
    ")"
   ]
  },
  {
   "cell_type": "markdown",
   "metadata": {},
   "source": [
    "Now we can define a loop between a falsification experimentalist and a theorist. We can do so in at least two ways. First, we try this using a regular ``for`` loop."
   ]
  },
  {
   "cell_type": "code",
   "execution_count": null,
   "metadata": {},
   "outputs": [
    {
     "name": "stderr",
     "output_type": "stream",
     "text": [
      "WARNING:autora.utils.deprecation:Use `falsification_score_sample` instead. `falsification_score_sampler` is deprecated.\n",
      "WARNING:autora.utils.deprecation:Use `falsification_score_sample` instead. `falsification_score_sampler` is deprecated.\n",
      "WARNING:autora.utils.deprecation:Use `falsification_score_sample` instead. `falsification_score_sampler` is deprecated.\n"
     ]
    },
    {
     "name": "stdout",
     "output_type": "stream",
     "text": [
      "[-2.1759062, -1.8812758, -1.7308681]\n",
      "[array([ 0.07494722, -1.10345826,  2.63964693]), array([ 0.04060716, -0.93613409,  2.59585547]), array([-0.18390822,  0.64727889,  0.05328147])]\n"
     ]
    }
   ],
   "source": [
    "from autora.experimentalist.sampler.falsification import falsification_sampler, falsification_score_sampler\n",
    "\n",
    "num_cycles = 3\n",
    "reward_history = []\n",
    "theorist_param_history = []\n",
    "\n",
    "for cycle in range(num_cycles):\n",
    "\n",
    "  # fit model\n",
    "  model.fit(X, Y)\n",
    "\n",
    "  # obtain new conditions\n",
    "  new_X, scores = new_conditions, scores = falsification_score_sampler(\n",
    "          condition_pool=X_pool,\n",
    "          model=model,\n",
    "          reference_conditions=X,\n",
    "          reference_observations=Y,\n",
    "          metadata=metadata,\n",
    "          num_samples=10,\n",
    "      )\n",
    "\n",
    "  # obtain new observations\n",
    "  new_Y = experiment(new_X)\n",
    "\n",
    "  # merge old and new observations\n",
    "  X = np.concatenate((X, new_X))\n",
    "  Y = np.concatenate((Y, new_Y))\n",
    "\n",
    "  # store history: reward is the negative falsification score\n",
    "  reward = -max(scores)\n",
    "  reward_history.append(reward) # we can store the history externally\n",
    "  model.update_history(reward) # or inside the sklearn regressor\n",
    "\n",
    "print(model.reward_history)\n",
    "print(model.coeff_history)\n",
    "\n"
   ]
  },
  {
   "cell_type": "markdown",
   "metadata": {},
   "source": [
    "## <font color=\"red\"> NOTE: The solution below doesn't work yet and will hopefully be updated soon</font>"
   ]
  },
  {
   "cell_type": "markdown",
   "metadata": {},
   "source": [
    "Next, we illustrate how to maintain a history of key variables within a Cycle object. However, we can only keep track of certain types of variables, unless we overwrite the Cycle class.\n",
    "\n",
    "What we can generally keep track of is detail here (although currently not well documented): https://autoresearch.github.io/autora/user-guide/workflow/interactive/Accessing%20State%20Dependent%20Properties/\n",
    "\n",
    "Here, we illustrate a simple cycle in which the experimentalist keeps track of the previous model. We begin by wrapping the expeirmentalist in a pipeline object so that we can pass it as an argument to the cycle."
   ]
  },
  {
   "cell_type": "code",
   "execution_count": null,
   "metadata": {},
   "outputs": [],
   "source": [
    "from autora.experimentalist.pipeline import make_pipeline\n",
    "\n",
    "experimentalist = make_pipeline([falsification_sampler])"
   ]
  },
  {
   "cell_type": "markdown",
   "metadata": {},
   "source": [
    "Now, we can define the Cycle object."
   ]
  },
  {
   "cell_type": "code",
   "execution_count": null,
   "metadata": {},
   "outputs": [],
   "source": [
    "from autora.workflow import Controller\n",
    "\n",
    "# define a monitoring function so we can observe what is happening inside a cycle\n",
    "def monitor(state):\n",
    "    print(f\"MONITOR: Generated new {state.history[-1].kind}\")\n",
    "\n",
    "cycle_controller = Controller(\n",
    "    variables=metadata,\n",
    "    theorist=model,\n",
    "    experimentalist=experimentalist,\n",
    "    experiment_runner=experiment,\n",
    "    monitor = monitor,\n",
    "    params={\n",
    "        \"experimentalist\": {\n",
    "            \"falsification_sampler\": {\"model\": \"%models[-1]%\",\n",
    "                                      \"reference_conditions\": \"%observations.ivs%\",\n",
    "                                      \"reference_observations\": \"%observations.dvs%\",\n",
    "                                      \"metadata\": metadata,\n",
    "                                      \"num_samples\": 5},\n",
    "        }\n",
    "    }\n",
    ")\n",
    "\n"
   ]
  },
  {
   "cell_type": "code",
   "execution_count": null,
   "metadata": {},
   "outputs": [
    {
     "name": "stdout",
     "output_type": "stream",
     "text": [
      "(115,)\n",
      "(115, 1)\n"
     ]
    }
   ],
   "source": [
    "print(X.shape)\n",
    "print(X.reshape((len(X), 1)).shape)\n",
    "# X = np.reshape(X, (-1, 2))\n",
    "# print(X.shape)"
   ]
  },
  {
   "cell_type": "code",
   "execution_count": null,
   "metadata": {},
   "outputs": [
    {
     "name": "stdout",
     "output_type": "stream",
     "text": [
      "MONITOR: Generated new OBSERVATION\n"
     ]
    },
    {
     "data": {
      "text/plain": [
       "<autora.workflow.controller.Controller at 0x7fd9b3694d60>"
      ]
     },
     "execution_count": null,
     "metadata": {},
     "output_type": "execute_result"
    }
   ],
   "source": [
    "cycle_controller.seed(observations=[Y], conditions=[X])\n",
    "next(cycle_controller)"
   ]
  },
  {
   "cell_type": "code",
   "execution_count": null,
   "metadata": {},
   "outputs": [],
   "source": []
  },
  {
   "cell_type": "code",
   "execution_count": null,
   "metadata": {},
   "outputs": [
    {
     "name": "stdout",
     "output_type": "stream",
     "text": [
      "(40, 1)\n",
      "(40, 1)\n"
     ]
    },
    {
     "ename": "ValueError",
     "evalue": "ignored",
     "output_type": "error",
     "traceback": [
      "\u001b[0;31m---------------------------------------------------------------------------\u001b[0m",
      "\u001b[0;31mValueError\u001b[0m                                Traceback (most recent call last)",
      "\u001b[0;32m<ipython-input-55-c752508ea023>\u001b[0m in \u001b[0;36m<cell line: 3>\u001b[0;34m()\u001b[0m\n\u001b[1;32m      1\u001b[0m \u001b[0mprint\u001b[0m\u001b[0;34m(\u001b[0m\u001b[0mX\u001b[0m\u001b[0;34m.\u001b[0m\u001b[0mshape\u001b[0m\u001b[0;34m)\u001b[0m\u001b[0;34m\u001b[0m\u001b[0;34m\u001b[0m\u001b[0m\n\u001b[1;32m      2\u001b[0m \u001b[0mprint\u001b[0m\u001b[0;34m(\u001b[0m\u001b[0mY\u001b[0m\u001b[0;34m.\u001b[0m\u001b[0mshape\u001b[0m\u001b[0;34m)\u001b[0m\u001b[0;34m\u001b[0m\u001b[0;34m\u001b[0m\u001b[0m\n\u001b[0;32m----> 3\u001b[0;31m \u001b[0mnext\u001b[0m\u001b[0;34m(\u001b[0m\u001b[0mcycle_controller\u001b[0m\u001b[0;34m)\u001b[0m\u001b[0;34m\u001b[0m\u001b[0;34m\u001b[0m\u001b[0m\n\u001b[0m",
      "\u001b[0;32m/usr/local/lib/python3.10/dist-packages/autora/workflow/base.py\u001b[0m in \u001b[0;36m__next__\u001b[0;34m(self)\u001b[0m\n\u001b[1;32m     88\u001b[0m     \u001b[0;32mdef\u001b[0m \u001b[0m__next__\u001b[0m\u001b[0;34m(\u001b[0m\u001b[0mself\u001b[0m\u001b[0;34m)\u001b[0m\u001b[0;34m:\u001b[0m\u001b[0;34m\u001b[0m\u001b[0;34m\u001b[0m\u001b[0m\n\u001b[1;32m     89\u001b[0m         \u001b[0;34m\"\"\"Run the next planned step in the workflow.\"\"\"\u001b[0m\u001b[0;34m\u001b[0m\u001b[0;34m\u001b[0m\u001b[0m\n\u001b[0;32m---> 90\u001b[0;31m         \u001b[0;32mreturn\u001b[0m \u001b[0mself\u001b[0m\u001b[0;34m.\u001b[0m\u001b[0mrun_once\u001b[0m\u001b[0;34m(\u001b[0m\u001b[0;34m)\u001b[0m\u001b[0;34m\u001b[0m\u001b[0;34m\u001b[0m\u001b[0m\n\u001b[0m\u001b[1;32m     91\u001b[0m \u001b[0;34m\u001b[0m\u001b[0m\n\u001b[1;32m     92\u001b[0m     \u001b[0;32mdef\u001b[0m \u001b[0m__iter__\u001b[0m\u001b[0;34m(\u001b[0m\u001b[0mself\u001b[0m\u001b[0;34m)\u001b[0m\u001b[0;34m:\u001b[0m\u001b[0;34m\u001b[0m\u001b[0;34m\u001b[0m\u001b[0m\n",
      "\u001b[0;32m/usr/local/lib/python3.10/dist-packages/autora/workflow/base.py\u001b[0m in \u001b[0;36mrun_once\u001b[0;34m(self, step_name)\u001b[0m\n\u001b[1;32m     69\u001b[0m \u001b[0;34m\u001b[0m\u001b[0m\n\u001b[1;32m     70\u001b[0m         \u001b[0;31m# Execute\u001b[0m\u001b[0;34m\u001b[0m\u001b[0;34m\u001b[0m\u001b[0m\n\u001b[0;32m---> 71\u001b[0;31m         \u001b[0mresult\u001b[0m \u001b[0;34m=\u001b[0m \u001b[0mnext_function\u001b[0m\u001b[0;34m(\u001b[0m\u001b[0mself\u001b[0m\u001b[0;34m.\u001b[0m\u001b[0mstate\u001b[0m\u001b[0;34m,\u001b[0m \u001b[0mparams\u001b[0m\u001b[0;34m=\u001b[0m\u001b[0mnext_params\u001b[0m\u001b[0;34m)\u001b[0m\u001b[0;34m\u001b[0m\u001b[0;34m\u001b[0m\u001b[0m\n\u001b[0m\u001b[1;32m     72\u001b[0m         \u001b[0m_logger\u001b[0m\u001b[0;34m.\u001b[0m\u001b[0mdebug\u001b[0m\u001b[0;34m(\u001b[0m\u001b[0;34mf\"{result=}\"\u001b[0m\u001b[0;34m)\u001b[0m\u001b[0;34m\u001b[0m\u001b[0;34m\u001b[0m\u001b[0m\n\u001b[1;32m     73\u001b[0m \u001b[0;34m\u001b[0m\u001b[0m\n",
      "\u001b[0;32m/usr/local/lib/python3.10/dist-packages/autora/workflow/executor.py\u001b[0m in \u001b[0;36m_executor_theorist\u001b[0;34m(state, params)\u001b[0m\n\u001b[1;32m    129\u001b[0m             \u001b[0mx\u001b[0m\u001b[0;34m,\u001b[0m \u001b[0my\u001b[0m \u001b[0;34m=\u001b[0m \u001b[0mall_observations\u001b[0m\u001b[0;34m[\u001b[0m\u001b[0miv_names\u001b[0m\u001b[0;34m]\u001b[0m\u001b[0;34m,\u001b[0m \u001b[0mall_observations\u001b[0m\u001b[0;34m[\u001b[0m\u001b[0mdv_names\u001b[0m\u001b[0;34m]\u001b[0m\u001b[0;34m\u001b[0m\u001b[0;34m\u001b[0m\u001b[0m\n\u001b[1;32m    130\u001b[0m         \u001b[0;32melif\u001b[0m \u001b[0misinstance\u001b[0m\u001b[0;34m(\u001b[0m\u001b[0mobservations\u001b[0m\u001b[0;34m[\u001b[0m\u001b[0;34m-\u001b[0m\u001b[0;36m1\u001b[0m\u001b[0;34m]\u001b[0m\u001b[0;34m,\u001b[0m \u001b[0mnp\u001b[0m\u001b[0;34m.\u001b[0m\u001b[0mndarray\u001b[0m\u001b[0;34m)\u001b[0m\u001b[0;34m:\u001b[0m\u001b[0;34m\u001b[0m\u001b[0;34m\u001b[0m\u001b[0m\n\u001b[0;32m--> 131\u001b[0;31m             \u001b[0mall_observations\u001b[0m \u001b[0;34m=\u001b[0m \u001b[0mnp\u001b[0m\u001b[0;34m.\u001b[0m\u001b[0mrow_stack\u001b[0m\u001b[0;34m(\u001b[0m\u001b[0mobservations\u001b[0m\u001b[0;34m)\u001b[0m\u001b[0;34m\u001b[0m\u001b[0;34m\u001b[0m\u001b[0m\n\u001b[0m\u001b[1;32m    132\u001b[0m             \u001b[0mn_xs\u001b[0m \u001b[0;34m=\u001b[0m \u001b[0mlen\u001b[0m\u001b[0;34m(\u001b[0m\u001b[0mvariables\u001b[0m\u001b[0;34m.\u001b[0m\u001b[0mindependent_variables\u001b[0m\u001b[0;34m)\u001b[0m\u001b[0;34m\u001b[0m\u001b[0;34m\u001b[0m\u001b[0m\n\u001b[1;32m    133\u001b[0m             \u001b[0mx\u001b[0m\u001b[0;34m,\u001b[0m \u001b[0my\u001b[0m \u001b[0;34m=\u001b[0m \u001b[0mall_observations\u001b[0m\u001b[0;34m[\u001b[0m\u001b[0;34m:\u001b[0m\u001b[0;34m,\u001b[0m \u001b[0;34m:\u001b[0m\u001b[0mn_xs\u001b[0m\u001b[0;34m]\u001b[0m\u001b[0;34m,\u001b[0m \u001b[0mall_observations\u001b[0m\u001b[0;34m[\u001b[0m\u001b[0;34m:\u001b[0m\u001b[0;34m,\u001b[0m \u001b[0mn_xs\u001b[0m\u001b[0;34m:\u001b[0m\u001b[0;34m]\u001b[0m\u001b[0;34m\u001b[0m\u001b[0;34m\u001b[0m\u001b[0m\n",
      "\u001b[0;32m/usr/local/lib/python3.10/dist-packages/numpy/core/overrides.py\u001b[0m in \u001b[0;36mvstack\u001b[0;34m(*args, **kwargs)\u001b[0m\n",
      "\u001b[0;32m/usr/local/lib/python3.10/dist-packages/numpy/core/shape_base.py\u001b[0m in \u001b[0;36mvstack\u001b[0;34m(tup)\u001b[0m\n\u001b[1;32m    280\u001b[0m     \u001b[0;32mif\u001b[0m \u001b[0;32mnot\u001b[0m \u001b[0misinstance\u001b[0m\u001b[0;34m(\u001b[0m\u001b[0marrs\u001b[0m\u001b[0;34m,\u001b[0m \u001b[0mlist\u001b[0m\u001b[0;34m)\u001b[0m\u001b[0;34m:\u001b[0m\u001b[0;34m\u001b[0m\u001b[0;34m\u001b[0m\u001b[0m\n\u001b[1;32m    281\u001b[0m         \u001b[0marrs\u001b[0m \u001b[0;34m=\u001b[0m \u001b[0;34m[\u001b[0m\u001b[0marrs\u001b[0m\u001b[0;34m]\u001b[0m\u001b[0;34m\u001b[0m\u001b[0;34m\u001b[0m\u001b[0m\n\u001b[0;32m--> 282\u001b[0;31m     \u001b[0;32mreturn\u001b[0m \u001b[0m_nx\u001b[0m\u001b[0;34m.\u001b[0m\u001b[0mconcatenate\u001b[0m\u001b[0;34m(\u001b[0m\u001b[0marrs\u001b[0m\u001b[0;34m,\u001b[0m \u001b[0;36m0\u001b[0m\u001b[0;34m)\u001b[0m\u001b[0;34m\u001b[0m\u001b[0;34m\u001b[0m\u001b[0m\n\u001b[0m\u001b[1;32m    283\u001b[0m \u001b[0;34m\u001b[0m\u001b[0m\n\u001b[1;32m    284\u001b[0m \u001b[0;34m\u001b[0m\u001b[0m\n",
      "\u001b[0;32m/usr/local/lib/python3.10/dist-packages/numpy/core/overrides.py\u001b[0m in \u001b[0;36mconcatenate\u001b[0;34m(*args, **kwargs)\u001b[0m\n",
      "\u001b[0;31mValueError\u001b[0m: all the input array dimensions for the concatenation axis must match exactly, but along dimension 1, the array at index 0 has size 1 and the array at index 1 has size 2"
     ]
    }
   ],
   "source": [
    "print(X.shape)\n",
    "print(Y.shape)\n",
    "next(cycle_controller)"
   ]
  },
  {
   "cell_type": "markdown",
   "metadata": {},
   "source": [
    "Some experiments require preprocessing of data obtained from the experiment runner, e.g., for outlier removal. ``autora`` provides a workflow element referred to as ``pipeline``, which may be used to link experiment runners with respective functions for preprocessing.\n",
    "\n",
    "To demonstrate the use of a pipeline, let us define an outlier removal function. The function will remove observations that lie, for a given experimental condition, below or above 3 standard deviations from the mean of all observations."
   ]
  },
  {
   "cell_type": "code",
   "execution_count": null,
   "metadata": {},
   "outputs": [],
   "source": [
    "def remove_outliers(observations, conditions, max_sd: int=3):\n",
    "    result = []\n",
    "\n",
    "    # Get unique conditions from the first two columns\n",
    "    conditions = np.unique(conditions, axis=0)\n",
    "\n",
    "    # Loop through each condition\n",
    "    for condition in conditions:\n",
    "        # Extract values for the current condition\n",
    "        values = observations[(conditions == condition).all(axis=1)]\n",
    "\n",
    "        # Calculate mean and standard deviation for the current condition\n",
    "        mean = np.mean(values)\n",
    "        std = np.std(values)\n",
    "\n",
    "        # Filter out values that are within 3 standard deviations of the mean\n",
    "        filtered_values = values[(values >= mean - 3 * std) & (values <= mean + 3 * std)]\n",
    "\n",
    "        # Create a new array with condition and filtered values\n",
    "        result.extend([np.concatenate((condition, [value])) for value in filtered_values])\n",
    "\n",
    "    # Convert the result list to a NumPy array and return\n",
    "    return np.array(result)\n",
    "\n"
   ]
  },
  {
   "cell_type": "markdown",
   "metadata": {},
   "source": [
    "## Help\n",
    "\n",
    "If you encounter any issues, bugs, or questions, please reach out to us through the [AutoRA Forum](https://github.com/orgs/AutoResearch/discussions). Feel free to report any bugs by [creating an issue in the AutoRA repository](https://github.com/AutoResearch/autora/issues).\n",
    "\n",
    "You may also post questions directly into the [User Q&A Section](https://github.com/orgs/AutoResearch/discussions/categories/using-autora).\n"
   ]
  }
 ],
 "metadata": {
  "colab": {
   "provenance": [],
   "toc_visible": true
  },
  "kernelspec": {
   "display_name": "Python 3",
   "name": "python3"
  },
  "language_info": {
   "name": "python"
  }
 },
 "nbformat": 4,
 "nbformat_minor": 0
}
