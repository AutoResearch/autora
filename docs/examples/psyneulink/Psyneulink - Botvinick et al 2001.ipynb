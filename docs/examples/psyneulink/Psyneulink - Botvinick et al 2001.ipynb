{
 "cells": [
  {
   "metadata": {},
   "cell_type": "markdown",
   "source": [
    "# Conflict Monitoring and Cognitive Control\n",
    "\n",
    "Here, we see how we can use [psyneulink](https://princetonuniversity.github.io/PsyNeuLink/) to create a custom synthetic [experiment runner](../../experiment-runner/index.md)\n",
    "\n",
    "We implement the model for conflict monitoring and cognitive control presented in [Botvinick et al, 2001](https://citeseerx.ist.psu.edu/document?repid=rep1&type=pdf&doi=71d71283ef5e5c7f2dc49a352e553bf12c382250)"
   ],
   "id": "bc649b736c7259c2"
  },
  {
   "metadata": {
    "ExecuteTime": {
     "end_time": "2024-09-29T17:11:44.399866Z",
     "start_time": "2024-09-29T17:11:42.957241Z"
    }
   },
   "cell_type": "code",
   "source": [
    "from psyneulink import *\n",
    "import numpy as np\n",
    "\n",
    "# CONSTRUCT THE MODEL ***********************************\n",
    "\n",
    "# Construct the color naming pathway:\n",
    "color_input = ProcessingMechanism(name='COLOR INPUT', size=2) # Note:  default function is Linear\n",
    "color_input_to_hidden_wts = np.array([[2, -2], [-2, 2]])\n",
    "color_hidden = ProcessingMechanism(name='COLOR HIDDEN', size=2, function=Logistic(bias=-4))\n",
    "color_hidden_to_output_wts = np.array([[2, -2], [-2, 2]])\n",
    "output = ProcessingMechanism(name='OUTPUT', size=2, function=Logistic)\n",
    "color_pathway = [color_input, color_input_to_hidden_wts, color_hidden, color_hidden_to_output_wts, output]\n",
    "\n",
    "# Construct the word reading pathway (using the same output_layer)\n",
    "word_input = ProcessingMechanism(name='WORD INPUT', size=2)\n",
    "word_input_to_hidden_wts = np.array([[3, -3], [-3, 3]])\n",
    "word_hidden = ProcessingMechanism(name='WORD HIDDEN', size=2, function=Logistic(bias=-4))\n",
    "word_hidden_to_output_wts = np.array([[3, -3], [-3, 3]])\n",
    "word_pathway = [word_input, word_input_to_hidden_wts, word_hidden, word_hidden_to_output_wts, output]\n",
    "\n",
    "# Construct the task specification pathways\n",
    "task_input = ProcessingMechanism(name='TASK INPUT', size=2)\n",
    "task = LCAMechanism(name='TASK', size=2)\n",
    "task_color_wts = np.array([[4,4],[0,0]])\n",
    "task_word_wts = np.array([[0,0],[4,4]])\n",
    "task_color_pathway = [task_input, task, task_color_wts, color_hidden]\n",
    "task_word_pathway = [task_input, task, task_word_wts, word_hidden]\n",
    "\n",
    "# Construct the decision pathway:\n",
    "decision = DDM(name='DECISION', input_format=ARRAY)\n",
    "decision_pathway = [output, decision]\n",
    "\n",
    "# Construct control mechanism\n",
    "control = ControlMechanism(name='CONTROL',\n",
    "                           objective_mechanism=ObjectiveMechanism(name='Conflict Monitor',\n",
    "                                                                  function=Energy(size=2,\n",
    "                                                                                  matrix=[[0,-2.5],[-2.5,0]]),\n",
    "                                                                  monitor=output),\n",
    "                           default_allocation=[0.5],\n",
    "                           control_signals=[(GAIN, task)])\n",
    "\n",
    "# Construct the Composition:\n",
    "Stroop_model = Composition(name='Stroop Model - Conflict Monitoring')\n",
    "Stroop_model.add_linear_processing_pathway(color_pathway)\n",
    "Stroop_model.add_linear_processing_pathway(word_pathway)\n",
    "Stroop_model.add_linear_processing_pathway(task_color_pathway)\n",
    "Stroop_model.add_linear_processing_pathway(task_word_pathway)\n",
    "Stroop_model.add_linear_processing_pathway(decision_pathway)\n",
    "Stroop_model.add_controller(control)\n",
    "\n",
    "# # Assign conditions:\n",
    "settling_time = 100\n",
    "Stroop_model.scheduler.add_condition(color_hidden, EveryNCalls(task, settling_time))\n",
    "Stroop_model.scheduler.add_condition(word_hidden, EveryNCalls(task, settling_time))\n",
    "\n",
    "\n",
    "# SHOW_GRAPH ***********************************\n",
    "# Stroop_model.show_graph(show_controller=True,\n",
    "#                         # show_node_structure=ALL\n",
    "#                         )\n",
    "\n",
    "# RUN THE MODEL *********************************\n",
    "\n",
    "# Label inputs\n",
    "red = [1,0]\n",
    "green = [0,1]\n",
    "word = [0,1]\n",
    "color = [1,0]\n",
    "\n",
    "np.set_printoptions(precision=2)\n",
    "global t\n",
    "t = 0\n",
    "def print_after():\n",
    "    global t\n",
    "    print(f'\\nEnd of trial {t}:')\n",
    "    print(f'\\t\\t\\t\\tcolor  word')\n",
    "    print(f'\\ttask:\\t\\t{task.value[0]}')\n",
    "    print(f'\\ttask gain:\\t   {task.parameter_ports[GAIN].value}')\n",
    "    # print(f'\\ttask gain:\\t   {task.function.parameters.gain}')\n",
    "    print(f'\\t\\t\\t\\tred   green')\n",
    "    print(f'\\toutput:\\t\\t{output.value[0]}')\n",
    "    print(f'\\tdecision:\\t{decision.value[0]}{decision.value[1]}')\n",
    "    print(f'\\tconflict:\\t  {control.objective_mechanism.value[0]}')\n",
    "    t += 1\n",
    "\n",
    "# task.log.set_log_conditions(VALUE)\n",
    "# control.log.set_log_conditions(VALUE)\n",
    "\n",
    "task.initial_value = [0.5,0.5]\n",
    "task.reset_stateful_function_when=AtTrialStart()\n",
    "num_trials = 4\n",
    "stimuli = {color_input:[red] * num_trials,\n",
    "           word_input:[green] * num_trials,\n",
    "           task_input:[color] * num_trials}\n",
    "\n",
    "Stroop_model.run(inputs=stimuli,\n",
    "                 # animate={'show_controller':True,\n",
    "                 #          # 'show_cim':True\n",
    "                 #          },\n",
    "                 call_after_trial=print_after)\n",
    "\n",
    "# Stroop_model.log.print_entries(display=[TIME, VALUE])"
   ],
   "id": "6660157764ae679f",
   "outputs": [
    {
     "name": "stdout",
     "output_type": "stream",
     "text": [
      "\n",
      "End of trial 0:\n",
      "\t\t\t\tcolor  word\n",
      "\ttask:\t\t[0.58 0.48]\n",
      "\ttask gain:\t   [0.5]\n",
      "\t\t\t\tred   green\n",
      "\toutput:\t\t[0.27 0.73]\n",
      "\tdecision:\t[-1.][2.25]\n",
      "\tconflict:\t  [0.49]\n",
      "\n",
      "End of trial 1:\n",
      "\t\t\t\tcolor  word\n",
      "\ttask:\t\t[0.58 0.48]\n",
      "\ttask gain:\t   [0.49]\n",
      "\t\t\t\tred   green\n",
      "\toutput:\t\t[0.27 0.73]\n",
      "\tdecision:\t[-1.][2.24]\n",
      "\tconflict:\t  [0.49]\n",
      "\n",
      "End of trial 2:\n",
      "\t\t\t\tcolor  word\n",
      "\ttask:\t\t[0.58 0.48]\n",
      "\ttask gain:\t   [0.49]\n",
      "\t\t\t\tred   green\n",
      "\toutput:\t\t[0.27 0.73]\n",
      "\tdecision:\t[-1.][2.24]\n",
      "\tconflict:\t  [0.49]\n",
      "\n",
      "End of trial 3:\n",
      "\t\t\t\tcolor  word\n",
      "\ttask:\t\t[0.58 0.48]\n",
      "\ttask gain:\t   [0.49]\n",
      "\t\t\t\tred   green\n",
      "\toutput:\t\t[0.27 0.73]\n",
      "\tdecision:\t[-1.][2.24]\n",
      "\tconflict:\t  [0.49]\n"
     ]
    },
    {
     "name": "stderr",
     "output_type": "stream",
     "text": [
      "/Users/younesstrittmatter/Documents/GitHub/AutoResearch/autora_parent/.venv/lib/python3.11/site-packages/psyneulink/core/compositions/composition.py:4595: UserWarning: NodeRole.CONTROLLER_OBJECTIVE should be assigned with caution to Stroop Model - Conflict Monitoring-10. ObjectiveMechanisms are generally constructed automatically by a ControlMechanism, or assigned to it in the 'objective_mechanism' argument of its constructor.  Doing so otherwise may cause unexpected results.\n",
      "  warnings.warn(f\"{role} should be assigned with caution to {self.name}. \"\n"
     ]
    },
    {
     "data": {
      "text/plain": [
       "[array([-1.]), array([2.24])]"
      ]
     },
     "execution_count": 11,
     "metadata": {},
     "output_type": "execute_result"
    }
   ],
   "execution_count": 11
  },
  {
   "metadata": {},
   "cell_type": "markdown",
   "source": [
    "## Create the model in psyneulink\n",
    "\n",
    "First, we create the model in psyneulink. Here, we will not go into detail how to implement the model in psyneulink. [Here](https://www.psyneuln.deptcpanel.princeton.edu/), you can find excellent documentation and tutorials on Psyneulink"
   ],
   "id": "311eb5f3d8845f77"
  },
  {
   "metadata": {},
   "cell_type": "markdown",
   "source": "(1) Install Psyneulink",
   "id": "43ce82a63cfd82c7"
  },
  {
   "metadata": {
    "ExecuteTime": {
     "end_time": "2024-09-29T16:25:51.487824Z",
     "start_time": "2024-09-29T16:25:51.483516Z"
    }
   },
   "cell_type": "code",
   "source": "# !pip install psyneulink",
   "id": "78c2e608e7f390d5",
   "outputs": [],
   "execution_count": 1
  },
  {
   "metadata": {},
   "cell_type": "markdown",
   "source": "(2) Create the model *Composition*",
   "id": "230cdef8b2a65d23"
  },
  {
   "metadata": {
    "ExecuteTime": {
     "end_time": "2024-09-29T16:27:11.593001Z",
     "start_time": "2024-09-29T16:27:10.632355Z"
    }
   },
   "cell_type": "code",
   "source": [
    "from psyneulink import *\n",
    "import numpy as np\n",
    "\n",
    "# CONSTRUCT THE MODEL ***********************************\n",
    "\n",
    "# Construct the color naming pathway:\n",
    "color_input = ProcessingMechanism(name='COLOR INPUT', size=2)  # Note:  default function is Linear\n",
    "color_input_to_hidden_wts = np.array([[2, -2], [-2, 2]])\n",
    "color_hidden = ProcessingMechanism(name='COLOR HIDDEN', size=2, function=Logistic(bias=-4))\n",
    "color_hidden_to_output_wts = np.array([[2, -2], [-2, 2]])\n",
    "output = ProcessingMechanism(name='OUTPUT', size=2, function=Logistic)\n",
    "color_pathway = [color_input, color_input_to_hidden_wts, color_hidden, color_hidden_to_output_wts, output]\n",
    "\n",
    "# Construct the word reading pathway (using the same output_layer)\n",
    "word_input = ProcessingMechanism(name='WORD INPUT', size=2)\n",
    "word_input_to_hidden_wts = np.array([[3, -3], [-3, 3]])\n",
    "word_hidden = ProcessingMechanism(name='WORD HIDDEN', size=2, function=Logistic(bias=-4))\n",
    "word_hidden_to_output_wts = np.array([[3, -3], [-3, 3]])\n",
    "word_pathway = [word_input, word_input_to_hidden_wts, word_hidden, word_hidden_to_output_wts, output]\n",
    "\n",
    "# Construct the task specification pathways\n",
    "task_input = ProcessingMechanism(name='TASK INPUT', size=2)\n",
    "task = LCAMechanism(name='TASK', size=2, initial_value=[0.5, 0.5])\n",
    "task_color_wts = np.array([[4, 4], [0, 0]])\n",
    "task_word_wts = np.array([[0, 0], [4, 4]])\n",
    "task_color_pathway = [task_input, task, task_color_wts, color_hidden]\n",
    "task_word_pathway = [task_input, task, task_word_wts, word_hidden]\n",
    "\n",
    "# Construct the decision pathway:\n",
    "# decision = DDM(name='DECISION',\n",
    "#                input_format=ARRAY,\n",
    "#                reset_stateful_function_when=AtTrialStart(),\n",
    "#                function=DriftDiffusionIntegrator(noise=0.5, threshold=20)\n",
    "#                )\n",
    "decision = DDM(name='DECISION', input_format=ARRAY)\n",
    "decision_pathway = [output, decision]\n",
    "\n",
    "# Construct control mechanism\n",
    "control = ControlMechanism(name='CONTROL',\n",
    "                           objective_mechanism=ObjectiveMechanism(name='Conflict Monitor',\n",
    "                                                                  function=Energy(size=2,\n",
    "                                                                                  matrix=[[0, -2.5], [-2.5, 0]]),\n",
    "                                                                  monitor=output),\n",
    "                           default_allocation=[0.5],\n",
    "                           control_signals=[(GAIN, task)])\n",
    "\n",
    "# Construct the Composition:\n",
    "Stroop_model = Composition(name='Stroop Model')\n",
    "Stroop_model.add_linear_processing_pathway(color_pathway)\n",
    "Stroop_model.add_linear_processing_pathway(word_pathway)\n",
    "Stroop_model.add_linear_processing_pathway(task_color_pathway)\n",
    "Stroop_model.add_linear_processing_pathway(task_word_pathway)\n",
    "Stroop_model.add_linear_processing_pathway(decision_pathway)\n",
    "Stroop_model.add_controller(control)\n",
    "\n"
   ],
   "id": "c86a22b757dd92eb",
   "outputs": [
    {
     "name": "stderr",
     "output_type": "stream",
     "text": [
      "/Users/younesstrittmatter/Documents/GitHub/AutoResearch/autora_parent/.venv/lib/python3.11/site-packages/psyneulink/core/compositions/composition.py:9649: UserWarning: The controller of 'Stroop Model-3' has a specification that includes the Mechanism 'Conflict Monitor-3', but 'Conflict Monitor-3' is not in 'Stroop Model-3' or any of its nested Compositions. This Mechanism will be deactivated until 'Conflict Monitor-3' is added to 'Stroop Model-3' or one of its nested Compositions in a compatible way.\n",
      "  warnings.warn(\n"
     ]
    },
    {
     "ename": "AssertionError",
     "evalue": "WARNING MESSAGE",
     "output_type": "error",
     "traceback": [
      "\u001B[0;31m---------------------------------------------------------------------------\u001B[0m",
      "\u001B[0;31mAssertionError\u001B[0m                            Traceback (most recent call last)",
      "\u001B[0;32m/var/folders/1b/73431t791q1_7tb99v1jc9ww0000gp/T/ipykernel_46339/2556483512.py\u001B[0m in \u001B[0;36m?\u001B[0;34m()\u001B[0m\n\u001B[1;32m     44\u001B[0m                            \u001B[0mdefault_allocation\u001B[0m\u001B[0;34m=\u001B[0m\u001B[0;34m[\u001B[0m\u001B[0;36m0.5\u001B[0m\u001B[0;34m]\u001B[0m\u001B[0;34m,\u001B[0m\u001B[0;34m\u001B[0m\u001B[0;34m\u001B[0m\u001B[0m\n\u001B[1;32m     45\u001B[0m                            control_signals=[(GAIN, task)])\n\u001B[1;32m     46\u001B[0m \u001B[0;34m\u001B[0m\u001B[0m\n\u001B[1;32m     47\u001B[0m \u001B[0;31m# Construct the Composition:\u001B[0m\u001B[0;34m\u001B[0m\u001B[0;34m\u001B[0m\u001B[0m\n\u001B[0;32m---> 48\u001B[0;31m \u001B[0mStroop_model\u001B[0m \u001B[0;34m=\u001B[0m \u001B[0mComposition\u001B[0m\u001B[0;34m(\u001B[0m\u001B[0mname\u001B[0m\u001B[0;34m=\u001B[0m\u001B[0;34m'Stroop Model'\u001B[0m\u001B[0;34m,\u001B[0m \u001B[0mcontroller\u001B[0m\u001B[0;34m=\u001B[0m\u001B[0mcontrol\u001B[0m\u001B[0;34m)\u001B[0m\u001B[0;34m\u001B[0m\u001B[0;34m\u001B[0m\u001B[0m\n\u001B[0m\u001B[1;32m     49\u001B[0m \u001B[0;31m# Stroop_model.add_linear_processing_pathway(color_pathway)\u001B[0m\u001B[0;34m\u001B[0m\u001B[0;34m\u001B[0m\u001B[0m\n\u001B[1;32m     50\u001B[0m \u001B[0;31m# Stroop_model.add_linear_processing_pathway(word_pathway)\u001B[0m\u001B[0;34m\u001B[0m\u001B[0;34m\u001B[0m\u001B[0m\n\u001B[1;32m     51\u001B[0m \u001B[0;31m# Stroop_model.add_linear_processing_pathway(task_color_pathway)\u001B[0m\u001B[0;34m\u001B[0m\u001B[0;34m\u001B[0m\u001B[0m\n",
      "\u001B[0;32m~/Documents/GitHub/AutoResearch/autora_parent/.venv/lib/python3.11/site-packages/psyneulink/core/globals/parameters.py\u001B[0m in \u001B[0;36m?\u001B[0;34m(self, *args, **kwargs)\u001B[0m\n\u001B[1;32m    482\u001B[0m \u001B[0;34m\u001B[0m\u001B[0m\n\u001B[1;32m    483\u001B[0m             \u001B[0mself\u001B[0m\u001B[0;34m.\u001B[0m\u001B[0m_prev_constructor\u001B[0m \u001B[0;34m=\u001B[0m \u001B[0mconstructor\u001B[0m\u001B[0;34m\u001B[0m\u001B[0;34m\u001B[0m\u001B[0m\n\u001B[1;32m    484\u001B[0m \u001B[0;34m\u001B[0m\u001B[0m\n\u001B[1;32m    485\u001B[0m         \u001B[0mself\u001B[0m\u001B[0;34m.\u001B[0m\u001B[0m_prev_kwargs\u001B[0m \u001B[0;34m=\u001B[0m \u001B[0mkwargs\u001B[0m\u001B[0;34m\u001B[0m\u001B[0;34m\u001B[0m\u001B[0m\n\u001B[0;32m--> 486\u001B[0;31m         \u001B[0;32mreturn\u001B[0m \u001B[0mfunc\u001B[0m\u001B[0;34m(\u001B[0m\u001B[0mself\u001B[0m\u001B[0;34m,\u001B[0m \u001B[0;34m*\u001B[0m\u001B[0margs\u001B[0m\u001B[0;34m,\u001B[0m \u001B[0;34m**\u001B[0m\u001B[0morig_kwargs\u001B[0m\u001B[0;34m)\u001B[0m\u001B[0;34m\u001B[0m\u001B[0;34m\u001B[0m\u001B[0m\n\u001B[0m",
      "\u001B[0;32m~/Documents/GitHub/AutoResearch/autora_parent/.venv/lib/python3.11/site-packages/psyneulink/core/compositions/composition.py\u001B[0m in \u001B[0;36m?\u001B[0;34m(self, pathways, nodes, projections, allow_probes, include_probes_in_output, disable_learning, learning_rate, controller, enable_controller, controller_mode, controller_time_scale, controller_condition, retain_old_simulation_data, show_graph_attributes, name, prefs, termination_processing, **param_defaults)\u001B[0m\n\u001B[1;32m   4112\u001B[0m         \u001B[0;31m# the behavior of components\u001B[0m\u001B[0;34m\u001B[0m\u001B[0;34m\u001B[0m\u001B[0m\n\u001B[1;32m   4113\u001B[0m         \u001B[0;32mdel\u001B[0m \u001B[0mself\u001B[0m\u001B[0;34m.\u001B[0m\u001B[0mparameters\u001B[0m\u001B[0;34m.\u001B[0m\u001B[0mvalue\u001B[0m\u001B[0;34m\u001B[0m\u001B[0;34m\u001B[0m\u001B[0m\n\u001B[1;32m   4114\u001B[0m \u001B[0;34m\u001B[0m\u001B[0m\n\u001B[1;32m   4115\u001B[0m         \u001B[0;31m# Call with context = COMPOSITION to avoid calling _check_initialization_status again\u001B[0m\u001B[0;34m\u001B[0m\u001B[0;34m\u001B[0m\u001B[0m\n\u001B[0;32m-> 4116\u001B[0;31m         \u001B[0mself\u001B[0m\u001B[0;34m.\u001B[0m\u001B[0m_analyze_graph\u001B[0m\u001B[0;34m(\u001B[0m\u001B[0mcontext\u001B[0m\u001B[0;34m=\u001B[0m\u001B[0mcontext\u001B[0m\u001B[0;34m)\u001B[0m\u001B[0;34m\u001B[0m\u001B[0;34m\u001B[0m\u001B[0m\n\u001B[0m\u001B[1;32m   4117\u001B[0m \u001B[0;34m\u001B[0m\u001B[0m\n\u001B[1;32m   4118\u001B[0m         \u001B[0mshow_graph_attributes\u001B[0m \u001B[0;34m=\u001B[0m \u001B[0mshow_graph_attributes\u001B[0m \u001B[0;32mor\u001B[0m \u001B[0;34m{\u001B[0m\u001B[0;34m}\u001B[0m\u001B[0;34m\u001B[0m\u001B[0;34m\u001B[0m\u001B[0m\n\u001B[1;32m   4119\u001B[0m         \u001B[0mself\u001B[0m\u001B[0;34m.\u001B[0m\u001B[0m_show_graph\u001B[0m \u001B[0;34m=\u001B[0m \u001B[0mShowGraph\u001B[0m\u001B[0;34m(\u001B[0m\u001B[0mself\u001B[0m\u001B[0;34m,\u001B[0m \u001B[0;34m**\u001B[0m\u001B[0mshow_graph_attributes\u001B[0m\u001B[0;34m)\u001B[0m\u001B[0;34m\u001B[0m\u001B[0;34m\u001B[0m\u001B[0m\n",
      "\u001B[0;32m~/Documents/GitHub/AutoResearch/autora_parent/.venv/lib/python3.11/site-packages/psyneulink/core/globals/context.py\u001B[0m in \u001B[0;36m?\u001B[0;34m(context, *args, **kwargs)\u001B[0m\n\u001B[1;32m    739\u001B[0m                         \u001B[0;32mpass\u001B[0m\u001B[0;34m\u001B[0m\u001B[0;34m\u001B[0m\u001B[0m\n\u001B[1;32m    740\u001B[0m \u001B[0;34m\u001B[0m\u001B[0m\n\u001B[1;32m    741\u001B[0m             \u001B[0;32mtry\u001B[0m\u001B[0;34m:\u001B[0m\u001B[0;34m\u001B[0m\u001B[0;34m\u001B[0m\u001B[0m\n\u001B[1;32m    742\u001B[0m                 \u001B[0;32mreturn\u001B[0m \u001B[0mfunc\u001B[0m\u001B[0;34m(\u001B[0m\u001B[0;34m*\u001B[0m\u001B[0margs\u001B[0m\u001B[0;34m,\u001B[0m \u001B[0mcontext\u001B[0m\u001B[0;34m=\u001B[0m\u001B[0mcontext\u001B[0m\u001B[0;34m,\u001B[0m \u001B[0;34m**\u001B[0m\u001B[0mkwargs\u001B[0m\u001B[0;34m)\u001B[0m\u001B[0;34m\u001B[0m\u001B[0;34m\u001B[0m\u001B[0m\n\u001B[0;32m--> 743\u001B[0;31m             \u001B[0;32mexcept\u001B[0m \u001B[0mTypeError\u001B[0m \u001B[0;32mas\u001B[0m \u001B[0me\u001B[0m\u001B[0;34m:\u001B[0m\u001B[0;34m\u001B[0m\u001B[0;34m\u001B[0m\u001B[0m\n\u001B[0m\u001B[1;32m    744\u001B[0m                 \u001B[0;31m# context parameter may be passed as a positional arg\u001B[0m\u001B[0;34m\u001B[0m\u001B[0;34m\u001B[0m\u001B[0m\n\u001B[1;32m    745\u001B[0m                 if (\n\u001B[1;32m    746\u001B[0m                     \u001B[0;34mf\"{func.__name__}() got multiple values for argument\"\u001B[0m\u001B[0;34m\u001B[0m\u001B[0;34m\u001B[0m\u001B[0m\n",
      "\u001B[0;32m~/Documents/GitHub/AutoResearch/autora_parent/.venv/lib/python3.11/site-packages/psyneulink/core/compositions/composition.py\u001B[0m in \u001B[0;36m?\u001B[0;34m(self, context)\u001B[0m\n\u001B[1;32m   4204\u001B[0m         \u001B[0mto\u001B[0m \u001B[0mset\u001B[0m \u001B[0many\u001B[0m \u001B[0mNode\u001B[0m \u001B[0;32min\u001B[0m \u001B[0mthe\u001B[0m \u001B[0mComposition\u001B[0m \u001B[0mto\u001B[0m\u001B[0;31m \u001B[0m\u001B[0;31m`\u001B[0m\u001B[0mOUTPUT\u001B[0m \u001B[0;34m<\u001B[0m\u001B[0mNodeRole\u001B[0m\u001B[0;34m.\u001B[0m\u001B[0mOUTPUT\u001B[0m\u001B[0;34m>\u001B[0m\u001B[0;31m`\u001B[0m\u001B[0;34m,\u001B[0m \u001B[0mthen\u001B[0m \u001B[0mthe\u001B[0m\u001B[0;31m \u001B[0m\u001B[0;31m`\u001B[0m\u001B[0mTERMINAL\u001B[0m \u001B[0;34m<\u001B[0m\u001B[0mNodeRole\u001B[0m\u001B[0;34m.\u001B[0m\u001B[0mTERMINAL\u001B[0m\u001B[0;34m>\u001B[0m\u001B[0;31m`\u001B[0m\u001B[0;34m\u001B[0m\u001B[0;34m\u001B[0m\u001B[0m\n\u001B[1;32m   4205\u001B[0m         \u001B[0mnodes\u001B[0m \u001B[0mare\u001B[0m \u001B[0;32mnot\u001B[0m \u001B[0mset\u001B[0m \u001B[0mto\u001B[0m\u001B[0;31m \u001B[0m\u001B[0;31m`\u001B[0m\u001B[0mOUTPUT\u001B[0m \u001B[0;34m<\u001B[0m\u001B[0mNodeRole\u001B[0m\u001B[0;34m.\u001B[0m\u001B[0mOUTPUT\u001B[0m\u001B[0;34m>\u001B[0m\u001B[0;31m`\u001B[0m \u001B[0mby\u001B[0m \u001B[0mdefault\u001B[0m\u001B[0;34m.\u001B[0m\u001B[0;34m\u001B[0m\u001B[0;34m\u001B[0m\u001B[0m\n\u001B[1;32m   4206\u001B[0m         \"\"\"\n\u001B[1;32m   4207\u001B[0m \u001B[0;34m\u001B[0m\u001B[0m\n\u001B[0;32m-> 4208\u001B[0;31m         \u001B[0mself\u001B[0m\u001B[0;34m.\u001B[0m\u001B[0m_check_controller_initialization_status\u001B[0m\u001B[0;34m(\u001B[0m\u001B[0mcontext\u001B[0m\u001B[0;34m=\u001B[0m\u001B[0mcontext\u001B[0m\u001B[0;34m)\u001B[0m\u001B[0;34m\u001B[0m\u001B[0;34m\u001B[0m\u001B[0m\n\u001B[0m\u001B[1;32m   4209\u001B[0m         \u001B[0mself\u001B[0m\u001B[0;34m.\u001B[0m\u001B[0m_check_nodes_initialization_status\u001B[0m\u001B[0;34m(\u001B[0m\u001B[0mcontext\u001B[0m\u001B[0;34m=\u001B[0m\u001B[0mcontext\u001B[0m\u001B[0;34m)\u001B[0m\u001B[0;34m\u001B[0m\u001B[0;34m\u001B[0m\u001B[0m\n\u001B[1;32m   4210\u001B[0m \u001B[0;34m\u001B[0m\u001B[0m\n\u001B[1;32m   4211\u001B[0m         \u001B[0;31m# FIX: SHOULDN'T THIS TEST MORE EXPLICITLY IF NODE IS A Composition?\u001B[0m\u001B[0;34m\u001B[0m\u001B[0;34m\u001B[0m\u001B[0m\n",
      "\u001B[0;32m~/Documents/GitHub/AutoResearch/autora_parent/.venv/lib/python3.11/site-packages/psyneulink/core/compositions/composition.py\u001B[0m in \u001B[0;36m?\u001B[0;34m(self, context)\u001B[0m\n\u001B[1;32m   9651\u001B[0m                             \u001B[0;34mf\"'{component.name}', but '{component.name}' is not in '{self.name}' or any of its \"\u001B[0m\u001B[0;34m\u001B[0m\u001B[0;34m\u001B[0m\u001B[0m\n\u001B[1;32m   9652\u001B[0m                             \u001B[0;34mf\"nested Compositions. This Mechanism will be deactivated until '{component.name}' is \"\u001B[0m\u001B[0;34m\u001B[0m\u001B[0;34m\u001B[0m\u001B[0m\n\u001B[1;32m   9653\u001B[0m                             \u001B[0;34mf\"added to '{self.name}' or one of its nested Compositions in a compatible way.\"\u001B[0m\u001B[0;34m\u001B[0m\u001B[0;34m\u001B[0m\u001B[0m\n\u001B[1;32m   9654\u001B[0m                     )\n\u001B[0;32m-> 9655\u001B[0;31m                     \u001B[0;32massert\u001B[0m \u001B[0;32mFalse\u001B[0m\u001B[0;34m,\u001B[0m \u001B[0;34m\"WARNING MESSAGE\"\u001B[0m\u001B[0;34m\u001B[0m\u001B[0;34m\u001B[0m\u001B[0m\n\u001B[0m\u001B[1;32m   9656\u001B[0m \u001B[0;34m\u001B[0m\u001B[0m\n\u001B[1;32m   9657\u001B[0m         \u001B[0;31m# If Composition is not preparing to execute, allow deferred_inits to persist without warning\u001B[0m\u001B[0;34m\u001B[0m\u001B[0;34m\u001B[0m\u001B[0m\n\u001B[1;32m   9658\u001B[0m         \u001B[0;32mif\u001B[0m \u001B[0mcontext\u001B[0m \u001B[0;32mand\u001B[0m \u001B[0mContextFlags\u001B[0m\u001B[0;34m.\u001B[0m\u001B[0mPREPARING\u001B[0m \u001B[0;32mnot\u001B[0m \u001B[0;32min\u001B[0m \u001B[0mcontext\u001B[0m\u001B[0;34m.\u001B[0m\u001B[0mexecution_phase\u001B[0m\u001B[0;34m:\u001B[0m\u001B[0;34m\u001B[0m\u001B[0;34m\u001B[0m\u001B[0m\n",
      "\u001B[0;31mAssertionError\u001B[0m: WARNING MESSAGE"
     ]
    }
   ],
   "execution_count": 5
  },
  {
   "metadata": {
    "ExecuteTime": {
     "end_time": "2024-09-29T16:25:27.890225Z",
     "start_time": "2024-09-29T16:25:27.724997Z"
    }
   },
   "cell_type": "code",
   "source": "Stroop_model.show_graph(output_fmt='jupyter')",
   "id": "324f5fbe47e6b11a",
   "outputs": [
    {
     "data": {
      "image/svg+xml": "<?xml version=\"1.0\" encoding=\"UTF-8\" standalone=\"no\"?>\n<!DOCTYPE svg PUBLIC \"-//W3C//DTD SVG 1.1//EN\"\n \"http://www.w3.org/Graphics/SVG/1.1/DTD/svg11.dtd\">\n<!-- Generated by graphviz version 12.1.0 (20240811.2233)\n -->\n<!-- Title: Stroop Model &#45; Conflict Monitoring Pages: 1 -->\n<svg width=\"383pt\" height=\"469pt\"\n viewBox=\"0.00 0.00 382.82 468.92\" xmlns=\"http://www.w3.org/2000/svg\" xmlns:xlink=\"http://www.w3.org/1999/xlink\">\n<g id=\"graph0\" class=\"graph\" transform=\"scale(1 1) rotate(0) translate(4 464.92)\">\n<title>Stroop Model &#45; Conflict Monitoring</title>\n<polygon fill=\"white\" stroke=\"none\" points=\"-4,4 -4,-464.92 378.82,-464.92 378.82,4 -4,4\"/>\n<text text-anchor=\"middle\" x=\"187.41\" y=\"-7.2\" font-family=\"Times,serif\" font-size=\"14.00\">Stroop Model &#45; Conflict Monitoring</text>\n<!-- TASK INPUT -->\n<g id=\"node1\" class=\"node\">\n<title>TASK INPUT</title>\n<ellipse fill=\"none\" stroke=\"green\" stroke-width=\"3\" cx=\"319.33\" cy=\"-42.5\" rx=\"55.49\" ry=\"18\"/>\n<text text-anchor=\"middle\" x=\"319.33\" y=\"-38.23\" font-family=\"arial\" font-size=\"12.00\">TASK INPUT</text>\n</g>\n<!-- TASK -->\n<g id=\"node5\" class=\"node\">\n<title>TASK</title>\n<ellipse fill=\"none\" stroke=\"black\" cx=\"319.33\" cy=\"-130.71\" rx=\"30.21\" ry=\"30.21\"/>\n<ellipse fill=\"none\" stroke=\"black\" cx=\"319.33\" cy=\"-130.71\" rx=\"34.21\" ry=\"34.21\"/>\n<text text-anchor=\"middle\" x=\"319.33\" y=\"-126.44\" font-family=\"arial\" font-size=\"12.00\">TASK</text>\n</g>\n<!-- TASK INPUT&#45;&gt;TASK -->\n<g id=\"edge8\" class=\"edge\">\n<title>TASK INPUT&#45;&gt;TASK</title>\n<path fill=\"none\" stroke=\"black\" d=\"M319.33,-61.78C319.33,-68.57 319.33,-76.6 319.33,-84.72\"/>\n<polygon fill=\"black\" stroke=\"black\" points=\"315.83,-84.63 319.33,-94.63 322.83,-84.63 315.83,-84.63\"/>\n</g>\n<!-- WORD INPUT -->\n<g id=\"node2\" class=\"node\">\n<title>WORD INPUT</title>\n<ellipse fill=\"none\" stroke=\"green\" stroke-width=\"3\" cx=\"207.33\" cy=\"-130.71\" rx=\"59.79\" ry=\"18\"/>\n<text text-anchor=\"middle\" x=\"207.33\" y=\"-126.44\" font-family=\"arial\" font-size=\"12.00\">WORD INPUT</text>\n</g>\n<!-- WORD HIDDEN -->\n<g id=\"node7\" class=\"node\">\n<title>WORD HIDDEN</title>\n<ellipse fill=\"none\" stroke=\"black\" cx=\"223.33\" cy=\"-218.92\" rx=\"66.46\" ry=\"18\"/>\n<text text-anchor=\"middle\" x=\"223.33\" y=\"-214.65\" font-family=\"arial\" font-size=\"12.00\">WORD HIDDEN</text>\n</g>\n<!-- WORD INPUT&#45;&gt;WORD HIDDEN -->\n<g id=\"edge6\" class=\"edge\">\n<title>WORD INPUT&#45;&gt;WORD HIDDEN</title>\n<path fill=\"none\" stroke=\"black\" d=\"M210.72,-149.99C212.84,-161.42 215.62,-176.38 218.02,-189.35\"/>\n<polygon fill=\"black\" stroke=\"black\" points=\"214.56,-189.87 219.83,-199.06 221.44,-188.59 214.56,-189.87\"/>\n</g>\n<!-- COLOR INPUT -->\n<g id=\"node3\" class=\"node\">\n<title>COLOR INPUT</title>\n<ellipse fill=\"none\" stroke=\"green\" stroke-width=\"3\" cx=\"67.33\" cy=\"-130.71\" rx=\"62.65\" ry=\"18\"/>\n<text text-anchor=\"middle\" x=\"67.33\" y=\"-126.44\" font-family=\"arial\" font-size=\"12.00\">COLOR INPUT</text>\n</g>\n<!-- COLOR HIDDEN -->\n<g id=\"node4\" class=\"node\">\n<title>COLOR HIDDEN</title>\n<ellipse fill=\"none\" stroke=\"black\" cx=\"69.33\" cy=\"-218.92\" rx=\"69.33\" ry=\"18\"/>\n<text text-anchor=\"middle\" x=\"69.33\" y=\"-214.65\" font-family=\"arial\" font-size=\"12.00\">COLOR HIDDEN</text>\n</g>\n<!-- COLOR INPUT&#45;&gt;COLOR HIDDEN -->\n<g id=\"edge1\" class=\"edge\">\n<title>COLOR INPUT&#45;&gt;COLOR HIDDEN</title>\n<path fill=\"none\" stroke=\"black\" d=\"M67.75,-149.99C68.02,-161.42 68.36,-176.38 68.66,-189.35\"/>\n<polygon fill=\"black\" stroke=\"black\" points=\"65.16,-189.12 68.89,-199.03 72.16,-188.96 65.16,-189.12\"/>\n</g>\n<!-- OUTPUT -->\n<g id=\"node6\" class=\"node\">\n<title>OUTPUT</title>\n<ellipse fill=\"none\" stroke=\"black\" cx=\"170.33\" cy=\"-290.92\" rx=\"42.14\" ry=\"18\"/>\n<text text-anchor=\"middle\" x=\"170.33\" y=\"-286.65\" font-family=\"arial\" font-size=\"12.00\">OUTPUT</text>\n</g>\n<!-- COLOR HIDDEN&#45;&gt;OUTPUT -->\n<g id=\"edge3\" class=\"edge\">\n<title>COLOR HIDDEN&#45;&gt;OUTPUT</title>\n<path fill=\"none\" stroke=\"black\" d=\"M92.75,-236.16C106.61,-245.77 124.34,-258.05 139.35,-268.45\"/>\n<polygon fill=\"black\" stroke=\"black\" points=\"137.3,-271.29 147.51,-274.11 141.28,-265.53 137.3,-271.29\"/>\n</g>\n<!-- TASK&#45;&gt;COLOR HIDDEN -->\n<g id=\"edge2\" class=\"edge\">\n<title>TASK&#45;&gt;COLOR HIDDEN</title>\n<path fill=\"none\" stroke=\"black\" d=\"M294.08,-153.9C288.5,-158.01 282.43,-161.94 276.33,-164.92 263.1,-171.38 186.75,-190.19 130.6,-203.56\"/>\n<polygon fill=\"black\" stroke=\"black\" points=\"130.06,-200.1 121.14,-205.81 131.68,-206.91 130.06,-200.1\"/>\n</g>\n<!-- TASK&#45;&gt;TASK -->\n<g id=\"edge7\" class=\"edge\">\n<title>TASK&#45;&gt;TASK</title>\n<path fill=\"none\" stroke=\"black\" d=\"M349.63,-114.25C361.57,-113.42 371.54,-118.91 371.54,-130.71 371.54,-138.46 367.24,-143.48 360.92,-145.79\"/>\n<polygon fill=\"black\" stroke=\"black\" points=\"360.64,-142.29 351.14,-146.98 361.49,-149.24 360.64,-142.29\"/>\n</g>\n<!-- TASK&#45;&gt;WORD HIDDEN -->\n<g id=\"edge5\" class=\"edge\">\n<title>TASK&#45;&gt;WORD HIDDEN</title>\n<path fill=\"none\" stroke=\"black\" d=\"M294.1,-154.36C280.61,-166.48 264,-181.39 250.26,-193.73\"/>\n<polygon fill=\"black\" stroke=\"black\" points=\"247.94,-191.12 242.83,-200.4 252.61,-196.33 247.94,-191.12\"/>\n</g>\n<!-- DECISION -->\n<g id=\"node8\" class=\"node\">\n<title>DECISION</title>\n<ellipse fill=\"none\" stroke=\"red\" stroke-width=\"3\" cx=\"244.33\" cy=\"-362.92\" rx=\"47.38\" ry=\"18\"/>\n<text text-anchor=\"middle\" x=\"244.33\" y=\"-358.65\" font-family=\"arial\" font-size=\"12.00\">DECISION</text>\n</g>\n<!-- OUTPUT&#45;&gt;DECISION -->\n<g id=\"edge9\" class=\"edge\">\n<title>OUTPUT&#45;&gt;DECISION</title>\n<path fill=\"none\" stroke=\"black\" d=\"M187.12,-307.81C196.25,-316.44 207.74,-327.32 218.03,-337.05\"/>\n<polygon fill=\"black\" stroke=\"black\" points=\"215.54,-339.51 225.21,-343.84 220.35,-334.42 215.54,-339.51\"/>\n</g>\n<!-- Conflict Monitor -->\n<g id=\"node10\" class=\"node\">\n<title>Conflict Monitor</title>\n<ellipse fill=\"none\" stroke=\"purple\" cx=\"115.33\" cy=\"-362.92\" rx=\"63.13\" ry=\"18\"/>\n<text text-anchor=\"middle\" x=\"115.33\" y=\"-358.65\" font-family=\"arial\" font-size=\"12.00\">Conflict Monitor</text>\n</g>\n<!-- OUTPUT&#45;&gt;Conflict Monitor -->\n<g id=\"edge12\" class=\"edge\">\n<title>OUTPUT&#45;&gt;Conflict Monitor</title>\n<path fill=\"none\" stroke=\"purple\" d=\"M157.29,-308.51C150.81,-316.76 142.83,-326.91 135.58,-336.15\"/>\n<polygon fill=\"purple\" stroke=\"purple\" points=\"133.01,-333.75 129.58,-343.78 138.51,-338.08 133.01,-333.75\"/>\n</g>\n<!-- WORD HIDDEN&#45;&gt;OUTPUT -->\n<g id=\"edge4\" class=\"edge\">\n<title>WORD HIDDEN&#45;&gt;OUTPUT</title>\n<path fill=\"none\" stroke=\"black\" d=\"M210.5,-236.87C204.22,-245.16 196.54,-255.3 189.58,-264.5\"/>\n<polygon fill=\"black\" stroke=\"black\" points=\"186.83,-262.32 183.59,-272.41 192.41,-266.55 186.83,-262.32\"/>\n</g>\n<!-- CONTROL -->\n<g id=\"node9\" class=\"node\">\n<title>CONTROL</title>\n<polygon fill=\"none\" stroke=\"purple\" points=\"269.13,-431.47 269.13,-446.38 238.78,-456.92 195.87,-456.92 165.52,-446.38 165.52,-431.47 195.87,-420.92 238.78,-420.92 269.13,-431.47\"/>\n<polygon fill=\"none\" stroke=\"purple\" points=\"273.13,-428.62 273.13,-449.22 239.46,-460.92 195.19,-460.92 161.52,-449.22 161.52,-428.62 195.19,-416.92 239.46,-416.92 273.13,-428.62\"/>\n<text text-anchor=\"middle\" x=\"217.33\" y=\"-434.65\" font-family=\"arial\" font-size=\"12.00\">CONTROL</text>\n</g>\n<!-- CONTROL&#45;&gt;TASK -->\n<g id=\"edge10\" class=\"edge\">\n<title>CONTROL&#45;&gt;TASK</title>\n<path fill=\"none\" stroke=\"purple\" d=\"M254.28,-421.91C271.28,-412.53 289.94,-398.95 300.33,-380.92 337.3,-316.72 333.41,-227.31 326.71,-174.87\"/>\n<polygon fill=\"purple\" stroke=\"purple\" points=\"321.41,-165.61 329.33,-164.53 330.42,-172.45 322.49,-173.54 321.41,-165.61\"/>\n<polyline fill=\"none\" stroke=\"purple\" points=\"326.46,-173 326.73,-174.98\"/>\n</g>\n<!-- Conflict Monitor&#45;&gt;CONTROL -->\n<g id=\"edge11\" class=\"edge\">\n<title>Conflict Monitor&#45;&gt;CONTROL</title>\n<path fill=\"none\" stroke=\"purple\" d=\"M137.71,-380.16C150.41,-389.38 166.61,-401.13 181.08,-411.62\"/>\n<polygon fill=\"purple\" stroke=\"purple\" points=\"178.91,-414.37 189.06,-417.41 183.02,-408.71 178.91,-414.37\"/>\n</g>\n</g>\n</svg>\n",
      "text/plain": [
       "<graphviz.graphs.Digraph at 0x2a6e2a050>"
      ]
     },
     "execution_count": 4,
     "metadata": {},
     "output_type": "execute_result"
    }
   ],
   "execution_count": 4
  },
  {
   "metadata": {
    "ExecuteTime": {
     "end_time": "2024-09-29T16:25:30.580012Z",
     "start_time": "2024-09-29T16:25:30.575328Z"
    }
   },
   "cell_type": "code",
   "source": [
    "COLOR_MAPPING = {'red': [1, 0], 'green': [0, 1]}\n",
    "WORD_MAPPING = {'RED': [1, 0], 'GREEN': [0, 1]}\n",
    "TASK_MAPPING = {'color_naming': [1, 0], 'word_reading': [0, 1]}\n",
    "\n",
    "def trial_to_input(trial):\n",
    "    return {\n",
    "        color_input: COLOR_MAPPING[trial['color']],\n",
    "        word_input: WORD_MAPPING[trial['word']],\n",
    "        task_input: TASK_MAPPING[trial['task']]\n",
    "    }"
   ],
   "id": "3aec944a815b65e8",
   "outputs": [],
   "execution_count": 5
  },
  {
   "metadata": {
    "ExecuteTime": {
     "end_time": "2024-09-29T16:25:31.247381Z",
     "start_time": "2024-09-29T16:25:31.244281Z"
    }
   },
   "cell_type": "code",
   "source": [
    "global t\n",
    "t = 0\n",
    "def print_after():\n",
    "    global t\n",
    "    print(f'\\nEnd of trial {t}:')\n",
    "    print(f'\\t\\t\\t\\tcolor  word')\n",
    "    print(f'\\ttask:\\t\\t{task.value[0]}')\n",
    "    print(f'\\ttask gain:\\t   {task.parameter_ports[GAIN].value}')\n",
    "    print(f'\\t\\t\\t\\tred   green')\n",
    "    print(f'\\toutput:\\t\\t{output.value[0]}')\n",
    "    print(f'\\tdecision:\\t{decision.value[0]}{decision.value[1]}')\n",
    "    print(f'\\tconflict:\\t  {control.objective_mechanism.value[0]}')\n",
    "    t += 1\n",
    "\n",
    "from collections import defaultdict\n",
    "\n",
    "\n",
    "def run(trials):\n",
    "    _transformed = [trial_to_input(t) for t in trials]\n",
    "    dict_of_lists = defaultdict(list)\n",
    "\n",
    "    for d in _transformed:\n",
    "        for key, value in d.items():\n",
    "            dict_of_lists[key].append(value)\n",
    "\n",
    "    _trials = dict(dict_of_lists)\n",
    "    print(_trials)\n",
    "\n",
    "    Stroop_model.run(inputs=_trials,\n",
    "                     call_after_trial=print_after)\n",
    "    "
   ],
   "id": "1b7990881a842aa",
   "outputs": [],
   "execution_count": 6
  },
  {
   "metadata": {
    "ExecuteTime": {
     "end_time": "2024-09-29T16:25:31.814814Z",
     "start_time": "2024-09-29T16:25:31.777842Z"
    }
   },
   "cell_type": "code",
   "source": [
    "trials = [\n",
    "    {'color': 'red', 'word': 'RED', 'task': 'color_naming'},\n",
    "    {'color': 'red', 'word': 'GREEN', 'task': 'color_naming'},\n",
    "    {'color': 'red', 'word': 'GREEN', 'task': 'color_naming'},\n",
    "    {'color': 'red', 'word': 'GREEN', 'task': 'color_naming'},\n",
    "    {'color': 'red', 'word': 'GREEN', 'task': 'color_naming'},\n",
    "    {'color': 'red', 'word': 'GREEN', 'task': 'color_naming'},\n",
    "]\n",
    "task.initial_value = [0.5,0.5]         # Assign \"neutral\" starting point for task units on each trial\n",
    "task.reset_stateful_function_when=AtTrialStart()\n",
    "run(trials)\n",
    "    "
   ],
   "id": "7a83dc3de748e7d6",
   "outputs": [
    {
     "name": "stdout",
     "output_type": "stream",
     "text": [
      "{(ProcessingMechanism COLOR INPUT-1): [[1, 0], [1, 0], [1, 0], [1, 0], [1, 0], [1, 0]], (ProcessingMechanism WORD INPUT-1): [[1, 0], [0, 1], [0, 1], [0, 1], [0, 1], [0, 1]], (ProcessingMechanism TASK INPUT-1): [[1, 0], [1, 0], [1, 0], [1, 0], [1, 0], [1, 0]]}\n"
     ]
    },
    {
     "ename": "RunError",
     "evalue": "\"The following items specified in the 'inputs' arg of the run() method for 'Stroop Model - Conflict Monitoring' are not INPUT Nodes of that Composition (nor InputPorts of them): 'COLOR INPUT-1', 'WORD INPUT-1', 'TASK INPUT-1'.\"",
     "output_type": "error",
     "traceback": [
      "\u001B[0;31m---------------------------------------------------------------------------\u001B[0m",
      "\u001B[0;31mRunError\u001B[0m                                  Traceback (most recent call last)",
      "\u001B[0;32m/var/folders/1b/73431t791q1_7tb99v1jc9ww0000gp/T/ipykernel_46061/4211388759.py\u001B[0m in \u001B[0;36m?\u001B[0;34m()\u001B[0m\n\u001B[1;32m      7\u001B[0m     \u001B[0;34m{\u001B[0m\u001B[0;34m'color'\u001B[0m\u001B[0;34m:\u001B[0m \u001B[0;34m'red'\u001B[0m\u001B[0;34m,\u001B[0m \u001B[0;34m'word'\u001B[0m\u001B[0;34m:\u001B[0m \u001B[0;34m'GREEN'\u001B[0m\u001B[0;34m,\u001B[0m \u001B[0;34m'task'\u001B[0m\u001B[0;34m:\u001B[0m \u001B[0;34m'color_naming'\u001B[0m\u001B[0;34m}\u001B[0m\u001B[0;34m,\u001B[0m\u001B[0;34m\u001B[0m\u001B[0;34m\u001B[0m\u001B[0m\n\u001B[1;32m      8\u001B[0m ]\n\u001B[1;32m      9\u001B[0m \u001B[0mtask\u001B[0m\u001B[0;34m.\u001B[0m\u001B[0minitial_value\u001B[0m \u001B[0;34m=\u001B[0m \u001B[0;34m[\u001B[0m\u001B[0;36m0.5\u001B[0m\u001B[0;34m,\u001B[0m\u001B[0;36m0.5\u001B[0m\u001B[0;34m]\u001B[0m         \u001B[0;31m# Assign \"neutral\" starting point for task units on each trial\u001B[0m\u001B[0;34m\u001B[0m\u001B[0;34m\u001B[0m\u001B[0m\n\u001B[1;32m     10\u001B[0m \u001B[0mtask\u001B[0m\u001B[0;34m.\u001B[0m\u001B[0mreset_stateful_function_when\u001B[0m\u001B[0;34m=\u001B[0m\u001B[0mAtTrialStart\u001B[0m\u001B[0;34m(\u001B[0m\u001B[0;34m)\u001B[0m\u001B[0;34m\u001B[0m\u001B[0;34m\u001B[0m\u001B[0m\n\u001B[0;32m---> 11\u001B[0;31m \u001B[0mrun\u001B[0m\u001B[0;34m(\u001B[0m\u001B[0mtrials\u001B[0m\u001B[0;34m)\u001B[0m\u001B[0;34m\u001B[0m\u001B[0;34m\u001B[0m\u001B[0m\n\u001B[0m\u001B[1;32m     12\u001B[0m \u001B[0;34m\u001B[0m\u001B[0m\n",
      "\u001B[0;32m/var/folders/1b/73431t791q1_7tb99v1jc9ww0000gp/T/ipykernel_46061/1704423656.py\u001B[0m in \u001B[0;36m?\u001B[0;34m(trials)\u001B[0m\n\u001B[1;32m     25\u001B[0m \u001B[0;34m\u001B[0m\u001B[0m\n\u001B[1;32m     26\u001B[0m     \u001B[0m_trials\u001B[0m \u001B[0;34m=\u001B[0m \u001B[0mdict\u001B[0m\u001B[0;34m(\u001B[0m\u001B[0mdict_of_lists\u001B[0m\u001B[0;34m)\u001B[0m\u001B[0;34m\u001B[0m\u001B[0;34m\u001B[0m\u001B[0m\n\u001B[1;32m     27\u001B[0m     \u001B[0mprint\u001B[0m\u001B[0;34m(\u001B[0m\u001B[0m_trials\u001B[0m\u001B[0;34m)\u001B[0m\u001B[0;34m\u001B[0m\u001B[0;34m\u001B[0m\u001B[0m\n\u001B[1;32m     28\u001B[0m \u001B[0;34m\u001B[0m\u001B[0m\n\u001B[0;32m---> 29\u001B[0;31m     Stroop_model.run(inputs=_trials,\n\u001B[0m\u001B[1;32m     30\u001B[0m                      call_after_trial=print_after)\n",
      "\u001B[0;32m~/Documents/GitHub/AutoResearch/autora_parent/.venv/lib/python3.11/site-packages/psyneulink/core/globals/context.py\u001B[0m in \u001B[0;36m?\u001B[0;34m(context, *args, **kwargs)\u001B[0m\n\u001B[1;32m    739\u001B[0m                         \u001B[0;32mpass\u001B[0m\u001B[0;34m\u001B[0m\u001B[0;34m\u001B[0m\u001B[0m\n\u001B[1;32m    740\u001B[0m \u001B[0;34m\u001B[0m\u001B[0m\n\u001B[1;32m    741\u001B[0m             \u001B[0;32mtry\u001B[0m\u001B[0;34m:\u001B[0m\u001B[0;34m\u001B[0m\u001B[0;34m\u001B[0m\u001B[0m\n\u001B[1;32m    742\u001B[0m                 \u001B[0;32mreturn\u001B[0m \u001B[0mfunc\u001B[0m\u001B[0;34m(\u001B[0m\u001B[0;34m*\u001B[0m\u001B[0margs\u001B[0m\u001B[0;34m,\u001B[0m \u001B[0mcontext\u001B[0m\u001B[0;34m=\u001B[0m\u001B[0mcontext\u001B[0m\u001B[0;34m,\u001B[0m \u001B[0;34m**\u001B[0m\u001B[0mkwargs\u001B[0m\u001B[0;34m)\u001B[0m\u001B[0;34m\u001B[0m\u001B[0;34m\u001B[0m\u001B[0m\n\u001B[0;32m--> 743\u001B[0;31m             \u001B[0;32mexcept\u001B[0m \u001B[0mTypeError\u001B[0m \u001B[0;32mas\u001B[0m \u001B[0me\u001B[0m\u001B[0;34m:\u001B[0m\u001B[0;34m\u001B[0m\u001B[0;34m\u001B[0m\u001B[0m\n\u001B[0m\u001B[1;32m    744\u001B[0m                 \u001B[0;31m# context parameter may be passed as a positional arg\u001B[0m\u001B[0;34m\u001B[0m\u001B[0;34m\u001B[0m\u001B[0m\n\u001B[1;32m    745\u001B[0m                 if (\n\u001B[1;32m    746\u001B[0m                     \u001B[0;34mf\"{func.__name__}() got multiple values for argument\"\u001B[0m\u001B[0;34m\u001B[0m\u001B[0;34m\u001B[0m\u001B[0m\n",
      "\u001B[0;32m~/Documents/GitHub/AutoResearch/autora_parent/.venv/lib/python3.11/site-packages/psyneulink/core/compositions/composition.py\u001B[0m in \u001B[0;36m?\u001B[0;34m(self, inputs, num_trials, initialize_cycle_values, reset_stateful_functions_to, reset_stateful_functions_when, skip_initialization, clamp_input, runtime_params, call_before_time_step, call_after_time_step, call_before_pass, call_after_pass, call_before_trial, call_after_trial, termination_processing, skip_analyze_graph, report_output, report_params, report_progress, report_simulations, report_to_devices, animate, log, scheduler, scheduling_mode, execution_mode, default_absolute_time_unit, context, base_context)\u001B[0m\n\u001B[1;32m  11142\u001B[0m         \u001B[0mscheduler\u001B[0m\u001B[0;34m.\u001B[0m\u001B[0m_init_counts\u001B[0m\u001B[0;34m(\u001B[0m\u001B[0mexecution_id\u001B[0m\u001B[0;34m=\u001B[0m\u001B[0mcontext\u001B[0m\u001B[0;34m.\u001B[0m\u001B[0mexecution_id\u001B[0m\u001B[0;34m)\u001B[0m\u001B[0;34m\u001B[0m\u001B[0;34m\u001B[0m\u001B[0m\n\u001B[1;32m  11143\u001B[0m \u001B[0;34m\u001B[0m\u001B[0m\n\u001B[1;32m  11144\u001B[0m         \u001B[0minput_nodes\u001B[0m \u001B[0;34m=\u001B[0m \u001B[0mself\u001B[0m\u001B[0;34m.\u001B[0m\u001B[0mget_nodes_by_role\u001B[0m\u001B[0;34m(\u001B[0m\u001B[0mNodeRole\u001B[0m\u001B[0;34m.\u001B[0m\u001B[0mINPUT\u001B[0m\u001B[0;34m)\u001B[0m\u001B[0;34m\u001B[0m\u001B[0;34m\u001B[0m\u001B[0m\n\u001B[1;32m  11145\u001B[0m \u001B[0;34m\u001B[0m\u001B[0m\n\u001B[0;32m> 11146\u001B[0;31m         \u001B[0minputs\u001B[0m\u001B[0;34m,\u001B[0m \u001B[0mnum_inputs_sets\u001B[0m \u001B[0;34m=\u001B[0m \u001B[0mself\u001B[0m\u001B[0;34m.\u001B[0m\u001B[0m_parse_run_inputs\u001B[0m\u001B[0;34m(\u001B[0m\u001B[0minputs\u001B[0m\u001B[0;34m,\u001B[0m \u001B[0mcontext\u001B[0m\u001B[0;34m)\u001B[0m\u001B[0;34m\u001B[0m\u001B[0;34m\u001B[0m\u001B[0m\n\u001B[0m\u001B[1;32m  11147\u001B[0m \u001B[0;34m\u001B[0m\u001B[0m\n\u001B[1;32m  11148\u001B[0m         \u001B[0;32mif\u001B[0m \u001B[0mnum_trials\u001B[0m \u001B[0;32mis\u001B[0m \u001B[0;32mNone\u001B[0m\u001B[0;34m:\u001B[0m\u001B[0;34m\u001B[0m\u001B[0;34m\u001B[0m\u001B[0m\n\u001B[1;32m  11149\u001B[0m             \u001B[0mnum_trials\u001B[0m \u001B[0;34m=\u001B[0m \u001B[0mnum_inputs_sets\u001B[0m\u001B[0;34m\u001B[0m\u001B[0;34m\u001B[0m\u001B[0m\n",
      "\u001B[0;32m~/Documents/GitHub/AutoResearch/autora_parent/.venv/lib/python3.11/site-packages/psyneulink/core/compositions/composition.py\u001B[0m in \u001B[0;36m?\u001B[0;34m(self, inputs, context)\u001B[0m\n\u001B[1;32m  10712\u001B[0m             \u001B[0m_inputs\u001B[0m\u001B[0;34m,\u001B[0m \u001B[0mnum_inputs_sets\u001B[0m \u001B[0;34m=\u001B[0m \u001B[0mself\u001B[0m\u001B[0;34m.\u001B[0m\u001B[0m_parse_function\u001B[0m\u001B[0;34m(\u001B[0m\u001B[0minputs\u001B[0m\u001B[0;34m)\u001B[0m\u001B[0;34m\u001B[0m\u001B[0;34m\u001B[0m\u001B[0m\n\u001B[1;32m  10713\u001B[0m         \u001B[0;32melif\u001B[0m \u001B[0mtype\u001B[0m\u001B[0;34m(\u001B[0m\u001B[0minputs\u001B[0m\u001B[0;34m)\u001B[0m \u001B[0;34m==\u001B[0m \u001B[0mlist\u001B[0m\u001B[0;34m:\u001B[0m\u001B[0;34m\u001B[0m\u001B[0;34m\u001B[0m\u001B[0m\n\u001B[1;32m  10714\u001B[0m             \u001B[0m_inputs\u001B[0m\u001B[0;34m,\u001B[0m \u001B[0mnum_inputs_sets\u001B[0m \u001B[0;34m=\u001B[0m \u001B[0mself\u001B[0m\u001B[0;34m.\u001B[0m\u001B[0m_parse_list\u001B[0m\u001B[0;34m(\u001B[0m\u001B[0minputs\u001B[0m\u001B[0;34m)\u001B[0m\u001B[0;34m\u001B[0m\u001B[0;34m\u001B[0m\u001B[0m\n\u001B[1;32m  10715\u001B[0m         \u001B[0;32melif\u001B[0m \u001B[0mtype\u001B[0m\u001B[0;34m(\u001B[0m\u001B[0minputs\u001B[0m\u001B[0;34m)\u001B[0m \u001B[0;34m==\u001B[0m \u001B[0mdict\u001B[0m\u001B[0;34m:\u001B[0m\u001B[0;34m\u001B[0m\u001B[0;34m\u001B[0m\u001B[0m\n\u001B[0;32m> 10716\u001B[0;31m             \u001B[0m_inputs\u001B[0m\u001B[0;34m,\u001B[0m \u001B[0mnum_inputs_sets\u001B[0m \u001B[0;34m=\u001B[0m \u001B[0mself\u001B[0m\u001B[0;34m.\u001B[0m\u001B[0m_parse_input_dict\u001B[0m\u001B[0;34m(\u001B[0m\u001B[0minputs\u001B[0m\u001B[0;34m)\u001B[0m\u001B[0;34m\u001B[0m\u001B[0;34m\u001B[0m\u001B[0m\n\u001B[0m\u001B[1;32m  10717\u001B[0m         \u001B[0;32melif\u001B[0m \u001B[0mtype\u001B[0m\u001B[0;34m(\u001B[0m\u001B[0minputs\u001B[0m\u001B[0;34m)\u001B[0m \u001B[0;34m==\u001B[0m \u001B[0mstr\u001B[0m\u001B[0;34m:\u001B[0m\u001B[0;34m\u001B[0m\u001B[0;34m\u001B[0m\u001B[0m\n\u001B[1;32m  10718\u001B[0m             \u001B[0m_inputs\u001B[0m\u001B[0;34m,\u001B[0m \u001B[0mnum_inputs_sets\u001B[0m \u001B[0;34m=\u001B[0m \u001B[0mself\u001B[0m\u001B[0;34m.\u001B[0m\u001B[0m_parse_string\u001B[0m\u001B[0;34m(\u001B[0m\u001B[0minputs\u001B[0m\u001B[0;34m)\u001B[0m\u001B[0;34m\u001B[0m\u001B[0;34m\u001B[0m\u001B[0m\n\u001B[1;32m  10719\u001B[0m         \u001B[0;32melse\u001B[0m\u001B[0;34m:\u001B[0m\u001B[0;34m\u001B[0m\u001B[0;34m\u001B[0m\u001B[0m\n",
      "\u001B[0;32m~/Documents/GitHub/AutoResearch/autora_parent/.venv/lib/python3.11/site-packages/psyneulink/core/compositions/composition.py\u001B[0m in \u001B[0;36m?\u001B[0;34m(self, inputs, context)\u001B[0m\n\u001B[1;32m  10135\u001B[0m         \u001B[0;31m# parse a user-provided input dict to format it properly for execution.\u001B[0m\u001B[0;34m\u001B[0m\u001B[0;34m\u001B[0m\u001B[0m\n\u001B[1;32m  10136\u001B[0m         \u001B[0;31m# compute number of input sets and return that as well\u001B[0m\u001B[0;34m\u001B[0m\u001B[0;34m\u001B[0m\u001B[0m\n\u001B[1;32m  10137\u001B[0m         \u001B[0m_inputs\u001B[0m \u001B[0;34m=\u001B[0m \u001B[0mself\u001B[0m\u001B[0;34m.\u001B[0m\u001B[0m_parse_names_in_inputs\u001B[0m\u001B[0;34m(\u001B[0m\u001B[0minputs\u001B[0m\u001B[0;34m)\u001B[0m\u001B[0;34m\u001B[0m\u001B[0;34m\u001B[0m\u001B[0m\n\u001B[1;32m  10138\u001B[0m         \u001B[0m_inputs\u001B[0m \u001B[0;34m=\u001B[0m \u001B[0mself\u001B[0m\u001B[0;34m.\u001B[0m\u001B[0m_parse_labels\u001B[0m\u001B[0;34m(\u001B[0m\u001B[0m_inputs\u001B[0m\u001B[0;34m)\u001B[0m\u001B[0;34m\u001B[0m\u001B[0;34m\u001B[0m\u001B[0m\n\u001B[0;32m> 10139\u001B[0;31m         \u001B[0mself\u001B[0m\u001B[0;34m.\u001B[0m\u001B[0m_validate_input_dict_keys\u001B[0m\u001B[0;34m(\u001B[0m\u001B[0m_inputs\u001B[0m\u001B[0;34m)\u001B[0m\u001B[0;34m\u001B[0m\u001B[0;34m\u001B[0m\u001B[0m\n\u001B[0m\u001B[1;32m  10140\u001B[0m         \u001B[0m_inputs\u001B[0m \u001B[0;34m=\u001B[0m \u001B[0mself\u001B[0m\u001B[0;34m.\u001B[0m\u001B[0m_instantiate_input_dict\u001B[0m\u001B[0;34m(\u001B[0m\u001B[0m_inputs\u001B[0m\u001B[0;34m)\u001B[0m\u001B[0;34m\u001B[0m\u001B[0;34m\u001B[0m\u001B[0m\n\u001B[1;32m  10141\u001B[0m         \u001B[0m_inputs\u001B[0m \u001B[0;34m=\u001B[0m \u001B[0mself\u001B[0m\u001B[0;34m.\u001B[0m\u001B[0m_flatten_nested_dicts\u001B[0m\u001B[0;34m(\u001B[0m\u001B[0m_inputs\u001B[0m\u001B[0;34m)\u001B[0m\u001B[0;34m\u001B[0m\u001B[0;34m\u001B[0m\u001B[0m\n\u001B[1;32m  10142\u001B[0m         \u001B[0m_inputs\u001B[0m \u001B[0;34m=\u001B[0m \u001B[0mself\u001B[0m\u001B[0;34m.\u001B[0m\u001B[0m_validate_input_shapes_and_expand_for_all_trials\u001B[0m\u001B[0;34m(\u001B[0m\u001B[0m_inputs\u001B[0m\u001B[0;34m)\u001B[0m\u001B[0;34m\u001B[0m\u001B[0;34m\u001B[0m\u001B[0m\n",
      "\u001B[0;32m~/Documents/GitHub/AutoResearch/autora_parent/.venv/lib/python3.11/site-packages/psyneulink/core/compositions/composition.py\u001B[0m in \u001B[0;36m?\u001B[0;34m(self, inputs)\u001B[0m\n\u001B[1;32m  10277\u001B[0m                                 \u001B[0;34m+\u001B[0m \u001B[0mself\u001B[0m\u001B[0;34m.\u001B[0m\u001B[0m_get_input_receivers\u001B[0m\u001B[0;34m(\u001B[0m\u001B[0mtype\u001B[0m\u001B[0;34m=\u001B[0m\u001B[0mNODE\u001B[0m\u001B[0;34m,\u001B[0m \u001B[0mcomp_as_node\u001B[0m\u001B[0;34m=\u001B[0m\u001B[0mALL\u001B[0m\u001B[0;34m)\u001B[0m\u001B[0;34m\u001B[0m\u001B[0;34m\u001B[0m\u001B[0m\n\u001B[1;32m  10278\u001B[0m         \u001B[0mbad_entries\u001B[0m \u001B[0;34m=\u001B[0m \u001B[0;34m[\u001B[0m\u001B[0mkey\u001B[0m \u001B[0;32mfor\u001B[0m \u001B[0mkey\u001B[0m \u001B[0;32min\u001B[0m \u001B[0minputs\u001B[0m \u001B[0;32mif\u001B[0m \u001B[0mkey\u001B[0m \u001B[0;32mnot\u001B[0m \u001B[0;32min\u001B[0m \u001B[0mall_allowable_entries\u001B[0m\u001B[0;34m]\u001B[0m\u001B[0;34m\u001B[0m\u001B[0;34m\u001B[0m\u001B[0m\n\u001B[1;32m  10279\u001B[0m         \u001B[0;32mif\u001B[0m \u001B[0mbad_entries\u001B[0m\u001B[0;34m:\u001B[0m\u001B[0;34m\u001B[0m\u001B[0;34m\u001B[0m\u001B[0m\n\u001B[1;32m  10280\u001B[0m             \u001B[0mbad_entry_names\u001B[0m \u001B[0;34m=\u001B[0m \u001B[0;34m[\u001B[0m\u001B[0mrepr\u001B[0m\u001B[0;34m(\u001B[0m\u001B[0mkey\u001B[0m\u001B[0;34m.\u001B[0m\u001B[0mfull_name\u001B[0m\u001B[0;34m)\u001B[0m \u001B[0;32mif\u001B[0m \u001B[0misinstance\u001B[0m\u001B[0;34m(\u001B[0m\u001B[0mkey\u001B[0m\u001B[0;34m,\u001B[0m \u001B[0mPort\u001B[0m\u001B[0;34m)\u001B[0m \u001B[0;32melse\u001B[0m \u001B[0mrepr\u001B[0m\u001B[0;34m(\u001B[0m\u001B[0mkey\u001B[0m\u001B[0;34m.\u001B[0m\u001B[0mname\u001B[0m\u001B[0;34m)\u001B[0m \u001B[0;32mfor\u001B[0m \u001B[0mkey\u001B[0m \u001B[0;32min\u001B[0m \u001B[0mbad_entries\u001B[0m\u001B[0;34m]\u001B[0m\u001B[0;34m\u001B[0m\u001B[0;34m\u001B[0m\u001B[0m\n\u001B[0;32m> 10281\u001B[0;31m             raise RunError(f\"The following items specified in the 'inputs' arg of the run() method for '{self.name}' \"\n\u001B[0m\u001B[1;32m  10282\u001B[0m                            \u001B[0;34mf\"are not INPUT Nodes of that Composition (nor InputPorts of them): \"\u001B[0m\u001B[0;34m\u001B[0m\u001B[0;34m\u001B[0m\u001B[0m\n\u001B[1;32m  10283\u001B[0m                            f\"{', '.join(bad_entry_names)}.\")\n\u001B[1;32m  10284\u001B[0m \u001B[0;34m\u001B[0m\u001B[0m\n",
      "\u001B[0;31mRunError\u001B[0m: \"The following items specified in the 'inputs' arg of the run() method for 'Stroop Model - Conflict Monitoring' are not INPUT Nodes of that Composition (nor InputPorts of them): 'COLOR INPUT-1', 'WORD INPUT-1', 'TASK INPUT-1'.\""
     ]
    }
   ],
   "execution_count": 7
  },
  {
   "metadata": {},
   "cell_type": "markdown",
   "source": "In our case, we define a trial as dictionary (For example, t = {'color': 'red', 'word': RED, 'task': 'word reading'}). Here, we define a function that transforms the trial in dictionary format to a trial that can be passed into the run function of a composition:",
   "id": "f000aa18f2e7e7eb"
  },
  {
   "metadata": {
    "ExecuteTime": {
     "end_time": "2024-09-29T16:14:07.249465Z",
     "start_time": "2024-09-29T16:14:07.246922Z"
    }
   },
   "cell_type": "code",
   "source": [
    "def transform_trial(trial):\n",
    "    color_mapping = {'red': [1, 0, 0], 'green': [0, 1, 0], 'neutral': [0, 0, 1]}\n",
    "    word_mapping = {'RED': [1, 0, 0], 'GREEN': [0, 1, 0], 'NEUTRAL': [0, 0, 1]}\n",
    "    task_mapping = {'color naming': [1, 0], 'word naming': [0, 1]}\n",
    "    return {\n",
    "        'init': {\n",
    "        colors_input_layer: [0, 0, 0],\n",
    "        words_input_layer: [0, 0, 0],\n",
    "        task_input_layer: task_mapping[trial['task']]\n",
    "    }, \n",
    "        'trial': {\n",
    "    \n",
    "        colors_input_layer: color_mapping[trial['color']],\n",
    "        words_input_layer: word_mapping[trial['word']],\n",
    "        task_input_layer: task_mapping[trial['task']]\n",
    "        }\n",
    "    }"
   ],
   "id": "1c08b84f4b2b35d5",
   "outputs": [],
   "execution_count": 197
  },
  {
   "metadata": {},
   "cell_type": "markdown",
   "source": "We can now define a run function for a single trial",
   "id": "55924baae357f4e9"
  },
  {
   "metadata": {
    "ExecuteTime": {
     "end_time": "2024-09-29T16:14:07.254193Z",
     "start_time": "2024-09-29T16:14:07.250333Z"
    }
   },
   "cell_type": "code",
   "source": [
    "def run(trial):\n",
    "    _transformed = transform_trial(trial)\n",
    "    colors_hidden_layer.reset([[0, 0, 0]], context=comp)\n",
    "    words_hidden_layer.reset([[0, 0, 0]], context=comp)\n",
    "    response_layer.reset([[0, 0]], context=comp)\n",
    "    task_layer.reset([[0, 0]], context=comp)\n",
    "    comp.reset()\n",
    "    comp.run(_transformed['init'], num_trials=500)\n",
    "    comp.run(_transformed['trial'], num_trials=1000)\n",
    "    return comp.results[-1]"
   ],
   "id": "9e4720d7aa6a626",
   "outputs": [],
   "execution_count": 198
  },
  {
   "metadata": {
    "ExecuteTime": {
     "end_time": "2024-09-29T16:14:27.184792Z",
     "start_time": "2024-09-29T16:14:07.254900Z"
    }
   },
   "cell_type": "code",
   "source": [
    "test_trial = {'color': 'green', 'word': 'GREEN', 'task': 'color naming'}\n",
    "run(test_trial)"
   ],
   "id": "d3c1c16c8cafcb89",
   "outputs": [
    {
     "data": {
      "text/plain": [
       "[array([0.15, 0.86, 0.11]),\n",
       " array([0.15, 0.93, 0.08]),\n",
       " array([0.97, 0.94]),\n",
       " array([0.21, 0.96]),\n",
       " array([0.82])]"
      ]
     },
     "execution_count": 199,
     "metadata": {},
     "output_type": "execute_result"
    }
   ],
   "execution_count": 199
  },
  {
   "metadata": {
    "ExecuteTime": {
     "end_time": "2024-09-29T16:14:27.201067Z",
     "start_time": "2024-09-29T16:14:27.185533Z"
    }
   },
   "cell_type": "code",
   "source": [
    "\n",
    "\n",
    "Stimulus = [[CN_trial_initialize_input, CN_congruent_trial_input],\n",
    "            [CN_trial_initialize_input, CN_incongruent_trial_input],\n",
    "            [CN_trial_initialize_input, CN_control_trial_input]]\n",
    "\n",
    "# should be 500 and 1000\n",
    "ntrials0 = 5\n",
    "ntrials = 10\n",
    "comp._analyze_graph()\n",
    "\n",
    "comp.show_graph()\n",
    "\n",
    "def run(bin_execute):\n",
    "    results = []\n",
    "    for stim in Stimulus:\n",
    "        # RUN the SYSTEM to initialize ---------------------------------------\n",
    "        comp.run(inputs=stim[0], num_trials=ntrials0, bin_execute=bin_execute)\n",
    "        comp.run(inputs=stim[1], num_trials=ntrials, bin_execute=bin_execute)\n",
    "        # reset after condition was run\n",
    "        colors_hidden_layer.reset([[0, 0, 0]], context=comp)\n",
    "        words_hidden_layer.reset([[0, 0, 0]], context=comp)\n",
    "        response_layer.reset([[0, 0]], context=comp)\n",
    "        task_layer.reset([[0, 0]], context=comp)\n",
    "        # Comp results include concatenation of both the above runs\n",
    "        results.append(comp.results.copy())\n",
    "        comp.reset()\n",
    "        comp.results = []\n",
    "\n",
    "    return results\n"
   ],
   "id": "1a172c4e5d45ed20",
   "outputs": [
    {
     "ename": "NameError",
     "evalue": "name 'CN_trial_initialize_input' is not defined",
     "output_type": "error",
     "traceback": [
      "\u001B[0;31m---------------------------------------------------------------------------\u001B[0m",
      "\u001B[0;31mNameError\u001B[0m                                 Traceback (most recent call last)",
      "Cell \u001B[0;32mIn[200], line 1\u001B[0m\n\u001B[0;32m----> 1\u001B[0m Stimulus \u001B[38;5;241m=\u001B[39m [[\u001B[43mCN_trial_initialize_input\u001B[49m, CN_congruent_trial_input],\n\u001B[1;32m      2\u001B[0m             [CN_trial_initialize_input, CN_incongruent_trial_input],\n\u001B[1;32m      3\u001B[0m             [CN_trial_initialize_input, CN_control_trial_input]]\n\u001B[1;32m      5\u001B[0m \u001B[38;5;66;03m# should be 500 and 1000\u001B[39;00m\n\u001B[1;32m      6\u001B[0m ntrials0 \u001B[38;5;241m=\u001B[39m \u001B[38;5;241m5\u001B[39m\n",
      "\u001B[0;31mNameError\u001B[0m: name 'CN_trial_initialize_input' is not defined"
     ]
    }
   ],
   "execution_count": 200
  },
  {
   "metadata": {},
   "cell_type": "markdown",
   "source": "",
   "id": "28c1af0ae0e87fbe"
  }
 ],
 "metadata": {
  "kernelspec": {
   "display_name": "Python 3",
   "language": "python",
   "name": "python3"
  },
  "language_info": {
   "codemirror_mode": {
    "name": "ipython",
    "version": 2
   },
   "file_extension": ".py",
   "mimetype": "text/x-python",
   "name": "python",
   "nbconvert_exporter": "python",
   "pygments_lexer": "ipython2",
   "version": "2.7.6"
  }
 },
 "nbformat": 4,
 "nbformat_minor": 5
}
