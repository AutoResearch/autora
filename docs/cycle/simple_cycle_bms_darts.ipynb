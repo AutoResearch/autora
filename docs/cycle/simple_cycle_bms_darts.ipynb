{
 "cells": [
  {
   "cell_type": "markdown",
   "source": [
    "# Simple Cycle Examples with BMS and DARTS\n",
    "The aim of this example notebook is to use the AutoRA `Cycle` to recover a simple ground truth theory from some noisy data using BSM and DARTS, as a proof of concept.\n",
    "It uses a trivial experimentalist which resamples the same x-values each cycle."
   ],
   "metadata": {
    "collapsed": false
   }
  },
  {
   "cell_type": "code",
   "execution_count": null,
   "outputs": [],
   "source": [
    "# Uncomment the following line when running on Google Colab\n",
    "# !pip install autora"
   ],
   "metadata": {
    "collapsed": false
   }
  },
  {
   "cell_type": "code",
   "execution_count": null,
   "outputs": [],
   "source": [
    "from autora.variable import VariableCollection, Variable\n",
    "from autora.cycle import Cycle, plot_results_panel_2d\n",
    "from itertools import repeat, chain"
   ],
   "metadata": {
    "collapsed": false
   }
  },
  {
   "cell_type": "code",
   "execution_count": null,
   "outputs": [],
   "source": [
    "def ground_truth(xs):\n",
    "    return (xs ** 2.) + xs + 1."
   ],
   "metadata": {
    "collapsed": false
   }
  },
  {
   "cell_type": "markdown",
   "source": [
    "The space of allowed x values is the integers between 0 and 10 inclusive, and we record the allowed output values as well."
   ],
   "metadata": {
    "collapsed": false
   }
  },
  {
   "cell_type": "code",
   "execution_count": null,
   "outputs": [],
   "source": [
    "study_metadata = VariableCollection(\n",
    "   independent_variables=[Variable(name=\"x1\", allowed_values=range(11))],\n",
    "   dependent_variables=[Variable(name=\"y\", value_range=(-20, 20))],\n",
    "   )"
   ],
   "metadata": {
    "collapsed": false
   }
  },
  {
   "cell_type": "markdown",
   "source": [
    "The experimentalist is used to propose experiments.\n",
    "Since the space of values is so restricted, we can just sample them all each time."
   ],
   "metadata": {
    "collapsed": false
   }
  },
  {
   "cell_type": "code",
   "execution_count": null,
   "outputs": [],
   "source": [
    "from autora.experimentalist.pipeline import make_pipeline\n",
    "example_experimentalist = make_pipeline(\n",
    "    [list(chain.from_iterable((repeat(study_metadata.independent_variables[0].allowed_values, 10))))])"
   ],
   "metadata": {
    "collapsed": false
   }
  },
  {
   "cell_type": "markdown",
   "source": [
    "When we run a synthetic experiment, we get a reproducible noisy result:"
   ],
   "metadata": {
    "collapsed": false
   }
  },
  {
   "cell_type": "code",
   "execution_count": null,
   "outputs": [],
   "source": [
    "import numpy as np\n",
    "\n",
    "def get_example_synthetic_experiment_runner():\n",
    "    rng = np.random.default_rng(seed=180)\n",
    "    def runner(xs):\n",
    "        return ground_truth(xs) + rng.normal(0, 1.0, xs.shape)\n",
    "    return runner\n",
    "\n",
    "example_synthetic_experiment_runner = get_example_synthetic_experiment_runner()\n",
    "x = np.array([1.])\n",
    "example_synthetic_experiment_runner(x)"
   ],
   "metadata": {
    "collapsed": false
   }
  },
  {
   "cell_type": "markdown",
   "source": [
    "## Bayesian Machine Scientist"
   ],
   "metadata": {
    "collapsed": false
   }
  },
  {
   "cell_type": "code",
   "execution_count": null,
   "outputs": [],
   "source": [
    "from autora.skl.bms import BMSRegressor\n",
    "bms_theorist = BMSRegressor(epochs=100)"
   ],
   "metadata": {
    "collapsed": false
   }
  },
  {
   "cell_type": "markdown",
   "source": [
    "We initialize the Cycle with the metadata describing the domain of the theory,\n",
    "the theorist, experimentalist and experiment runner,\n",
    "as well as a monitor which will let us know which cycle we're currently on."
   ],
   "metadata": {
    "collapsed": false
   }
  },
  {
   "cell_type": "code",
   "execution_count": null,
   "outputs": [],
   "source": [
    "cycle = Cycle(\n",
    "    metadata=study_metadata,\n",
    "    theorist=bms_theorist,\n",
    "    experimentalist=example_experimentalist,\n",
    "    experiment_runner=example_synthetic_experiment_runner\n",
    ")"
   ],
   "metadata": {
    "collapsed": false
   }
  },
  {
   "cell_type": "markdown",
   "source": [
    "We can run the cycle by calling the run method:"
   ],
   "metadata": {
    "collapsed": false
   }
  },
  {
   "cell_type": "code",
   "execution_count": null,
   "outputs": [],
   "source": [
    "cycle.run(num_cycles=3)"
   ],
   "metadata": {
    "collapsed": false
   }
  },
  {
   "cell_type": "markdown",
   "source": [
    "We can now interrogate the results. The first set of conditions which went into the\n",
    "experiment runner were:"
   ],
   "metadata": {
    "collapsed": false
   }
  },
  {
   "cell_type": "markdown",
   "source": [
    "The observations include the conditions and the results:"
   ],
   "metadata": {
    "collapsed": false
   }
  },
  {
   "cell_type": "code",
   "execution_count": null,
   "outputs": [],
   "source": [
    "cycle.data.observations[0]"
   ],
   "metadata": {
    "collapsed": false
   }
  },
  {
   "cell_type": "markdown",
   "source": [
    "The best fit theory after the first cycle is:"
   ],
   "metadata": {
    "collapsed": false
   }
  },
  {
   "cell_type": "code",
   "execution_count": null,
   "outputs": [],
   "source": [
    "len(cycle.data.observations)"
   ],
   "metadata": {
    "collapsed": false
   }
  },
  {
   "cell_type": "code",
   "execution_count": null,
   "outputs": [],
   "source": [
    "str(cycle.data.theories[0].model_), cycle.data.theories[0].model_.fit_par[str(cycle.data.theories[0].model_)]"
   ],
   "metadata": {
    "collapsed": false
   }
  },
  {
   "cell_type": "code",
   "execution_count": null,
   "outputs": [],
   "source": [
    "str(cycle.data.theories[-1].model_), cycle.data.theories[-1].model_.fit_par[str(cycle.data.theories[-1].model_)]"
   ],
   "metadata": {
    "collapsed": false
   }
  },
  {
   "cell_type": "code",
   "execution_count": null,
   "outputs": [],
   "source": [
    "# Plot all cycle results\n",
    "plot_results_panel_2d(cycle, subplot_kw=dict(figsize=(12,4)))"
   ],
   "metadata": {
    "collapsed": false
   }
  },
  {
   "cell_type": "markdown",
   "source": [
    "## DARTS\n"
   ],
   "metadata": {
    "collapsed": false
   },
   "execution_count": 217
  },
  {
   "cell_type": "code",
   "execution_count": null,
   "outputs": [],
   "source": [
    "from autora.skl.darts import DARTSRegressor\n",
    "darts_theorist = DARTSRegressor(max_epochs=100)"
   ],
   "metadata": {
    "collapsed": false
   }
  },
  {
   "cell_type": "code",
   "execution_count": null,
   "outputs": [],
   "source": [
    "darts_cycle = Cycle(\n",
    "    metadata=study_metadata,\n",
    "    theorist=darts_theorist,\n",
    "    experimentalist=example_experimentalist,\n",
    "    experiment_runner=example_synthetic_experiment_runner\n",
    ")"
   ],
   "metadata": {
    "collapsed": false
   }
  },
  {
   "cell_type": "code",
   "execution_count": null,
   "outputs": [],
   "source": [
    "darts_cycle.run(3)"
   ],
   "metadata": {
    "collapsed": false
   }
  },
  {
   "cell_type": "code",
   "execution_count": null,
   "outputs": [],
   "source": [
    "darts_cycle.data.theories[-2].visualize_model()\n"
   ],
   "metadata": {
    "collapsed": false
   }
  },
  {
   "cell_type": "code",
   "execution_count": null,
   "outputs": [],
   "source": [
    "darts_cycle.data.theories[-2].model_repr()\n"
   ],
   "metadata": {
    "collapsed": false
   }
  },
  {
   "cell_type": "code",
   "execution_count": null,
   "outputs": [],
   "source": [
    "# Rerun 3 more times\n",
    "darts_cycle.run(3)"
   ],
   "metadata": {
    "collapsed": false
   }
  },
  {
   "cell_type": "code",
   "execution_count": null,
   "outputs": [],
   "source": [
    "# Plot the all cycle results\n",
    "plot_results_panel_2d(darts_cycle, wrap=3)\n"
   ],
   "metadata": {
    "collapsed": false
   }
  }
 ],
 "metadata": {
  "kernelspec": {
   "display_name": "Python 3",
   "language": "python",
   "name": "python3"
  },
  "language_info": {
   "codemirror_mode": {
    "name": "ipython",
    "version": 2
   },
   "file_extension": ".py",
   "mimetype": "text/x-python",
   "name": "python",
   "nbconvert_exporter": "python",
   "pygments_lexer": "ipython2",
   "version": "2.7.6"
  }
 },
 "nbformat": 4,
 "nbformat_minor": 0
}
