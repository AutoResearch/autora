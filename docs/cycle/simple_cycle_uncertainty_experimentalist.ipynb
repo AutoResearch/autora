{
 "cells": [
  {
   "cell_type": "markdown",
   "source": [
    "# Simple Cycle Examples with Uncertainty vs. Random Experimentalist\n",
    "The aim of this example notebook is to use the AutoRA `Cycle` to recover a ground truth theory from some noisy data using BSM.\n",
    "It comparse the default \"random\" experimentalist with the \"uncertainty\" sampler."
   ],
   "metadata": {
    "collapsed": false
   }
  },
  {
   "cell_type": "code",
   "execution_count": null,
   "outputs": [],
   "source": [
    "# Uncomment the following line when running on Google Colab\n",
    "# !pip install autora"
   ],
   "metadata": {
    "collapsed": false
   }
  },
  {
   "cell_type": "code",
   "execution_count": null,
   "outputs": [],
   "source": [
    "import matplotlib.pyplot as plt\n",
    "import numpy as np\n",
    "from sklearn.dummy import DummyRegressor\n",
    "\n",
    "from autora.cycle import Cycle\n",
    "from autora.experimentalist.sampler import random_sampler, poppernet_pooler, nearest_values_sampler\n",
    "from autora.experimentalist.pipeline import make_pipeline\n",
    "from autora.variable import VariableCollection, Variable"
   ],
   "metadata": {
    "collapsed": false
   }
  },
  {
   "cell_type": "code",
   "execution_count": null,
   "outputs": [],
   "source": [
    "def ground_truth(xs):\n",
    "    oscillating_component = np.sin((4. * xs) - 3.)\n",
    "    parabolic_component =  (-0.1 * xs ** 2.) + (2.5 * xs) + 1.\n",
    "    ys = oscillating_component + parabolic_component\n",
    "    return ys"
   ],
   "metadata": {
    "collapsed": false
   }
  },
  {
   "cell_type": "markdown",
   "source": [
    "The space of allowed x values is reals between -10 and 10 inclusive. We discretize them as we don't currently have a sampler which can sample from the uniform distribution."
   ],
   "metadata": {
    "collapsed": false
   }
  },
  {
   "cell_type": "code",
   "execution_count": null,
   "outputs": [],
   "source": [
    "study_metadata = VariableCollection(\n",
    "   independent_variables=[Variable(name=\"x1\", allowed_values=np.linspace(-10, 10, 500))],\n",
    "   dependent_variables=[Variable(name=\"y\")],\n",
    "   )"
   ],
   "metadata": {
    "collapsed": false
   }
  },
  {
   "cell_type": "markdown",
   "source": [
    "So that we can compare the effectiveness of the two strategies, we fix the number of observations per cycle to be 100."
   ],
   "metadata": {
    "collapsed": false
   }
  },
  {
   "cell_type": "code",
   "execution_count": null,
   "outputs": [],
   "source": [
    "observations_per_cycle = 100"
   ],
   "metadata": {
    "collapsed": false
   }
  },
  {
   "cell_type": "markdown",
   "source": [
    "When we run a synthetic experiment, we get a reproducible noisy result:"
   ],
   "metadata": {
    "collapsed": false
   }
  },
  {
   "cell_type": "code",
   "execution_count": null,
   "outputs": [],
   "source": [
    "import numpy as np\n",
    "\n",
    "def get_example_synthetic_experiment_runner():\n",
    "    rng = np.random.default_rng(seed=180)\n",
    "    def runner(xs):\n",
    "        return ground_truth(xs) + rng.normal(0, 1.0, xs.shape)\n",
    "    return runner\n",
    "\n",
    "example_synthetic_experiment_runner = get_example_synthetic_experiment_runner()\n",
    "x = np.array([1.])\n",
    "example_synthetic_experiment_runner(x)"
   ],
   "metadata": {
    "collapsed": false
   }
  },
  {
   "cell_type": "code",
   "execution_count": null,
   "outputs": [],
   "source": [
    "plt.scatter(study_metadata.independent_variables[0].allowed_values[::5,], example_synthetic_experiment_runner(study_metadata.independent_variables[0].allowed_values[::5,]), alpha=1, s=0.1, c='r', label=\"samples\")\n",
    "plt.plot(study_metadata.independent_variables[0].allowed_values, ground_truth(study_metadata.independent_variables[0].allowed_values), c=\"black\", label=\"ground truth\")\n",
    "plt.legend()"
   ],
   "metadata": {
    "collapsed": false
   }
  },
  {
   "cell_type": "markdown",
   "source": [
    "We use a common BMS regressor with a common parametrization to test the two methods."
   ],
   "metadata": {
    "collapsed": false
   }
  },
  {
   "cell_type": "code",
   "execution_count": null,
   "outputs": [],
   "source": [
    "from autora.skl.bms import BMSRegressor\n",
    "bms_theorist = BMSRegressor(epochs=100)"
   ],
   "metadata": {
    "collapsed": false
   }
  },
  {
   "cell_type": "markdown",
   "source": [
    "We also define a helper function to plot the results"
   ],
   "metadata": {
    "collapsed": false
   }
  },
  {
   "cell_type": "code",
   "execution_count": null,
   "outputs": [],
   "source": [
    "def run_and_plot_cycle(cycle, study_metadata):\n",
    "    cycle.run(num_cycles=1)\n",
    "\n",
    "    all_obs = np.row_stack(cycle.data.observations)\n",
    "    x_obs, y_obs = all_obs[:,0], all_obs[:,1]\n",
    "    x_obs_new, y_obs_new = cycle.data.observations[-1][:,0], cycle.data.observations[-1][:,1]\n",
    "\n",
    "    x_pred = np.array(study_metadata.independent_variables[0].allowed_values).reshape(-1, 1)\n",
    "    y_pred = cycle.data.theories[-1].predict(x_pred)\n",
    "\n",
    "    plt.plot(study_metadata.independent_variables[0].allowed_values, ground_truth(study_metadata.independent_variables[0].allowed_values), c=\"black\", label=\"ground truth\")\n",
    "    plt.scatter(x_obs, y_obs, s=1, c='r', label=\"samples\")\n",
    "    plt.scatter(x_obs_new, y_obs_new, s=1, c='green', facecolors=\"none\", label=\"new samples\")\n",
    "    plt.plot(x_pred, y_pred, c=\"blue\", label=\"theorist result\")\n",
    "\n",
    "    plt.legend()\n",
    "\n",
    "    plt.show()"
   ],
   "metadata": {
    "collapsed": false
   }
  },
  {
   "cell_type": "markdown",
   "source": [
    "## Random Sampler"
   ],
   "metadata": {
    "collapsed": false
   }
  },
  {
   "cell_type": "code",
   "execution_count": null,
   "outputs": [],
   "source": [
    "random_experimentalist = make_pipeline(\n",
    "    [study_metadata.independent_variables[0].allowed_values, random_sampler],\n",
    "    params={\"random_sampler\": {\"n\": observations_per_cycle}}\n",
    ")\n",
    "random_experimentalist_cycle = Cycle(\n",
    "    metadata=study_metadata,\n",
    "    theorist=bms_theorist,\n",
    "    experimentalist=random_experimentalist,\n",
    "    experiment_runner=example_synthetic_experiment_runner\n",
    ")\n",
    "\n",
    "for _ in range(10):\n",
    "    run_and_plot_cycle(cycle=random_experimentalist_cycle, study_metadata=study_metadata)"
   ],
   "metadata": {
    "collapsed": false
   }
  },
  {
   "cell_type": "markdown",
   "source": [
    "## Popper Sampler"
   ],
   "metadata": {
    "collapsed": false
   }
  },
  {
   "cell_type": "code",
   "execution_count": null,
   "outputs": [],
   "source": [
    "poppernet_experimentalist = make_pipeline(\n",
    "    [poppernet_pooler, nearest_values_sampler],\n",
    ")\n",
    "\n",
    "poppernet_experimentalist_cycle = Cycle(\n",
    "    metadata=study_metadata,\n",
    "    theorist=bms_theorist,\n",
    "    experimentalist=poppernet_experimentalist,\n",
    "    experiment_runner=example_synthetic_experiment_runner,\n",
    "    params={\"experimentalist\" : {\n",
    "                \"poppernet_pooler\": {\n",
    "                    \"model\": \"%theories[-1]%\",\n",
    "                    \"x_train\": \"%observations.ivs%\",\n",
    "                    \"y_train\": \"%observations.dvs%\",\n",
    "                    \"metadata\": study_metadata,\n",
    "                    \"num_samples\": observations_per_cycle,\n",
    "                },\n",
    "                \"nearest_values_sampler\": {\n",
    "                    \"allowed_values\": study_metadata.independent_variables[0].allowed_values\n",
    "                }\n",
    "            }\n",
    "        }\n",
    "    )"
   ],
   "metadata": {
    "collapsed": false
   }
  },
  {
   "cell_type": "markdown",
   "source": [
    "The Popper sampler depends on having a first guess for the theory, so we add an appropriate model and an initial datapoint to the cycle's data:"
   ],
   "metadata": {
    "collapsed": false
   }
  },
  {
   "cell_type": "code",
   "execution_count": null,
   "outputs": [],
   "source": [
    "# Experimentalist\n",
    "x_seed = np.linspace(-10, 10, 20)\n",
    "\n",
    "# Experiment runner\n",
    "y_seed = example_synthetic_experiment_runner(x_seed)\n",
    "poppernet_experimentalist_cycle.data.observations.append(np.column_stack([x_seed, y_seed]))\n",
    "\n",
    "# Theorist\n",
    "theory_seed = DummyRegressor(strategy=\"constant\", constant=y_seed[1])\n",
    "theory_seed.fit(x_seed, y_seed)\n",
    "poppernet_experimentalist_cycle.data.theories.append(theory_seed)"
   ],
   "metadata": {
    "collapsed": false
   }
  },
  {
   "cell_type": "markdown",
   "source": [
    "Now we can run the cycle and check the results."
   ],
   "metadata": {
    "collapsed": false
   }
  },
  {
   "cell_type": "code",
   "execution_count": null,
   "outputs": [],
   "source": [
    "for _ in range(10):\n",
    "    run_and_plot_cycle(cycle=poppernet_experimentalist_cycle, study_metadata=study_metadata)\n"
   ],
   "metadata": {
    "collapsed": false
   }
  }
 ],
 "metadata": {
  "kernelspec": {
   "display_name": "Python 3",
   "language": "python",
   "name": "python3"
  },
  "language_info": {
   "codemirror_mode": {
    "name": "ipython",
    "version": 2
   },
   "file_extension": ".py",
   "mimetype": "text/x-python",
   "name": "python",
   "nbconvert_exporter": "python",
   "pygments_lexer": "ipython2",
   "version": "2.7.6"
  }
 },
 "nbformat": 4,
 "nbformat_minor": 0
}
