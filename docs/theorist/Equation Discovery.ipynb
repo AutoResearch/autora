{
 "cells": [
  {
   "cell_type": "markdown",
   "metadata": {
    "id": "z3kt4SZViR0-"
   },
   "source": [
    "# Automated Model Discovery With The Bayesian Machine Scientist"
   ]
  },
  {
   "cell_type": "markdown",
   "metadata": {},
   "source": [
    "In this tutorial, we will walk through how to use the Bayesian Machine Scientist to recover models. We will compare its performance to baseline models taken from Sci-kit Learn."
   ]
  },
  {
   "cell_type": "markdown",
   "metadata": {
    "id": "zkMHHc0nZIUr"
   },
   "source": [
    "## Continuous Model Recovery"
   ]
  },
  {
   "cell_type": "markdown",
   "metadata": {
    "id": "tVykES3JjFwn"
   },
   "source": [
    "1. Install relevant subpackages from AutoRA"
   ]
  },
  {
   "cell_type": "code",
   "execution_count": null,
   "metadata": {
    "colab": {
     "base_uri": "https://localhost:8080/"
    },
    "executionInfo": {
     "elapsed": 12683,
     "status": "ok",
     "timestamp": 1689342137925,
     "user": {
      "displayName": "Younes Strittmatter",
      "userId": "08319677847702232221"
     },
     "user_tz": 240
    },
    "id": "lmnRvMmEDX7L",
    "outputId": "0f75fcde-d748-46f8-d2fa-667eff7dacbc"
   },
   "outputs": [],
   "source": [
    "!pip install -q \"autora[theorist-bms]\""
   ]
  },
  {
   "cell_type": "markdown",
   "metadata": {
    "id": "UWmvSBFzjMOD"
   },
   "source": [
    "2. Import relevant modules from AutoRA"
   ]
  },
  {
   "cell_type": "code",
   "execution_count": null,
   "metadata": {
    "id": "cfeX4MCyiILs"
   },
   "outputs": [],
   "source": [
    "from autora.theorist.bms import BMSRegressor\n",
    "from autora.experiment_runner.synthetic.psychophysics.weber_fechner_law import weber_fechner_law\n",
    "import numpy as np\n",
    "from sklearn.base import BaseEstimator\n",
    "import matplotlib.pyplot as plt\n",
    "from sklearn.model_selection import train_test_split\n",
    "from sklearn.metrics import confusion_matrix, ConfusionMatrixDisplay"
   ]
  },
  {
   "cell_type": "markdown",
   "metadata": {
    "id": "syYasjIVjUKm"
   },
   "source": [
    "3. Import your data\n",
    "*(Here we create noisy synthetic data as a demonstration)*"
   ]
  },
  {
   "cell_type": "code",
   "execution_count": null,
   "metadata": {
    "id": "fTeNtHW_ifud"
   },
   "outputs": [],
   "source": [
    "# experimental parameter to recover\n",
    "constant = 3.0\n",
    "\n",
    "# synthetic experiment from autora inventory\n",
    "synthetic_data = weber_fechner_law(constant=constant, added_noise=0.01)\n",
    "\n",
    "# experimental data\n",
    "conditions = synthetic_data.domain()\n",
    "observations = synthetic_data.experiment_runner(conditions)\n",
    "\n",
    "# split into train and test datasets\n",
    "conditions_train, conditions_test, observations_train, observations_test = train_test_split(conditions, observations)"
   ]
  },
  {
   "cell_type": "markdown",
   "metadata": {
    "id": "uZSW0BHake-1"
   },
   "source": [
    "### Comparing Models"
   ]
  },
  {
   "cell_type": "markdown",
   "metadata": {
    "id": "EgwH3aCPkTXc"
   },
   "source": [
    "We will repeat these steps for each model\n",
    "4. Initialize Model\n",
    "5. Fit Model to the Data\n",
    "6. Plot the Results"
   ]
  },
  {
   "cell_type": "markdown",
   "metadata": {
    "id": "HqiRiein7CzV"
   },
   "source": [
    "#### Some Functions you can use to plot"
   ]
  },
  {
   "cell_type": "code",
   "execution_count": null,
   "metadata": {
    "id": "MPTuz3cKzhUb"
   },
   "outputs": [],
   "source": [
    "def present_results(model, x_test, y_test, arg='default', model_name=None, variable_names=None, select_indices=None, figsize=None, *args):\n",
    "  compare_results(models=[model], x_test=x_test, y_test=y_test, arg=arg, model_names=[model_name], variable_names=variable_names, select_indices=select_indices, figsize=figsize, *args)"
   ]
  },
  {
   "cell_type": "code",
   "execution_count": null,
   "metadata": {
    "id": "Hg5smaIirIWC"
   },
   "outputs": [],
   "source": [
    "def compare_results(models, x_test, y_test, arg='default', model_names=None, variable_names=None, observation_name=None, select_indices=None, figsize=None, *args):\n",
    "  if model_names is None or model_names == [None]:\n",
    "    names = ['Model '+str(i+1) for i in range(len(models))]\n",
    "  else:\n",
    "    names = model_names\n",
    "  if len(x_test.shape) == 1:\n",
    "    x_test = x_test.reshape(1, -1)\n",
    "  num_var = x_test.shape[1]\n",
    "  if variable_names is None:\n",
    "    var_names = ['Variable '+str(i+1) for i in range(num_var)]\n",
    "  else:\n",
    "    var_names = variable_names\n",
    "  if observation_name is None:\n",
    "    obs_label = 'Observations'\n",
    "  else:\n",
    "    obs_label = observation_name\n",
    "  match arg:\n",
    "    case 'default':\n",
    "      for i, model in enumerate(models):\n",
    "        print(model)\n",
    "        synthetic_data.plotter(model)\n",
    "    case '2d':\n",
    "      if figsize is None:\n",
    "        size = (8,3)\n",
    "      else:\n",
    "        assert len(figsize) == 2 and isinstance(figsize, tuple), 'incorrect format for figure shape\\nshould be tuple of form (i,j)'\n",
    "        size = figsize\n",
    "      for i, model in enumerate(models):\n",
    "        fig = plt.figure(figsize=size)\n",
    "        axes = []\n",
    "        y_predict = model.predict(x_test)\n",
    "        for j in range(num_var):\n",
    "          axes.append(fig.add_subplot(1, num_var, j+1))\n",
    "          axes[j].set_xlabel(var_names[j])\n",
    "          axes[j].set_ylabel(obs_label)\n",
    "          axes[j].set_title(names[i]+' fit on '+var_names[j])\n",
    "          axes[j].scatter(x_test[:,j], y_test, label='Ground Truth', alpha=0.5)\n",
    "          axes[j].scatter(x_test[:,j], y_predict, label='Predicted', alpha=0.5)\n",
    "          axes[j].legend()\n",
    "          for arg in args:\n",
    "            assert isinstance(arg, str), 'arguments must be in the form of a string'\n",
    "            try:\n",
    "              exec('axes[j].'+arg)\n",
    "            except:\n",
    "              raise RuntimeError(f'argument \"{arg}\" could not be executed')\n",
    "\n",
    "      fig.tight_layout()\n",
    "      plt.show()\n",
    "    case '3d':\n",
    "      if figsize is None:\n",
    "        size = (15,5)\n",
    "      else:\n",
    "        assert len(figsize) == 2 and isinstance(figsize, tuple), 'incorrect format for figure shape\\nshould be tuple of form (i,j)'\n",
    "        size = figsize\n",
    "      axes = []\n",
    "      fig = plt.figure(figsize=size)\n",
    "      if select_indices is None:\n",
    "        idx = (0,1)\n",
    "      else:\n",
    "        len(select_indices) == 2 and isinstance(select_indices, tuple), 'incorrect format for select_indices\\nshould be tuple of form (i,j)'\n",
    "        idx = select_indices\n",
    "      for i, model in enumerate(models):\n",
    "        y_predict = model.predict(x_test)\n",
    "        ax = fig.add_subplot(1, 3, i+1, projection='3d')\n",
    "        ax.w_xaxis.set_pane_color((1.0, 1.0, 1.0, 0.0))\n",
    "        ax.w_yaxis.set_pane_color((1.0, 1.0, 1.0, 0.0))\n",
    "        ax.w_zaxis.set_pane_color((1.0, 1.0, 1.0, 0.0))\n",
    "        axes.append(ax)\n",
    "        axes[i].set_xlabel(var_names[idx[0]])\n",
    "        axes[i].set_ylabel(var_names[idx[1]])\n",
    "        axes[i].set_zlabel(obs_label)\n",
    "        axes[i].scatter(x_test[:, idx[0]], x_test[:, idx[1]], y_test, s=1, label='Ground Truth')\n",
    "        axes[i].scatter(x_test[:, idx[0]], x_test[:, idx[1]], y_predict, s=1, label='Predicted')\n",
    "        axes[i].set_title(names[i])\n",
    "        axes[i].legend()\n",
    "        axes[i].set_facecolor('white')\n",
    "        for arg in args:\n",
    "            assert isinstance(arg, str), 'arguments must be in the form of a string'\n",
    "            try:\n",
    "              exec('axes[j].'+arg)\n",
    "            except:\n",
    "              raise RuntimeError(f'argument \"{arg}\" could not be executed')\n",
    "      fig.tight_layout()\n",
    "      plt.show()\n",
    "    case 'choice':\n",
    "      for model in models:\n",
    "        y_pred = np.where(model.predict(x_test) > 0.5, 1, 0)\n",
    "        cm = confusion_matrix(y_true=y_test, y_pred=y_pred)\n",
    "        cmd = ConfusionMatrixDisplay(cm)\n",
    "        cmd.plot()\n",
    "        plt.show()"
   ]
  },
  {
   "cell_type": "markdown",
   "metadata": {
    "id": "aUl8G_t6kppi"
   },
   "source": [
    "### 1. Polynomial Regressor"
   ]
  },
  {
   "cell_type": "markdown",
   "metadata": {
    "id": "vRACTsr7HfE_"
   },
   "source": [
    "*make model* if needed"
   ]
  },
  {
   "cell_type": "code",
   "execution_count": null,
   "metadata": {
    "id": "Div0nSshHniV"
   },
   "outputs": [],
   "source": [
    "from sklearn.preprocessing import PolynomialFeatures\n",
    "from sklearn.linear_model import LinearRegression\n",
    "\n",
    "\n",
    "class PolynomialRegressor:\n",
    "    \"\"\"\n",
    "    This theorist fits a polynomial function to the data.\n",
    "    \"\"\"\n",
    "\n",
    "    def __init__(self, degree: int = 3):\n",
    "      self.poly = PolynomialFeatures(degree=degree, include_bias=False)\n",
    "      self.model = LinearRegression()\n",
    "\n",
    "    def fit(self, x, y):\n",
    "      features = self.poly.fit_transform(x, y)\n",
    "      self.model.fit(features, y)\n",
    "      return self\n",
    "\n",
    "    def predict(self, x):\n",
    "      features = self.poly.fit_transform(x)\n",
    "      return self.model.predict(features)"
   ]
  },
  {
   "cell_type": "markdown",
   "metadata": {
    "id": "1p43N-ILJ_wK"
   },
   "source": [
    "4. Initialize the model"
   ]
  },
  {
   "cell_type": "code",
   "execution_count": null,
   "metadata": {
    "id": "TifEZQaSJBAL"
   },
   "outputs": [],
   "source": [
    "np.random.seed(0)\n",
    "poly_model = PolynomialRegressor(degree=3)"
   ]
  },
  {
   "cell_type": "markdown",
   "metadata": {
    "id": "dMJnI6l1KDBh"
   },
   "source": [
    "5. Fit Model to the Data"
   ]
  },
  {
   "cell_type": "code",
   "execution_count": null,
   "metadata": {
    "colab": {
     "base_uri": "https://localhost:8080/"
    },
    "executionInfo": {
     "elapsed": 169,
     "status": "ok",
     "timestamp": 1689342150853,
     "user": {
      "displayName": "Younes Strittmatter",
      "userId": "08319677847702232221"
     },
     "user_tz": 240
    },
    "id": "TNwyDhT-JG70",
    "outputId": "d493d57d-d9f4-49e7-d1c7-15e31572c90d"
   },
   "outputs": [],
   "source": [
    "poly_model.fit(conditions_train, observations_train)"
   ]
  },
  {
   "cell_type": "markdown",
   "metadata": {
    "id": "n-qTCYKowmkb"
   },
   "source": [
    "6. Plot the Results"
   ]
  },
  {
   "cell_type": "code",
   "execution_count": null,
   "metadata": {
    "colab": {
     "base_uri": "https://localhost:8080/",
     "height": 499
    },
    "executionInfo": {
     "elapsed": 25,
     "status": "ok",
     "timestamp": 1689338509380,
     "user": {
      "displayName": "Joshua Hewson",
      "userId": "01297269029115918185"
     },
     "user_tz": 240
    },
    "id": "QP8G91gBxY0S",
    "outputId": "d8695e6f-2aee-4871-d8f1-310b1a9402c6"
   },
   "outputs": [],
   "source": [
    "present_results(model=poly_model, x_test=conditions_test, y_test=observations_test)"
   ]
  },
  {
   "cell_type": "code",
   "execution_count": null,
   "metadata": {
    "colab": {
     "base_uri": "https://localhost:8080/",
     "height": 307
    },
    "executionInfo": {
     "elapsed": 4234,
     "status": "ok",
     "timestamp": 1689338513593,
     "user": {
      "displayName": "Joshua Hewson",
      "userId": "01297269029115918185"
     },
     "user_tz": 240
    },
    "id": "C0AryDjE1GNL",
    "outputId": "bc0b0c92-81e8-4a05-a565-006eac604e1e"
   },
   "outputs": [],
   "source": [
    "present_results(model=poly_model, x_test=conditions_test, y_test=observations_test, arg='2d')"
   ]
  },
  {
   "cell_type": "code",
   "execution_count": null,
   "metadata": {
    "colab": {
     "base_uri": "https://localhost:8080/",
     "height": 531
    },
    "executionInfo": {
     "elapsed": 18,
     "status": "ok",
     "timestamp": 1689338513593,
     "user": {
      "displayName": "Joshua Hewson",
      "userId": "01297269029115918185"
     },
     "user_tz": 240
    },
    "id": "wEkH9XOa2beB",
    "outputId": "03822aa0-a504-4911-f80b-2ba49105ae61"
   },
   "outputs": [],
   "source": [
    "present_results(model=poly_model, x_test=conditions_test, y_test=observations_test, arg='3d')"
   ]
  },
  {
   "cell_type": "code",
   "execution_count": null,
   "metadata": {
    "colab": {
     "base_uri": "https://localhost:8080/",
     "height": 169
    },
    "executionInfo": {
     "elapsed": 296,
     "status": "error",
     "timestamp": 1689342195694,
     "user": {
      "displayName": "Younes Strittmatter",
      "userId": "08319677847702232221"
     },
     "user_tz": 240
    },
    "id": "GPzKyCVLckRJ",
    "outputId": "ac315a61-0dad-4a48-c300-a3f0249b6f76"
   },
   "outputs": [],
   "source": [
    "print(poly_model.model_)"
   ]
  },
  {
   "cell_type": "markdown",
   "metadata": {
    "id": "xk0fPNsxy4Pw"
   },
   "source": [
    "#### Summary - Polynomial Linear Regressor\n",
    "\n",
    "Expressivity: Low\n",
    "\n",
    "Interpretability: High"
   ]
  },
  {
   "cell_type": "markdown",
   "metadata": {
    "id": "R_B8UrD4qf4g"
   },
   "source": [
    "### 2. Neural Network\n"
   ]
  },
  {
   "cell_type": "markdown",
   "metadata": {
    "id": "wAgPKdgZw8qg"
   },
   "source": [
    "4. Initialize Model"
   ]
  },
  {
   "cell_type": "code",
   "execution_count": null,
   "metadata": {
    "id": "VllSR6Y9ww6e"
   },
   "outputs": [],
   "source": [
    "from sklearn.neural_network import MLPRegressor\n",
    "import torch\n",
    "nn_model = MLPRegressor(random_state=1, max_iter=500)"
   ]
  },
  {
   "cell_type": "markdown",
   "metadata": {
    "id": "9f5UjlbdxEO1"
   },
   "source": [
    "5. Fit Model to the Data"
   ]
  },
  {
   "cell_type": "code",
   "execution_count": null,
   "metadata": {
    "colab": {
     "base_uri": "https://localhost:8080/",
     "height": 75
    },
    "executionInfo": {
     "elapsed": 4704,
     "status": "ok",
     "timestamp": 1689338521799,
     "user": {
      "displayName": "Joshua Hewson",
      "userId": "01297269029115918185"
     },
     "user_tz": 240
    },
    "id": "Rxs5JWZbxHOI",
    "outputId": "babd6f2f-40c4-4f25-fc3a-44db28af6f14"
   },
   "outputs": [],
   "source": [
    "np.random.seed(0)\n",
    "torch.manual_seed(0)\n",
    "nn_model.fit(conditions_train, observations_train)"
   ]
  },
  {
   "cell_type": "markdown",
   "metadata": {
    "id": "Fq2-Djn6xLPN"
   },
   "source": [
    "6. Plot the Results"
   ]
  },
  {
   "cell_type": "code",
   "execution_count": null,
   "metadata": {
    "colab": {
     "base_uri": "https://localhost:8080/",
     "height": 481
    },
    "executionInfo": {
     "elapsed": 1165,
     "status": "ok",
     "timestamp": 1689338522944,
     "user": {
      "displayName": "Joshua Hewson",
      "userId": "01297269029115918185"
     },
     "user_tz": 240
    },
    "id": "tLpyLMPDKQ65",
    "outputId": "3fabca2a-3255-4a8a-f69a-dbd756b8111c"
   },
   "outputs": [],
   "source": [
    "synthetic_data.plotter(nn_model)"
   ]
  },
  {
   "cell_type": "markdown",
   "metadata": {
    "id": "ASbVYxImzOYX"
   },
   "source": [
    "#### Summary - Neural Network Regressor\n",
    "\n",
    "Expressivity: High\n",
    "\n",
    "Interpretability: Low"
   ]
  },
  {
   "cell_type": "markdown",
   "metadata": {
    "id": "zfGhN-k_qnwV"
   },
   "source": [
    "### 3. Bayesian Machine Scientist"
   ]
  },
  {
   "cell_type": "markdown",
   "metadata": {
    "id": "3Cny2TDjzamB"
   },
   "source": [
    "4. Initialize Model"
   ]
  },
  {
   "cell_type": "code",
   "execution_count": null,
   "metadata": {
    "id": "2eiydgp4u7bw"
   },
   "outputs": [],
   "source": [
    "bms_model = BMSRegressor(epochs=1500)"
   ]
  },
  {
   "cell_type": "markdown",
   "metadata": {
    "id": "ihhlDUg3zdg6"
   },
   "source": [
    "5. Fit Model to Data"
   ]
  },
  {
   "cell_type": "code",
   "execution_count": null,
   "metadata": {
    "colab": {
     "base_uri": "https://localhost:8080/",
     "height": 93
    },
    "executionInfo": {
     "elapsed": 535324,
     "status": "ok",
     "timestamp": 1689339059974,
     "user": {
      "displayName": "Joshua Hewson",
      "userId": "01297269029115918185"
     },
     "user_tz": 240
    },
    "id": "Zj1reXoEzpdE",
    "outputId": "8a14a950-a197-4d92-878d-63083e1ea95a"
   },
   "outputs": [],
   "source": [
    "bms_model.fit(conditions_train, observations_train, seed=0)"
   ]
  },
  {
   "cell_type": "markdown",
   "metadata": {
    "id": "B7hxnUbPzs2v"
   },
   "source": [
    "6. Plot the Results"
   ]
  },
  {
   "cell_type": "code",
   "execution_count": null,
   "metadata": {
    "colab": {
     "base_uri": "https://localhost:8080/",
     "height": 481
    },
    "executionInfo": {
     "elapsed": 417,
     "status": "ok",
     "timestamp": 1689339060381,
     "user": {
      "displayName": "Joshua Hewson",
      "userId": "01297269029115918185"
     },
     "user_tz": 240
    },
    "id": "szpxVZzwKTc9",
    "outputId": "4a775cf4-ce5f-403e-e387-cc3bb2f03bac"
   },
   "outputs": [],
   "source": [
    "synthetic_data.plotter(bms_model)"
   ]
  },
  {
   "cell_type": "code",
   "execution_count": null,
   "metadata": {
    "colab": {
     "base_uri": "https://localhost:8080/"
    },
    "executionInfo": {
     "elapsed": 3,
     "status": "ok",
     "timestamp": 1689339060381,
     "user": {
      "displayName": "Joshua Hewson",
      "userId": "01297269029115918185"
     },
     "user_tz": 240
    },
    "id": "dFxXPrIvzwrZ",
    "outputId": "e014061a-ec97-4a5b-d160-224c12e0e5b8"
   },
   "outputs": [],
   "source": [
    "print(bms_model)"
   ]
  },
  {
   "cell_type": "markdown",
   "metadata": {
    "id": "sEHdqZ1Rz_mo"
   },
   "source": [
    "#### Summary - BMS Regressor\n",
    "\n",
    "Expressiveness: High\n",
    "\n",
    "Interpretability: High\n"
   ]
  },
  {
   "cell_type": "markdown",
   "metadata": {
    "id": "QZ0P5JuU5WO8"
   },
   "source": [
    "### Summary - Model Comparison"
   ]
  },
  {
   "cell_type": "code",
   "execution_count": null,
   "metadata": {
    "colab": {
     "base_uri": "https://localhost:8080/"
    },
    "executionInfo": {
     "elapsed": 3039,
     "status": "ok",
     "timestamp": 1689339063418,
     "user": {
      "displayName": "Joshua Hewson",
      "userId": "01297269029115918185"
     },
     "user_tz": 240
    },
    "id": "V9RMM6pj1UDy",
    "outputId": "ab4f5a86-f535-470f-d39c-d60e7a778c84"
   },
   "outputs": [],
   "source": [
    "models = [poly_model, nn_model, bms_model]\n",
    "names =['poly_model', 'nn_model', 'bms_model']\n",
    "compare_results(models=models, x_test=conditions_test, y_test=observations_test, model_names=names, arg='2d')"
   ]
  },
  {
   "cell_type": "code",
   "execution_count": null,
   "metadata": {
    "colab": {
     "base_uri": "https://localhost:8080/"
    },
    "executionInfo": {
     "elapsed": 2246,
     "status": "ok",
     "timestamp": 1689339065662,
     "user": {
      "displayName": "Joshua Hewson",
      "userId": "01297269029115918185"
     },
     "user_tz": 240
    },
    "id": "iaA4JdwgMrId",
    "outputId": "98fb4e1a-6968-468b-b81d-caff86ffc200"
   },
   "outputs": [],
   "source": [
    "compare_results(models=models, x_test=conditions_test, y_test=observations_test, model_names=names, arg='3d')"
   ]
  },
  {
   "cell_type": "markdown",
   "metadata": {
    "id": "qqbrx8JaOsVr"
   },
   "source": [
    "## Choice Model Recovery"
   ]
  },
  {
   "cell_type": "markdown",
   "metadata": {
    "id": "eNsM_Qwa3zxJ"
   },
   "source": [
    "2. Import relevant modules from AutoRA"
   ]
  },
  {
   "cell_type": "code",
   "execution_count": null,
   "metadata": {
    "id": "UNt4E80rPRD9"
   },
   "outputs": [],
   "source": [
    "from autora.experiment_runner.synthetic.psychology.luce_choice_ratio import luce_choice_ratio"
   ]
  },
  {
   "cell_type": "markdown",
   "metadata": {
    "id": "6S8FXOVk37LZ"
   },
   "source": [
    "3. Import your data\n",
    "*(Here we create noisy synthetic data as a demonstration)*"
   ]
  },
  {
   "cell_type": "code",
   "execution_count": null,
   "metadata": {
    "id": "hgwUk3lC3ozJ"
   },
   "outputs": [],
   "source": [
    "# experimental parameter to recover\n",
    "focus = 0.8\n",
    "\n",
    "# synthetic experiment from autora inventory\n",
    "synthetic_data = luce_choice_ratio(focus=focus, added_noise=0.01)\n",
    "\n",
    "# experimental data\n",
    "conditions = synthetic_data.domain()\n",
    "observations = synthetic_data.experiment_runner(conditions)\n",
    "\n",
    "# set probabilities to choice values\n",
    "observations = np.where(observations < 0.5, 0, 1)\n",
    "\n",
    "# split into train and test datasets\n",
    "conditions_train, conditions_test, observations_train, observations_test = train_test_split(conditions, observations)"
   ]
  },
  {
   "cell_type": "markdown",
   "metadata": {
    "id": "R1HoJEl14PlA"
   },
   "source": [
    "4. Initialize Model\n",
    "5. Fit Model to the Data\n",
    "6. Plot the Results"
   ]
  },
  {
   "cell_type": "markdown",
   "metadata": {
    "id": "CddMZowu4O5o"
   },
   "source": [
    "### Comparing Models"
   ]
  },
  {
   "cell_type": "code",
   "execution_count": null,
   "metadata": {
    "id": "p1IeRsPgG3jt"
   },
   "outputs": [],
   "source": [
    "from sklearn.metrics import confusion_matrix, ConfusionMatrixDisplay"
   ]
  },
  {
   "cell_type": "markdown",
   "metadata": {
    "id": "Ub9u4Mm_4Yru"
   },
   "source": [
    "### Logistic Regressor"
   ]
  },
  {
   "cell_type": "markdown",
   "metadata": {
    "id": "_xtL-fEd4cH1"
   },
   "source": [
    "4. Initialize Model"
   ]
  },
  {
   "cell_type": "code",
   "execution_count": null,
   "metadata": {
    "id": "K-0deSuO4fSR"
   },
   "outputs": [],
   "source": [
    "from sklearn.linear_model import LogisticRegression\n",
    "\n",
    "log_model = LogisticRegression()"
   ]
  },
  {
   "cell_type": "markdown",
   "metadata": {
    "id": "SvLl1qZP4bZO"
   },
   "source": [
    "5. Fit Model to the Data"
   ]
  },
  {
   "cell_type": "code",
   "execution_count": null,
   "metadata": {
    "colab": {
     "base_uri": "https://localhost:8080/"
    },
    "executionInfo": {
     "elapsed": 4,
     "status": "ok",
     "timestamp": 1689339065663,
     "user": {
      "displayName": "Joshua Hewson",
      "userId": "01297269029115918185"
     },
     "user_tz": 240
    },
    "id": "B7Lzj6Gf6W4j",
    "outputId": "507d0560-8ad4-40ae-fa17-be46902832e2"
   },
   "outputs": [],
   "source": [
    "log_model.fit(conditions_train, observations_train)\n",
    "# log_model.predict(conditions_test)"
   ]
  },
  {
   "cell_type": "markdown",
   "metadata": {
    "id": "DzPeOtP-4knw"
   },
   "source": [
    "6. Plot the Results"
   ]
  },
  {
   "cell_type": "code",
   "execution_count": null,
   "metadata": {
    "colab": {
     "base_uri": "https://localhost:8080/"
    },
    "executionInfo": {
     "elapsed": 232,
     "status": "ok",
     "timestamp": 1689339065891,
     "user": {
      "displayName": "Joshua Hewson",
      "userId": "01297269029115918185"
     },
     "user_tz": 240
    },
    "id": "__e7DlGHGK9g",
    "outputId": "abec4190-c61d-4222-fe8f-75c4b9998b2e"
   },
   "outputs": [],
   "source": [
    "present_results(model=log_model, x_test=conditions_test, y_test=observations_test, arg='choice')"
   ]
  },
  {
   "cell_type": "markdown",
   "metadata": {
    "id": "ieMlywqb703W"
   },
   "source": [
    "#### Summary - Logisitic Regressor\n",
    "\n",
    "Expressiveness: Low\n",
    "\n",
    "Interpretability: Medium"
   ]
  },
  {
   "cell_type": "markdown",
   "metadata": {
    "id": "4-vu-opA4nHb"
   },
   "source": [
    "### Neural Network Classifier"
   ]
  },
  {
   "cell_type": "markdown",
   "metadata": {
    "id": "3aaBRMCI4sdI"
   },
   "source": [
    "4. Initialize Model"
   ]
  },
  {
   "cell_type": "code",
   "execution_count": null,
   "metadata": {
    "id": "WPp-0_Z2696H"
   },
   "outputs": [],
   "source": [
    "from sklearn.neural_network import MLPClassifier\n",
    "\n",
    "nn_class_model = MLPClassifier(max_iter=3000, activation='logistic')"
   ]
  },
  {
   "cell_type": "markdown",
   "metadata": {
    "id": "fJt0cxpA4v3A"
   },
   "source": [
    "5. Fit Model to the Data"
   ]
  },
  {
   "cell_type": "code",
   "execution_count": null,
   "metadata": {
    "colab": {
     "base_uri": "https://localhost:8080/"
    },
    "executionInfo": {
     "elapsed": 6653,
     "status": "ok",
     "timestamp": 1689339072542,
     "user": {
      "displayName": "Joshua Hewson",
      "userId": "01297269029115918185"
     },
     "user_tz": 240
    },
    "id": "iIcrtox47GB0",
    "outputId": "538c575a-4f9a-4882-c3b9-718dc68227ee"
   },
   "outputs": [],
   "source": [
    "nn_class_model.fit(conditions_train, observations_train)"
   ]
  },
  {
   "cell_type": "markdown",
   "metadata": {
    "id": "IGExa1wO4yDu"
   },
   "source": [
    "6. Plot the Results"
   ]
  },
  {
   "cell_type": "code",
   "execution_count": null,
   "metadata": {
    "colab": {
     "base_uri": "https://localhost:8080/"
    },
    "executionInfo": {
     "elapsed": 274,
     "status": "ok",
     "timestamp": 1689339072815,
     "user": {
      "displayName": "Joshua Hewson",
      "userId": "01297269029115918185"
     },
     "user_tz": 240
    },
    "id": "b-f2z6-OGX91",
    "outputId": "c5fc3ac0-fc94-452f-8cfc-a79cf3d97eff"
   },
   "outputs": [],
   "source": [
    "present_results(model=nn_class_model, x_test=conditions_test, y_test=observations_test, arg='choice')"
   ]
  },
  {
   "cell_type": "markdown",
   "metadata": {
    "id": "iyQF0NKq8AYc"
   },
   "source": [
    "#### Summary - Neural Network Regressor\n",
    "\n",
    "Expressiveness: High\n",
    "\n",
    "Interpretability: Low"
   ]
  },
  {
   "cell_type": "markdown",
   "metadata": {
    "id": "Oq0v3Z0p4194"
   },
   "source": [
    "### Bayesian Machine Scientist"
   ]
  },
  {
   "cell_type": "markdown",
   "metadata": {
    "id": "khwXFMlc45DM"
   },
   "source": [
    "4. Initialize Model"
   ]
  },
  {
   "cell_type": "code",
   "execution_count": null,
   "metadata": {
    "id": "oqxPTlgv7UIh"
   },
   "outputs": [],
   "source": [
    "bms_model = BMSRegressor(epochs=1500)"
   ]
  },
  {
   "cell_type": "markdown",
   "metadata": {
    "id": "uDuC47PI47Kp"
   },
   "source": [
    "5. Fit Model to the Data"
   ]
  },
  {
   "cell_type": "code",
   "execution_count": null,
   "metadata": {
    "colab": {
     "background_save": true,
     "base_uri": "https://localhost:8080/"
    },
    "id": "qLyHpfpv7YYp",
    "outputId": "b20afaec-970a-4302-a737-69ac95afba6c"
   },
   "outputs": [],
   "source": [
    "bms_model.fit(conditions_train, observations_train, seed=0)"
   ]
  },
  {
   "cell_type": "markdown",
   "metadata": {
    "id": "GNxfist448nT"
   },
   "source": [
    "6. Plot the Results"
   ]
  },
  {
   "cell_type": "code",
   "execution_count": null,
   "metadata": {
    "colab": {
     "background_save": true
    },
    "id": "BgPhK1yJ7fmP",
    "outputId": "f6b3279c-8882-4afe-dcfc-85b779254e59"
   },
   "outputs": [],
   "source": [
    "print(bms_model)\n",
    "present_results(model=bms_model, x_test=conditions_test, y_test=observations_test, arg='choice')"
   ]
  },
  {
   "cell_type": "markdown",
   "metadata": {
    "id": "YashPnNu7kmr"
   },
   "source": [
    "#### Summary - BMS Regressor\n",
    "\n",
    "Expressiveness: High\n",
    "\n",
    "Interpretability: High\n"
   ]
  },
  {
   "cell_type": "markdown",
   "metadata": {
    "id": "0_pbZy0H8GQU"
   },
   "source": [
    "### Summary - Model Comparison"
   ]
  },
  {
   "cell_type": "code",
   "execution_count": null,
   "metadata": {
    "colab": {
     "background_save": true
    },
    "id": "jC2T_RhsItmI",
    "outputId": "e9380987-15c5-49dc-abb1-b11af2311aff"
   },
   "outputs": [],
   "source": [
    "present_results(model=log_model, x_test=conditions_test, y_test=observations_test, arg='choice')\n",
    "present_results(model=nn_class_model, x_test=conditions_test, y_test=observations_test, arg='choice')\n",
    "present_results(model=bms_model, x_test=conditions_test, y_test=observations_test, arg='choice')\n",
    "print(bms_model)"
   ]
  },
  {
   "cell_type": "markdown",
   "metadata": {
    "id": "npdPRxKcJkTc"
   },
   "source": [
    "## Exercises"
   ]
  },
  {
   "cell_type": "markdown",
   "metadata": {
    "id": "7mU8MDrMzjhL"
   },
   "source": [
    "### FYI: AutoRA Toolkit Pre-release for integrating symbolic regression into any other modeling method of your choice"
   ]
  },
  {
   "cell_type": "markdown",
   "metadata": {
    "id": "9psWBJO_Jmyg"
   },
   "source": [
    "### Exercise 1: Try it yourself!"
   ]
  },
  {
   "cell_type": "markdown",
   "metadata": {
    "id": "liphhkxKKQK_"
   },
   "source": [
    "1. Install packages"
   ]
  },
  {
   "cell_type": "code",
   "execution_count": null,
   "metadata": {
    "colab": {
     "background_save": true
    },
    "id": "bX0QS1pGKMIR"
   },
   "outputs": [],
   "source": [
    "# Install package that you will need here\n"
   ]
  },
  {
   "cell_type": "markdown",
   "metadata": {
    "id": "r3O1_s6-KVqF"
   },
   "source": [
    "2. Import packages"
   ]
  },
  {
   "cell_type": "code",
   "execution_count": null,
   "metadata": {
    "colab": {
     "background_save": true
    },
    "id": "Rm432C5BKZ7w"
   },
   "outputs": [],
   "source": [
    "# Import packages you will need here\n",
    "import pandas"
   ]
  },
  {
   "cell_type": "markdown",
   "metadata": {
    "id": "Ob_Sm0G1Kd19"
   },
   "source": [
    "3. Load Data"
   ]
  },
  {
   "cell_type": "code",
   "execution_count": null,
   "metadata": {
    "colab": {
     "background_save": true
    },
    "id": "luZ9MKs0Knh3"
   },
   "outputs": [],
   "source": [
    "## Uncomment the next lines and input the file location or replace with a line of your own\n",
    "# FILE_LOCATION = ''\n",
    "# df = pd.read_csv(FILE_LOCATION)\n",
    "\n",
    "## Extract your conditions and observations from your loaded data\n",
    "# conditions =\n",
    "# observations =\n",
    "\n",
    "## Run this line and make sure you train with the train datasets and test with the test datasets\n",
    "## This ensures that your model hasn't overfit\n",
    "# conditions_train, conditions_test, observations_train, observations_test = train_test_split(conditions, observations)"
   ]
  },
  {
   "cell_type": "markdown",
   "metadata": {
    "id": "cBHwO-23K5Ja"
   },
   "source": [
    "4. Initialize Model"
   ]
  },
  {
   "cell_type": "code",
   "execution_count": null,
   "metadata": {
    "colab": {
     "background_save": true
    },
    "id": "ylsYYleUK7GX"
   },
   "outputs": [],
   "source": [
    "# We will use BMS for this exercise. Feel free to initialize another model to compare it to\n",
    "# Minimum recommended number of epochs is 1500\n",
    "bms_model = BMSRegressor(epochs=1500)"
   ]
  },
  {
   "cell_type": "markdown",
   "metadata": {
    "id": "3YkJVZn2LeWA"
   },
   "source": [
    "5. Fit model to the Data"
   ]
  },
  {
   "cell_type": "code",
   "execution_count": null,
   "metadata": {
    "colab": {
     "background_save": true
    },
    "id": "9_jlhiQmLgHE"
   },
   "outputs": [],
   "source": [
    "## Uncomment this next line after you have completed step 3\n",
    "# bms_model.fit(conditions_train, observations_train)"
   ]
  },
  {
   "cell_type": "markdown",
   "metadata": {
    "id": "pVrd_UkBMV7O"
   },
   "source": [
    "6. Plot the results"
   ]
  },
  {
   "cell_type": "code",
   "execution_count": null,
   "metadata": {
    "colab": {
     "background_save": true
    },
    "id": "OYxiod2sMcYm"
   },
   "outputs": [],
   "source": [
    "## Uncomment this next line after you have completed step 5\n",
    "# plot_type = \"default\", \"2d\", \"3d\", or \"choice\"\n",
    "# present_results(bms_model, conditions_test, observations_test, arg=plot_type)\n",
    "\n",
    "## You can uncomment these lines if you would like to compare BMS to a model of your choice\n",
    "# your_models_name =\n",
    "# your_model =\n",
    "#\n",
    "# models = [bms_model, your_model]\n",
    "# model_names = [\"bms_model\", your_models_name]\n",
    "# compare results(models=models, x_test=conditions_test, y_test=observations_test, model_names=model_names, arg=plot_type)"
   ]
  },
  {
   "cell_type": "markdown",
   "metadata": {
    "id": "U2E0hYJ5NtpY"
   },
   "source": [
    "### Exercise 2: Using the AutoRA closed loop"
   ]
  },
  {
   "cell_type": "markdown",
   "metadata": {
    "id": "2o87CcbzzdoF"
   },
   "source": [
    "See https://autoresearch.github.io/autora/tutorials/Introduction/ for a tutorial on closed-loop experimentation."
   ]
  }
 ],
 "metadata": {
  "colab": {
   "provenance": [],
   "toc_visible": true
  },
  "kernelspec": {
   "display_name": "Python 3 (ipykernel)",
   "language": "python",
   "name": "python3"
  },
  "language_info": {
   "codemirror_mode": {
    "name": "ipython",
    "version": 3
   },
   "file_extension": ".py",
   "mimetype": "text/x-python",
   "name": "python",
   "nbconvert_exporter": "python",
   "pygments_lexer": "ipython3",
   "version": "3.9.12"
  }
 },
 "nbformat": 4,
 "nbformat_minor": 1
}
