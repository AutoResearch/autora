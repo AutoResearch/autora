{
 "cells": [
  {
   "cell_type": "markdown",
   "metadata": {},
   "source": [
    "# Generating Stimulus Sequences for a Closed-Loop Psychophysics Study\n",
    "\n",
    "In this example, we use SweetBean to generate an experimental sequence for a same-different Psychophysics experiment. In this experiment, each trials has the following sequence of events:\n",
    "- a fixation cross is displayed for 1500 ms\n",
    "- a set of two dot stimuli is displayed, one on the left and one on the right for 200ms. Each set contains a certain number of dots and the participant has to indicate whether the numbers of dots in the two sets are the same or different by pressing `y` or `n`.\n",
    "\n",
    "You can find more in-depth tutorials on automated web experiment generation at the [SweetBean Website](https://autoresearch.github.io/sweetbean/).\n",
    "\n"
   ]
  },
  {
   "cell_type": "markdown",
   "metadata": {},
   "source": [
    "## Installation\n",
    "\n",
    "First, we will install SweetBean and Setup."
   ]
  },
  {
   "cell_type": "code",
   "execution_count": null,
   "metadata": {},
   "outputs": [],
   "source": [
    "%%capture\n",
    "!pip install sweetbean"
   ]
  },
  {
   "cell_type": "markdown",
   "metadata": {},
   "source": [
    "To illustrate the use of SweetBean, we first assume a fixed trial sequence:"
   ]
  },
  {
   "cell_type": "code",
   "execution_count": null,
   "metadata": {},
   "outputs": [],
   "source": [
    "timeline = [{'dots_left': 40, 'dots_right': 70},\n",
    "  {'dots_left': 70, 'dots_right': 70},\n",
    "  {'dots_left': 70, 'dots_right': 40},\n",
    "  {'dots_left': 70, 'dots_right': 70},\n",
    "  {'dots_left': 40, 'dots_right': 70},\n",
    "  {'dots_left': 70, 'dots_right': 40},\n",
    "  {'dots_left': 40, 'dots_right': 40},\n",
    "  {'dots_left': 40, 'dots_right': 40},\n",
    "  {'dots_left': 40, 'dots_right': 40},\n",
    "  {'dots_left': 70, 'dots_right': 40}]"
   ]
  },
  {
   "cell_type": "markdown",
   "metadata": {},
   "source": [
    "## Instruction Block\n",
    "\n",
    "Many experiments require instructions that tell the participants what to do.\n",
    "\n",
    "Creating instructions in SweetBean is quite simple. First, we define a number of text stimuli that the participant sees. Then, we specify the order of the text stimuli within a block of instructions."
   ]
  },
  {
   "cell_type": "markdown",
   "metadata": {},
   "source": [
    "Let's begin with writing down our instructions in html code. We can specify the key required to move on to the next instruction."
   ]
  },
  {
   "cell_type": "code",
   "execution_count": null,
   "metadata": {},
   "outputs": [],
   "source": [
    "from sweetbean.stimulus import Text\n",
    "\n",
    "introduction_welcome = Text(text='Welcome to our perception experiment.<br><br> \\\n",
    "                                          Press the SPACE key to continue.',\n",
    "                                    choices=[' '])\n",
    "\n",
    "introduction_pictures = Text(text='Each picture contains two sets of dots, one left and one right.<br><br>\\\n",
    "                                      Press the SPACE key to continue.',\n",
    "                                  choices=[' '])\n",
    "\n",
    "introduction_responses = Text(text='You have to indicate whether the two sets contain an equal number of dots.<br><br>\\\n",
    "                                      Press the y-key for yes (equal number) and<br> the n-key for no (unequal number).<br><br>\\\n",
    "                                      Press the SPACE key to continue.',\n",
    "                                  choices=[' '])\n",
    "\n",
    "introduction_note = Text(text='Note: For each picture, you have only 2 seconds to respond, so respond quickly.<br><br>\\\n",
    "                                      You can only respond with the y and n keys while the dots are shown.<br><br> \\\n",
    "                                      Press the SPACE key to BEGIN the experiment.',\n",
    "                                  choices=[' '])"
   ]
  },
  {
   "cell_type": "markdown",
   "metadata": {},
   "source": [
    "Next, will pack these stimuli into a list to form an instruction block."
   ]
  },
  {
   "cell_type": "code",
   "execution_count": null,
   "metadata": {},
   "outputs": [],
   "source": [
    "from sweetbean import Block\n",
    "\n",
    "# create a list of instruction stimuli for the instruction block\n",
    "introduction_list = [introduction_welcome,\n",
    "                      introduction_pictures,\n",
    "                      introduction_responses,\n",
    "                      introduction_note]\n",
    "\n",
    "# create the instruction block\n",
    "instruction_block = Block(introduction_list)"
   ]
  },
  {
   "cell_type": "markdown",
   "metadata": {},
   "source": [
    "## Exit Block\n",
    "\n",
    "Similarly, we can specify a final instruction displayed at the end of the experiment."
   ]
  },
  {
   "cell_type": "code",
   "execution_count": null,
   "metadata": {},
   "outputs": [],
   "source": [
    "# create a text stimulus shown at the end of the experiment\n",
    "instruction_exit = Text(duration=3000,\n",
    "                                text='Thank you for participating in the experiment.',\n",
    "                                )\n",
    "\n",
    "# create a list of instruction stimuli for the exit block\n",
    "exit_list = [instruction_exit]\n",
    "\n",
    "# create the exit block\n",
    "exit_block = Block(exit_list)"
   ]
  },
  {
   "cell_type": "markdown",
   "metadata": {},
   "source": [
    "## Task Block"
   ]
  },
  {
   "cell_type": "markdown",
   "metadata": {},
   "source": [
    "### Fixation Cross\n",
    "\n",
    "First, we define the fixation cross. SweetBean provides a convenient method:"
   ]
  },
  {
   "cell_type": "code",
   "execution_count": null,
   "metadata": {},
   "outputs": [],
   "source": [
    "from sweetbean.stimulus import Fixation\n",
    "\n",
    "duration = 1500 # the duration is given in ms\n",
    "fixation = Fixation(duration)"
   ]
  },
  {
   "cell_type": "markdown",
   "metadata": {},
   "source": [
    "### Dots Stimulus\n",
    "\n",
    "Next, we declare our sets of dots as features in the stimulus, using the timeline variables:\n",
    "\n",
    "First,\n",
    "declare the stimulus features ``dot_stimulus_left`` and ``dot_stimulus_right`` as timeline variables (since they come from the timeline). For the parser, we also need to provide all the possible levels of the stimulus. For now, we assume that each dot display can contain either 40 or 70 dots.\n",
    "\n",
    "Then, we define the entire stimulus which is composed of the two features. SweetPea provides a convenient way of generating a stimulus with two sets of dots via ``RandomDotPatternsStimulus``."
   ]
  },
  {
   "cell_type": "code",
   "execution_count": null,
   "metadata": {},
   "outputs": [],
   "source": [
    "from sweetbean.variable import TimelineVariable\n",
    "from sweetbean.stimulus import RandomDotPatterns\n",
    "\n",
    "# define the stimuli features as timeline variables\n",
    "dot_stimulus_left = TimelineVariable('dots_left')\n",
    "dot_stimulus_right = TimelineVariable('dots_right')\n",
    "\n",
    "# We can use these variables in the stimuli declaration:\n",
    "rdp = RandomDotPatterns(\n",
    "    duration=2000,\n",
    "    number_of_oobs=[dot_stimulus_left, dot_stimulus_right],\n",
    "    number_of_apertures=2,\n",
    "    choices=[\"y\", \"n\"],\n",
    "    background_color=\"black\",\n",
    ")"
   ]
  },
  {
   "cell_type": "markdown",
   "metadata": {},
   "source": [
    "Note that the dot stimulus is shown for 2000ms (``duration=2000``). It consists of two set of dots (``number_of_apertures=2``), which are parameterized by the two timeline variables ``number_of_oobs=[dot_stimulus_left, dot_stimulus_right]``. Finally, we allow participants to record a response on each stimulus, indicating whether the dots match or not by pressing the respective keys for `y` and `n` (``choices=[\"y\", \"n\"]``)"
   ]
  },
  {
   "cell_type": "markdown",
   "metadata": {},
   "source": [
    "### Task Event Sequence\n",
    "\n",
    "Now, we define the event sequence which determines the order of events within a trial. SweetBean groups event into event sequences, and event sequences into blocks. Here, an event sequence corresponds to a trial and a block to series of trials."
   ]
  },
  {
   "cell_type": "code",
   "execution_count": null,
   "metadata": {},
   "outputs": [],
   "source": [
    "from sweetbean import Block, Experiment\n",
    "\n",
    "# define the sequence of events within a trial\n",
    "event_sequence = [fixation, rdp]\n",
    "\n",
    "# group trials into blocks\n",
    "task_block = Block(event_sequence, timeline)\n"
   ]
  },
  {
   "cell_type": "markdown",
   "metadata": {},
   "source": [
    "## Experiment Block Sequence\n",
    "\n",
    "Now that we have specified all of our experiment blocks, we put them together into an experiment. The function below compiles the experiment and converts it into an html file."
   ]
  },
  {
   "cell_type": "markdown",
   "metadata": {},
   "source": []
  },
  {
   "cell_type": "code",
   "execution_count": null,
   "metadata": {},
   "outputs": [],
   "source": [
    "# define the entire experiment\n",
    "experiment = Experiment([instruction_block, task_block, exit_block])\n",
    "\n",
    "# export experiment to html file\n",
    "experiment.to_html(\"psychophysics_experiment.html\")"
   ]
  },
  {
   "cell_type": "markdown",
   "metadata": {},
   "source": [
    "The code above should have generated a local html file  ``rok_weber_fechner.html`` which can be opened and run."
   ]
  },
  {
   "cell_type": "markdown",
   "metadata": {},
   "source": [
    "## Writing a Function to Automate the Generation of Stimulus Sequences\n",
    "\n",
    "The function below compiles the code above into a single function, and returns a web-based (JavaScript) experiment, written in ``jsPsych``.\n",
    "\n",
    "The function takes a timeline, containing a sequence of trials, as input."
   ]
  },
  {
   "cell_type": "code",
   "execution_count": null,
   "metadata": {},
   "outputs": [],
   "source": [
    "from sweetbean.stimulus import Text, Fixation, RandomDotPatterns\n",
    "from sweetbean import Block, Experiment\n",
    "from sweetbean.variable import TimelineVariable\n",
    "\n",
    "def stimulus_sequence(timeline):\n",
    "\n",
    "  # INSTRUCTION BLOCK\n",
    "\n",
    "  # generate several text stimuli that serve as instructions\n",
    "  introduction_welcome = Text(text='Welcome to our perception experiment.<br><br> \\\n",
    "                                          Press the SPACE key to continue.',\n",
    "                                    choices=[' '])\n",
    "\n",
    "  introduction_pictures = Text(text='Each picture contains two sets of dots, one left and one right.<br><br>\\\n",
    "                                       Press the SPACE key to continue.',\n",
    "                                    choices=[' '])\n",
    "\n",
    "  introduction_responses = Text(text='You have to indicate whether the two sets contain an equal number of dots.<br><br>\\\n",
    "                                       Press the y-key for yes (equal number) and<br> the n-key for no (unequal number).<br><br>\\\n",
    "                                       Press the SPACE key to continue.',\n",
    "                                    choices=[' '])\n",
    "\n",
    "  introduction_note = Text(text='Note: For each picture, you have only 2 seconds to respond, so respond quickly.<br><br>\\\n",
    "                                       You can only respond with the y and n keys while the dots are shown.<br><br> \\\n",
    "                                       Press the SPACE key to BEGIN the experiment.',\n",
    "                                    choices=[' '])\n",
    "\n",
    "\n",
    "  # create a list of instruction stimuli for the instruction block\n",
    "  introduction_list = [introduction_welcome,\n",
    "                       introduction_pictures,\n",
    "                       introduction_responses,\n",
    "                       introduction_note]\n",
    "\n",
    "  # create the instruction block\n",
    "  instruction_block = Block(introduction_list)\n",
    "\n",
    "  # EXIT BLOCK\n",
    "\n",
    "  # create a text stimulus shown at the end of the experiment\n",
    "  instruction_exit = Text(duration=3000,\n",
    "                                  text='Thank you for participating in the experiment.',\n",
    "                                  )\n",
    "\n",
    "  # create a list of instruction stimuli for the exit block\n",
    "  exit_list = [instruction_exit]\n",
    "\n",
    "  # create the exit block\n",
    "  exit_block = Block(exit_list)\n",
    "\n",
    "  # TASK BLOCK\n",
    "\n",
    "  # define fixation cross\n",
    "  fixation = Fixation(1500)\n",
    "\n",
    "  # define the stimuli features as timeline variables\n",
    "  dot_stimulus_left = TimelineVariable('dots_left')\n",
    "  dot_stimulus_right = TimelineVariable('dots_right')\n",
    "\n",
    "  # We can define a stimulus as a function of those stimulus features\n",
    "  rdp = RandomDotPatterns(\n",
    "      duration=2000,\n",
    "      number_of_oobs=[dot_stimulus_left, dot_stimulus_right],\n",
    "      number_of_apertures=2,\n",
    "      choices=[\"y\", \"n\"],\n",
    "      background_color=\"black\",\n",
    "  )\n",
    "\n",
    "  # define the sequence of events within a trial\n",
    "  event_sequence = [fixation, rdp]\n",
    "\n",
    "  # group trials into blocks\n",
    "  task_block = Block(event_sequence, timeline)\n",
    "\n",
    "  # EXPERIMENT\n",
    "\n",
    "  # define the entire experiment\n",
    "  experiment = Experiment([instruction_block, task_block, exit_block])\n",
    "\n",
    "  # return a js string to transfer to autora\n",
    "  return experiment.to_js_string(as_function=True, is_async=True)"
   ]
  }
 ],
 "metadata": {
  "colab": {
   "provenance": []
  },
  "kernelspec": {
   "display_name": "Python 3",
   "name": "python3"
  },
  "language_info": {
   "name": "python"
  }
 },
 "nbformat": 4,
 "nbformat_minor": 0
}
