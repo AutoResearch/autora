{
 "cells": [
  {
   "cell_type": "markdown",
   "source": [
    "To begin, we import all the relevant modules."
   ],
   "metadata": {
    "collapsed": false,
    "pycharm": {
     "name": "#%% md\n"
    }
   }
  },
  {
   "cell_type": "code",
   "execution_count": null,
   "outputs": [],
   "source": [
    "from datetime import datetime\n",
    "from tkinter import Tk\n",
    "\n",
    "from aer.experimentalist.experiment_design_synthetic_weber import (\n",
    "    Experiment_Design_Synthetic_Weber,\n",
    ")\n",
    "from aer.experimentalist.experimentalist_popper import Experimentalist_Popper\n",
    "from aer.theorist.theorist_darts import DARTS_Type, Theorist_DARTS\n",
    "from aer.theorist.theorist_GUI import Theorist_GUI\n",
    "from example.weber.weber_setup import general_parameters, study_object, validation_object_1"
   ],
   "metadata": {
    "collapsed": false,
    "pycharm": {
     "name": "#%%\n"
    }
   }
  },
  {
   "cell_type": "markdown",
   "source": [
    "We then note the starting time."
   ],
   "metadata": {
    "collapsed": false,
    "pycharm": {
     "name": "#%% md\n"
    }
   }
  },
  {
   "cell_type": "code",
   "execution_count": null,
   "outputs": [],
   "source": [
    "now = datetime.now()\n",
    "dt_string = now.strftime(\"%d/%m/%Y %H:%M:%S\")\n",
    "print(\"date and time =\", dt_string)"
   ],
   "metadata": {
    "collapsed": false,
    "pycharm": {
     "name": "#%%\n"
    }
   }
  },
  {
   "cell_type": "markdown",
   "source": [
    "From here, we specify our experiment design and initialize our preferred experimentalist.\n",
    "\n",
    "Specify our experiment design:"
   ],
   "metadata": {
    "collapsed": false,
    "pycharm": {
     "name": "#%% md\n"
    }
   }
  },
  {
   "cell_type": "code",
   "execution_count": null,
   "outputs": [],
   "source": [
    "stimulus_resolution = 20\n",
    "weber_design = Experiment_Design_Synthetic_Weber(stimulus_resolution)\n",
    "\n",
    "stimulus_resolution_validation = 100\n",
    "weber_design_validation = Experiment_Design_Synthetic_Weber(\n",
    "    stimulus_resolution_validation\n",
    ")"
   ],
   "metadata": {
    "collapsed": false,
    "pycharm": {
     "name": "#%%\n"
    }
   }
  },
  {
   "cell_type": "markdown",
   "source": [
    "Initialize the experimentalist:"
   ],
   "metadata": {
    "collapsed": false,
    "pycharm": {
     "name": "#%% md\n"
    }
   }
  },
  {
   "cell_type": "code",
   "execution_count": null,
   "outputs": [],
   "source": [
    "experimentalist = Experimentalist_Popper(\n",
    "    study_name=general_parameters.study_name,\n",
    "    experiment_server_host=general_parameters.host,\n",
    "    experiment_server_port=general_parameters.port,\n",
    "    experiment_design=weber_design,\n",
    ")\n",
    "\n",
    "experimentalist_validation = Experimentalist_Popper(\n",
    "    study_name=general_parameters.study_name_sampled,\n",
    "    experiment_server_host=general_parameters.host,\n",
    "    experiment_server_port=general_parameters.port,\n",
    "    experiment_design=weber_design_validation,\n",
    ")"
   ],
   "metadata": {
    "collapsed": false,
    "pycharm": {
     "name": "#%%\n"
    }
   }
  },
  {
   "cell_type": "markdown",
   "source": [
    "We also need to initialize our preferred theorist"
   ],
   "metadata": {
    "collapsed": false,
    "pycharm": {
     "name": "#%% md\n"
    }
   }
  },
  {
   "cell_type": "code",
   "execution_count": null,
   "outputs": [],
   "source": [
    "theorist = Theorist_DARTS(general_parameters.study_name, darts_type=DARTS_Type.ORIGINAL)"
   ],
   "metadata": {
    "collapsed": false,
    "pycharm": {
     "name": "#%%\n"
    }
   }
  },
  {
   "cell_type": "markdown",
   "source": [
    "and specify plots for it."
   ],
   "metadata": {
    "collapsed": false,
    "pycharm": {
     "name": "#%% md\n"
    }
   }
  },
  {
   "cell_type": "code",
   "execution_count": null,
   "outputs": [],
   "source": [
    "plots = list()\n",
    "plots.append(theorist._loss_plot_name)\n",
    "theorist.plot()"
   ],
   "metadata": {
    "collapsed": false,
    "pycharm": {
     "name": "#%%\n"
    }
   }
  },
  {
   "cell_type": "markdown",
   "source": [
    "At this point we can execute Autonomous Empirical Research.\n",
    "\n",
    "First, we generate our initial validation data set."
   ],
   "metadata": {
    "collapsed": false,
    "pycharm": {
     "name": "#%% md\n"
    }
   }
  },
  {
   "cell_type": "code",
   "execution_count": null,
   "outputs": [],
   "source": [
    "# validation_data = experimentalist_validation.seed(validation_object_1) # seed with new experiment\n",
    "validation_data = experimentalist_validation.seed(\n",
    "    validation_object_1, datafile=\"experiment_0_data.csv\"\n",
    ")  # seed with new experiment\n",
    "validation_object_1.add_data(validation_data)"
   ],
   "metadata": {
    "collapsed": false,
    "pycharm": {
     "name": "#%%\n"
    }
   }
  },
  {
   "cell_type": "markdown",
   "source": [
    "Then, we seed the experimentalist with the data we just generated and split it into training and validations sets."
   ],
   "metadata": {
    "collapsed": false,
    "pycharm": {
     "name": "#%% md\n"
    }
   }
  },
  {
   "cell_type": "code",
   "execution_count": null,
   "outputs": [],
   "source": [
    "# Seed experiment and split into training/validation set\n",
    "\n",
    "# seed_data = experimentalist.seed(study_object) # seed with new experiment\n",
    "seed_data = experimentalist.seed(\n",
    "    study_object, datafile=\"experiment_0_data.csv\"\n",
    ")  # seed with existing data file\n",
    "study_object.add_data(seed_data)\n",
    "validation_object_2 = study_object.split(proportion=0.5)\n",
    "validation_object_2.name = \"Weber Sampled\""
   ],
   "metadata": {
    "collapsed": false,
    "pycharm": {
     "name": "#%%\n"
    }
   }
  },
  {
   "cell_type": "markdown",
   "source": [
    "At this point, we can provide the theorist with the same two data sets."
   ],
   "metadata": {
    "collapsed": false,
    "pycharm": {
     "name": "#%% md\n"
    }
   }
  },
  {
   "cell_type": "code",
   "execution_count": null,
   "outputs": [],
   "source": [
    "theorist.add_validation_set(validation_object_1, \"Weber_Sampled\")\n",
    "theorist.add_validation_set(validation_object_2, \"Weber_Original\")"
   ],
   "metadata": {
    "collapsed": false,
    "pycharm": {
     "name": "#%%\n"
    }
   }
  },
  {
   "cell_type": "markdown",
   "source": [
    "With the initializations and seeding complete, the theorist can perform its search for the best model."
   ],
   "metadata": {
    "collapsed": false,
    "pycharm": {
     "name": "#%% md\n"
    }
   }
  },
  {
   "cell_type": "code",
   "execution_count": null,
   "outputs": [],
   "source": [
    "# model = theorist.search_model(study_object)\n",
    "\n",
    "root = Tk()\n",
    "app = Theorist_GUI(object_of_study=study_object, theorist=theorist, root=root)\n",
    "root.mainloop()\n",
    "\n",
    "# root = Tk()\n",
    "# app = AER_GUI(object_of_study=study_object, theorist=theorist,\n",
    "# experimentalist=experimentalist, root=root)\n",
    "# root.mainloop()\n",
    "\n",
    "# theorist_fair = Theorist_DARTS(study_name, darts_type=DARTS_Type.FAIR)\n",
    "# theorist_fair.plot()\n",
    "# theorist_fair.add_validation_set(validation_object_1, 'Weber_Sampled')\n",
    "# theorist_fair.add_validation_set(validation_object_2, 'Weber_Original')\n",
    "# model = theorist_fair.search_model(study_object)"
   ],
   "metadata": {
    "collapsed": false,
    "pycharm": {
     "name": "#%%\n"
    }
   }
  },
  {
   "cell_type": "markdown",
   "source": [
    "Finally, we make note of the time after model search has been conducted."
   ],
   "metadata": {
    "collapsed": false,
    "pycharm": {
     "name": "#%% md\n"
    }
   }
  },
  {
   "cell_type": "code",
   "execution_count": null,
   "outputs": [],
   "source": [
    "now = datetime.now()\n",
    "dt_string = now.strftime(\"%d/%m/%Y %H:%M:%S\")\n",
    "print(\"date and time =\", dt_string)\n"
   ],
   "metadata": {
    "collapsed": false,
    "pycharm": {
     "name": "#%%\n"
    }
   }
  }
 ],
 "metadata": {
  "kernelspec": {
   "display_name": "Python 3",
   "language": "python",
   "name": "python3"
  },
  "language_info": {
   "codemirror_mode": {
    "name": "ipython",
    "version": 2
   },
   "file_extension": ".py",
   "mimetype": "text/x-python",
   "name": "python",
   "nbconvert_exporter": "python",
   "pygments_lexer": "ipython2",
   "version": "2.7.6"
  }
 },
 "nbformat": 4,
 "nbformat_minor": 0
}