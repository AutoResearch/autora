{
 "cells": [
  {
   "cell_type": "code",
   "execution_count": 1,
   "metadata": {
    "collapsed": true
   },
   "outputs": [],
   "source": [
    "from autora.cycle.filesystem import FilesystemCycle\n",
    "from sklearn.linear_model import LinearRegression\n",
    "import numpy as np"
   ]
  },
  {
   "cell_type": "code",
   "execution_count": 2,
   "outputs": [],
   "source": [
    "def ground_truth(x):\n",
    "    return x + 1\n",
    "from autora.variable import VariableCollection, Variable\n",
    "metadata_0 = VariableCollection(\n",
    "   independent_variables=[Variable(name=\"x1\", allowed_values=range(11))],\n",
    "   dependent_variables=[Variable(name=\"y\", value_range=(-20, 20))],\n",
    "   )\n",
    "\n"
   ],
   "metadata": {
    "collapsed": false
   }
  },
  {
   "cell_type": "code",
   "execution_count": 3,
   "outputs": [
    {
     "data": {
      "text/plain": "array([1.04339546])"
     },
     "execution_count": 3,
     "metadata": {},
     "output_type": "execute_result"
    }
   ],
   "source": [
    "from autora.experimentalist.pipeline import make_pipeline\n",
    "example_experimentalist = make_pipeline(\n",
    "    [metadata_0.independent_variables[0].allowed_values])\n",
    "\n",
    "def get_example_synthetic_experiment_runner():\n",
    "    rng = np.random.default_rng(seed=180)\n",
    "    def runner(x):\n",
    "        return ground_truth(x) + rng.normal(0, 0.1, x.shape)\n",
    "    return runner\n",
    "example_synthetic_experiment_runner = get_example_synthetic_experiment_runner()\n",
    "example_synthetic_experiment_runner(np.ndarray([1]))\n",
    "\n"
   ],
   "metadata": {
    "collapsed": false
   }
  },
  {
   "cell_type": "code",
   "execution_count": 4,
   "outputs": [],
   "source": [
    "\n",
    "example_theorist = LinearRegression()\n"
   ],
   "metadata": {
    "collapsed": false
   }
  },
  {
   "cell_type": "code",
   "execution_count": 5,
   "outputs": [],
   "source": [
    "import pathlib\n",
    "\n",
    "cycle = FilesystemCycle(\n",
    "    metadata=metadata_0,\n",
    "    theorist=example_theorist,\n",
    "    experimentalist=example_experimentalist,\n",
    "    experiment_runner=example_synthetic_experiment_runner,\n",
    "    monitor=lambda data: print(f\"Generated {len(data)}-th datum, a new {data[-1].kind}\"),\n",
    "    path=pathlib.Path(\"./saving_restarting\")\n",
    ")\n",
    "\n",
    "\n"
   ],
   "metadata": {
    "collapsed": false
   }
  },
  {
   "cell_type": "code",
   "execution_count": 6,
   "outputs": [
    {
     "name": "stdout",
     "output_type": "stream",
     "text": [
      "Generated 1-th datum, a new CONDITION\n",
      "Generated 2-th datum, a new OBSERVATION\n",
      "Generated 3-th datum, a new THEORY\n",
      "Generated 4-th datum, a new CONDITION\n",
      "Generated 5-th datum, a new OBSERVATION\n",
      "Generated 6-th datum, a new THEORY\n",
      "Generated 7-th datum, a new CONDITION\n",
      "Generated 8-th datum, a new OBSERVATION\n",
      "Generated 9-th datum, a new THEORY\n",
      "Generated 10-th datum, a new CONDITION\n"
     ]
    },
    {
     "data": {
      "text/plain": "<autora.cycle.filesystem.FilesystemCycle at 0x28530af10>"
     },
     "execution_count": 6,
     "metadata": {},
     "output_type": "execute_result"
    }
   ],
   "source": [
    "cycle.run(10)\n"
   ],
   "metadata": {
    "collapsed": false
   }
  },
  {
   "cell_type": "code",
   "execution_count": 7,
   "outputs": [
    {
     "data": {
      "text/plain": "PosixPath('/Users/jholla10/Developer/autora/example/cycle/saving_restarting')"
     },
     "execution_count": 7,
     "metadata": {},
     "output_type": "execute_result"
    }
   ],
   "source": [
    "cycle.path.resolve()\n"
   ],
   "metadata": {
    "collapsed": false
   }
  },
  {
   "cell_type": "code",
   "execution_count": 8,
   "outputs": [
    {
     "name": "stdout",
     "output_type": "stream",
     "text": [
      "Generated 21-th datum, a new THEORY\n",
      "Generated 22-th datum, a new CONDITION\n",
      "Generated 23-th datum, a new OBSERVATION\n",
      "Generated 24-th datum, a new THEORY\n",
      "Generated 25-th datum, a new CONDITION\n",
      "Generated 26-th datum, a new OBSERVATION\n",
      "Generated 27-th datum, a new THEORY\n",
      "Generated 28-th datum, a new CONDITION\n",
      "Generated 29-th datum, a new OBSERVATION\n",
      "Generated 30-th datum, a new THEORY\n"
     ]
    },
    {
     "data": {
      "text/plain": "<autora.cycle.filesystem.FilesystemCycle at 0x28530ac10>"
     },
     "execution_count": 8,
     "metadata": {},
     "output_type": "execute_result"
    }
   ],
   "source": [
    "new_cycle = FilesystemCycle(\n",
    "    data = pathlib.Path(\"./saving_restarting\"),\n",
    "    theorist=example_theorist,\n",
    "    experimentalist=example_experimentalist,\n",
    "    experiment_runner=example_synthetic_experiment_runner,\n",
    "    monitor=lambda data: print(f\"Generated {len(data)}-th datum, a new {data[-1].kind}\"),)\n",
    "new_cycle.run(num_steps=10)\n"
   ],
   "metadata": {
    "collapsed": false
   }
  },
  {
   "cell_type": "code",
   "execution_count": 9,
   "outputs": [],
   "source": [
    "new_cycle.dump(pathlib.Path(\"./saving_restarting\"))\n"
   ],
   "metadata": {
    "collapsed": false
   }
  }
 ],
 "metadata": {
  "kernelspec": {
   "display_name": "Python 3",
   "language": "python",
   "name": "python3"
  },
  "language_info": {
   "codemirror_mode": {
    "name": "ipython",
    "version": 2
   },
   "file_extension": ".py",
   "mimetype": "text/x-python",
   "name": "python",
   "nbconvert_exporter": "python",
   "pygments_lexer": "ipython2",
   "version": "2.7.6"
  }
 },
 "nbformat": 4,
 "nbformat_minor": 0
}
