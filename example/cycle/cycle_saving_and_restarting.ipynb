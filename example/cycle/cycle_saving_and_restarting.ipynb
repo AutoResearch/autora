{
 "cells": [
  {
   "cell_type": "code",
   "execution_count": 1,
   "metadata": {
    "collapsed": true
   },
   "outputs": [],
   "source": [
    "from autora.cycle.filesystem import FilesystemCycle\n",
    "from sklearn.linear_model import LinearRegression\n",
    "import numpy as np"
   ]
  },
  {
   "cell_type": "code",
   "execution_count": 2,
   "outputs": [],
   "source": [
    "def ground_truth(x):\n",
    "    return x + 1\n",
    "from autora.variable import VariableCollection, Variable\n",
    "metadata_0 = VariableCollection(\n",
    "   independent_variables=[Variable(name=\"x1\", allowed_values=range(11))],\n",
    "   dependent_variables=[Variable(name=\"y\", value_range=(-20, 20))],\n",
    "   )\n",
    "\n"
   ],
   "metadata": {
    "collapsed": false
   }
  },
  {
   "cell_type": "code",
   "execution_count": 3,
   "outputs": [
    {
     "data": {
      "text/plain": "array([1.04339546])"
     },
     "execution_count": 3,
     "metadata": {},
     "output_type": "execute_result"
    }
   ],
   "source": [
    "from autora.experimentalist.pipeline import make_pipeline\n",
    "example_experimentalist = make_pipeline(\n",
    "    [metadata_0.independent_variables[0].allowed_values])\n",
    "\n",
    "def get_example_synthetic_experiment_runner():\n",
    "    rng = np.random.default_rng(seed=180)\n",
    "    def runner(x):\n",
    "        return ground_truth(x) + rng.normal(0, 0.1, x.shape)\n",
    "    return runner\n",
    "example_synthetic_experiment_runner = get_example_synthetic_experiment_runner()\n",
    "example_synthetic_experiment_runner(np.ndarray([1]))\n",
    "\n"
   ],
   "metadata": {
    "collapsed": false
   }
  },
  {
   "cell_type": "code",
   "execution_count": 4,
   "outputs": [],
   "source": [
    "\n",
    "example_theorist = LinearRegression()\n"
   ],
   "metadata": {
    "collapsed": false
   }
  },
  {
   "cell_type": "code",
   "execution_count": 5,
   "outputs": [],
   "source": [
    "from autora.cycle.planner import random_operation_planner\n",
    "from autora.cycle.result.serializer.yaml_ import YAMLResultCollectionSerializer\n",
    "import pathlib\n",
    "\n",
    "cycle = FilesystemCycle(\n",
    "    metadata=metadata_0,\n",
    "    theorist=example_theorist,\n",
    "    experimentalist=example_experimentalist,\n",
    "    experiment_runner=example_synthetic_experiment_runner,\n",
    "    monitor=lambda data: print(f\"Generated {len(data)}-th datum, a new {data[-1].kind}\"),\n",
    "    serializer=YAMLResultCollectionSerializer(pathlib.Path(\"./saving_restarting\")),\n",
    "    planner=random_operation_planner,\n",
    ")\n",
    "\n",
    "\n"
   ],
   "metadata": {
    "collapsed": false
   }
  },
  {
   "cell_type": "code",
   "execution_count": 6,
   "outputs": [
    {
     "name": "stdout",
     "output_type": "stream",
     "text": [
      "Generated 1-th datum, a new CONDITION\n",
      "Generated 2-th datum, a new CONDITION\n",
      "Generated 3-th datum, a new OBSERVATION\n",
      "Generated 4-th datum, a new THEORY\n",
      "Generated 5-th datum, a new OBSERVATION\n",
      "Generated 6-th datum, a new CONDITION\n",
      "Generated 7-th datum, a new THEORY\n",
      "Generated 8-th datum, a new THEORY\n",
      "Generated 9-th datum, a new CONDITION\n"
     ]
    }
   ],
   "source": [
    "for i in range(10):\n",
    "    try:\n",
    "        next(cycle)\n",
    "    except (IndexError, ValueError):\n",
    "        pass\n"
   ],
   "metadata": {
    "collapsed": false
   }
  },
  {
   "cell_type": "code",
   "execution_count": 7,
   "outputs": [
    {
     "name": "stdout",
     "output_type": "stream",
     "text": [
      "Generated 27-th datum, a new THEORY\n",
      "Generated 28-th datum, a new CONDITION\n",
      "Generated 29-th datum, a new OBSERVATION\n",
      "Generated 30-th datum, a new THEORY\n",
      "Generated 31-th datum, a new CONDITION\n",
      "Generated 32-th datum, a new OBSERVATION\n",
      "Generated 33-th datum, a new THEORY\n",
      "Generated 34-th datum, a new CONDITION\n",
      "Generated 35-th datum, a new OBSERVATION\n",
      "Generated 36-th datum, a new THEORY\n"
     ]
    },
    {
     "data": {
      "text/plain": "<autora.cycle.filesystem.FilesystemCycle at 0x13a047d60>"
     },
     "execution_count": 7,
     "metadata": {},
     "output_type": "execute_result"
    }
   ],
   "source": [
    "new_cycle = FilesystemCycle(\n",
    "    state = YAMLResultCollectionSerializer(pathlib.Path(\"./saving_restarting\")),\n",
    "    theorist=example_theorist,\n",
    "    experimentalist=example_experimentalist,\n",
    "    experiment_runner=example_synthetic_experiment_runner,\n",
    "    monitor=lambda data: print(f\"Generated {len(data)}-th datum, a new {data[-1].kind}\"),)\n",
    "new_cycle.run(num_steps=10)\n"
   ],
   "metadata": {
    "collapsed": false
   }
  },
  {
   "cell_type": "code",
   "execution_count": null,
   "outputs": [],
   "source": [
    "new_cycle.serializer = YAMLResultCollectionSerializer(pathlib.Path(\"./saving_restarting\"))\n",
    "new_cycle.dump()\n"
   ],
   "metadata": {
    "collapsed": false
   }
  },
  {
   "cell_type": "code",
   "execution_count": null,
   "outputs": [],
   "source": [],
   "metadata": {
    "collapsed": false
   }
  }
 ],
 "metadata": {
  "kernelspec": {
   "display_name": "Python 3",
   "language": "python",
   "name": "python3"
  },
  "language_info": {
   "codemirror_mode": {
    "name": "ipython",
    "version": 2
   },
   "file_extension": ".py",
   "mimetype": "text/x-python",
   "name": "python",
   "nbconvert_exporter": "python",
   "pygments_lexer": "ipython2",
   "version": "2.7.6"
  }
 },
 "nbformat": 4,
 "nbformat_minor": 0
}
