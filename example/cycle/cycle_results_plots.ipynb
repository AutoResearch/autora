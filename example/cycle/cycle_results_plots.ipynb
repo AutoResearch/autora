{
 "cells": [
  {
   "cell_type": "markdown",
   "source": [
    " # Examples of using cycle results plotting functions"
   ],
   "metadata": {
    "collapsed": false,
    "pycharm": {
     "name": "#%% md\n"
    }
   }
  },
  {
   "cell_type": "code",
   "execution_count": null,
   "metadata": {
    "collapsed": true,
    "pycharm": {
     "name": "#%%\n"
    }
   },
   "outputs": [],
   "source": [
    "from autora.variable import VariableCollection, Variable\n",
    "from autora.cycle import Cycle, plot_results_panel_2d, plot_results_panel_3d\n",
    "from autora.experimentalist.pipeline import Pipeline\n",
    "from autora.experimentalist.pool import grid_pool\n",
    "from autora.experimentalist.sampler import random_sampler\n",
    "from sklearn.linear_model import LinearRegression\n",
    "import numpy as np\n",
    "import random\n",
    "%matplotlib inline"
   ]
  },
  {
   "cell_type": "code",
   "execution_count": null,
   "outputs": [],
   "source": [
    "# Simple linear regression cycle\n",
    "random.seed(1)\n",
    "\n",
    "def ground_truth(xs):\n",
    "    return xs + 1.0\n",
    "\n",
    "# Variable Metadata\n",
    "study_metadata = VariableCollection(\n",
    "    independent_variables=[\n",
    "        Variable(name=\"x1\", allowed_values=np.linspace(0, 1, 100))\n",
    "    ],\n",
    "    dependent_variables=[Variable(name=\"y\", value_range=(-20, 20))],\n",
    ")\n",
    "\n",
    "# Theorist\n",
    "lm = LinearRegression()\n",
    "\n",
    "# Experimentalist\n",
    "example_experimentalist = Pipeline(\n",
    "    [\n",
    "        (\"pool\", grid_pool),\n",
    "        (\"sampler\", random_sampler),\n",
    "        (\"transform\", lambda x: [s[0] for s in x]),\n",
    "    ],\n",
    "    params={\n",
    "        \"pool\": {\"ivs\": study_metadata.independent_variables},\n",
    "        \"sampler\": {\"n\": 5},\n",
    "    },\n",
    ")\n",
    "\n",
    "# Experiment Runner\n",
    "def get_example_synthetic_experiment_runner():\n",
    "    rng = np.random.default_rng(seed=180)\n",
    "\n",
    "    def runner(xs):\n",
    "        return ground_truth(xs) + rng.normal(0, 0.1, xs.shape)\n",
    "\n",
    "    return runner\n",
    "\n",
    "example_synthetic_experiment_runner = get_example_synthetic_experiment_runner()\n",
    "\n",
    "# Initialize Cycle\n",
    "cycle = Cycle(\n",
    "    metadata=study_metadata,\n",
    "    theorist=lm,\n",
    "    experimentalist=example_experimentalist,\n",
    "    experiment_runner=example_synthetic_experiment_runner,\n",
    ")\n",
    "cycle.run(5)"
   ],
   "metadata": {
    "collapsed": false,
    "pycharm": {
     "name": "#%%\n"
    }
   }
  },
  {
   "cell_type": "markdown",
   "source": [
    "## Plotting 2D\n",
    "The plotter will create a panel for each cycle.\n",
    "* Default shows black points for previous data and orange points for new data to the cycle.\n",
    "* The theory is plotted as a blue line.\n",
    "* Default panel configuration is 4 plots to a row."
   ],
   "metadata": {
    "collapsed": false,
    "pycharm": {
     "name": "#%% md\n"
    }
   }
  },
  {
   "cell_type": "code",
   "execution_count": null,
   "outputs": [],
   "source": [
    "# Plot cycle results with each cycle as one panel\n",
    "plot_results_panel_2d(cycle);  # Add semicolon to supress creating two figures in jupyter notebook"
   ],
   "metadata": {
    "collapsed": false,
    "pycharm": {
     "name": "#%%\n"
    }
   }
  },
  {
   "cell_type": "markdown",
   "source": [
    "### Default parameters can be changed by passing in keywords"
   ],
   "metadata": {
    "collapsed": false,
    "pycharm": {
     "name": "#%% md\n"
    }
   }
  },
  {
   "cell_type": "code",
   "execution_count": null,
   "outputs": [],
   "source": [
    "# Change wrap to 3 and Adjust dimensions\n",
    "plot_results_panel_2d(cycle,\n",
    "                      wrap=3,\n",
    "                      subplot_kw=dict(figsize=(9,4.5))\n",
    "                      );"
   ],
   "metadata": {
    "collapsed": false,
    "pycharm": {
     "name": "#%%\n"
    }
   }
  },
  {
   "cell_type": "markdown",
   "source": [
    "Above the wrap is changed to 3 panels per row and the dimensions of the figure are adjusted.\n",
    "\n",
    "* Keyword arguments can be supplied to the underlying matplotlib plotting functions as dictionaries.\n",
    "   * The above example supplies figure dimensions to the [subplot](https://matplotlib.org/stable/api/_as_gen/matplotlib.pyplot.subplot.html) function using the keyword `subplot_kw`. The subplot function controls the layout and configuration of the entire figure of panels.\n",
    "   * Below shows ways to specify the parameters of the [scatter](https://matplotlib.org/stable/api/_as_gen/matplotlib.pyplot.scatter.html) points and theory [line](https://matplotlib.org/stable/api/_as_gen/matplotlib.axes.Axes.plot.html)."
   ],
   "metadata": {
    "collapsed": false,
    "pycharm": {
     "name": "#%% md\n"
    }
   }
  },
  {
   "cell_type": "code",
   "execution_count": null,
   "outputs": [],
   "source": [
    "# Change wrap to 3, Adjust dimensions, adjust scatter plot and line colors, shapes, and sizes\n",
    "fig = plot_results_panel_2d(cycle,\n",
    "                      wrap=3,\n",
    "                      subplot_kw=dict(figsize=(10,5)),  # Panel configurations\n",
    "                      scatter_kw1=dict(color='rebeccapurple', marker='o', s=10),  # Previous data point\n",
    "                      scatter_kw2=dict(color='limegreen', marker='^', s=50, alpha=1),  # Current cycle data\n",
    "                      line_kw=dict(color='magenta', ls='--', lw=2, zorder=0),  # Theory line\n",
    "                      );"
   ],
   "metadata": {
    "collapsed": false,
    "pycharm": {
     "name": "#%%\n"
    }
   }
  },
  {
   "cell_type": "code",
   "execution_count": null,
   "outputs": [],
   "source": [
    "# Loop by the axes to draw annotations\n",
    "for i,ax in enumerate(fig.axes[:-1]):\n",
    "    ax.axvline(x=.5, c='cyan', ls=':')  # Vertical line at .5\n",
    "    if i == 2:  # label on panel 3\n",
    "        ax.text(.47, .8, 'Label', c='red', fontweight='bold', ha='right', transform=ax.transAxes)\n",
    "fig\n"
   ],
   "metadata": {
    "collapsed": false,
    "pycharm": {
     "name": "#%%\n"
    }
   }
  },
  {
   "cell_type": "markdown",
   "source": [
    "## Plotting 3D\n",
    "The 3D plotter has similar functionality as the 2D plotter but will only work with problem spaces where there are exactly 2 independent variable values. Only one dependent value can be plotted at a time."
   ],
   "metadata": {
    "collapsed": false,
    "pycharm": {
     "name": "#%% md\n"
    }
   }
  },
  {
   "cell_type": "code",
   "execution_count": null,
   "outputs": [],
   "source": [
    "# Simple multiple linear regression cycle\n",
    "random.seed(1)\n",
    "\n",
    "def ground_truth(X):\n",
    "    return X[:, 0] + (0.5 * X[:, 1]) + 1.0\n",
    "\n",
    "# Variable Metadata\n",
    "study_metadata = VariableCollection(\n",
    "    independent_variables=[\n",
    "        Variable(name=\"x\", allowed_values=np.linspace(0, 1, 10)),\n",
    "        Variable(name=\"y\", allowed_values=np.linspace(0, 1, 10)),\n",
    "    ],\n",
    "    dependent_variables=[Variable(name=\"z\", value_range=(-20, 20))],\n",
    ")\n",
    "\n",
    "# Theorist\n",
    "lm = LinearRegression()\n",
    "\n",
    "# Experimentalist\n",
    "example_experimentalist = Pipeline(\n",
    "    [\n",
    "        (\"pool\", grid_pool),\n",
    "        (\"sampler\", random_sampler),\n",
    "        (\"transform\", lambda x: np.array(x)),\n",
    "    ],\n",
    "    params={\n",
    "        \"pool\": {\"ivs\": study_metadata.independent_variables},\n",
    "        \"sampler\": {\"n\": 10},\n",
    "    },\n",
    ")\n",
    "\n",
    "# Experiment Runner\n",
    "def get_example_synthetic_experiment_runner():\n",
    "    rng = np.random.default_rng(seed=180)\n",
    "\n",
    "    def runner(xs):\n",
    "        return ground_truth(xs) + rng.normal(0, 0.25, xs.shape[0])\n",
    "\n",
    "    return runner\n",
    "\n",
    "example_synthetic_experiment_runner = get_example_synthetic_experiment_runner()\n",
    "\n",
    "# Initialize Cycle\n",
    "cycle_mlr = Cycle(\n",
    "    metadata=study_metadata,\n",
    "    theorist=lm,\n",
    "    experimentalist=example_experimentalist,\n",
    "    experiment_runner=example_synthetic_experiment_runner,\n",
    ")\n",
    "cycle_mlr.run(5)"
   ],
   "metadata": {
    "collapsed": false,
    "pycharm": {
     "name": "#%%\n"
    }
   }
  },
  {
   "cell_type": "code",
   "execution_count": null,
   "outputs": [],
   "source": [
    "# Plot cycle results with each cycle as one panel using defaults\n",
    "fig = plot_results_panel_3d(cycle_mlr);  # Add semicolon to supress creating two figures in jupyter notebook"
   ],
   "metadata": {
    "collapsed": false,
    "pycharm": {
     "name": "#%%\n"
    }
   }
  },
  {
   "cell_type": "code",
   "execution_count": null,
   "outputs": [],
   "source": [
    "# Change wrap to 3 and Adjust dimensions\n",
    "plot_results_panel_3d(cycle_mlr,\n",
    "                      wrap=3,\n",
    "                      subplot_kw=dict(figsize=(12,6))\n",
    "                      );"
   ],
   "metadata": {
    "collapsed": false,
    "pycharm": {
     "name": "#%%\n"
    }
   }
  },
  {
   "cell_type": "code",
   "execution_count": null,
   "outputs": [],
   "source": [
    "# Change wrap to 3, Adjust dimensions, adjust scatter plot and line colors, shapes, and sizes\n",
    "fig = plot_results_panel_3d(cycle_mlr,\n",
    "                            wrap=3,\n",
    "                            subplot_kw=dict(figsize=(12,6)),  # Panel configurations\n",
    "                            scatter_kw1=dict(color='rebeccapurple', marker='o', s=10),  # Previous data point\n",
    "                            scatter_kw2=dict(color='limegreen', marker='^', s=10, alpha=1),  # Current cycle data\n",
    "                            surface_kw=dict(color='orange'),  # Theory surface\n",
    "                            );\n"
   ],
   "metadata": {
    "collapsed": false,
    "pycharm": {
     "name": "#%%\n"
    }
   }
  },
  {
   "cell_type": "markdown",
   "source": [
    "### Change the Viewing Angle\n",
    "* You can change the viewing angle by supplying the `view` keyword with a tuple of elevation and azimuth degrees.\n",
    "* Azimuth is in reference to the XY plane.\n",
    "* Note that the default viewing angle is not a (0,0) elevation, azimuth. In the case above it is (30,-60).\n",
    "<div>\n",
    "<img src=\"https://matplotlib.org/stable/_images/mplot3d_view_angles.png\" width=\"500\"/>\n",
    "</div>\n"
   ],
   "metadata": {
    "collapsed": false,
    "pycharm": {
     "name": "#%% md\n"
    }
   }
  },
  {
   "cell_type": "code",
   "execution_count": null,
   "outputs": [],
   "source": [
    "# Change the viewing angle to 0 elevation, 0 azimuth.\n",
    "fig = plot_results_panel_3d(cycle_mlr,\n",
    "                            wrap=3,\n",
    "                            subplot_kw=dict(figsize=(12,6)),  # Panel configurations\n",
    "                            scatter_kw1=dict(color='rebeccapurple', marker='o', s=10),  # Previous data point\n",
    "                            scatter_kw2=dict(color='limegreen', marker='^', s=10, alpha=1),  # Current cycle data\n",
    "                            surface_kw=dict(color='orange'),  # Theory surface\n",
    "                            view=(0, 0),  # Degrees (elevation, azimuth)\n",
    "                            );"
   ],
   "metadata": {
    "collapsed": false,
    "pycharm": {
     "name": "#%%\n"
    }
   }
  },
  {
   "cell_type": "code",
   "execution_count": null,
   "outputs": [],
   "source": [
    "# Change the viewing angle to +20 elevation, +60 azimuth\n",
    "fig = plot_results_panel_3d(cycle_mlr,\n",
    "                            wrap=3,\n",
    "                            subplot_kw=dict(figsize=(12,6)),  # Panel configurations\n",
    "                            scatter_kw1=dict(color='rebeccapurple', marker='o', s=10),  # Previous data point\n",
    "                            scatter_kw2=dict(color='limegreen', marker='^', s=10, alpha=1),  # Current cycle data\n",
    "                            surface_kw=dict(color='orange'),  # Theory surface\n",
    "                            view=(20, 60),  # Degrees (elevation, azimuth)\n",
    "                            );\n"
   ],
   "metadata": {
    "collapsed": false,
    "pycharm": {
     "name": "#%%\n"
    }
   }
  }
 ],
 "metadata": {
  "kernelspec": {
   "display_name": "Python 3",
   "language": "python",
   "name": "python3"
  },
  "language_info": {
   "codemirror_mode": {
    "name": "ipython",
    "version": 2
   },
   "file_extension": ".py",
   "mimetype": "text/x-python",
   "name": "python",
   "nbconvert_exporter": "python",
   "pygments_lexer": "ipython2",
   "version": "2.7.6"
  }
 },
 "nbformat": 4,
 "nbformat_minor": 0
}