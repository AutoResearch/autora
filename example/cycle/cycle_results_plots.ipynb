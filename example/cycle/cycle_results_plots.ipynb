{
 "cells": [
  {
   "cell_type": "markdown",
   "source": [
    " # Examples of using cycle results plotting functions"
   ],
   "metadata": {
    "collapsed": false,
    "pycharm": {
     "name": "#%% md\n"
    }
   }
  },
  {
   "cell_type": "code",
   "execution_count": null,
   "metadata": {
    "collapsed": true,
    "pycharm": {
     "name": "#%%\n"
    }
   },
   "outputs": [],
   "source": [
    "from autora.variable import VariableCollection, Variable\n",
    "from autora.cycle import Cycle, plot_results_panel_2d\n",
    "from autora.experimentalist.pipeline import Pipeline\n",
    "from autora.experimentalist.pool import grid_pool\n",
    "from autora.experimentalist.sampler import random_sampler\n",
    "from sklearn.linear_model import LinearRegression\n",
    "import numpy as np\n",
    "import random\n",
    "%matplotlib inline"
   ]
  },
  {
   "cell_type": "code",
   "execution_count": null,
   "outputs": [],
   "source": [
    "# Simple linear regression cycle\n",
    "random.seed(1)\n",
    "\n",
    "def ground_truth(xs):\n",
    "    return xs + 1.0\n",
    "\n",
    "# Variable Metadata\n",
    "study_metadata = VariableCollection(\n",
    "    independent_variables=[\n",
    "        Variable(name=\"x1\", allowed_values=np.linspace(0, 1, 100))\n",
    "    ],\n",
    "    dependent_variables=[Variable(name=\"y\", value_range=(-20, 20))],\n",
    ")\n",
    "\n",
    "# Theorist\n",
    "lm = LinearRegression()\n",
    "\n",
    "# Experimentalist\n",
    "example_experimentalist = Pipeline(\n",
    "    [\n",
    "        (\"pool\", grid_pool),\n",
    "        (\"sampler\", random_sampler),\n",
    "        (\"transform\", lambda x: [s[0] for s in x]),\n",
    "    ],\n",
    "    params={\n",
    "        \"pool\": {\"ivs\": study_metadata.independent_variables},\n",
    "        \"sampler\": {\"n\": 5},\n",
    "    },\n",
    ")\n",
    "\n",
    "# Experiment Runner\n",
    "def get_example_synthetic_experiment_runner():\n",
    "    rng = np.random.default_rng(seed=180)\n",
    "\n",
    "    def runner(xs):\n",
    "        return ground_truth(xs) + rng.normal(0, 0.1, xs.shape)\n",
    "\n",
    "    return runner\n",
    "\n",
    "example_synthetic_experiment_runner = get_example_synthetic_experiment_runner()\n",
    "\n",
    "# Initialize Cycle\n",
    "cycle = Cycle(\n",
    "    metadata=study_metadata,\n",
    "    theorist=lm,\n",
    "    experimentalist=example_experimentalist,\n",
    "    experiment_runner=example_synthetic_experiment_runner,\n",
    ")\n",
    "cycle.run(5)"
   ],
   "metadata": {
    "collapsed": false,
    "pycharm": {
     "name": "#%%\n"
    }
   }
  },
  {
   "cell_type": "markdown",
   "source": [
    "## Plotting 2D\n",
    "The plotter will create a panel for each cycle.\n",
    "* Default shows black points for previous data and orange points for new data to the cycle.\n",
    "* The theory is plotted as a blue line.\n",
    "* Default panel configuration is 4 plots to a line."
   ],
   "metadata": {
    "collapsed": false,
    "pycharm": {
     "name": "#%% md\n"
    }
   }
  },
  {
   "cell_type": "code",
   "execution_count": null,
   "outputs": [],
   "source": [
    "# Plot cycle results with each cycle as one panel\n",
    "plot_results_panel_2d(cycle);  # Add semicolon to supress creating two figures in jupyter notebook"
   ],
   "metadata": {
    "collapsed": false,
    "pycharm": {
     "name": "#%%\n"
    }
   }
  },
  {
   "cell_type": "markdown",
   "source": [
    "### Default parameters can be changed by passing in keywords\n"
   ],
   "metadata": {
    "collapsed": false,
    "pycharm": {
     "name": "#%% md\n"
    }
   }
  },
  {
   "cell_type": "code",
   "execution_count": null,
   "outputs": [],
   "source": [
    "# Change wrap to 3 and Adjust dimensions\n",
    "plot_results_panel_2d(cycle,\n",
    "                      wrap=3,\n",
    "                      subplot_kw=dict(figsize=(9,4.5))\n",
    "                      );"
   ],
   "metadata": {
    "collapsed": false,
    "pycharm": {
     "name": "#%%\n"
    }
   }
  },
  {
   "cell_type": "markdown",
   "source": [
    "Above the wrap is changed to 3 panels and the dimensions of the figure are adjusted.\n",
    "* Keyword arguments can be supplied to the underlying matplotlib plotting functions as dictionaries.\n",
    "    * This example supplies figure dimensions to the [subplot function](https://matplotlib.org/stable/api/_as_gen/matplotlib.pyplot.subplot.html) that creates the through the keyword `subplot_kw`.\n",
    "    * Below shows ways to specify the parameters of the scatter points and theory line."
   ],
   "metadata": {
    "collapsed": false,
    "pycharm": {
     "name": "#%% md\n"
    }
   }
  },
  {
   "cell_type": "code",
   "execution_count": null,
   "outputs": [],
   "source": [
    "# Change wrap to 3, Adjust dimensions, adjust scatter plot and line colors, shapes, and sizes\n",
    "fig = plot_results_panel_2d(cycle,\n",
    "                      wrap=3,\n",
    "                      subplot_kw=dict(figsize=(10,5)),  # Panel configurations\n",
    "                      scatter_kw1=dict(color='rebeccapurple', marker='o', s=10),  # Previous data point\n",
    "                      scatter_kw2=dict(color='limegreen', marker='^', s=50, alpha=1),  # Current cycle data\n",
    "                      line_kw=dict(color='magenta', ls='--', lw=2, zorder=0),  # Theory line\n",
    "                      );"
   ],
   "metadata": {
    "collapsed": false,
    "pycharm": {
     "name": "#%%\n"
    }
   }
  },
  {
   "cell_type": "code",
   "execution_count": null,
   "outputs": [],
   "source": [
    "# Loop by the axes to draw annotations\n",
    "for i,ax in enumerate(fig.axes[:-1]):\n",
    "    ax.axvline(x=.5, c='cyan', ls=':')  # Vertical line at .5\n",
    "    if i == 2:  # label on panel 3\n",
    "        ax.text(.47, .8, 'Label', c='red', fontweight='bold', ha='right', transform=ax.transAxes)\n",
    "fig\n"
   ],
   "metadata": {
    "collapsed": false,
    "pycharm": {
     "name": "#%%\n"
    }
   }
  }
 ],
 "metadata": {
  "kernelspec": {
   "display_name": "Python 3",
   "language": "python",
   "name": "python3"
  },
  "language_info": {
   "codemirror_mode": {
    "name": "ipython",
    "version": 2
   },
   "file_extension": ".py",
   "mimetype": "text/x-python",
   "name": "python",
   "nbconvert_exporter": "python",
   "pygments_lexer": "ipython2",
   "version": "2.7.6"
  }
 },
 "nbformat": 4,
 "nbformat_minor": 0
}