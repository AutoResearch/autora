{
 "cells": [
  {
   "cell_type": "markdown",
   "metadata": {},
   "source": [
    "# Experimentalist Pipeline Examples\n",
    "\n",
    "This notebook demonstrates the use of the `Pipeline` class to create Experimentalists. Experimentalists consist of two main components:\n",
    "1. Condition Generation - Creating combinations of independent variables to test\n",
    "2. Experimental Design - Ensuring conditions meet design constraints.\n",
    "\n",
    "The `Pipeline` class allows us to define a series of functions to generate and process a pool of conditions that conform to an experimental design."
   ]
  },
  {
   "cell_type": "code",
   "execution_count": null,
   "metadata": {},
   "outputs": [],
   "source": [
    "# Uncomment the following line when running on Google Colab\n",
    "# !pip install autora"
   ]
  },
  {
   "cell_type": "code",
   "execution_count": null,
   "metadata": {},
   "outputs": [],
   "source": [
    "import numpy as np\n",
    "\n",
    "from autora.variable import DV, IV, ValueType, VariableCollection\n",
    "from autora.experimentalist.pipeline import Pipeline\n",
    "from autora.experimentalist.pooler.grid import grid_pool\n",
    "from autora.experimentalist.sampler.random_sampler import random_sample"
   ]
  },
  {
   "cell_type": "code",
   "execution_count": null,
   "metadata": {},
   "outputs": [],
   "source": [
    "def weber_filter(values):\n",
    "    return filter(lambda s: s[0] <= s[1], values)"
   ]
  },
  {
   "cell_type": "markdown",
   "metadata": {},
   "source": [
    "## Implementation\n",
    "\n",
    "The `Pipeline` class consists of a series of steps:\n",
    "1. One or no \"pool\" steps which generate experimental conditions,\n",
    "2. An arbitrary number of steps to apply to the pool. Examples of steps may be:\n",
    "    - samplers\n",
    "    - conditional filters\n",
    "    - sequencers"
   ]
  },
  {
   "cell_type": "markdown",
   "metadata": {},
   "source": [
    "## Example 1: Exhaustive Pool With Random Sampler\n",
    "The examples in this notebook will create a Weber line-lengths experiment. The Weber experiment tests human detection of differences between the lengths of two lines. The first example will sample a pool with simple random sampling. We will first define the independent and dependent variables (IVs and DVs, respectively).\n"
   ]
  },
  {
   "cell_type": "code",
   "execution_count": null,
   "metadata": {},
   "outputs": [],
   "source": [
    "# Specifying  Dependent and Independent Variables\n",
    "# Specify independent variables\n",
    "iv1 = IV(\n",
    "    name=\"S1\",\n",
    "    allowed_values=np.linspace(0, 5, 5),\n",
    "    units=\"intensity\",\n",
    "    variable_label=\"Stimulus 1 Intensity\",\n",
    ")\n",
    "\n",
    "iv2 = IV(\n",
    "    name=\"S2\",\n",
    "    allowed_values=np.linspace(0, 5, 5),\n",
    "    units=\"intensity\",\n",
    "    variable_label=\"Stimulus 2 Intensity\",\n",
    ")\n",
    "\n",
    "# The experimentalist pipeline doesn't actually use DVs, they are just specified here for\n",
    "# example.\n",
    "dv1 = DV(\n",
    "    name=\"difference_detected\",\n",
    "    value_range=(0, 1),\n",
    "    units=\"probability\",\n",
    "    variable_label=\"P(difference detected)\",\n",
    "    type=ValueType.PROBABILITY,\n",
    ")\n",
    "\n",
    "# Variable collection with ivs and dvs\n",
    "metadata = VariableCollection(\n",
    "    independent_variables=[iv1, iv2],\n",
    "    dependent_variables=[dv1],\n",
    ")"
   ]
  },
  {
   "cell_type": "markdown",
   "metadata": {},
   "source": [
    "Next we set up the `Pipeline` with three functions:\n",
    "1. `grid_pool` - Generates an exhaustive pool of condition combinations using the Cartesian product of discrete IV values.\n",
    "   - The discrete IV values are specified with the `allowed_values` attribute when defining the IVs.\n",
    "2. `weber_filer` - Filter that selects the experimental design constraint where IV1 <= IV2.\n",
    "3. `random_sample` - Samples the pool of conditions\n",
    "\n",
    "Functions that require keyword inputs are initialized using the `partial` function before passing into `PoolPipeline`."
   ]
  },
  {
   "cell_type": "code",
   "execution_count": null,
   "metadata": {},
   "outputs": [
    {
     "data": {
      "text/plain": [
       "Pipeline(steps=[('grid_pool', <function grid_pool at 0x1077bdf70>), ('weber_filer', <function weber_filter at 0x1077c8550>), ('random_sampler', <function random_sampler at 0x1077c8160>)], params={'grid_pool': {'ivs': [IV(name='S1', value_range=None, allowed_values=array([0.  , 1.25, 2.5 , 3.75, 5.  ]), units='intensity', type=<ValueType.REAL: 'real'>, variable_label='Stimulus 1 Intensity', rescale=1, is_covariate=False), IV(name='S2', value_range=None, allowed_values=array([0.  , 1.25, 2.5 , 3.75, 5.  ]), units='intensity', type=<ValueType.REAL: 'real'>, variable_label='Stimulus 2 Intensity', rescale=1, is_covariate=False)]}, 'random_sampler': {'n': 10}})"
      ]
     },
     "execution_count": null,
     "metadata": {},
     "output_type": "execute_result"
    }
   ],
   "source": [
    "## Set up pipeline functions with the partial function\n",
    "# Random Sampler\n",
    "\n",
    "# Initialize the pipeline\n",
    "pipeline_random_samp = Pipeline([\n",
    "    (\"grid_pool\", grid_pool),\n",
    "    (\"weber_filer\", weber_filter), # Filter that selects conditions with IV1 <= IV2\n",
    "    (\"random_sample\", random_sample)\n",
    "],\n",
    "    {\"grid_pool\": {\"ivs\": metadata.independent_variables}, \"random_sample\": {\"n\": 10}}\n",
    ")\n",
    "pipeline_random_samp"
   ]
  },
  {
   "cell_type": "markdown",
   "metadata": {},
   "source": [
    "The pipleine can be run by calling the `run` method.\n",
    "\n",
    "The pipeline is run twice below to illustrate that random sampling is performed. Rerunning the cell will produce different results.\n"
   ]
  },
  {
   "cell_type": "code",
   "execution_count": null,
   "metadata": {},
   "outputs": [
    {
     "name": "stdout",
     "output_type": "stream",
     "text": [
      "Sampled Conditions:\n",
      " Run 1: [(3.75, 3.75), (1.25, 1.25), (1.25, 2.5), (3.75, 5.0), (2.5, 2.5), (1.25, 5.0), (2.5, 3.75), (0.0, 2.5), (0.0, 1.25), (5.0, 5.0)]\n",
      " Run 2: [(0.0, 5.0), (2.5, 5.0), (5.0, 5.0), (1.25, 1.25), (2.5, 3.75), (0.0, 1.25), (1.25, 3.75), (3.75, 3.75), (0.0, 0.0), (1.25, 2.5)]\n"
     ]
    }
   ],
   "source": [
    "# Run the Pipeline\n",
    "results1 = pipeline_random_samp.run()\n",
    "results2 = pipeline_random_samp.run()\n",
    "print('Sampled Conditions:')\n",
    "print(f' Run 1: {results1}\\n',\n",
    "      f'Run 2: {results2}')"
   ]
  },
  {
   "cell_type": "markdown",
   "metadata": {},
   "source": [
    "An alternative method of passing an instantiated pool iterator is demonstrated below. Note the difference where `grid_pool` is not initialized using the `partial` function but instantiated before initializing the `Pipeline`. `grid_pool` returns an iterator of the exhaustive pool. This will result in unexpected behavior when the Pipeline is run multiple times."
   ]
  },
  {
   "cell_type": "code",
   "execution_count": null,
   "metadata": {},
   "outputs": [
    {
     "name": "stdout",
     "output_type": "stream",
     "text": [
      "Sampled Conditions:\n",
      " Run 1: [(1.25, 1.25), (0.0, 5.0), (1.25, 5.0), (2.5, 3.75), (1.25, 2.5), (5.0, 5.0), (2.5, 5.0), (1.25, 3.75), (0.0, 1.25), (2.5, 2.5)]\n",
      " Run 2: []\n"
     ]
    }
   ],
   "source": [
    "## Set up pipeline functions with the partial function\n",
    "# Pool Function\n",
    "pooler_iterator = grid_pool(metadata.independent_variables)\n",
    "\n",
    "# Initialize the pipeline\n",
    "pipeline_random_samp2 = Pipeline(\n",
    "    [\n",
    "        (\"pool (iterator)\", pooler_iterator),\n",
    "        (\"filter\",weber_filter), # Filter that selects conditions with IV1 <= IV2\n",
    "        (\"sample\", random_sample) # Sampler defined in the first implementation example\n",
    "    ],\n",
    "    {\"sample\": {\"n\": 10}}\n",
    ")\n",
    "# Run the Pipeline\n",
    "results1 = pipeline_random_samp2.run()\n",
    "results2 = pipeline_random_samp2.run()\n",
    "print('Sampled Conditions:')\n",
    "print(f' Run 1: {results1}\\n',\n",
    "      f'Run 2: {results2}')"
   ]
  },
  {
   "cell_type": "markdown",
   "metadata": {},
   "source": [
    "Running the pipeline multiple times results in an empty list. This is because the iterator is exhausted after first run and no longer yields results. If the pipeline needs to be run multiple times, initializing the functions as a callable using the `partial` function is recommended because the iterator will be initialized at the start of each run."
   ]
  },
  {
   "cell_type": "markdown",
   "metadata": {},
   "source": [
    "You could also use the scikit-learn \"__\" syntax to pass parameter sets into the pipeline:"
   ]
  },
  {
   "cell_type": "code",
   "execution_count": null,
   "metadata": {},
   "outputs": [
    {
     "data": {
      "text/plain": [
       "Pipeline(steps=[('grid_pool', <function grid_pool at 0x1077bdf70>), ('weber_filer', <function weber_filter at 0x1077c8550>), ('random_sampler', <function random_sampler at 0x1077c8160>)], params={'grid_pool__ivs': [IV(name='S1', value_range=None, allowed_values=array([0.  , 1.25, 2.5 , 3.75, 5.  ]), units='intensity', type=<ValueType.REAL: 'real'>, variable_label='Stimulus 1 Intensity', rescale=1, is_covariate=False), IV(name='S2', value_range=None, allowed_values=array([0.  , 1.25, 2.5 , 3.75, 5.  ]), units='intensity', type=<ValueType.REAL: 'real'>, variable_label='Stimulus 2 Intensity', rescale=1, is_covariate=False)], 'random_sampler__n': 10})"
      ]
     },
     "execution_count": null,
     "metadata": {},
     "output_type": "execute_result"
    }
   ],
   "source": [
    "pipeline_random_samp = Pipeline([\n",
    "    (\"grid_pool\", grid_pool),\n",
    "    (\"weber_filer\", weber_filter), # Filter that selects conditions with IV1 <= IV2\n",
    "    (\"random_sample\", random_sample)\n",
    "],\n",
    "    {\"grid_pool__ivs\": metadata.independent_variables, \"random_sample__n\": 10}\n",
    ")\n",
    "pipeline_random_samp\n"
   ]
  }
 ],
 "metadata": {
  "kernelspec": {
   "display_name": "Python 3",
   "language": "python",
   "name": "python3"
  },
  "language_info": {
   "codemirror_mode": {
    "name": "ipython",
    "version": 2
   },
   "file_extension": ".py",
   "mimetype": "text/x-python",
   "name": "python",
   "nbconvert_exporter": "python",
   "pygments_lexer": "ipython2"
  }
 },
 "nbformat": 4,
 "nbformat_minor": 0
}
