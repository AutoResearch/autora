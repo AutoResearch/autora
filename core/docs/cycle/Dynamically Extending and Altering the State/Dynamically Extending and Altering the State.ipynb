{
 "cells": [
  {
   "cell_type": "markdown",
   "metadata": {},
   "source": [
    "# Dynamically Extending And Altering The States"
   ]
  },
  {
   "cell_type": "markdown",
   "metadata": {},
   "source": [
    "We can add fields to the `State` or alter the behaviour of the fields dynamically.\n",
    "\n",
    "Here, we show how to use different experimentalists to sample from a common pool and combine the outputs.\n",
    "We achieve this by adding a `pool` field to the `StandardState` and dynamically changing the behaviour of the `conditions` field so instead of replacing the `conditions` they get extended."
   ]
  },
  {
   "cell_type": "markdown",
   "metadata": {},
   "source": [
    "### Defining The State\n",
    "\n",
    "We use the standard State object bundled with `autora`: `StandardState`. This state has four built in fields:\n",
    "`variables`, `conditions`, `experiment_data` and `models`. We can initialize some (or all) of these fields:\n"
   ]
  },
  {
   "cell_type": "code",
   "execution_count": null,
   "metadata": {},
   "outputs": [
    {
     "data": {
      "text/plain": [
       "StandardState(variables=VariableCollection(independent_variables=[Variable(name='x', value_range=(-15, 15), allowed_values=None, units='', type=<ValueType.REAL: 'real'>, variable_label='', rescale=1, is_covariate=False)], dependent_variables=[Variable(name='y', value_range=None, allowed_values=None, units='', type=<ValueType.REAL: 'real'>, variable_label='', rescale=1, is_covariate=False)], covariates=[]), conditions=None, experiment_data=None, models=[])"
      ]
     },
     "execution_count": null,
     "metadata": {},
     "output_type": "execute_result"
    }
   ],
   "source": [
    "import numpy as np\n",
    "import pandas as pd\n",
    "from autora.variable import VariableCollection, Variable\n",
    "from autora.state import StandardState\n",
    "\n",
    "s = StandardState(\n",
    "    variables=VariableCollection(independent_variables=[Variable(\"x\", value_range=(-15,15))],\n",
    "                                 dependent_variables=[Variable(\"y\")]),\n",
    ")\n",
    "\n",
    "s"
   ]
  },
  {
   "cell_type": "markdown",
   "metadata": {},
   "source": [
    "### Adding Pool To The State\n",
    "First, we add a new field, `pool` to state `s`. To do this, we must expand the StandardState class, while adding the field. We want the content of this field to be replaced each time a function writes into the field."
   ]
  },
  {
   "cell_type": "code",
   "execution_count": null,
   "metadata": {},
   "outputs": [
    {
     "data": {
      "text/plain": [
       "ExtendedStandardState(variables=VariableCollection(independent_variables=[Variable(name='x', value_range=(-15, 15), allowed_values=None, units='', type=<ValueType.REAL: 'real'>, variable_label='', rescale=1, is_covariate=False)], dependent_variables=[Variable(name='y', value_range=None, allowed_values=None, units='', type=<ValueType.REAL: 'real'>, variable_label='', rescale=1, is_covariate=False)], covariates=[]), conditions=None, experiment_data=None, models=[], pool=[])"
      ]
     },
     "execution_count": null,
     "metadata": {},
     "output_type": "execute_result"
    }
   ],
   "source": [
    "from dataclasses import dataclass, field\n",
    "\n",
    "@dataclass(frozen=True)\n",
    "class ExtendedStandardState(StandardState):\n",
    "    pool: pd.DataFrame = field(\n",
    "        default_factory=list,\n",
    "        metadata={'delta': 'replace'}\n",
    "    )\n",
    "\n",
    "s = ExtendedStandardState(\n",
    "    variables=VariableCollection(independent_variables=[Variable(\"x\", value_range=(-15,15))],\n",
    "                                 dependent_variables=[Variable(\"y\")])\n",
    ")\n",
    "\n",
    "s"
   ]
  },
  {
   "cell_type": "markdown",
   "metadata": {},
   "source": [
    "We use `random_pool` as our pooler and define the output to be the newly created `pool` field:"
   ]
  },
  {
   "cell_type": "code",
   "execution_count": null,
   "metadata": {},
   "outputs": [
    {
     "data": {
      "text/plain": [
       "ExtendedStandardState(variables=VariableCollection(independent_variables=[Variable(name='x', value_range=(-15, 15), allowed_values=None, units='', type=<ValueType.REAL: 'real'>, variable_label='', rescale=1, is_covariate=False)], dependent_variables=[Variable(name='y', value_range=None, allowed_values=None, units='', type=<ValueType.REAL: 'real'>, variable_label='', rescale=1, is_covariate=False)], covariates=[]), conditions=None, experiment_data=None, models=[], pool=           x\n",
       "0  -3.599348\n",
       "1 -14.328625\n",
       "2 -13.764225\n",
       "3   3.656028\n",
       "4   2.723904\n",
       "5  -7.214785\n",
       "6   6.466772\n",
       "7   7.363881\n",
       "8  13.304111\n",
       "9   2.923905)"
      ]
     },
     "execution_count": null,
     "metadata": {},
     "output_type": "execute_result"
    }
   ],
   "source": [
    "from autora.experimentalist.random import random_pool\n",
    "from autora.state import on_state\n",
    "\n",
    "pool = on_state(random_pool, output=[\"pool\"])\n",
    "\n",
    "s_1 = pool(s, num_samples=10)\n",
    "s_1"
   ]
  },
  {
   "cell_type": "markdown",
   "metadata": {},
   "source": [
    "### Defining The Experimentalists\n",
    "\n",
    "Here, we use a random sampler To make it use the pool as input, we wrap them in a function. The output will be written into the conditions field."
   ]
  },
  {
   "cell_type": "code",
   "execution_count": null,
   "metadata": {},
   "outputs": [
    {
     "data": {
      "text/html": [
       "<div>\n",
       "<style scoped>\n",
       "    .dataframe tbody tr th:only-of-type {\n",
       "        vertical-align: middle;\n",
       "    }\n",
       "\n",
       "    .dataframe tbody tr th {\n",
       "        vertical-align: top;\n",
       "    }\n",
       "\n",
       "    .dataframe thead th {\n",
       "        text-align: right;\n",
       "    }\n",
       "</style>\n",
       "<table border=\"1\" class=\"dataframe\">\n",
       "  <thead>\n",
       "    <tr style=\"text-align: right;\">\n",
       "      <th></th>\n",
       "      <th>x</th>\n",
       "    </tr>\n",
       "  </thead>\n",
       "  <tbody>\n",
       "    <tr>\n",
       "      <th>0</th>\n",
       "      <td>-3.599348</td>\n",
       "    </tr>\n",
       "    <tr>\n",
       "      <th>1</th>\n",
       "      <td>-14.328625</td>\n",
       "    </tr>\n",
       "    <tr>\n",
       "      <th>5</th>\n",
       "      <td>-7.214785</td>\n",
       "    </tr>\n",
       "    <tr>\n",
       "      <th>9</th>\n",
       "      <td>2.923905</td>\n",
       "    </tr>\n",
       "    <tr>\n",
       "      <th>8</th>\n",
       "      <td>13.304111</td>\n",
       "    </tr>\n",
       "  </tbody>\n",
       "</table>\n",
       "</div>"
      ],
      "text/plain": [
       "           x\n",
       "0  -3.599348\n",
       "1 -14.328625\n",
       "5  -7.214785\n",
       "9   2.923905\n",
       "8  13.304111"
      ]
     },
     "execution_count": null,
     "metadata": {},
     "output_type": "execute_result"
    }
   ],
   "source": [
    "from autora.experimentalist.random import random_sample\n",
    "from autora.state import Delta\n",
    "\n",
    "@on_state\n",
    "def sample(pool, **kwargs):\n",
    "    return Delta(conditions=random_sample(pool, **kwargs))\n",
    "\n",
    "s_2 = sample(s_1, num_samples=5)\n",
    "s_2.conditions"
   ]
  },
  {
   "cell_type": "markdown",
   "metadata": {},
   "source": [
    "If we run the sampler on the state again, the conditions get replaced:"
   ]
  },
  {
   "cell_type": "code",
   "execution_count": null,
   "metadata": {},
   "outputs": [
    {
     "data": {
      "text/html": [
       "<div>\n",
       "<style scoped>\n",
       "    .dataframe tbody tr th:only-of-type {\n",
       "        vertical-align: middle;\n",
       "    }\n",
       "\n",
       "    .dataframe tbody tr th {\n",
       "        vertical-align: top;\n",
       "    }\n",
       "\n",
       "    .dataframe thead th {\n",
       "        text-align: right;\n",
       "    }\n",
       "</style>\n",
       "<table border=\"1\" class=\"dataframe\">\n",
       "  <thead>\n",
       "    <tr style=\"text-align: right;\">\n",
       "      <th></th>\n",
       "      <th>x</th>\n",
       "    </tr>\n",
       "  </thead>\n",
       "  <tbody>\n",
       "    <tr>\n",
       "      <th>2</th>\n",
       "      <td>-13.764225</td>\n",
       "    </tr>\n",
       "    <tr>\n",
       "      <th>3</th>\n",
       "      <td>3.656028</td>\n",
       "    </tr>\n",
       "    <tr>\n",
       "      <th>9</th>\n",
       "      <td>2.923905</td>\n",
       "    </tr>\n",
       "  </tbody>\n",
       "</table>\n",
       "</div>"
      ],
      "text/plain": [
       "           x\n",
       "2 -13.764225\n",
       "3   3.656028\n",
       "9   2.923905"
      ]
     },
     "execution_count": null,
     "metadata": {},
     "output_type": "execute_result"
    }
   ],
   "source": [
    "s_3 = sample(s_2, num_samples=3)\n",
    "s_3.conditions"
   ]
  },
  {
   "cell_type": "markdown",
   "metadata": {},
   "source": [
    "We can change this behaviour, by setting the delta of the state:"
   ]
  },
  {
   "cell_type": "code",
   "execution_count": null,
   "metadata": {},
   "outputs": [
    {
     "ename": "AttributeError",
     "evalue": "'ExtendedStandardState' object has no attribute 'set_delta'",
     "output_type": "error",
     "traceback": [
      "\u001b[1;31m---------------------------------------------------------------------------\u001b[0m",
      "\u001b[1;31mAttributeError\u001b[0m                            Traceback (most recent call last)",
      "Cell \u001b[1;32mIn[18], line 1\u001b[0m\n\u001b[1;32m----> 1\u001b[0m \u001b[43ms_3\u001b[49m\u001b[38;5;241;43m.\u001b[39;49m\u001b[43mset_delta\u001b[49m(\u001b[38;5;124m'\u001b[39m\u001b[38;5;124mconditions\u001b[39m\u001b[38;5;124m'\u001b[39m, \u001b[38;5;124m'\u001b[39m\u001b[38;5;124mextend\u001b[39m\u001b[38;5;124m'\u001b[39m)\n\u001b[0;32m      2\u001b[0m s_4 \u001b[38;5;241m=\u001b[39m sample(s_3, num_samples\u001b[38;5;241m=\u001b[39m\u001b[38;5;241m4\u001b[39m)\n\u001b[0;32m      3\u001b[0m s_4\u001b[38;5;241m.\u001b[39mconditions\n",
      "\u001b[1;31mAttributeError\u001b[0m: 'ExtendedStandardState' object has no attribute 'set_delta'"
     ]
    }
   ],
   "source": [
    "s_3.conditions.metadata['delta'] = 'extend'\n",
    "s_4 = sample(s_3, num_samples=4)\n",
    "s_4.conditions"
   ]
  },
  {
   "cell_type": "markdown",
   "metadata": {},
   "source": [
    "###  Defining A Cycle That Dynamically Alters The Behaviour Of A Field\n",
    "\n",
    "We can use this to dynamically switch between replacing and extending the field. This is a toy example since we use the same experimentalist twice, but we could also use other sampling strategies and combine the outputs via  this method."
   ]
  },
  {
   "cell_type": "code",
   "execution_count": null,
   "metadata": {},
   "outputs": [
    {
     "name": "stdout",
     "output_type": "stream",
     "text": [
      "cycle 0, first sample:           x\n",
      "8  6.243647\n",
      "6 -2.637910\n",
      "cycle 0, combined sample:            x\n",
      "0   6.243647\n",
      "1  -2.637910\n",
      "2  10.854779\n",
      "3  -9.031437\n",
      "\n",
      "cycle 1, first sample:            x\n",
      "3  -4.390997\n",
      "2 -13.689377\n",
      "cycle 1, combined sample:            x\n",
      "0  -4.390997\n",
      "1 -13.689377\n",
      "2   8.103764\n",
      "3   0.587679\n",
      "\n",
      "cycle 2, first sample:            x\n",
      "9  13.485559\n",
      "5  -8.526151\n",
      "cycle 2, combined sample:            x\n",
      "0  13.485559\n",
      "1  -8.526151\n",
      "2   8.072581\n",
      "3  12.135963\n",
      "\n",
      "cycle 3, first sample:            x\n",
      "5  13.168087\n",
      "7  -4.252829\n",
      "cycle 3, combined sample:            x\n",
      "0  13.168087\n",
      "1  -4.252829\n",
      "2   9.545601\n",
      "3  13.168087\n",
      "\n",
      "cycle 4, first sample:            x\n",
      "1 -11.610008\n",
      "8  -5.419989\n",
      "cycle 4, combined sample:            x\n",
      "0 -11.610008\n",
      "1  -5.419989\n",
      "2  10.730890\n",
      "3  10.875790\n",
      "\n",
      "cycle 5, first sample:            x\n",
      "0  -0.913466\n",
      "6  13.441385\n",
      "cycle 5, combined sample:            x\n",
      "0  -0.913466\n",
      "1  13.441385\n",
      "2  -2.473232\n",
      "3  -0.913466\n",
      "\n",
      "cycle 6, first sample:            x\n",
      "5  11.894723\n",
      "6   4.894433\n",
      "cycle 6, combined sample:            x\n",
      "0  11.894723\n",
      "1   4.894433\n",
      "2  -6.875161\n",
      "3   0.735716\n",
      "\n",
      "cycle 7, first sample:           x\n",
      "4 -7.696556\n",
      "3 -6.535279\n",
      "cycle 7, combined sample:           x\n",
      "0 -7.696556\n",
      "1 -6.535279\n",
      "2 -7.981432\n",
      "3  5.399625\n",
      "\n",
      "cycle 8, first sample:           x\n",
      "7 -4.805527\n",
      "8 -4.611733\n",
      "cycle 8, combined sample:           x\n",
      "0 -4.805527\n",
      "1 -4.611733\n",
      "2 -4.611733\n",
      "3  2.183176\n",
      "\n",
      "cycle 9, first sample:           x\n",
      "5 -8.000647\n",
      "7  4.524020\n",
      "cycle 9, combined sample:            x\n",
      "0  -8.000647\n",
      "1   4.524020\n",
      "2  -8.000647\n",
      "3 -11.450967\n",
      "\n"
     ]
    }
   ],
   "source": [
    "def cycle(s, i):\n",
    "    s = pool(s, num_samples=10)\n",
    "    s.set_delta(\"conditions\", \"replace\")\n",
    "    s = sample(s, num_samples=2)  # now there are always 2 conditions in the field\n",
    "    print(f'cycle {i}, first sample:', s.conditions)\n",
    "    s.set_delta(\"conditions\", \"extend\")\n",
    "    s = sample(s, num_samples=2)  # now there are 4 conditions in the field\n",
    "    print(f'cycle {i}, combined sample:', s.conditions)\n",
    "    print()\n",
    "    return s\n",
    "\n",
    "for i in range(10):\n",
    "    s = cycle(s, i)\n"
   ]
  }
 ],
 "metadata": {
  "kernelspec": {
   "display_name": "Python 3 (ipykernel)",
   "language": "python",
   "name": "python3"
  },
  "language_info": {
   "codemirror_mode": {
    "name": "ipython",
    "version": 3
   },
   "file_extension": ".py",
   "mimetype": "text/x-python",
   "name": "python",
   "nbconvert_exporter": "python",
   "pygments_lexer": "ipython3"
  }
 },
 "nbformat": 4,
 "nbformat_minor": 1
}
