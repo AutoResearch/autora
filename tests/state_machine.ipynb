{
 "cells": [
  {
   "cell_type": "markdown",
   "source": [
    "# State machine proof of concept"
   ],
   "metadata": {
    "collapsed": false,
    "pycharm": {
     "name": "#%% md\n"
    }
   }
  },
  {
   "cell_type": "code",
   "execution_count": 244,
   "outputs": [],
   "source": [
    "import copy\n",
    "import logging\n",
    "from asyncio import Protocol\n",
    "from dataclasses import dataclass, field\n",
    "from typing import Optional, Any, List\n",
    "_logger = logging.getLogger(__name__)"
   ],
   "metadata": {
    "collapsed": false,
    "pycharm": {
     "name": "#%%\n"
    }
   }
  },
  {
   "cell_type": "markdown",
   "source": [
    "The model we choose is one where the states are \"static\" – nothing changes when we are in a state. As such, the state has only one attribute: a name."
   ],
   "metadata": {
    "collapsed": false,
    "pycharm": {
     "name": "#%% md\n"
    }
   }
  },
  {
   "cell_type": "code",
   "execution_count": 245,
   "outputs": [],
   "source": [
    "@dataclass(frozen=True)\n",
    "class State:\n",
    "    name: str"
   ],
   "metadata": {
    "collapsed": false,
    "pycharm": {
     "name": "#%%\n"
    }
   }
  },
  {
   "cell_type": "markdown",
   "source": [
    "Before we can take a transition, we need to check whether it is allowed. For each state transition, there may be a condition. If the user doesn't want to specify a transition condition, then the transition is always allowed."
   ],
   "metadata": {
    "collapsed": false,
    "pycharm": {
     "name": "#%% md\n"
    }
   }
  },
  {
   "cell_type": "code",
   "execution_count": 246,
   "outputs": [],
   "source": [
    "class TransitionCondition(Protocol):\n",
    "    \"\"\" Checks whether a transition is allowed. \"\"\"\n",
    "    def __call__(self, current_state: State, data: Optional[Any]) -> bool: ...\n",
    "\n",
    "\n",
    "def default_transition_condition(current_state, data):\n",
    "    return True"
   ],
   "metadata": {
    "collapsed": false,
    "pycharm": {
     "name": "#%%\n"
    }
   }
  },
  {
   "cell_type": "markdown",
   "source": [
    "The transitions are dynamic: during a transition, the state changes and the data may change too. We therefore allow a transition callback function which can operate on some data provided by the state machine. Again, if the user doesn't want to specify a transition callback, the data are returned unchanged."
   ],
   "metadata": {
    "collapsed": false,
    "pycharm": {
     "name": "#%% md\n"
    }
   }
  },
  {
   "cell_type": "code",
   "execution_count": 247,
   "outputs": [],
   "source": [
    "class TransitionCallback(Protocol):\n",
    "    \"\"\" Transforms the data when running a transition. \"\"\"\n",
    "    def __call__(self, data: Any) -> Any: ...\n",
    "\n",
    "\n",
    "def default_transition_callback(data):\n",
    "    return data"
   ],
   "metadata": {
    "collapsed": false,
    "pycharm": {
     "name": "#%%\n"
    }
   }
  },
  {
   "cell_type": "markdown",
   "source": [
    "Now we can define the transition itself. It has a starting state, ending state, the `TransitionCondition` function to check whether it is allowed and the `TransitionCallback` function to update the data."
   ],
   "metadata": {
    "collapsed": false,
    "pycharm": {
     "name": "#%% md\n"
    }
   }
  },
  {
   "cell_type": "code",
   "execution_count": 248,
   "outputs": [],
   "source": [
    "@dataclass(frozen=True)\n",
    "class Transition:\n",
    "    name: str\n",
    "    state1: State\n",
    "    state2: State\n",
    "    allowed: TransitionCondition = default_transition_condition\n",
    "    callback: TransitionCallback = default_transition_callback"
   ],
   "metadata": {
    "collapsed": false,
    "pycharm": {
     "name": "#%%\n"
    }
   }
  },
  {
   "cell_type": "markdown",
   "source": [
    "To ensure that the state machine can be run in parallel without the risk of unexpected overwriting, we always ensure that the data, if they are provided, are frozen. The user can define their own data type to hold their application results, we provide only a minimum object as an example."
   ],
   "metadata": {
    "collapsed": false,
    "pycharm": {
     "name": "#%% md\n"
    }
   }
  },
  {
   "cell_type": "code",
   "execution_count": 249,
   "outputs": [],
   "source": [
    "@dataclass(frozen=True)\n",
    "class ImmutableData:\n",
    "    pass"
   ],
   "metadata": {
    "collapsed": false,
    "pycharm": {
     "name": "#%%\n"
    }
   }
  },
  {
   "cell_type": "markdown",
   "source": [
    "We define the state machine to have:\n",
    "- states,\n",
    "- transitions,\n",
    "- a current state,\n",
    "- and some arbitrary data.\n",
    "\n",
    "The following functionalities are defined as methods:\n",
    "- We can print a representation of the machine, its transitions and its current state.\n",
    "- We can register and unregister states and transitions to change the way the machine works.\n",
    "- We can set the current state, and\n",
    "- We can set the data.\n",
    "- We can take a \"step\" to find the first allowed transition from the current state and carry it out, executing the callback function."
   ],
   "metadata": {
    "collapsed": false,
    "pycharm": {
     "name": "#%% md\n"
    }
   }
  },
  {
   "cell_type": "code",
   "execution_count": 251,
   "outputs": [],
   "source": [
    "@dataclass\n",
    "class StateMachine(object):\n",
    "\n",
    "    states: List[State] = field(default_factory=list)\n",
    "    transitions: List[Transition] = field(default_factory=list)\n",
    "    current_state: State = None\n",
    "    data: ImmutableData = field(default_factory=ImmutableData)\n",
    "\n",
    "    def register_state(self, state: State):\n",
    "        self.states.append(state)\n",
    "\n",
    "    def unregister_state(self, state: State):\n",
    "        self.states.remove(state)\n",
    "\n",
    "    def register_transition(self, transition: Transition):\n",
    "        self.transitions.append(transition)\n",
    "\n",
    "    def unregister_transition(self, transition: Transition):\n",
    "        self.transitions.remove(transition)\n",
    "\n",
    "    def set_current_state(self, state: State):\n",
    "        self.current_state = state\n",
    "\n",
    "    def set_data(self, data: ImmutableData):\n",
    "        self.data = data\n",
    "\n",
    "    def step(self):\n",
    "        _logger.info(f\"{self.current_state=}\")\n",
    "\n",
    "        allowed_transitions = (\n",
    "            k for k in self.transitions\n",
    "            if k.state1 == self.current_state\n",
    "            and k.allowed(self.current_state, self.data)\n",
    "        )\n",
    "        try:\n",
    "            transition = next(allowed_transitions)\n",
    "        except StopIteration:\n",
    "            raise StopIteration(f\"There are no more allowed transitions from {self.current_state=} with {self.data=}\")\n",
    "\n",
    "        _logger.info(f\"next {transition=}\")\n",
    "        assert isinstance(transition, Transition), f\"{transition} is not a Transition – something's gone wrong.\"\n",
    "\n",
    "        _logger.info(f\"running {transition.callback=}\")\n",
    "        new_data = transition.callback(self.data)\n",
    "\n",
    "        _logger.info(f\"updating data with {new_data=}\")\n",
    "        self.data = new_data\n",
    "\n",
    "        _logger.info(f\"moving from {transition.state1=} to {transition.state2=}\")\n",
    "        self.current_state = transition.state2"
   ],
   "metadata": {
    "collapsed": false,
    "pycharm": {
     "name": "#%%\n"
    }
   }
  },
  {
   "cell_type": "markdown",
   "source": [
    "## Example usage 0: a trivial two state stopping machine\n",
    "We initialize an empty state machine, and add two states with a single transition."
   ],
   "metadata": {
    "collapsed": false,
    "pycharm": {
     "name": "#%% md\n"
    }
   }
  },
  {
   "cell_type": "code",
   "execution_count": 252,
   "outputs": [
    {
     "data": {
      "text/plain": "StateMachine(states=[State(name='start'), State(name='end')], transitions=[Transition(name='start-end', state1=State(name='start'), state2=State(name='end'), allowed=<function default_transition_condition at 0x1600295a0>, callback=<function default_transition_callback at 0x16002a050>)], current_state=State(name='start'), data=ImmutableData())"
     },
     "execution_count": 252,
     "metadata": {},
     "output_type": "execute_result"
    }
   ],
   "source": [
    "trivial_machine = StateMachine()\n",
    "\n",
    "start = State(\"start\")\n",
    "end = State(\"end\")\n",
    "trivial_machine.register_state(start)\n",
    "trivial_machine.register_state(end)\n",
    "\n",
    "transition_start_end = Transition(\"start-end\", start, end)\n",
    "trivial_machine.register_transition(transition_start_end)\n",
    "\n",
    "trivial_machine.set_current_state(start)\n",
    "trivial_machine"
   ],
   "metadata": {
    "collapsed": false,
    "pycharm": {
     "name": "#%%\n"
    }
   }
  },
  {
   "cell_type": "markdown",
   "source": [
    "The machine is in the starting state:"
   ],
   "metadata": {
    "collapsed": false,
    "pycharm": {
     "name": "#%% md\n"
    }
   }
  },
  {
   "cell_type": "code",
   "execution_count": 253,
   "outputs": [
    {
     "name": "stdout",
     "output_type": "stream",
     "text": [
      "State(name='start')\n"
     ]
    }
   ],
   "source": [
    "print(trivial_machine.current_state)"
   ],
   "metadata": {
    "collapsed": false,
    "pycharm": {
     "name": "#%%\n"
    }
   }
  },
  {
   "cell_type": "markdown",
   "source": [
    "Now we can run one step:"
   ],
   "metadata": {
    "collapsed": false,
    "pycharm": {
     "name": "#%% md\n"
    }
   }
  },
  {
   "cell_type": "code",
   "execution_count": 254,
   "outputs": [
    {
     "name": "stdout",
     "output_type": "stream",
     "text": [
      "State(name='end')\n"
     ]
    }
   ],
   "source": [
    "trivial_machine.step()\n",
    "print(trivial_machine.current_state)"
   ],
   "metadata": {
    "collapsed": false,
    "pycharm": {
     "name": "#%%\n"
    }
   }
  },
  {
   "cell_type": "markdown",
   "source": [
    "If we try to step once more, the machine raises an exception (as is the pythonic way)."
   ],
   "metadata": {
    "collapsed": false,
    "pycharm": {
     "name": "#%% md\n"
    }
   }
  },
  {
   "cell_type": "code",
   "execution_count": 255,
   "outputs": [
    {
     "name": "stdout",
     "output_type": "stream",
     "text": [
      "exception=StopIteration(\"There are no more allowed transitions from self.current_state=State(name='end') with self.data=ImmutableData()\")\n"
     ]
    }
   ],
   "source": [
    "try:\n",
    "    trivial_machine.step()\n",
    "except StopIteration as exception:\n",
    "    print(f\"{exception=}\")"
   ],
   "metadata": {
    "collapsed": false,
    "pycharm": {
     "name": "#%%\n"
    }
   }
  },
  {
   "cell_type": "markdown",
   "source": [
    "## Example usage 1: a simple three state cycling machine\n",
    "We initalize an empty state machine, to which states and transitions can be added."
   ],
   "metadata": {
    "collapsed": false,
    "pycharm": {
     "name": "#%% md\n"
    }
   }
  },
  {
   "cell_type": "code",
   "execution_count": 256,
   "outputs": [],
   "source": [
    "machine = StateMachine()"
   ],
   "metadata": {
    "collapsed": false,
    "pycharm": {
     "name": "#%%\n"
    }
   }
  },
  {
   "cell_type": "markdown",
   "source": [
    "In this machine, we have three states which we register to the machine."
   ],
   "metadata": {
    "collapsed": false,
    "pycharm": {
     "name": "#%% md\n"
    }
   }
  },
  {
   "cell_type": "code",
   "execution_count": 257,
   "outputs": [],
   "source": [
    "state_new_theory = State(\"new_theory\")\n",
    "state_new_experiment = State(\"new_experiment\")\n",
    "state_new_data = State(\"new_data\")\n",
    "\n",
    "machine.register_state(state_new_theory)\n",
    "machine.register_state(state_new_experiment)\n",
    "machine.register_state(state_new_data)"
   ],
   "metadata": {
    "collapsed": false,
    "pycharm": {
     "name": "#%%\n"
    }
   }
  },
  {
   "cell_type": "markdown",
   "source": [
    "There are three transitions, which we also register to the machine."
   ],
   "metadata": {
    "collapsed": false,
    "pycharm": {
     "name": "#%% md\n"
    }
   }
  },
  {
   "cell_type": "code",
   "execution_count": 258,
   "outputs": [],
   "source": [
    "transition_theorist = Transition(\n",
    "    state1=state_new_data,\n",
    "    name=\"theorist\",\n",
    "    state2=state_new_theory\n",
    ")\n",
    "transition_experimentalist = Transition(\n",
    "    state1=state_new_theory,\n",
    "    name=\"experimentalist\",\n",
    "    state2=state_new_experiment,\n",
    ")\n",
    "transition_experiment_runner = Transition(\n",
    "    state1=state_new_experiment,\n",
    "    name=\"experiment_runner\",\n",
    "    state2=state_new_data,\n",
    ")\n",
    "\n",
    "machine.register_transition(transition_theorist)\n",
    "machine.register_transition(transition_experimentalist)\n",
    "machine.register_transition(transition_experiment_runner)"
   ],
   "metadata": {
    "collapsed": false,
    "pycharm": {
     "name": "#%%\n"
    }
   }
  },
  {
   "cell_type": "markdown",
   "source": [
    "We set the current state of the machine once."
   ],
   "metadata": {
    "collapsed": false,
    "pycharm": {
     "name": "#%% md\n"
    }
   }
  },
  {
   "cell_type": "code",
   "execution_count": 259,
   "outputs": [],
   "source": [
    "machine.set_current_state(state_new_experiment)"
   ],
   "metadata": {
    "collapsed": false,
    "pycharm": {
     "name": "#%%\n"
    }
   }
  },
  {
   "cell_type": "markdown",
   "source": [
    "The machine looks as follows:"
   ],
   "metadata": {
    "collapsed": false,
    "pycharm": {
     "name": "#%% md\n"
    }
   }
  },
  {
   "cell_type": "code",
   "execution_count": 260,
   "outputs": [
    {
     "data": {
      "text/plain": "StateMachine(states=[State(name='new_theory'), State(name='new_experiment'), State(name='new_data')], transitions=[Transition(name='theorist', state1=State(name='new_data'), state2=State(name='new_theory'), allowed=<function default_transition_condition at 0x1600295a0>, callback=<function default_transition_callback at 0x16002a050>), Transition(name='experimentalist', state1=State(name='new_theory'), state2=State(name='new_experiment'), allowed=<function default_transition_condition at 0x1600295a0>, callback=<function default_transition_callback at 0x16002a050>), Transition(name='experiment_runner', state1=State(name='new_experiment'), state2=State(name='new_data'), allowed=<function default_transition_condition at 0x1600295a0>, callback=<function default_transition_callback at 0x16002a050>)], current_state=State(name='new_experiment'), data=ImmutableData())"
     },
     "execution_count": 260,
     "metadata": {},
     "output_type": "execute_result"
    }
   ],
   "source": [
    "machine"
   ],
   "metadata": {
    "collapsed": false,
    "pycharm": {
     "name": "#%%\n"
    }
   }
  },
  {
   "cell_type": "markdown",
   "source": [
    "Now we can run a few steps, and see what happens to the machine."
   ],
   "metadata": {
    "collapsed": false,
    "pycharm": {
     "name": "#%% md\n"
    }
   }
  },
  {
   "cell_type": "code",
   "execution_count": 261,
   "outputs": [
    {
     "name": "stdout",
     "output_type": "stream",
     "text": [
      "State(name='new_data')\n",
      "State(name='new_theory')\n",
      "State(name='new_experiment')\n",
      "State(name='new_data')\n",
      "State(name='new_theory')\n",
      "State(name='new_experiment')\n",
      "State(name='new_data')\n",
      "State(name='new_theory')\n",
      "State(name='new_experiment')\n",
      "State(name='new_data')\n"
     ]
    }
   ],
   "source": [
    "for i in range(10):\n",
    "    machine.step()\n",
    "    print(machine.current_state)"
   ],
   "metadata": {
    "collapsed": false,
    "pycharm": {
     "name": "#%%\n"
    }
   }
  },
  {
   "cell_type": "markdown",
   "source": [
    "As we see, it cycles through the states as expected."
   ],
   "metadata": {
    "collapsed": false,
    "pycharm": {
     "name": "#%% md\n"
    }
   }
  },
  {
   "cell_type": "markdown",
   "source": [
    "## Add an additional state and new transitions to the simple machine\n"
   ],
   "metadata": {
    "collapsed": false,
    "pycharm": {
     "name": "#%% md\n"
    }
   }
  },
  {
   "cell_type": "code",
   "execution_count": 262,
   "outputs": [],
   "source": [
    "machine_with_additional_step  = copy.copy(machine)\n",
    "\n",
    "state_validated_experiment = State(\"validated_experiment\")\n",
    "\n",
    "transition_experimental_validation=Transition(\n",
    "    state1=state_new_experiment,\n",
    "    name=\"experimental_validation\",\n",
    "    state2=state_validated_experiment,\n",
    ")\n",
    "transition_run_validated_experiment=Transition(\n",
    "    state1=state_validated_experiment,\n",
    "    name=\"run_validated_experiment\",\n",
    "    state2=state_new_data,\n",
    ")\n",
    "\n",
    "machine_with_additional_step.register_state(state_validated_experiment)\n",
    "\n",
    "machine_with_additional_step.unregister_transition(transition_experiment_runner)\n",
    "machine_with_additional_step.register_transition(transition_experimental_validation)\n",
    "machine_with_additional_step.register_transition(transition_run_validated_experiment)"
   ],
   "metadata": {
    "collapsed": false,
    "pycharm": {
     "name": "#%%\n"
    }
   }
  },
  {
   "cell_type": "code",
   "execution_count": 263,
   "outputs": [
    {
     "name": "stdout",
     "output_type": "stream",
     "text": [
      "State(name='new_theory')\n",
      "State(name='new_experiment')\n",
      "State(name='validated_experiment')\n",
      "State(name='new_data')\n",
      "State(name='new_theory')\n",
      "State(name='new_experiment')\n",
      "State(name='validated_experiment')\n",
      "State(name='new_data')\n",
      "State(name='new_theory')\n",
      "State(name='new_experiment')\n"
     ]
    }
   ],
   "source": [
    "for i in range(10):\n",
    "    machine_with_additional_step.step()\n",
    "    print(machine_with_additional_step.current_state)"
   ],
   "metadata": {
    "collapsed": false,
    "pycharm": {
     "name": "#%%\n"
    }
   }
  },
  {
   "cell_type": "markdown",
   "source": [
    "## Add additional data / metadata to a simple machine"
   ],
   "metadata": {
    "collapsed": false,
    "pycharm": {
     "name": "#%% md\n"
    }
   }
  },
  {
   "cell_type": "code",
   "execution_count": 264,
   "outputs": [],
   "source": [
    "trivial_machine = StateMachine()\n",
    "\n",
    "state_A = State(\"A\")\n",
    "state_B = State(\"B\")\n",
    "trivial_machine.register_state(state_A)\n",
    "trivial_machine.register_state(state_B)\n",
    "\n",
    "@dataclass(frozen=True)\n",
    "class PlusMinusMachineData:\n",
    "    value: int\n",
    "\n",
    "initial_data = PlusMinusMachineData(1)\n",
    "trivial_machine.set_data(initial_data)\n",
    "trivial_machine.set_current_state(state_A)\n",
    "\n",
    "transition_2 = Transition(\"A -> B\", state_A, state_B, callback=lambda x: PlusMinusMachineData(x.value + 2))\n",
    "transition_1 = Transition(\"B -> A\", state_B, state_A, callback=lambda x: PlusMinusMachineData(x.value - 1))\n",
    "trivial_machine.register_transition(transition_1)\n",
    "trivial_machine.register_transition(transition_2)"
   ],
   "metadata": {
    "collapsed": false,
    "pycharm": {
     "name": "#%%\n"
    }
   }
  },
  {
   "cell_type": "markdown",
   "source": [
    "In the starting state, the value in the data is =1."
   ],
   "metadata": {
    "collapsed": false,
    "pycharm": {
     "name": "#%% md\n"
    }
   }
  },
  {
   "cell_type": "code",
   "execution_count": 265,
   "outputs": [
    {
     "name": "stdout",
     "output_type": "stream",
     "text": [
      "trivial_machine.data=PlusMinusMachineData(value=1)\n"
     ]
    }
   ],
   "source": [
    "print(f\"{trivial_machine.data=}\")"
   ],
   "metadata": {
    "collapsed": false,
    "pycharm": {
     "name": "#%%\n"
    }
   }
  },
  {
   "cell_type": "markdown",
   "source": [
    "Each step the transition function is called.\n",
    "The first, from state A to state B adds 2 to the value."
   ],
   "metadata": {
    "collapsed": false,
    "pycharm": {
     "name": "#%% md\n"
    }
   },
   "outputs": []
  },
  {
   "cell_type": "code",
   "execution_count": 266,
   "outputs": [
    {
     "name": "stdout",
     "output_type": "stream",
     "text": [
      "trivial_machine.data=PlusMinusMachineData(value=3)\n"
     ]
    }
   ],
   "source": [
    "trivial_machine.step()\n",
    "print(f\"{trivial_machine.data=}\")"
   ],
   "metadata": {
    "collapsed": false,
    "pycharm": {
     "name": "#%%\n"
    }
   }
  },
  {
   "cell_type": "markdown",
   "source": [
    "Then the second from state B to state A is \"-1\"..."
   ],
   "metadata": {
    "collapsed": false,
    "pycharm": {
     "name": "#%% md\n"
    }
   }
  },
  {
   "cell_type": "code",
   "execution_count": 267,
   "outputs": [
    {
     "name": "stdout",
     "output_type": "stream",
     "text": [
      "trivial_machine.data=PlusMinusMachineData(value=2)\n"
     ]
    }
   ],
   "source": [
    "trivial_machine.step()\n",
    "print(f\"{trivial_machine.data=}\")"
   ],
   "metadata": {
    "collapsed": false,
    "pycharm": {
     "name": "#%%\n"
    }
   }
  },
  {
   "cell_type": "markdown",
   "source": [
    " ... and then the iteration starts from state A to state B again."
   ],
   "metadata": {
    "collapsed": false,
    "pycharm": {
     "name": "#%% md\n"
    }
   }
  },
  {
   "cell_type": "code",
   "execution_count": 268,
   "outputs": [
    {
     "name": "stdout",
     "output_type": "stream",
     "text": [
      "trivial_machine.data=PlusMinusMachineData(value=4)\n",
      "trivial_machine.data=PlusMinusMachineData(value=3)\n",
      "trivial_machine.data=PlusMinusMachineData(value=5)\n",
      "trivial_machine.data=PlusMinusMachineData(value=4)\n",
      "trivial_machine.data=PlusMinusMachineData(value=6)\n",
      "trivial_machine.data=PlusMinusMachineData(value=5)\n",
      "trivial_machine.data=PlusMinusMachineData(value=7)\n",
      "trivial_machine.data=PlusMinusMachineData(value=6)\n",
      "trivial_machine.data=PlusMinusMachineData(value=8)\n"
     ]
    }
   ],
   "source": [
    "for i in range(9):\n",
    "    trivial_machine.step()\n",
    "    print(f\"{trivial_machine.data=}\")"
   ],
   "metadata": {
    "collapsed": false,
    "pycharm": {
     "name": "#%%\n"
    }
   }
  },
  {
   "cell_type": "markdown",
   "source": [
    "The initial value, and the results at each stage, are treated as immutable, so they can be passed around and used without the risk that the cycler will inadvertently change them."
   ],
   "metadata": {
    "collapsed": false,
    "pycharm": {
     "name": "#%% md\n"
    }
   }
  },
  {
   "cell_type": "code",
   "execution_count": 269,
   "outputs": [
    {
     "name": "stdout",
     "output_type": "stream",
     "text": [
      "initial_data=PlusMinusMachineData(value=1)\n"
     ]
    }
   ],
   "source": [
    "print(f\"{initial_data=}\")"
   ],
   "metadata": {
    "collapsed": false,
    "pycharm": {
     "name": "#%%\n"
    }
   }
  },
  {
   "cell_type": "code",
   "execution_count": 270,
   "outputs": [
    {
     "data": {
      "text/plain": "PlusMinusMachineData(value=8)"
     },
     "execution_count": 270,
     "metadata": {},
     "output_type": "execute_result"
    }
   ],
   "source": [
    "the_data_after_all_the_iterations_so_far = trivial_machine.data\n",
    "the_data_after_all_the_iterations_so_far"
   ],
   "metadata": {
    "collapsed": false,
    "pycharm": {
     "name": "#%%\n"
    }
   }
  },
  {
   "cell_type": "code",
   "execution_count": 271,
   "outputs": [
    {
     "name": "stdout",
     "output_type": "stream",
     "text": [
      "the data we just saved:\n",
      "the_data_after_all_the_iterations_so_far=PlusMinusMachineData(value=8)\n",
      "the current value after n=1000 more iterations:\n",
      "trivial_machine.data=PlusMinusMachineData(value=508)\n"
     ]
    }
   ],
   "source": [
    "n = 1000\n",
    "for i in range(n):\n",
    "    trivial_machine.step()\n",
    "print(f\"the data we just saved:\\n{the_data_after_all_the_iterations_so_far=}\\nthe current value after {n=} more iterations:\\n{trivial_machine.data=}\")"
   ],
   "metadata": {
    "collapsed": false,
    "pycharm": {
     "name": "#%%\n"
    }
   }
  },
  {
   "cell_type": "markdown",
   "source": [
    "## Machine with a stopping condition\n",
    "Sometimes, the machine will need to stop conditionally based on some computed value.\n",
    "Here we start from the value -1234 and stop when the value gets to be over 0 by means of a condition which disallows all other transitions."
   ],
   "metadata": {
    "collapsed": false,
    "pycharm": {
     "name": "#%% md\n"
    }
   }
  },
  {
   "cell_type": "code",
   "execution_count": 272,
   "outputs": [],
   "source": [
    "stopping_machine = StateMachine()\n",
    "\n",
    "state_C = State(\"C\")\n",
    "state_D = State(\"D\")\n",
    "stopping_machine.register_state(state_C)\n",
    "stopping_machine.register_state(state_D)\n",
    "\n",
    "initial_data = PlusMinusMachineData(-1234)\n",
    "stopping_machine.set_data(initial_data)\n",
    "stopping_machine.set_current_state(state_C)\n",
    "\n",
    "transition_CD = Transition(\n",
    "    \"C -> D\",\n",
    "    state_C,\n",
    "    state_D,\n",
    "    callback=lambda x: PlusMinusMachineData(x.value + 2),\n",
    "    allowed=lambda state, data: data.value < 0\n",
    ")\n",
    "transition_DC = Transition(\"D -> C\", state_D, state_C, callback=lambda x: PlusMinusMachineData(x.value - 1))\n",
    "stopping_machine.register_transition(transition_CD)\n",
    "stopping_machine.register_transition(transition_DC)\n"
   ],
   "metadata": {
    "collapsed": false,
    "pycharm": {
     "name": "#%%\n"
    }
   }
  },
  {
   "cell_type": "code",
   "execution_count": 273,
   "outputs": [
    {
     "name": "stdout",
     "output_type": "stream",
     "text": [
      "started with: stopping_machine.data=PlusMinusMachineData(value=-1234)\n",
      "machine stopped after i=2468 iterations\n",
      "finished with: stopping_machine.data=PlusMinusMachineData(value=0)\n"
     ]
    }
   ],
   "source": [
    "print(f\"started with: {stopping_machine.data=}\")\n",
    "i=0\n",
    "while True:\n",
    "    try:\n",
    "        stopping_machine.step()\n",
    "        i+=1\n",
    "    except StopIteration:\n",
    "        print(f\"machine stopped after {i=} iterations\")\n",
    "        break\n",
    "print(f\"finished with: {stopping_machine.data=}\")"
   ],
   "metadata": {
    "collapsed": false,
    "pycharm": {
     "name": "#%%\n"
    }
   }
  },
  {
   "cell_type": "markdown",
   "source": [
    "## Machine with a stopping state\n",
    "Alternatively, we can stop by having a stopping state from which there is no transition. This would allow doing \"special\" steps at the end of the cycle.\n",
    "The transfer to the stopping state is the first (highest priority) transition, but is only allowed when a condition is met."
   ],
   "metadata": {
    "collapsed": false,
    "pycharm": {
     "name": "#%% md\n"
    }
   }
  },
  {
   "cell_type": "code",
   "execution_count": 274,
   "outputs": [],
   "source": [
    "machine_with_stopped_state = StateMachine()\n",
    "\n",
    "stopped_state = State(\"stopped\")\n",
    "machine_with_stopped_state.register_state(state_C)\n",
    "machine_with_stopped_state.register_state(state_D)\n",
    "machine_with_stopped_state.register_state(stopped_state)\n",
    "\n",
    "initial_data = PlusMinusMachineData(-1234)\n",
    "machine_with_stopped_state.set_data(initial_data)\n",
    "machine_with_stopped_state.set_current_state(state_C)\n",
    "\n",
    "transition_Cstopped = Transition(\n",
    "    \"C -> stopped\",\n",
    "    state_C,\n",
    "    stopped_state,\n",
    "    allowed=lambda state, data: data.value >= 0\n",
    ")\n",
    "transition_CD = Transition(\n",
    "    \"C -> D\",\n",
    "    state_C,\n",
    "    state_D,\n",
    "    callback=lambda x: PlusMinusMachineData(x.value + 2),\n",
    ")\n",
    "transition_DC = Transition(\"D -> C\", state_D, state_C, callback=lambda x: PlusMinusMachineData(x.value - 1))\n",
    "machine_with_stopped_state.register_transition(transition_Cstopped)\n",
    "machine_with_stopped_state.register_transition(transition_CD)\n",
    "machine_with_stopped_state.register_transition(transition_DC)"
   ],
   "metadata": {
    "collapsed": false,
    "pycharm": {
     "name": "#%%\n"
    }
   }
  },
  {
   "cell_type": "code",
   "execution_count": 275,
   "outputs": [
    {
     "name": "stdout",
     "output_type": "stream",
     "text": [
      "started with: machine_with_stopped_state.data=PlusMinusMachineData(value=-1234)\n",
      "machine stopped after i=2469 iterations\n",
      "finished with: machine_with_stopped_state.data=PlusMinusMachineData(value=0)\n"
     ]
    }
   ],
   "source": [
    "print(f\"started with: {machine_with_stopped_state.data=}\")\n",
    "i=0\n",
    "while True:\n",
    "    try:\n",
    "        machine_with_stopped_state.step()\n",
    "        i+=1\n",
    "    except StopIteration:\n",
    "        print(f\"machine stopped after {i=} iterations\")\n",
    "        break\n",
    "print(f\"finished with: {machine_with_stopped_state.data=}\")"
   ],
   "metadata": {
    "collapsed": false,
    "pycharm": {
     "name": "#%%\n"
    }
   }
  },
  {
   "cell_type": "code",
   "execution_count": 231,
   "outputs": [],
   "source": [],
   "metadata": {
    "collapsed": false,
    "pycharm": {
     "name": "#%%\n"
    }
   }
  }
 ],
 "metadata": {
  "kernelspec": {
   "display_name": "Python 3",
   "language": "python",
   "name": "python3"
  },
  "language_info": {
   "codemirror_mode": {
    "name": "ipython",
    "version": 2
   },
   "file_extension": ".py",
   "mimetype": "text/x-python",
   "name": "python",
   "nbconvert_exporter": "python",
   "pygments_lexer": "ipython2",
   "version": "2.7.6"
  }
 },
 "nbformat": 4,
 "nbformat_minor": 0
}