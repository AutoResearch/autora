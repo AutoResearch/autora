{
 "cells": [
  {
   "cell_type": "markdown",
   "metadata": {},
   "source": [
    "# Linear Mixed Model"
   ]
  },
  {
   "cell_type": "code",
   "execution_count": 1,
   "metadata": {},
   "outputs": [],
   "source": [
    "# Uncomment the following line when running on Google Colab\n",
    "# !pip install \"autora\""
   ]
  },
  {
   "cell_type": "markdown",
   "metadata": {},
   "source": [
    "The linear mixed model experiment has to be initialized with a specific formula and effects."
   ]
  },
  {
   "cell_type": "code",
   "execution_count": 2,
   "metadata": {},
   "outputs": [],
   "source": [
    "import numpy as np\n",
    "from autora.experiment_runner.synthetic.abstract.lmm import lmm_experiment\n",
    "# Formula\n",
    "formula = 'rt ~ 1 + x1'\n",
    "# Initialize effects:\n",
    "fixed_effects = {'Intercept': 0., 'x1': 2.}\n",
    "\n",
    "s = lmm_experiment(formula=formula, fixed_effects=fixed_effects)"
   ]
  },
  {
   "cell_type": "markdown",
   "metadata": {},
   "source": [
    "Check the docstring to get information about the model"
   ]
  },
  {
   "cell_type": "code",
   "execution_count": 3,
   "metadata": {},
   "outputs": [
    {
     "name": "stdout",
     "output_type": "stream",
     "text": [
      "Help on function lmm_experiment in module autora.experiment_runner.synthetic.abstract.lmm:\n",
      "\n",
      "lmm_experiment(formula: str, fixed_effects: Optional[dict] = None, random_effects: Optional[dict] = None, X: Optional[Sequence[autora.variable.IV]] = None, random_state: Optional[int] = None, name: str = 'Linear Mixed Model Experiment')\n",
      "    A linear mixed model synthetic experiments.\n",
      "    \n",
      "    Parameters:\n",
      "        name: name of the experiment\n",
      "        formula: formula of the linear mixed model (similar to lmer package in R)\n",
      "        fixed_effects: dictionary describing the fixed effects (Intercept and slopes)\n",
      "        random_effects: nested dictionary describing the random effects of slopes and intercept.\n",
      "            These are standard deviasions in a normal distribution with a mean of zero.\n",
      "        X: Independent variable descriptions. Used to add allowed values\n",
      "\n"
     ]
    }
   ],
   "source": [
    "help(lmm_experiment)"
   ]
  },
  {
   "cell_type": "markdown",
   "metadata": {},
   "source": [
    "... or use the describe function:"
   ]
  },
  {
   "cell_type": "code",
   "execution_count": 4,
   "metadata": {},
   "outputs": [
    {
     "name": "stdout",
     "output_type": "stream",
     "text": [
      "\n",
      "    A linear mixed model synthetic experiments.\n",
      "\n",
      "    Parameters:\n",
      "        name: name of the experiment\n",
      "        formula: formula of the linear mixed model (similar to lmer package in R)\n",
      "        fixed_effects: dictionary describing the fixed effects (Intercept and slopes)\n",
      "        random_effects: nested dictionary describing the random effects of slopes and intercept.\n",
      "            These are standard deviasions in a normal distribution with a mean of zero.\n",
      "        X: Independent variable descriptions. Used to add allowed values\n",
      "    \n"
     ]
    }
   ],
   "source": [
    "from autora.experiment_runner.synthetic.utilities import describe\n",
    "\n",
    "print(describe(s))"
   ]
  },
  {
   "cell_type": "markdown",
   "metadata": {},
   "source": [
    "The synthetic experiement `s` has properties like the name of the experiment:"
   ]
  },
  {
   "cell_type": "code",
   "execution_count": 5,
   "metadata": {},
   "outputs": [
    {
     "data": {
      "text/plain": "'Linear Mixed Model Experiment'"
     },
     "execution_count": 5,
     "metadata": {},
     "output_type": "execute_result"
    }
   ],
   "source": [
    "s.name"
   ]
  },
  {
   "cell_type": "markdown",
   "metadata": {},
   "source": [
    "... a valid variables description:"
   ]
  },
  {
   "cell_type": "code",
   "execution_count": 6,
   "metadata": {},
   "outputs": [
    {
     "data": {
      "text/plain": "VariableCollection(independent_variables=[IV(name='x1', value_range=None, allowed_values=None, units='', type=<ValueType.REAL: 'real'>, variable_label='Independent Variable', rescale=1, is_covariate=False)], dependent_variables=[DV(name='rt', value_range=None, allowed_values=None, units='', type=<ValueType.REAL: 'real'>, variable_label='Dependent Variable', rescale=1, is_covariate=False)], covariates=[])"
     },
     "execution_count": 6,
     "metadata": {},
     "output_type": "execute_result"
    }
   ],
   "source": [
    "s.variables"
   ]
  },
  {
   "cell_type": "markdown",
   "metadata": {},
   "source": [
    "... this variable description depends on the formula:"
   ]
  },
  {
   "cell_type": "code",
   "execution_count": 7,
   "outputs": [
    {
     "data": {
      "text/plain": "VariableCollection(independent_variables=[IV(name='intensity', value_range=None, allowed_values=None, units='', type=<ValueType.REAL: 'real'>, variable_label='Independent Variable', rescale=1, is_covariate=False)], dependent_variables=[DV(name='probability', value_range=None, allowed_values=None, units='', type=<ValueType.REAL: 'real'>, variable_label='Dependent Variable', rescale=1, is_covariate=False)], covariates=[])"
     },
     "execution_count": 7,
     "metadata": {},
     "output_type": "execute_result"
    }
   ],
   "source": [
    "formula = 'probability ~ 1 + intensity'\n",
    "# Initialize effects:\n",
    "fixed_effects = {'Intercept': 0., 'intensity': 2.}\n",
    "\n",
    "s = lmm_experiment(formula=formula, fixed_effects=fixed_effects)\n",
    "s.variables"
   ],
   "metadata": {
    "collapsed": false
   }
  },
  {
   "cell_type": "markdown",
   "source": [
    "Since we did set the variables via a formula, there is no domain:"
   ],
   "metadata": {
    "collapsed": false
   }
  },
  {
   "cell_type": "code",
   "execution_count": 8,
   "outputs": [
    {
     "ename": "AttributeError",
     "evalue": "'NoneType' object has no attribute 'reshape'",
     "output_type": "error",
     "traceback": [
      "\u001B[0;31m---------------------------------------------------------------------------\u001B[0m",
      "\u001B[0;31mAttributeError\u001B[0m                            Traceback (most recent call last)",
      "Cell \u001B[0;32mIn[8], line 1\u001B[0m\n\u001B[0;32m----> 1\u001B[0m \u001B[43ms\u001B[49m\u001B[38;5;241;43m.\u001B[39;49m\u001B[43mdomain\u001B[49m\u001B[43m(\u001B[49m\u001B[43m)\u001B[49m\n",
      "File \u001B[0;32m~/Documents/GitHub/AutoRA/autora-synthetic/src/autora/experiment_runner/synthetic/abstract/lmm.py:300\u001B[0m, in \u001B[0;36mlmm_experiment.<locals>.domain\u001B[0;34m()\u001B[0m\n\u001B[1;32m    298\u001B[0m \u001B[38;5;28;01mdef\u001B[39;00m \u001B[38;5;21mdomain\u001B[39m():\n\u001B[1;32m    299\u001B[0m \u001B[38;5;250m    \u001B[39m\u001B[38;5;124;03m\"\"\"A function which returns all possible independent variable values as a 2D array.\"\"\"\u001B[39;00m\n\u001B[0;32m--> 300\u001B[0m     x \u001B[38;5;241m=\u001B[39m \u001B[43mvariables\u001B[49m\u001B[38;5;241;43m.\u001B[39;49m\u001B[43mindependent_variables\u001B[49m\u001B[43m[\u001B[49m\u001B[38;5;241;43m0\u001B[39;49m\u001B[43m]\u001B[49m\u001B[38;5;241;43m.\u001B[39;49m\u001B[43mallowed_values\u001B[49m\u001B[38;5;241;43m.\u001B[39;49m\u001B[43mreshape\u001B[49m(\u001B[38;5;241m-\u001B[39m\u001B[38;5;241m1\u001B[39m, \u001B[38;5;241m1\u001B[39m)\n\u001B[1;32m    301\u001B[0m     \u001B[38;5;28;01mreturn\u001B[39;00m x\n",
      "\u001B[0;31mAttributeError\u001B[0m: 'NoneType' object has no attribute 'reshape'"
     ]
    }
   ],
   "source": [
    "s.domain()"
   ],
   "metadata": {
    "collapsed": false
   }
  },
  {
   "cell_type": "markdown",
   "source": [
    "We can set the variables manually in the init function:"
   ],
   "metadata": {
    "collapsed": false
   }
  },
  {
   "cell_type": "code",
   "execution_count": 9,
   "outputs": [],
   "source": [
    "from autora.variable import IV\n",
    "formula = 'rt ~ 1 + x1'\n",
    "# Initialize effects:\n",
    "fixed_effects = {'Intercept': 0., 'x1': 2.}\n",
    "independent_variables = [IV(name='x1', allowed_values=np.linspace(0, 10, 11), value_range=(0, 100))]\n",
    "#\n",
    "s = lmm_experiment(formula=formula, fixed_effects=fixed_effects, X=independent_variables)"
   ],
   "metadata": {
    "collapsed": false
   }
  },
  {
   "cell_type": "markdown",
   "source": [
    "... the given variable names have to match the formula:"
   ],
   "metadata": {
    "collapsed": false
   }
  },
  {
   "cell_type": "code",
   "execution_count": 10,
   "outputs": [],
   "source": [
    "from autora.variable import IV\n",
    "formula_ = 'rt ~ 1 + x1'\n",
    "# Initialize effects:\n",
    "fixed_effects_ = {'Intercept': 0., 'x1': 2.}\n",
    "independent_variables_ = [IV(name='x', allowed_values=np.linspace(0, 10, 11), value_range=(0, 100))]\n",
    "#\n",
    "s_ = lmm_experiment(formula=formula, fixed_effects=fixed_effects, X=independent_variables)"
   ],
   "metadata": {
    "collapsed": false
   }
  },
  {
   "cell_type": "markdown",
   "metadata": {},
   "source": [
    "... now we can generate the full domain of the data"
   ]
  },
  {
   "cell_type": "code",
   "execution_count": 11,
   "metadata": {},
   "outputs": [
    {
     "data": {
      "text/plain": "array([[ 0.],\n       [ 1.],\n       [ 2.],\n       [ 3.],\n       [ 4.],\n       [ 5.],\n       [ 6.],\n       [ 7.],\n       [ 8.],\n       [ 9.],\n       [10.]])"
     },
     "execution_count": 11,
     "metadata": {},
     "output_type": "execute_result"
    }
   ],
   "source": [
    "x = s.domain()\n",
    "x"
   ]
  },
  {
   "cell_type": "markdown",
   "source": [
    "... the experiment_runner which can be called to generate experimental results:"
   ],
   "metadata": {
    "collapsed": false
   }
  },
  {
   "cell_type": "code",
   "execution_count": 12,
   "outputs": [
    {
     "data": {
      "text/plain": "      x1         rt\n0    0.0   0.006061\n1    1.0   1.988994\n2    2.0   4.007712\n3    3.0   5.980667\n4    4.0   7.997771\n5    5.0   9.997181\n6    6.0  12.018475\n7    7.0  13.990661\n8    8.0  16.001257\n9    9.0  17.998309\n10  10.0  19.989205",
      "text/html": "<div>\n<style scoped>\n    .dataframe tbody tr th:only-of-type {\n        vertical-align: middle;\n    }\n\n    .dataframe tbody tr th {\n        vertical-align: top;\n    }\n\n    .dataframe thead th {\n        text-align: right;\n    }\n</style>\n<table border=\"1\" class=\"dataframe\">\n  <thead>\n    <tr style=\"text-align: right;\">\n      <th></th>\n      <th>x1</th>\n      <th>rt</th>\n    </tr>\n  </thead>\n  <tbody>\n    <tr>\n      <th>0</th>\n      <td>0.0</td>\n      <td>0.006061</td>\n    </tr>\n    <tr>\n      <th>1</th>\n      <td>1.0</td>\n      <td>1.988994</td>\n    </tr>\n    <tr>\n      <th>2</th>\n      <td>2.0</td>\n      <td>4.007712</td>\n    </tr>\n    <tr>\n      <th>3</th>\n      <td>3.0</td>\n      <td>5.980667</td>\n    </tr>\n    <tr>\n      <th>4</th>\n      <td>4.0</td>\n      <td>7.997771</td>\n    </tr>\n    <tr>\n      <th>5</th>\n      <td>5.0</td>\n      <td>9.997181</td>\n    </tr>\n    <tr>\n      <th>6</th>\n      <td>6.0</td>\n      <td>12.018475</td>\n    </tr>\n    <tr>\n      <th>7</th>\n      <td>7.0</td>\n      <td>13.990661</td>\n    </tr>\n    <tr>\n      <th>8</th>\n      <td>8.0</td>\n      <td>16.001257</td>\n    </tr>\n    <tr>\n      <th>9</th>\n      <td>9.0</td>\n      <td>17.998309</td>\n    </tr>\n    <tr>\n      <th>10</th>\n      <td>10.0</td>\n      <td>19.989205</td>\n    </tr>\n  </tbody>\n</table>\n</div>"
     },
     "execution_count": 12,
     "metadata": {},
     "output_type": "execute_result"
    }
   ],
   "source": [
    "experiment_data = s.run(x)\n",
    "experiment_data"
   ],
   "metadata": {
    "collapsed": false
   }
  },
  {
   "cell_type": "markdown",
   "source": [
    "... we could also run without noise:"
   ],
   "metadata": {
    "collapsed": false
   }
  },
  {
   "cell_type": "code",
   "execution_count": 22,
   "outputs": [
    {
     "data": {
      "text/plain": "      x1    rt\n0    0.0   0.0\n1    1.0   2.0\n2    2.0   4.0\n3    3.0   6.0\n4    4.0   8.0\n5    5.0  10.0\n6    6.0  12.0\n7    7.0  14.0\n8    8.0  16.0\n9    9.0  18.0\n10  10.0  20.0",
      "text/html": "<div>\n<style scoped>\n    .dataframe tbody tr th:only-of-type {\n        vertical-align: middle;\n    }\n\n    .dataframe tbody tr th {\n        vertical-align: top;\n    }\n\n    .dataframe thead th {\n        text-align: right;\n    }\n</style>\n<table border=\"1\" class=\"dataframe\">\n  <thead>\n    <tr style=\"text-align: right;\">\n      <th></th>\n      <th>x1</th>\n      <th>rt</th>\n    </tr>\n  </thead>\n  <tbody>\n    <tr>\n      <th>0</th>\n      <td>0.0</td>\n      <td>0.0</td>\n    </tr>\n    <tr>\n      <th>1</th>\n      <td>1.0</td>\n      <td>2.0</td>\n    </tr>\n    <tr>\n      <th>2</th>\n      <td>2.0</td>\n      <td>4.0</td>\n    </tr>\n    <tr>\n      <th>3</th>\n      <td>3.0</td>\n      <td>6.0</td>\n    </tr>\n    <tr>\n      <th>4</th>\n      <td>4.0</td>\n      <td>8.0</td>\n    </tr>\n    <tr>\n      <th>5</th>\n      <td>5.0</td>\n      <td>10.0</td>\n    </tr>\n    <tr>\n      <th>6</th>\n      <td>6.0</td>\n      <td>12.0</td>\n    </tr>\n    <tr>\n      <th>7</th>\n      <td>7.0</td>\n      <td>14.0</td>\n    </tr>\n    <tr>\n      <th>8</th>\n      <td>8.0</td>\n      <td>16.0</td>\n    </tr>\n    <tr>\n      <th>9</th>\n      <td>9.0</td>\n      <td>18.0</td>\n    </tr>\n    <tr>\n      <th>10</th>\n      <td>10.0</td>\n      <td>20.0</td>\n    </tr>\n  </tbody>\n</table>\n</div>"
     },
     "execution_count": 22,
     "metadata": {},
     "output_type": "execute_result"
    }
   ],
   "source": [
    "s.run(x, added_noise=0)"
   ],
   "metadata": {
    "collapsed": false
   }
  },
  {
   "cell_type": "markdown",
   "metadata": {},
   "source": [
    "... a function to plot the ground truth (no noise):"
   ]
  },
  {
   "cell_type": "code",
   "execution_count": 23,
   "metadata": {},
   "outputs": [
    {
     "data": {
      "text/plain": "<Figure size 640x480 with 1 Axes>",
      "image/png": "[encoded data removed]"
     },
     "metadata": {},
     "output_type": "display_data"
    }
   ],
   "source": [
    "s.plotter()"
   ]
  },
  {
   "cell_type": "markdown",
   "metadata": {},
   "source": [
    "... against a fitted model if it exists:"
   ]
  },
  {
   "cell_type": "code",
   "execution_count": 24,
   "metadata": {},
   "outputs": [
    {
     "data": {
      "text/plain": "<Figure size 640x480 with 1 Axes>",
      "image/png": "[encoded data removed]"
     },
     "metadata": {},
     "output_type": "display_data"
    }
   ],
   "source": [
    "from sklearn.linear_model import LinearRegression\n",
    "ivs = [iv.name for iv in s.variables.independent_variables]\n",
    "dvs = [dv.name for dv in s.variables.dependent_variables]\n",
    "X = experiment_data[ivs]\n",
    "y = experiment_data[dvs]\n",
    "model = LinearRegression().fit(X, y)\n",
    "s.plotter(model)"
   ]
  },
  {
   "cell_type": "markdown",
   "metadata": {},
   "source": [
    "We can wrap this functions to use with the state logic of AutoRA:\n",
    "First, we create the state with the variables:"
   ]
  },
  {
   "cell_type": "code",
   "execution_count": 25,
   "metadata": {},
   "outputs": [],
   "source": [
    "from autora.state import StandardState, on_state, experiment_runner_on_state, estimator_on_state\n",
    "from autora.experimentalist.grid import grid_pool\n",
    "from autora.experimentalist.random import random_sample\n",
    "\n",
    "# We can get the variables from the runner\n",
    "variables = s.variables\n",
    "\n",
    "# With the variables, we initialize a StandardState\n",
    "state = StandardState(variables)"
   ]
  },
  {
   "cell_type": "markdown",
   "metadata": {},
   "source": [
    "Wrap the experimentalists in `on_state` function to use them on state:"
   ]
  },
  {
   "cell_type": "code",
   "execution_count": 26,
   "metadata": {},
   "outputs": [
    {
     "name": "stdout",
     "output_type": "stream",
     "text": [
      "    x1\n",
      "4  4.0\n",
      "1  1.0\n"
     ]
    }
   ],
   "source": [
    "# Wrap the functions to use on state\n",
    "# Experimentalists:\n",
    "pool_on_state = on_state(grid_pool, output=['conditions'])\n",
    "sample_on_state = on_state(random_sample, output=['conditions'])\n",
    "\n",
    "state = pool_on_state(state)\n",
    "state = sample_on_state(state, num_samples=2)\n",
    "print(state.conditions)"
   ]
  },
  {
   "cell_type": "markdown",
   "metadata": {},
   "source": [
    "Wrap the runner with the `experiment_runner_on_state` wrapper to use it on state:"
   ]
  },
  {
   "cell_type": "code",
   "execution_count": 27,
   "metadata": {},
   "outputs": [
    {
     "data": {
      "text/plain": "    x1        rt\n4  4.0  8.014508\n1  1.0  2.019479",
      "text/html": "<div>\n<style scoped>\n    .dataframe tbody tr th:only-of-type {\n        vertical-align: middle;\n    }\n\n    .dataframe tbody tr th {\n        vertical-align: top;\n    }\n\n    .dataframe thead th {\n        text-align: right;\n    }\n</style>\n<table border=\"1\" class=\"dataframe\">\n  <thead>\n    <tr style=\"text-align: right;\">\n      <th></th>\n      <th>x1</th>\n      <th>rt</th>\n    </tr>\n  </thead>\n  <tbody>\n    <tr>\n      <th>4</th>\n      <td>4.0</td>\n      <td>8.014508</td>\n    </tr>\n    <tr>\n      <th>1</th>\n      <td>1.0</td>\n      <td>2.019479</td>\n    </tr>\n  </tbody>\n</table>\n</div>"
     },
     "execution_count": 27,
     "metadata": {},
     "output_type": "execute_result"
    }
   ],
   "source": [
    "# Runner:\n",
    "run_on_state = experiment_runner_on_state(s.run)\n",
    "state = run_on_state(state)\n",
    "\n",
    "state.experiment_data"
   ]
  },
  {
   "cell_type": "markdown",
   "metadata": {},
   "source": [
    "Wrap the regressor with the `estimator_on_state` wrapper:"
   ]
  },
  {
   "cell_type": "code",
   "execution_count": 28,
   "metadata": {},
   "outputs": [
    {
     "name": "stdout",
     "output_type": "stream",
     "text": [
      "rt = 2.00*S0 +0.02 \n"
     ]
    }
   ],
   "source": [
    "theorist = LinearRegression()\n",
    "theorist_on_state = estimator_on_state(theorist)\n",
    "\n",
    "state = theorist_on_state(state)\n",
    "# Access the last model:\n",
    "model = state.models[-1]\n",
    "\n",
    "\n",
    "print(f\"rt = \"\n",
    "      f\"{model.coef_[0][0]:.2f}*S0 \"\n",
    "      f\"{model.intercept_[0]:+.2f} \")"
   ]
  }
 ],
 "metadata": {
  "kernelspec": {
   "display_name": "Python 3",
   "language": "python",
   "name": "python3"
  },
  "language_info": {
   "codemirror_mode": {
    "name": "ipython",
    "version": 2
   },
   "file_extension": ".py",
   "mimetype": "text/x-python",
   "name": "python",
   "nbconvert_exporter": "python",
   "pygments_lexer": "ipython2"
  }
 },
 "nbformat": 4,
 "nbformat_minor": 0
}
