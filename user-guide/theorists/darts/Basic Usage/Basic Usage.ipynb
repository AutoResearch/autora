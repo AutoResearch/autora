{
 "cells": [
  {
   "attachments": {},
   "cell_type": "markdown",
   "metadata": {},
   "source": [
    "# Basic Usage"
   ]
  },
  {
   "cell_type": "code",
   "execution_count": null,
   "metadata": {},
   "outputs": [],
   "source": [
    "# Uncomment the following line when running on Google Colab\n",
    "# !pip install \"autora[theorist-darts]\""
   ]
  },
  {
   "cell_type": "markdown",
   "metadata": {},
   "source": [
    "Let's generate a simple data set with two features $x_1, x_2 \\in [0, 1]$ and a target $y$. We will use the following generative model:\n",
    "$y = 2 x_1 - e^{(5 x_2)}$"
   ]
  },
  {
   "cell_type": "code",
   "execution_count": null,
   "metadata": {},
   "outputs": [],
   "source": [
    "import numpy as np\n",
    "\n",
    "x_1 = np.linspace(0, 1, num=10)\n",
    "x_2 = np.linspace(0, 1, num=10)\n",
    "X = np.array(np.meshgrid(x_1, x_2)).T.reshape(-1,2)\n",
    "\n",
    "y = 2 * X[:,0] + np.exp(5 * X[:,1])"
   ]
  },
  {
   "cell_type": "markdown",
   "metadata": {},
   "source": [
    "Now let us define the search space, that is, the space of operations to consider when searching over the space of computation graphs."
   ]
  },
  {
   "cell_type": "code",
   "execution_count": null,
   "metadata": {},
   "outputs": [],
   "source": [
    "primitives = [\n",
    "    \"none\",\n",
    "    \"add\",\n",
    "    \"subtract\",\n",
    "    'mult',\n",
    "    \"logistic\",\n",
    "    'exp',\n",
    "    'relu',\n",
    "]"
   ]
  },
  {
   "cell_type": "markdown",
   "metadata": {},
   "source": [
    "## Set Up The DARTS Regressor\n",
    "\n",
    "We will use the DARTS Regressor to predict the outcomes. There are a number of parameters that determine how the architecture search is performed. The most important ones are listed below:\n",
    "\n",
    "- **num_graph_nodes**: The number of latent variables used to represent the model.\n",
    "- **arch_updates_per_epoch**: The number of architecture updates per training epoch. These updates affect the architecture weights $\\alpha$ indicating the relative contribution of each operation for a given computation step.\n",
    "- **arch_learning_rate_max**: The initial learning rate of the architecture weight optimizer.\n",
    "- **param_updates_per_epoch**: The number of parameter updates per epoch. Once the architecture updates are complete, the parameters associated with each operation are updated.\n",
    "- **param_momentum**: The momentum of the parameter optimizer.\n",
    "- **max_epochs**: The maximum number of epochs to run DARTS.\n",
    "- **output_type**: The type of output to produce. In our case, we treat the outcome as a real variable, i.e., \"real\".\n",
    "\n",
    "\n",
    "Let's set up the DARTS regressor with some default parameters.\n"
   ]
  },
  {
   "cell_type": "code",
   "execution_count": null,
   "metadata": {},
   "outputs": [],
   "source": [
    "from autora.theorist.darts import DARTSRegressor\n",
    "\n",
    "darts_estimator = DARTSRegressor(\n",
    "    num_graph_nodes=1,\n",
    "    arch_updates_per_epoch=1,\n",
    "    arch_learning_rate_max=0.001,\n",
    "    param_updates_per_epoch=500,\n",
    "    param_momentum=0.9,\n",
    "    max_epochs=300,\n",
    "    output_type=\"real\",\n",
    "    primitives=primitives,\n",
    ")"
   ]
  },
  {
   "cell_type": "markdown",
   "metadata": {},
   "source": [
    "Now we have everything to run differentiable architecture search and visualize the model resulting from the highest architecture weights. Note that the current model corresponds to the model with the highest architecture weights."
   ]
  },
  {
   "cell_type": "code",
   "execution_count": null,
   "metadata": {},
   "outputs": [],
   "source": [
    "darts_estimator.fit(X, y)\n",
    "darts_estimator.visualize_model()"
   ]
  },
  {
   "cell_type": "markdown",
   "metadata": {},
   "source": [
    "We can refine the fit by running the `fit` method again, after changing the parameters. This allows us to keep the same architecture but refit the parameters in the final sampled model, for example:"
   ]
  },
  {
   "cell_type": "code",
   "execution_count": null,
   "metadata": {},
   "outputs": [],
   "source": [
    "darts_estimator.set_params(\n",
    "    max_epochs=0,  # no epochs of architecture fitting\n",
    "    param_updates_for_sampled_model=1000,  # 1000 steps of param optimiziation\n",
    ")\n",
    "darts_estimator.fit(X, y)\n",
    "darts_estimator.visualize_model()"
   ]
  },
  {
   "cell_type": "markdown",
   "metadata": {},
   "source": [
    "We can also change how the model is sampled from the architecture weight distribution:"
   ]
  },
  {
   "cell_type": "code",
   "execution_count": null,
   "metadata": {},
   "outputs": [],
   "source": [
    "darts_estimator.set_params(\n",
    "    max_epochs=0,  # no epochs of architecture fitting\n",
    "    sampling_strategy=\"sample\",  # overriding default \"max\"\n",
    "    param_updates_for_sampled_model=800,\n",
    ")\n",
    "darts_estimator.fit(X, y)\n",
    "darts_estimator.visualize_model()"
   ]
  },
  {
   "cell_type": "markdown",
   "metadata": {},
   "source": [
    "To recover the initial model, we need to return the sampling strategy to the default `\"max\"`:"
   ]
  },
  {
   "cell_type": "code",
   "execution_count": null,
   "metadata": {},
   "outputs": [],
   "source": [
    "darts_estimator.set_params(\n",
    "    max_epochs=0,  # no epochs of architecture fitting\n",
    "    sampling_strategy=\"max\",\n",
    "    param_updates_for_sampled_model=1000,\n",
    ")\n",
    "darts_estimator.fit(X, y)\n",
    "darts_estimator.visualize_model()"
   ]
  },
  {
   "cell_type": "markdown",
   "metadata": {},
   "source": [
    "As long as the architecture has not been refitted in the meantime, the architecture should be identical to the initial result, as the `sampling_strategy=\"max\"` is deterministic. The coefficients of the architecture functions may, however, be different, as they have different starting values compared to when they were initially set.\n"
   ]
  }
 ],
 "metadata": {
  "kernelspec": {
   "display_name": "Python 3",
   "language": "python",
   "name": "python3"
  },
  "language_info": {
   "codemirror_mode": {
    "name": "ipython",
    "version": 2
   },
   "file_extension": ".py",
   "mimetype": "text/x-python",
   "name": "python",
   "nbconvert_exporter": "python",
   "pygments_lexer": "ipython2"
  }
 },
 "nbformat": 4,
 "nbformat_minor": 0
}
