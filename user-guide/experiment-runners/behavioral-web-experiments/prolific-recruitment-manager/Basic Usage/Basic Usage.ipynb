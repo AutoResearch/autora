{
 "cells": [
  {
   "cell_type": "markdown",
   "source": [
    "# Basic Usage\n",
    "Here, we learn the basic functionality of the prolific `recruitment manager`. A tool to automatically set up, run and pause a study on [prolific](https://app.prolific.co). In an autora cycle this is typically used in conjunction with an `experimentation manager`, that manages the sending of conditions, retrieving of observations and setup of a study on a hosting service. The combination of a `recruitment manager` and an `experimentation manager` is called `experiment-runner` in autora terms.\n",
    "## Example\n",
    "A prolific `recruitment manager` runs and over-watches the recruitment of participant on prolific and sends them to a website. The website is managed by a `experimentation manager` that sends condition to a database, that then get read by the website. The `experimentation-manager` also reads observation from the database and tells the `recruitment manager` when to stop or interupts if something unexpected happens.\n",
    "## In This Tutorial\n",
    "Here we show how to set up a study, pause and unpause it."
   ],
   "metadata": {
    "collapsed": false
   }
  },
  {
   "cell_type": "code",
   "execution_count": null,
   "metadata": {},
   "outputs": [],
   "source": [
    "!pip install autora-experiment-runner-recruitment-manager-prolific"
   ]
  },
  {
   "cell_type": "markdown",
   "source": [
    "Import the relevant functions (we want to set up an experiment and have a way to pause/unpause it)"
   ],
   "metadata": {
    "collapsed": false
   }
  },
  {
   "cell_type": "code",
   "execution_count": null,
   "outputs": [],
   "source": [
    "from autora.experiment_runner.recruitment_manager.prolific import setup_study, start_study, pause_study"
   ],
   "metadata": {
    "collapsed": false
   }
  },
  {
   "cell_type": "markdown",
   "source": [
    "Let's see, what arguments setup_study expects:"
   ],
   "metadata": {
    "collapsed": false
   }
  },
  {
   "cell_type": "code",
   "execution_count": null,
   "outputs": [],
   "source": [
    "help(setup_study)"
   ],
   "metadata": {
    "collapsed": false
   }
  },
  {
   "cell_type": "markdown",
   "source": [
    "Most arguments have a default option and in this example we'll leave them as they are, but we have to set 5 arguments:\n",
    "(1) name: This is the name the users on prolific will see\n",
    "(2) description: This is the description the users on prolific will see.\n",
    "(3) external_study_url: This is the link to the website were you host the experiment (for a detailed explanation on how to use Firebase to\n",
    "    setup an online experiment visit: https://autoresearch.github.io/autora/\n",
    "    You can add url-variables here. There are special ones that will be set by prolific if specified:\n",
    "    www.example-experiment.de?PROLIFIC_PID={{%PROLIFIC_PID%}}&STUDY_ID={{%STUDY_ID%}}&SESSION_ID={{%SESSION_ID%}}\n",
    "    will set the Prolific_pid, study_id and session_id, and you can retrieve these variables in your website\n",
    "(4) estimated_completion_time: The time a participant will take on average to finish the experiment in minutes\n",
    "    (this also sets a maximum allowed time and the reward if not specified differently)\n",
    "(5) prolific_token: The api token to your prolific account (you can get here: https://app.prolific.co/\n",
    "    (after you logged in, under settings)"
   ],
   "metadata": {
    "collapsed": false
   }
  },
  {
   "cell_type": "code",
   "execution_count": null,
   "outputs": [],
   "source": [
    "# Set up the parameters\n",
    "name = 'Awesome AutoRA Study'\n",
    "description = 'Descriptive description for the example study'\n",
    "external_study_url = 'https://autoresearch.github.io/autora/'\n",
    "estimated_completion_time = 5\n",
    "prolific_token = \"your-token-goes-in-here\""
   ],
   "metadata": {
    "collapsed": false
   }
  },
  {
   "cell_type": "code",
   "execution_count": null,
   "outputs": [],
   "source": [
    "study = setup_study(name = name,\n",
    "                    description = description,\n",
    "                    external_study_url= external_study_url,\n",
    "                    estimated_completion_time =  estimated_completion_time,\n",
    "                    prolific_token = prolific_token)"
   ],
   "metadata": {
    "collapsed": false
   }
  },
  {
   "cell_type": "markdown",
   "source": [
    "Checkout your prolific account. A new (paused) study with the provided name, description, url and completion time should have appeared.\n",
    "\n",
    "The setup_study function returns a dictionary with the keys id and maximum allowed time. The id can be used as a handle to pause and unpause the study or to perform other actions. The maximum allowed time can be useful to set up timeouts to recruit new participants."
   ],
   "metadata": {
    "collapsed": false
   }
  },
  {
   "cell_type": "markdown",
   "source": [
    "We can now start the study\n",
    "|**Warning** This will start the prolific recruitment!|"
   ],
   "metadata": {
    "collapsed": false
   }
  },
  {
   "cell_type": "code",
   "execution_count": null,
   "outputs": [],
   "source": [
    "start_study(study['id'], prolific_token)"
   ],
   "metadata": {
    "collapsed": false
   }
  },
  {
   "cell_type": "markdown",
   "source": [
    "And immediately pause the study again"
   ],
   "metadata": {
    "collapsed": false
   }
  },
  {
   "cell_type": "code",
   "execution_count": null,
   "outputs": [],
   "source": [
    "pause_study(study['id'], prolific_token)"
   ],
   "metadata": {
    "collapsed": false
   }
  }
 ],
 "metadata": {
  "kernelspec": {
   "display_name": "Python 3 (ipykernel)",
   "language": "python",
   "name": "python3"
  },
  "language_info": {
   "codemirror_mode": {
    "name": "ipython",
    "version": 3
   },
   "file_extension": ".py",
   "mimetype": "text/x-python",
   "name": "python",
   "nbconvert_exporter": "python",
   "pygments_lexer": "ipython3",
   "version": "3.9.6"
  }
 },
 "nbformat": 4,
 "nbformat_minor": 1
}
